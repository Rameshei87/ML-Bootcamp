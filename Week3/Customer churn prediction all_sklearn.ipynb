{
 "cells": [
  {
   "cell_type": "code",
   "execution_count": null,
   "id": "d068349c",
   "metadata": {},
   "outputs": [],
   "source": [
    "import pandas as pd\n",
    "import numpy as np\n",
    "import matplotlib.pyplot as plt\n",
    "from IPython.display import display\n",
    "import seaborn as sns\n",
    "from sklearn import set_config\n",
    "set_config(display='diagram')\n",
    "\n",
    "%matplotlib inline"
   ]
  },
  {
   "cell_type": "code",
   "execution_count": null,
   "id": "5e1118b5",
   "metadata": {
    "scrolled": true
   },
   "outputs": [],
   "source": [
    "# Read the data\n",
    "df = pd.read_csv('WA_Fn-UseC_-Telco-Customer-Churn.csv')\n",
    "df.head()"
   ]
  },
  {
   "cell_type": "markdown",
   "id": "702497a6",
   "metadata": {},
   "source": [
    "#### Peparing and cleaning data"
   ]
  },
  {
   "cell_type": "code",
   "execution_count": null,
   "id": "89fff983",
   "metadata": {},
   "outputs": [],
   "source": [
    "# Standarize data formats\n",
    "df.columns = df.columns.str.lower().str.replace(' ','_')\n",
    "categCols = df.select_dtypes('object').columns.to_list()\n",
    "\n",
    "for col in categCols:\n",
    "    df[col] = df[col].str.lower().str.replace(' ','_')\n",
    "df.head()"
   ]
  },
  {
   "cell_type": "code",
   "execution_count": null,
   "id": "c42cd7cf",
   "metadata": {},
   "outputs": [],
   "source": [
    "# Correct values and type of variable totalcharges\n",
    "\n",
    "df.totalcharges = pd.to_numeric(df.totalcharges, errors='coerce')\n",
    "\n",
    "# Characters that couldn't be converted to numerical values show as nan\n",
    "print(f'Null values for column totalcharges: {df.totalcharges.isnull().sum()}')\n",
    "\n",
    "# Filling missing values with zero\n",
    "df.totalcharges.fillna(0, inplace=True)\n",
    "print(f'Null values for column totalcharges after converting to numerical and fillin NAs: {df.totalcharges.isnull().sum()}')"
   ]
  },
  {
   "cell_type": "code",
   "execution_count": null,
   "id": "773caf00",
   "metadata": {},
   "outputs": [],
   "source": [
    "# Make seniorcitizen an object type variable\n",
    "df.seniorcitizen = df.seniorcitizen.astype(bool).astype(object)"
   ]
  },
  {
   "cell_type": "code",
   "execution_count": null,
   "id": "7c62512e",
   "metadata": {},
   "outputs": [],
   "source": [
    "df.head().T"
   ]
  },
  {
   "cell_type": "code",
   "execution_count": null,
   "id": "d10d9062",
   "metadata": {},
   "outputs": [],
   "source": [
    "rows = []\n",
    "for col in df.columns:\n",
    "    rows.append([col,df[col].dtype, df[col].unique()]) \n",
    "pd.DataFrame(rows, columns=['Feature', 'Type', 'Unique Values'])"
   ]
  },
  {
   "cell_type": "code",
   "execution_count": null,
   "id": "1d3b853c",
   "metadata": {
    "scrolled": true
   },
   "outputs": [],
   "source": [
    "targetCol = 'churn'\n",
    "target = df[targetCol]\n",
    "data = df.drop(columns=[targetCol])"
   ]
  },
  {
   "cell_type": "code",
   "execution_count": null,
   "id": "24f32ba4",
   "metadata": {},
   "outputs": [],
   "source": [
    "# Getting numerical and categorical columns\n",
    "\n",
    "from sklearn.compose import make_column_selector as selector\n",
    "\n",
    "numColSelector = selector(dtype_exclude=object)\n",
    "ctgColSelector = selector(dtype_include=object)\n",
    "\n",
    "numericalCols = numColSelector(data)\n",
    "categoricalCols = ctgColSelector(data)\n",
    "#del numericalCols[0]\n",
    "del categoricalCols[0]"
   ]
  },
  {
   "cell_type": "code",
   "execution_count": null,
   "id": "5f6bafe9",
   "metadata": {},
   "outputs": [],
   "source": [
    "print(numericalCols)\n",
    "print(categoricalCols)"
   ]
  },
  {
   "cell_type": "code",
   "execution_count": null,
   "id": "041ea16b",
   "metadata": {},
   "outputs": [],
   "source": [
    "# creating preprocesors\n",
    "\n",
    "from sklearn.preprocessing import OneHotEncoder, StandardScaler\n",
    "\n",
    "catPreprocessor = OneHotEncoder(handle_unknown=\"ignore\")\n",
    "numPreprocessor = StandardScaler()"
   ]
  },
  {
   "cell_type": "code",
   "execution_count": null,
   "id": "367c7c6e",
   "metadata": {},
   "outputs": [],
   "source": [
    "# Transforming the data\n",
    "\n",
    "from sklearn.compose import ColumnTransformer\n",
    "\n",
    "preprocessor = ColumnTransformer([\n",
    "    ('one-hot-encoder', catPreprocessor, categoricalCols)],remainder=\"passthrough\")\n",
    "    #('one-hot-encoder', catPreprocessor, categoricalCols),\n",
    "    #('standard_scaler', numPreprocessor, numericalCols)])"
   ]
  },
  {
   "cell_type": "code",
   "execution_count": null,
   "id": "1da0ff30",
   "metadata": {},
   "outputs": [],
   "source": [
    "# creating the model\n",
    "\n",
    "from sklearn.linear_model import LogisticRegression\n",
    "from sklearn.pipeline import make_pipeline\n",
    "\n",
    "model = make_pipeline(preprocessor, LogisticRegression(max_iter=500))"
   ]
  },
  {
   "cell_type": "code",
   "execution_count": null,
   "id": "eb24e26c",
   "metadata": {},
   "outputs": [],
   "source": [
    "# Splitting the data\n",
    "\n",
    "from sklearn.model_selection import train_test_split\n",
    "\n",
    "allColumns = numericalCols + categoricalCols\n",
    "dataTrainFull, dataTest, targetTrainFull, targetTest = train_test_split(\n",
    "    data[allColumns], target, test_size=0.2, random_state=1)\n",
    "\n",
    "print(len(dataTrainFull), len(dataTest))"
   ]
  },
  {
   "cell_type": "code",
   "execution_count": null,
   "id": "a448ff19",
   "metadata": {},
   "outputs": [],
   "source": [
    "# Splitting the data\n",
    "dataTrain, dataVal, targetTrain, targetVal = train_test_split(\n",
    "    dataTrainFull, targetTrainFull, test_size=0.25, random_state=1)\n",
    "\n",
    "print(len(dataTrain), len(dataVal), len(dataTest))"
   ]
  },
  {
   "cell_type": "code",
   "execution_count": null,
   "id": "dc7180a1",
   "metadata": {},
   "outputs": [],
   "source": [
    "_ = model.fit(dataTrain, targetTrain)\n",
    "model.predict(dataVal)[:5]"
   ]
  },
  {
   "cell_type": "code",
   "execution_count": null,
   "id": "dddf062d",
   "metadata": {},
   "outputs": [],
   "source": [
    "targetVal[:5].values"
   ]
  },
  {
   "cell_type": "code",
   "execution_count": null,
   "id": "4b8c46f6",
   "metadata": {},
   "outputs": [],
   "source": [
    "model.score(dataVal, targetVal)"
   ]
  },
  {
   "cell_type": "code",
   "execution_count": null,
   "id": "8ae4dea3",
   "metadata": {},
   "outputs": [],
   "source": [
    "# Let's use the train full dataset\n",
    "_ = model.fit(dataTrainFull, targetTrainFull)\n",
    "model.predict(dataTest)[:5]"
   ]
  },
  {
   "cell_type": "code",
   "execution_count": null,
   "id": "2f39ba15",
   "metadata": {},
   "outputs": [],
   "source": [
    "model.score(dataTest, targetTest)"
   ]
  },
  {
   "cell_type": "code",
   "execution_count": null,
   "id": "679ce42f",
   "metadata": {},
   "outputs": [],
   "source": []
  }
 ],
 "metadata": {
  "kernelspec": {
   "display_name": "Python 3 (ipykernel)",
   "language": "python",
   "name": "python3"
  },
  "language_info": {
   "codemirror_mode": {
    "name": "ipython",
    "version": 3
   },
   "file_extension": ".py",
   "mimetype": "text/x-python",
   "name": "python",
   "nbconvert_exporter": "python",
   "pygments_lexer": "ipython3",
   "version": "3.9.7"
  }
 },
 "nbformat": 4,
 "nbformat_minor": 5
}
