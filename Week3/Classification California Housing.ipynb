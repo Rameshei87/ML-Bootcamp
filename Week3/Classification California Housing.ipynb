{
 "cells": [
  {
   "cell_type": "code",
   "execution_count": 1,
   "id": "6d59329f",
   "metadata": {},
   "outputs": [],
   "source": [
    "import numpy as np\n",
    "import pandas as pd\n",
    "import matplotlib.pyplot as plt\n",
    "import warnings\n",
    "warnings.filterwarnings('ignore')"
   ]
  },
  {
   "cell_type": "code",
   "execution_count": 2,
   "id": "16676bba",
   "metadata": {},
   "outputs": [
    {
     "data": {
      "text/html": [
       "<div>\n",
       "<style scoped>\n",
       "    .dataframe tbody tr th:only-of-type {\n",
       "        vertical-align: middle;\n",
       "    }\n",
       "\n",
       "    .dataframe tbody tr th {\n",
       "        vertical-align: top;\n",
       "    }\n",
       "\n",
       "    .dataframe thead th {\n",
       "        text-align: right;\n",
       "    }\n",
       "</style>\n",
       "<table border=\"1\" class=\"dataframe\">\n",
       "  <thead>\n",
       "    <tr style=\"text-align: right;\">\n",
       "      <th></th>\n",
       "      <th>longitude</th>\n",
       "      <th>latitude</th>\n",
       "      <th>housing_median_age</th>\n",
       "      <th>total_rooms</th>\n",
       "      <th>total_bedrooms</th>\n",
       "      <th>population</th>\n",
       "      <th>households</th>\n",
       "      <th>median_income</th>\n",
       "      <th>median_house_value</th>\n",
       "      <th>ocean_proximity</th>\n",
       "    </tr>\n",
       "  </thead>\n",
       "  <tbody>\n",
       "    <tr>\n",
       "      <th>0</th>\n",
       "      <td>-122.23</td>\n",
       "      <td>37.88</td>\n",
       "      <td>41.0</td>\n",
       "      <td>880.0</td>\n",
       "      <td>129.0</td>\n",
       "      <td>322.0</td>\n",
       "      <td>126.0</td>\n",
       "      <td>8.3252</td>\n",
       "      <td>452600.0</td>\n",
       "      <td>NEAR BAY</td>\n",
       "    </tr>\n",
       "    <tr>\n",
       "      <th>1</th>\n",
       "      <td>-122.22</td>\n",
       "      <td>37.86</td>\n",
       "      <td>21.0</td>\n",
       "      <td>7099.0</td>\n",
       "      <td>1106.0</td>\n",
       "      <td>2401.0</td>\n",
       "      <td>1138.0</td>\n",
       "      <td>8.3014</td>\n",
       "      <td>358500.0</td>\n",
       "      <td>NEAR BAY</td>\n",
       "    </tr>\n",
       "    <tr>\n",
       "      <th>2</th>\n",
       "      <td>-122.24</td>\n",
       "      <td>37.85</td>\n",
       "      <td>52.0</td>\n",
       "      <td>1467.0</td>\n",
       "      <td>190.0</td>\n",
       "      <td>496.0</td>\n",
       "      <td>177.0</td>\n",
       "      <td>7.2574</td>\n",
       "      <td>352100.0</td>\n",
       "      <td>NEAR BAY</td>\n",
       "    </tr>\n",
       "    <tr>\n",
       "      <th>3</th>\n",
       "      <td>-122.25</td>\n",
       "      <td>37.85</td>\n",
       "      <td>52.0</td>\n",
       "      <td>1274.0</td>\n",
       "      <td>235.0</td>\n",
       "      <td>558.0</td>\n",
       "      <td>219.0</td>\n",
       "      <td>5.6431</td>\n",
       "      <td>341300.0</td>\n",
       "      <td>NEAR BAY</td>\n",
       "    </tr>\n",
       "    <tr>\n",
       "      <th>4</th>\n",
       "      <td>-122.25</td>\n",
       "      <td>37.85</td>\n",
       "      <td>52.0</td>\n",
       "      <td>1627.0</td>\n",
       "      <td>280.0</td>\n",
       "      <td>565.0</td>\n",
       "      <td>259.0</td>\n",
       "      <td>3.8462</td>\n",
       "      <td>342200.0</td>\n",
       "      <td>NEAR BAY</td>\n",
       "    </tr>\n",
       "  </tbody>\n",
       "</table>\n",
       "</div>"
      ],
      "text/plain": [
       "   longitude  latitude  housing_median_age  total_rooms  total_bedrooms  \\\n",
       "0    -122.23     37.88                41.0        880.0           129.0   \n",
       "1    -122.22     37.86                21.0       7099.0          1106.0   \n",
       "2    -122.24     37.85                52.0       1467.0           190.0   \n",
       "3    -122.25     37.85                52.0       1274.0           235.0   \n",
       "4    -122.25     37.85                52.0       1627.0           280.0   \n",
       "\n",
       "   population  households  median_income  median_house_value ocean_proximity  \n",
       "0       322.0       126.0         8.3252            452600.0        NEAR BAY  \n",
       "1      2401.0      1138.0         8.3014            358500.0        NEAR BAY  \n",
       "2       496.0       177.0         7.2574            352100.0        NEAR BAY  \n",
       "3       558.0       219.0         5.6431            341300.0        NEAR BAY  \n",
       "4       565.0       259.0         3.8462            342200.0        NEAR BAY  "
      ]
     },
     "execution_count": 2,
     "metadata": {},
     "output_type": "execute_result"
    }
   ],
   "source": [
    "df = pd.read_csv('housing.csv')\n",
    "df.head()"
   ]
  },
  {
   "cell_type": "code",
   "execution_count": 3,
   "id": "d89921ae",
   "metadata": {},
   "outputs": [
    {
     "name": "stdout",
     "output_type": "stream",
     "text": [
      "<class 'pandas.core.frame.DataFrame'>\n",
      "RangeIndex: 20640 entries, 0 to 20639\n",
      "Data columns (total 10 columns):\n",
      " #   Column              Non-Null Count  Dtype  \n",
      "---  ------              --------------  -----  \n",
      " 0   longitude           20640 non-null  float64\n",
      " 1   latitude            20640 non-null  float64\n",
      " 2   housing_median_age  20640 non-null  float64\n",
      " 3   total_rooms         20640 non-null  float64\n",
      " 4   total_bedrooms      20433 non-null  float64\n",
      " 5   population          20640 non-null  float64\n",
      " 6   households          20640 non-null  float64\n",
      " 7   median_income       20640 non-null  float64\n",
      " 8   median_house_value  20640 non-null  float64\n",
      " 9   ocean_proximity     20640 non-null  object \n",
      "dtypes: float64(9), object(1)\n",
      "memory usage: 1.6+ MB\n"
     ]
    }
   ],
   "source": [
    "df.info()"
   ]
  },
  {
   "cell_type": "code",
   "execution_count": 4,
   "id": "ded88dde",
   "metadata": {},
   "outputs": [
    {
     "data": {
      "text/plain": [
       "longitude               844\n",
       "latitude                862\n",
       "housing_median_age       52\n",
       "total_rooms            5926\n",
       "total_bedrooms         1923\n",
       "population             3888\n",
       "households             1815\n",
       "median_income         12928\n",
       "median_house_value     3842\n",
       "ocean_proximity           5\n",
       "dtype: int64"
      ]
     },
     "execution_count": 4,
     "metadata": {},
     "output_type": "execute_result"
    }
   ],
   "source": [
    "df.nunique()"
   ]
  },
  {
   "cell_type": "code",
   "execution_count": 5,
   "id": "2d3cf93a",
   "metadata": {},
   "outputs": [
    {
     "data": {
      "text/plain": [
       "longitude               0\n",
       "latitude                0\n",
       "housing_median_age      0\n",
       "total_rooms             0\n",
       "total_bedrooms        207\n",
       "population              0\n",
       "households              0\n",
       "median_income           0\n",
       "median_house_value      0\n",
       "ocean_proximity         0\n",
       "dtype: int64"
      ]
     },
     "execution_count": 5,
     "metadata": {},
     "output_type": "execute_result"
    }
   ],
   "source": [
    "df.isnull().sum()"
   ]
  },
  {
   "cell_type": "code",
   "execution_count": 6,
   "id": "99e89d47",
   "metadata": {},
   "outputs": [
    {
     "data": {
      "text/plain": [
       "longitude             0\n",
       "latitude              0\n",
       "housing_median_age    0\n",
       "total_rooms           0\n",
       "total_bedrooms        0\n",
       "population            0\n",
       "households            0\n",
       "median_income         0\n",
       "median_house_value    0\n",
       "ocean_proximity       0\n",
       "dtype: int64"
      ]
     },
     "execution_count": 6,
     "metadata": {},
     "output_type": "execute_result"
    }
   ],
   "source": [
    "df.total_bedrooms.fillna(0, inplace=True)\n",
    "df.isnull().sum()"
   ]
  },
  {
   "cell_type": "code",
   "execution_count": 7,
   "id": "33f516a9",
   "metadata": {},
   "outputs": [],
   "source": [
    "df.ocean_proximity = df.ocean_proximity.str.lower().str.replace(' ', '_')"
   ]
  },
  {
   "cell_type": "code",
   "execution_count": 8,
   "id": "4e04b555",
   "metadata": {},
   "outputs": [
    {
     "data": {
      "text/plain": [
       "<1h_ocean     9136\n",
       "inland        6551\n",
       "near_ocean    2658\n",
       "near_bay      2290\n",
       "island           5\n",
       "Name: ocean_proximity, dtype: int64"
      ]
     },
     "execution_count": 8,
     "metadata": {},
     "output_type": "execute_result"
    }
   ],
   "source": [
    "df.ocean_proximity.value_counts()"
   ]
  },
  {
   "cell_type": "code",
   "execution_count": 9,
   "id": "39e27c28",
   "metadata": {},
   "outputs": [],
   "source": [
    "df['rooms_per_household'] = df.total_rooms / df.households\n",
    "df['bedrooms_per_room'] = df.total_bedrooms / df.total_rooms\n",
    "df['population_per_household'] = df.population / df.households"
   ]
  },
  {
   "cell_type": "markdown",
   "id": "2d7c1be1",
   "metadata": {},
   "source": [
    "#### Ocean proximity"
   ]
  },
  {
   "cell_type": "code",
   "execution_count": 10,
   "id": "5dbd87d4",
   "metadata": {},
   "outputs": [
    {
     "data": {
      "text/plain": [
       "'Most frequent observation (mode) for the column ocean_proximity: <1h_ocean'"
      ]
     },
     "execution_count": 10,
     "metadata": {},
     "output_type": "execute_result"
    }
   ],
   "source": [
    "f\"Most frequent observation (mode) for the column ocean_proximity: {df.ocean_proximity.mode()[0]}\""
   ]
  },
  {
   "cell_type": "markdown",
   "id": "95afdf9b",
   "metadata": {},
   "source": [
    "#### Splitting data"
   ]
  },
  {
   "cell_type": "code",
   "execution_count": 11,
   "id": "0d80be2c",
   "metadata": {},
   "outputs": [
    {
     "name": "stdout",
     "output_type": "stream",
     "text": [
      "12384 4128 4128\n"
     ]
    }
   ],
   "source": [
    "from sklearn.model_selection import train_test_split\n",
    "\n",
    "dfTrainFull, dfTest = train_test_split(\n",
    "    df, test_size=0.2, random_state=42)\n",
    "\n",
    "# Splitting the data\n",
    "dfTrain, dfVal = train_test_split(\n",
    "    dfTrainFull, test_size=0.25, random_state=42)\n",
    "\n",
    "print(len(dfTrain), len(dfVal), len(dfTest))"
   ]
  },
  {
   "cell_type": "markdown",
   "id": "88f8b3e6",
   "metadata": {},
   "source": [
    "#### Correlation"
   ]
  },
  {
   "cell_type": "code",
   "execution_count": 12,
   "id": "633d84f6",
   "metadata": {},
   "outputs": [
    {
     "data": {
      "image/png": "[encoded data removed]",
      "text/plain": [
       "<Figure size 720x720 with 2 Axes>"
      ]
     },
     "metadata": {
      "needs_background": "light"
     },
     "output_type": "display_data"
    }
   ],
   "source": [
    "import seaborn as sns\n",
    "fig, ax = plt.subplots(figsize=(10,10))\n",
    "_ = sns.heatmap(dfTrain.corr(), annot=True, linewidths=1,annot_kws={\"size\":12})"
   ]
  },
  {
   "cell_type": "markdown",
   "id": "3665a1e4",
   "metadata": {},
   "source": [
    "**Households and total bedrooms** have the hights correlation"
   ]
  },
  {
   "cell_type": "markdown",
   "id": "92e9010e",
   "metadata": {},
   "source": [
    "#### Make median_house_value binary"
   ]
  },
  {
   "cell_type": "code",
   "execution_count": 13,
   "id": "a91b5d22",
   "metadata": {},
   "outputs": [],
   "source": [
    "valueMean = dfTrain.median_house_value.mean()\n",
    "dfTrain['above_average'] = (dfTrain.median_house_value > valueMean).astype(int)\n",
    "dfVal['above_average'] = (dfVal.median_house_value > valueMean).astype(int)\n",
    "dfTest['above_average'] = (dfTest.median_house_value > valueMean).astype(int)"
   ]
  },
  {
   "cell_type": "markdown",
   "id": "1d376259",
   "metadata": {},
   "source": [
    "#### mutual information score between categorical variable and above_score"
   ]
  },
  {
   "cell_type": "code",
   "execution_count": 14,
   "id": "37627f83",
   "metadata": {},
   "outputs": [],
   "source": [
    "from sklearn.metrics import mutual_info_score"
   ]
  },
  {
   "cell_type": "code",
   "execution_count": 15,
   "id": "070f6407",
   "metadata": {},
   "outputs": [
    {
     "data": {
      "text/plain": [
       "0.101"
      ]
     },
     "execution_count": 15,
     "metadata": {},
     "output_type": "execute_result"
    }
   ],
   "source": [
    "MIScore = mutual_info_score(dfTrain.above_average, dfTrain.ocean_proximity)\n",
    "round(MIScore,3)"
   ]
  },
  {
   "cell_type": "markdown",
   "id": "5323ba8b",
   "metadata": {},
   "source": [
    "Mutual information score between 'above_average' and 'ocean_proximity' = **0.101**"
   ]
  },
  {
   "cell_type": "markdown",
   "id": "186b834d",
   "metadata": {},
   "source": [
    "#### One-Hot_Encoding"
   ]
  },
  {
   "cell_type": "code",
   "execution_count": 16,
   "id": "e8d6f763",
   "metadata": {},
   "outputs": [],
   "source": [
    "targetCol = 'above_average'\n",
    "dfTrain.reset_index(drop=True, inplace=True)\n",
    "dfVal.reset_index(drop=True, inplace=True)\n",
    "dfTest.reset_index(drop=True, inplace=True)\n",
    "\n",
    "yTrain = dfTrain[targetCol].values\n",
    "yVal = dfVal[targetCol].values\n",
    "yTest = dfTest[targetCol].values\n",
    "\n",
    "targetColNum = 'median_house_value'\n",
    "del dfTrain[targetColNum]\n",
    "del dfVal[targetColNum]\n",
    "del dfTest[targetColNum]\n",
    "\n",
    "del dfTrain[targetCol]\n",
    "del dfVal[targetCol]\n",
    "del dfTest[targetCol]"
   ]
  },
  {
   "cell_type": "code",
   "execution_count": 17,
   "id": "eca7fd2a",
   "metadata": {},
   "outputs": [],
   "source": [
    "from sklearn.preprocessing import OneHotEncoder, StandardScaler\n",
    "\n",
    "catPreprocessor = OneHotEncoder(handle_unknown=\"ignore\")\n",
    "numPreprocessor = StandardScaler()\n",
    "\n",
    "categoricalColumns = ['ocean_proximity']"
   ]
  },
  {
   "cell_type": "code",
   "execution_count": 18,
   "id": "b79ca7aa",
   "metadata": {},
   "outputs": [],
   "source": [
    "from sklearn.compose import ColumnTransformer\n",
    "\n",
    "preprocessor = ColumnTransformer([\n",
    "    ('one-hot-encoder', catPreprocessor, categoricalColumns)],remainder=\"passthrough\")"
   ]
  },
  {
   "cell_type": "markdown",
   "id": "ed88d649",
   "metadata": {},
   "source": [
    "#### Training the model"
   ]
  },
  {
   "cell_type": "code",
   "execution_count": 19,
   "id": "1ca01539",
   "metadata": {},
   "outputs": [],
   "source": [
    "from sklearn.linear_model import LogisticRegression\n",
    "from sklearn.pipeline import make_pipeline\n",
    "\n",
    "model = make_pipeline(preprocessor, LogisticRegression(solver=\"liblinear\", C=1.0, max_iter=1000, random_state=42))"
   ]
  },
  {
   "cell_type": "code",
   "execution_count": 20,
   "id": "425a66d5",
   "metadata": {},
   "outputs": [
    {
     "data": {
      "text/plain": [
       "Index(['longitude', 'latitude', 'housing_median_age', 'total_rooms',\n",
       "       'total_bedrooms', 'population', 'households', 'median_income',\n",
       "       'ocean_proximity', 'rooms_per_household', 'bedrooms_per_room',\n",
       "       'population_per_household'],\n",
       "      dtype='object')"
      ]
     },
     "execution_count": 20,
     "metadata": {},
     "output_type": "execute_result"
    }
   ],
   "source": [
    "dfTrain.columns"
   ]
  },
  {
   "cell_type": "code",
   "execution_count": 21,
   "id": "188807f1",
   "metadata": {},
   "outputs": [
    {
     "data": {
      "text/plain": [
       "array([0, 0, 1, 0, 1])"
      ]
     },
     "execution_count": 21,
     "metadata": {},
     "output_type": "execute_result"
    }
   ],
   "source": [
    "_ = model.fit(dfTrain, yTrain)\n",
    "model.predict(dfVal)[:5]"
   ]
  },
  {
   "cell_type": "code",
   "execution_count": 22,
   "id": "53beff4b",
   "metadata": {},
   "outputs": [
    {
     "data": {
      "text/plain": [
       "0.84"
      ]
     },
     "execution_count": 22,
     "metadata": {},
     "output_type": "execute_result"
    }
   ],
   "source": [
    "accuracy = model.score(dfVal, yVal)\n",
    "round(model.score(dfVal, yVal), 2)"
   ]
  },
  {
   "cell_type": "markdown",
   "id": "1c17f0ae",
   "metadata": {},
   "source": [
    "**Logistic Regression accuracy: 0.84**"
   ]
  },
  {
   "cell_type": "code",
   "execution_count": 31,
   "id": "fdb39a3f",
   "metadata": {},
   "outputs": [
    {
     "data": {
      "text/plain": [
       "['ocean_proximity',\n",
       " 'longitude',\n",
       " 'latitude',\n",
       " 'housing_median_age',\n",
       " 'total_rooms',\n",
       " 'total_bedrooms',\n",
       " 'population',\n",
       " 'households',\n",
       " 'median_income',\n",
       " 'rooms_per_household',\n",
       " 'bedrooms_per_room',\n",
       " 'population_per_household']"
      ]
     },
     "execution_count": 31,
     "metadata": {},
     "output_type": "execute_result"
    }
   ],
   "source": [
    "# Fiding least usful feature \n",
    "\n",
    "numericalColumns = list(dfTrain.columns.drop('ocean_proximity'))\n",
    "\n",
    "allColumns = categoricalColumns + numericalColumns\n",
    "\n",
    "allColumns"
   ]
  },
  {
   "cell_type": "code",
   "execution_count": 33,
   "id": "22d8f88f",
   "metadata": {},
   "outputs": [
    {
     "name": "stdout",
     "output_type": "stream",
     "text": [
      "total_rooms - difference 0.001211240310077466\n",
      "total_bedrooms - difference 0.00024224806201555982\n",
      "population - difference 0.009447674418604723\n",
      "households - difference 0.0021802325581395943\n"
     ]
    }
   ],
   "source": [
    "totalColumns = allColumns[:]\n",
    "lenCols = len(totalColumns)\n",
    "accs = []\n",
    "minx = {}\n",
    "for i in range(1,lenCols):\n",
    "    col = totalColumns[i]\n",
    "    if col in ['total_rooms', 'total_bedrooms', 'population', 'households']:\n",
    "        totalColumns.pop(i)\n",
    "        _ = model.fit(dfTrain[totalColumns], yTrain)\n",
    "        newacc = model.score(dfVal[totalColumns], yVal)\n",
    "        diff = abs(newacc - accuracy)\n",
    "        print(f'{col} - difference {diff}')\n",
    "        totalColumns = allColumns[:]\n",
    "    \n",
    "    "
   ]
  },
  {
   "cell_type": "markdown",
   "id": "4adf8b75",
   "metadata": {},
   "source": [
    "Smallest difference **total_bedrooms - diff = 0.00024224806201555982**"
   ]
  },
  {
   "cell_type": "markdown",
   "id": "c0840ac7",
   "metadata": {},
   "source": [
    "#### Let's try linear regression with different alphas"
   ]
  },
  {
   "cell_type": "code",
   "execution_count": 34,
   "id": "42efde48",
   "metadata": {},
   "outputs": [
    {
     "name": "stdout",
     "output_type": "stream",
     "text": [
      "12384 4128 4128\n"
     ]
    }
   ],
   "source": [
    "# Splitting dataset\n",
    "dataFull, dataTest = train_test_split(\n",
    "    df, test_size=0.2, random_state=42)\n",
    "\n",
    "# Splitting the data\n",
    "dataTrain, dataVal = train_test_split(\n",
    "    dataFull, test_size=0.25, random_state=42)\n",
    "\n",
    "print(len(dataTrain), len(dataVal), len(dataTest))"
   ]
  },
  {
   "cell_type": "code",
   "execution_count": 35,
   "id": "4432a9d9",
   "metadata": {
    "scrolled": true
   },
   "outputs": [],
   "source": [
    "# Creating target values\n",
    "targetTrain = np.log1p(dataTrain['median_house_value'].values)\n",
    "targetVal = np.log1p(dataVal['median_house_value'].values)\n",
    "targetTest = np.log1p(dataTest['median_house_value'].values)\n",
    "\n",
    "del dataTrain['median_house_value']\n",
    "del dataVal['median_house_value']\n",
    "del dataTest['median_house_value']"
   ]
  },
  {
   "cell_type": "code",
   "execution_count": 36,
   "id": "176a4d9a",
   "metadata": {},
   "outputs": [],
   "source": [
    "# Creating preprocesors\n",
    "from sklearn.preprocessing import OneHotEncoder, StandardScaler\n",
    "catPreprocessor = OneHotEncoder(handle_unknown=\"ignore\")\n",
    "#numPreprocessor = StandardScaler()"
   ]
  },
  {
   "cell_type": "code",
   "execution_count": 37,
   "id": "a8f853c6",
   "metadata": {},
   "outputs": [],
   "source": [
    "# Transforming the data\n",
    "from sklearn.compose import ColumnTransformer\n",
    "\n",
    "preprocessor = ColumnTransformer([\n",
    "    ('one-hot-encoder', catPreprocessor, categoricalColumns)], remainder=\"passthrough\")"
   ]
  },
  {
   "cell_type": "code",
   "execution_count": 38,
   "id": "1a0b6099",
   "metadata": {},
   "outputs": [],
   "source": [
    "# creating the model\n",
    "from sklearn.linear_model import Ridge\n",
    "from sklearn.metrics import mean_squared_error\n",
    "\n",
    "modelNew = make_pipeline(preprocessor, Ridge(solver=\"sag\", random_state=42))"
   ]
  },
  {
   "cell_type": "code",
   "execution_count": 39,
   "id": "ec1c1f9c",
   "metadata": {},
   "outputs": [
    {
     "name": "stdout",
     "output_type": "stream",
     "text": [
      "memory\n",
      "steps\n",
      "verbose\n",
      "columntransformer\n",
      "ridge\n",
      "columntransformer__n_jobs\n",
      "columntransformer__remainder\n",
      "columntransformer__sparse_threshold\n",
      "columntransformer__transformer_weights\n",
      "columntransformer__transformers\n",
      "columntransformer__verbose\n",
      "columntransformer__one-hot-encoder\n",
      "columntransformer__one-hot-encoder__categories\n",
      "columntransformer__one-hot-encoder__drop\n",
      "columntransformer__one-hot-encoder__dtype\n",
      "columntransformer__one-hot-encoder__handle_unknown\n",
      "columntransformer__one-hot-encoder__sparse\n",
      "ridge__alpha\n",
      "ridge__copy_X\n",
      "ridge__fit_intercept\n",
      "ridge__max_iter\n",
      "ridge__normalize\n",
      "ridge__random_state\n",
      "ridge__solver\n",
      "ridge__tol\n"
     ]
    }
   ],
   "source": [
    "# Printing available parameters for the model\n",
    "for p in modelNew.get_params():\n",
    "    print(p)\n"
   ]
  },
  {
   "cell_type": "code",
   "execution_count": null,
   "id": "5eac04e9",
   "metadata": {},
   "outputs": [
    {
     "name": "stdout",
     "output_type": "stream",
     "text": [
      "#### alpha = 0, RMSE = 0.524 ####\n",
      "\n",
      "#### alpha = 0.01, RMSE = 0.524 ####\n",
      "\n",
      "#### alpha = 0.1, RMSE = 0.524 ####\n",
      "\n"
     ]
    }
   ],
   "source": [
    "# Running model for differents values of alpha\n",
    "results = {}\n",
    "alphas = [0, 0.01, 0.1, 1, 10]\n",
    "\n",
    "for alpha in alphas:\n",
    "    modelNew.set_params(ridge__alpha = alpha)\n",
    "    _ = modelNew.fit(dataTrain, targetTrain)\n",
    "    yPred = modelNew.predict(dataVal)\n",
    "    rmse = round(mean_squared_error(targetVal, yPred, squared=False),3)\n",
    "    results[alpha] = rmse\n",
    "    print(f\"#### alpha = {alpha}, RMSE = {rmse} ####\\n\")"
   ]
  },
  {
   "cell_type": "markdown",
   "id": "12435e20",
   "metadata": {},
   "source": [
    "**Same accuracy for all the alphas**"
   ]
  }
 ],
 "metadata": {
  "kernelspec": {
   "display_name": "Python 3 (ipykernel)",
   "language": "python",
   "name": "python3"
  },
  "language_info": {
   "codemirror_mode": {
    "name": "ipython",
    "version": 3
   },
   "file_extension": ".py",
   "mimetype": "text/x-python",
   "name": "python",
   "nbconvert_exporter": "python",
   "pygments_lexer": "ipython3",
   "version": "3.9.12"
  }
 },
 "nbformat": 4,
 "nbformat_minor": 5
}
