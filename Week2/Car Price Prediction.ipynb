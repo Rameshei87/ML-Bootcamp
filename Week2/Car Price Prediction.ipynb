{
 "cells": [
  {
   "cell_type": "code",
   "execution_count": 1,
   "id": "e6c5a119",
   "metadata": {},
   "outputs": [],
   "source": [
    "import numpy as np\n",
    "import pandas as pd\n",
    "import warnings\n",
    "warnings.filterwarnings('ignore')"
   ]
  },
  {
   "cell_type": "code",
   "execution_count": 2,
   "id": "80de302b",
   "metadata": {},
   "outputs": [
    {
     "data": {
      "text/html": [
       "<div>\n",
       "<style scoped>\n",
       "    .dataframe tbody tr th:only-of-type {\n",
       "        vertical-align: middle;\n",
       "    }\n",
       "\n",
       "    .dataframe tbody tr th {\n",
       "        vertical-align: top;\n",
       "    }\n",
       "\n",
       "    .dataframe thead th {\n",
       "        text-align: right;\n",
       "    }\n",
       "</style>\n",
       "<table border=\"1\" class=\"dataframe\">\n",
       "  <thead>\n",
       "    <tr style=\"text-align: right;\">\n",
       "      <th></th>\n",
       "      <th>Make</th>\n",
       "      <th>Model</th>\n",
       "      <th>Year</th>\n",
       "      <th>Engine Fuel Type</th>\n",
       "      <th>Engine HP</th>\n",
       "      <th>Engine Cylinders</th>\n",
       "      <th>Transmission Type</th>\n",
       "      <th>Driven_Wheels</th>\n",
       "      <th>Number of Doors</th>\n",
       "      <th>Market Category</th>\n",
       "      <th>Vehicle Size</th>\n",
       "      <th>Vehicle Style</th>\n",
       "      <th>highway MPG</th>\n",
       "      <th>city mpg</th>\n",
       "      <th>Popularity</th>\n",
       "      <th>MSRP</th>\n",
       "    </tr>\n",
       "  </thead>\n",
       "  <tbody>\n",
       "    <tr>\n",
       "      <th>0</th>\n",
       "      <td>BMW</td>\n",
       "      <td>1 Series M</td>\n",
       "      <td>2011</td>\n",
       "      <td>premium unleaded (required)</td>\n",
       "      <td>335.0</td>\n",
       "      <td>6.0</td>\n",
       "      <td>MANUAL</td>\n",
       "      <td>rear wheel drive</td>\n",
       "      <td>2.0</td>\n",
       "      <td>Factory Tuner,Luxury,High-Performance</td>\n",
       "      <td>Compact</td>\n",
       "      <td>Coupe</td>\n",
       "      <td>26</td>\n",
       "      <td>19</td>\n",
       "      <td>3916</td>\n",
       "      <td>46135</td>\n",
       "    </tr>\n",
       "    <tr>\n",
       "      <th>1</th>\n",
       "      <td>BMW</td>\n",
       "      <td>1 Series</td>\n",
       "      <td>2011</td>\n",
       "      <td>premium unleaded (required)</td>\n",
       "      <td>300.0</td>\n",
       "      <td>6.0</td>\n",
       "      <td>MANUAL</td>\n",
       "      <td>rear wheel drive</td>\n",
       "      <td>2.0</td>\n",
       "      <td>Luxury,Performance</td>\n",
       "      <td>Compact</td>\n",
       "      <td>Convertible</td>\n",
       "      <td>28</td>\n",
       "      <td>19</td>\n",
       "      <td>3916</td>\n",
       "      <td>40650</td>\n",
       "    </tr>\n",
       "    <tr>\n",
       "      <th>2</th>\n",
       "      <td>BMW</td>\n",
       "      <td>1 Series</td>\n",
       "      <td>2011</td>\n",
       "      <td>premium unleaded (required)</td>\n",
       "      <td>300.0</td>\n",
       "      <td>6.0</td>\n",
       "      <td>MANUAL</td>\n",
       "      <td>rear wheel drive</td>\n",
       "      <td>2.0</td>\n",
       "      <td>Luxury,High-Performance</td>\n",
       "      <td>Compact</td>\n",
       "      <td>Coupe</td>\n",
       "      <td>28</td>\n",
       "      <td>20</td>\n",
       "      <td>3916</td>\n",
       "      <td>36350</td>\n",
       "    </tr>\n",
       "    <tr>\n",
       "      <th>3</th>\n",
       "      <td>BMW</td>\n",
       "      <td>1 Series</td>\n",
       "      <td>2011</td>\n",
       "      <td>premium unleaded (required)</td>\n",
       "      <td>230.0</td>\n",
       "      <td>6.0</td>\n",
       "      <td>MANUAL</td>\n",
       "      <td>rear wheel drive</td>\n",
       "      <td>2.0</td>\n",
       "      <td>Luxury,Performance</td>\n",
       "      <td>Compact</td>\n",
       "      <td>Coupe</td>\n",
       "      <td>28</td>\n",
       "      <td>18</td>\n",
       "      <td>3916</td>\n",
       "      <td>29450</td>\n",
       "    </tr>\n",
       "    <tr>\n",
       "      <th>4</th>\n",
       "      <td>BMW</td>\n",
       "      <td>1 Series</td>\n",
       "      <td>2011</td>\n",
       "      <td>premium unleaded (required)</td>\n",
       "      <td>230.0</td>\n",
       "      <td>6.0</td>\n",
       "      <td>MANUAL</td>\n",
       "      <td>rear wheel drive</td>\n",
       "      <td>2.0</td>\n",
       "      <td>Luxury</td>\n",
       "      <td>Compact</td>\n",
       "      <td>Convertible</td>\n",
       "      <td>28</td>\n",
       "      <td>18</td>\n",
       "      <td>3916</td>\n",
       "      <td>34500</td>\n",
       "    </tr>\n",
       "  </tbody>\n",
       "</table>\n",
       "</div>"
      ],
      "text/plain": [
       "  Make       Model  Year             Engine Fuel Type  Engine HP  \\\n",
       "0  BMW  1 Series M  2011  premium unleaded (required)      335.0   \n",
       "1  BMW    1 Series  2011  premium unleaded (required)      300.0   \n",
       "2  BMW    1 Series  2011  premium unleaded (required)      300.0   \n",
       "3  BMW    1 Series  2011  premium unleaded (required)      230.0   \n",
       "4  BMW    1 Series  2011  premium unleaded (required)      230.0   \n",
       "\n",
       "   Engine Cylinders Transmission Type     Driven_Wheels  Number of Doors  \\\n",
       "0               6.0            MANUAL  rear wheel drive              2.0   \n",
       "1               6.0            MANUAL  rear wheel drive              2.0   \n",
       "2               6.0            MANUAL  rear wheel drive              2.0   \n",
       "3               6.0            MANUAL  rear wheel drive              2.0   \n",
       "4               6.0            MANUAL  rear wheel drive              2.0   \n",
       "\n",
       "                         Market Category Vehicle Size Vehicle Style  \\\n",
       "0  Factory Tuner,Luxury,High-Performance      Compact         Coupe   \n",
       "1                     Luxury,Performance      Compact   Convertible   \n",
       "2                Luxury,High-Performance      Compact         Coupe   \n",
       "3                     Luxury,Performance      Compact         Coupe   \n",
       "4                                 Luxury      Compact   Convertible   \n",
       "\n",
       "   highway MPG  city mpg  Popularity   MSRP  \n",
       "0           26        19        3916  46135  \n",
       "1           28        19        3916  40650  \n",
       "2           28        20        3916  36350  \n",
       "3           28        18        3916  29450  \n",
       "4           28        18        3916  34500  "
      ]
     },
     "execution_count": 2,
     "metadata": {},
     "output_type": "execute_result"
    }
   ],
   "source": [
    "# Read data\n",
    "df = pd.read_csv('data.csv')\n",
    "df.head()"
   ]
  },
  {
   "cell_type": "code",
   "execution_count": 3,
   "id": "a48be18f",
   "metadata": {},
   "outputs": [],
   "source": [
    "# Getting a uniform naming of the columns \n",
    "df.columns = df.columns.str.replace(' ', '_').str.lower()"
   ]
  },
  {
   "cell_type": "code",
   "execution_count": 4,
   "id": "afa6e8d3",
   "metadata": {},
   "outputs": [
    {
     "data": {
      "text/html": [
       "<div>\n",
       "<style scoped>\n",
       "    .dataframe tbody tr th:only-of-type {\n",
       "        vertical-align: middle;\n",
       "    }\n",
       "\n",
       "    .dataframe tbody tr th {\n",
       "        vertical-align: top;\n",
       "    }\n",
       "\n",
       "    .dataframe thead th {\n",
       "        text-align: right;\n",
       "    }\n",
       "</style>\n",
       "<table border=\"1\" class=\"dataframe\">\n",
       "  <thead>\n",
       "    <tr style=\"text-align: right;\">\n",
       "      <th></th>\n",
       "      <th>make</th>\n",
       "      <th>model</th>\n",
       "      <th>year</th>\n",
       "      <th>engine_fuel_type</th>\n",
       "      <th>engine_hp</th>\n",
       "      <th>engine_cylinders</th>\n",
       "      <th>transmission_type</th>\n",
       "      <th>driven_wheels</th>\n",
       "      <th>number_of_doors</th>\n",
       "      <th>market_category</th>\n",
       "      <th>vehicle_size</th>\n",
       "      <th>vehicle_style</th>\n",
       "      <th>highway_mpg</th>\n",
       "      <th>city_mpg</th>\n",
       "      <th>popularity</th>\n",
       "      <th>msrp</th>\n",
       "    </tr>\n",
       "  </thead>\n",
       "  <tbody>\n",
       "    <tr>\n",
       "      <th>0</th>\n",
       "      <td>BMW</td>\n",
       "      <td>1 Series M</td>\n",
       "      <td>2011</td>\n",
       "      <td>premium unleaded (required)</td>\n",
       "      <td>335.0</td>\n",
       "      <td>6.0</td>\n",
       "      <td>MANUAL</td>\n",
       "      <td>rear wheel drive</td>\n",
       "      <td>2.0</td>\n",
       "      <td>Factory Tuner,Luxury,High-Performance</td>\n",
       "      <td>Compact</td>\n",
       "      <td>Coupe</td>\n",
       "      <td>26</td>\n",
       "      <td>19</td>\n",
       "      <td>3916</td>\n",
       "      <td>46135</td>\n",
       "    </tr>\n",
       "    <tr>\n",
       "      <th>1</th>\n",
       "      <td>BMW</td>\n",
       "      <td>1 Series</td>\n",
       "      <td>2011</td>\n",
       "      <td>premium unleaded (required)</td>\n",
       "      <td>300.0</td>\n",
       "      <td>6.0</td>\n",
       "      <td>MANUAL</td>\n",
       "      <td>rear wheel drive</td>\n",
       "      <td>2.0</td>\n",
       "      <td>Luxury,Performance</td>\n",
       "      <td>Compact</td>\n",
       "      <td>Convertible</td>\n",
       "      <td>28</td>\n",
       "      <td>19</td>\n",
       "      <td>3916</td>\n",
       "      <td>40650</td>\n",
       "    </tr>\n",
       "  </tbody>\n",
       "</table>\n",
       "</div>"
      ],
      "text/plain": [
       "  make       model  year             engine_fuel_type  engine_hp  \\\n",
       "0  BMW  1 Series M  2011  premium unleaded (required)      335.0   \n",
       "1  BMW    1 Series  2011  premium unleaded (required)      300.0   \n",
       "\n",
       "   engine_cylinders transmission_type     driven_wheels  number_of_doors  \\\n",
       "0               6.0            MANUAL  rear wheel drive              2.0   \n",
       "1               6.0            MANUAL  rear wheel drive              2.0   \n",
       "\n",
       "                         market_category vehicle_size vehicle_style  \\\n",
       "0  Factory Tuner,Luxury,High-Performance      Compact         Coupe   \n",
       "1                     Luxury,Performance      Compact   Convertible   \n",
       "\n",
       "   highway_mpg  city_mpg  popularity   msrp  \n",
       "0           26        19        3916  46135  \n",
       "1           28        19        3916  40650  "
      ]
     },
     "execution_count": 4,
     "metadata": {},
     "output_type": "execute_result"
    }
   ],
   "source": [
    "df.head(2)"
   ]
  },
  {
   "cell_type": "code",
   "execution_count": 5,
   "id": "a81f1af3",
   "metadata": {},
   "outputs": [
    {
     "data": {
      "text/plain": [
       "['make',\n",
       " 'model',\n",
       " 'engine_fuel_type',\n",
       " 'transmission_type',\n",
       " 'driven_wheels',\n",
       " 'market_category',\n",
       " 'vehicle_size',\n",
       " 'vehicle_style']"
      ]
     },
     "execution_count": 5,
     "metadata": {},
     "output_type": "execute_result"
    }
   ],
   "source": [
    "# Find object-type columns\n",
    "categCols = list(df.select_dtypes('object').columns)\n",
    "categCols"
   ]
  },
  {
   "cell_type": "code",
   "execution_count": 6,
   "id": "bc34c51d",
   "metadata": {},
   "outputs": [],
   "source": [
    "# Replace spaces and convert to lower case\n",
    "for col in categCols:\n",
    "    df[col] = df[col].str.lower().str.replace(' ','_')"
   ]
  },
  {
   "cell_type": "markdown",
   "id": "95cdc90f",
   "metadata": {},
   "source": [
    "### EDA"
   ]
  },
  {
   "cell_type": "code",
   "execution_count": 7,
   "id": "e021fed3",
   "metadata": {},
   "outputs": [
    {
     "data": {
      "text/html": [
       "<div>\n",
       "<style scoped>\n",
       "    .dataframe tbody tr th:only-of-type {\n",
       "        vertical-align: middle;\n",
       "    }\n",
       "\n",
       "    .dataframe tbody tr th {\n",
       "        vertical-align: top;\n",
       "    }\n",
       "\n",
       "    .dataframe thead th {\n",
       "        text-align: right;\n",
       "    }\n",
       "</style>\n",
       "<table border=\"1\" class=\"dataframe\">\n",
       "  <thead>\n",
       "    <tr style=\"text-align: right;\">\n",
       "      <th></th>\n",
       "      <th>make</th>\n",
       "      <th>model</th>\n",
       "      <th>year</th>\n",
       "      <th>engine_fuel_type</th>\n",
       "      <th>engine_hp</th>\n",
       "      <th>engine_cylinders</th>\n",
       "      <th>transmission_type</th>\n",
       "      <th>driven_wheels</th>\n",
       "      <th>number_of_doors</th>\n",
       "      <th>market_category</th>\n",
       "      <th>vehicle_size</th>\n",
       "      <th>vehicle_style</th>\n",
       "      <th>highway_mpg</th>\n",
       "      <th>city_mpg</th>\n",
       "      <th>popularity</th>\n",
       "      <th>msrp</th>\n",
       "    </tr>\n",
       "  </thead>\n",
       "  <tbody>\n",
       "    <tr>\n",
       "      <th>0</th>\n",
       "      <td>bmw</td>\n",
       "      <td>1_series_m</td>\n",
       "      <td>2011</td>\n",
       "      <td>premium_unleaded_(required)</td>\n",
       "      <td>335.0</td>\n",
       "      <td>6.0</td>\n",
       "      <td>manual</td>\n",
       "      <td>rear_wheel_drive</td>\n",
       "      <td>2.0</td>\n",
       "      <td>factory_tuner,luxury,high-performance</td>\n",
       "      <td>compact</td>\n",
       "      <td>coupe</td>\n",
       "      <td>26</td>\n",
       "      <td>19</td>\n",
       "      <td>3916</td>\n",
       "      <td>46135</td>\n",
       "    </tr>\n",
       "    <tr>\n",
       "      <th>1</th>\n",
       "      <td>bmw</td>\n",
       "      <td>1_series</td>\n",
       "      <td>2011</td>\n",
       "      <td>premium_unleaded_(required)</td>\n",
       "      <td>300.0</td>\n",
       "      <td>6.0</td>\n",
       "      <td>manual</td>\n",
       "      <td>rear_wheel_drive</td>\n",
       "      <td>2.0</td>\n",
       "      <td>luxury,performance</td>\n",
       "      <td>compact</td>\n",
       "      <td>convertible</td>\n",
       "      <td>28</td>\n",
       "      <td>19</td>\n",
       "      <td>3916</td>\n",
       "      <td>40650</td>\n",
       "    </tr>\n",
       "    <tr>\n",
       "      <th>2</th>\n",
       "      <td>bmw</td>\n",
       "      <td>1_series</td>\n",
       "      <td>2011</td>\n",
       "      <td>premium_unleaded_(required)</td>\n",
       "      <td>300.0</td>\n",
       "      <td>6.0</td>\n",
       "      <td>manual</td>\n",
       "      <td>rear_wheel_drive</td>\n",
       "      <td>2.0</td>\n",
       "      <td>luxury,high-performance</td>\n",
       "      <td>compact</td>\n",
       "      <td>coupe</td>\n",
       "      <td>28</td>\n",
       "      <td>20</td>\n",
       "      <td>3916</td>\n",
       "      <td>36350</td>\n",
       "    </tr>\n",
       "    <tr>\n",
       "      <th>3</th>\n",
       "      <td>bmw</td>\n",
       "      <td>1_series</td>\n",
       "      <td>2011</td>\n",
       "      <td>premium_unleaded_(required)</td>\n",
       "      <td>230.0</td>\n",
       "      <td>6.0</td>\n",
       "      <td>manual</td>\n",
       "      <td>rear_wheel_drive</td>\n",
       "      <td>2.0</td>\n",
       "      <td>luxury,performance</td>\n",
       "      <td>compact</td>\n",
       "      <td>coupe</td>\n",
       "      <td>28</td>\n",
       "      <td>18</td>\n",
       "      <td>3916</td>\n",
       "      <td>29450</td>\n",
       "    </tr>\n",
       "    <tr>\n",
       "      <th>4</th>\n",
       "      <td>bmw</td>\n",
       "      <td>1_series</td>\n",
       "      <td>2011</td>\n",
       "      <td>premium_unleaded_(required)</td>\n",
       "      <td>230.0</td>\n",
       "      <td>6.0</td>\n",
       "      <td>manual</td>\n",
       "      <td>rear_wheel_drive</td>\n",
       "      <td>2.0</td>\n",
       "      <td>luxury</td>\n",
       "      <td>compact</td>\n",
       "      <td>convertible</td>\n",
       "      <td>28</td>\n",
       "      <td>18</td>\n",
       "      <td>3916</td>\n",
       "      <td>34500</td>\n",
       "    </tr>\n",
       "  </tbody>\n",
       "</table>\n",
       "</div>"
      ],
      "text/plain": [
       "  make       model  year             engine_fuel_type  engine_hp  \\\n",
       "0  bmw  1_series_m  2011  premium_unleaded_(required)      335.0   \n",
       "1  bmw    1_series  2011  premium_unleaded_(required)      300.0   \n",
       "2  bmw    1_series  2011  premium_unleaded_(required)      300.0   \n",
       "3  bmw    1_series  2011  premium_unleaded_(required)      230.0   \n",
       "4  bmw    1_series  2011  premium_unleaded_(required)      230.0   \n",
       "\n",
       "   engine_cylinders transmission_type     driven_wheels  number_of_doors  \\\n",
       "0               6.0            manual  rear_wheel_drive              2.0   \n",
       "1               6.0            manual  rear_wheel_drive              2.0   \n",
       "2               6.0            manual  rear_wheel_drive              2.0   \n",
       "3               6.0            manual  rear_wheel_drive              2.0   \n",
       "4               6.0            manual  rear_wheel_drive              2.0   \n",
       "\n",
       "                         market_category vehicle_size vehicle_style  \\\n",
       "0  factory_tuner,luxury,high-performance      compact         coupe   \n",
       "1                     luxury,performance      compact   convertible   \n",
       "2                luxury,high-performance      compact         coupe   \n",
       "3                     luxury,performance      compact         coupe   \n",
       "4                                 luxury      compact   convertible   \n",
       "\n",
       "   highway_mpg  city_mpg  popularity   msrp  \n",
       "0           26        19        3916  46135  \n",
       "1           28        19        3916  40650  \n",
       "2           28        20        3916  36350  \n",
       "3           28        18        3916  29450  \n",
       "4           28        18        3916  34500  "
      ]
     },
     "execution_count": 7,
     "metadata": {},
     "output_type": "execute_result"
    }
   ],
   "source": [
    "df.head()"
   ]
  },
  {
   "cell_type": "code",
   "execution_count": 8,
   "id": "76546ad1",
   "metadata": {},
   "outputs": [
    {
     "name": "stdout",
     "output_type": "stream",
     "text": [
      "< make >\n",
      "['chevrolet' 'ford' 'volkswagen' 'toyota' 'dodge']\n",
      "Total unique <make> values: 48\n",
      "\n",
      "< model >\n",
      "['silverado_1500' 'tundra' 'f-150' 'sierra_1500' 'beetle_convertible']\n",
      "Total unique <model> values: 914\n",
      "\n",
      "< year >\n",
      "[2015 2016 2017 2014 2012]\n",
      "Total unique <year> values: 28\n",
      "\n",
      "< engine_fuel_type >\n",
      "['regular_unleaded' 'premium_unleaded_(required)'\n",
      " 'premium_unleaded_(recommended)' 'flex-fuel_(unleaded/e85)' 'diesel']\n",
      "Total unique <engine_fuel_type> values: 10\n",
      "\n",
      "< engine_hp >\n",
      "[200. 170. 210. 240. 285.]\n",
      "Total unique <engine_hp> values: 356\n",
      "\n",
      "< engine_cylinders >\n",
      "[ 4.  6.  8. 12.  5.]\n",
      "Total unique <engine_cylinders> values: 9\n",
      "\n",
      "< transmission_type >\n",
      "['automatic' 'manual' 'automated_manual' 'direct_drive' 'unknown']\n",
      "Total unique <transmission_type> values: 5\n",
      "\n",
      "< driven_wheels >\n",
      "['front_wheel_drive' 'rear_wheel_drive' 'all_wheel_drive'\n",
      " 'four_wheel_drive']\n",
      "Total unique <driven_wheels> values: 4\n",
      "\n",
      "< number_of_doors >\n",
      "[4. 2. 3.]\n",
      "Total unique <number_of_doors> values: 3\n",
      "\n",
      "< market_category >\n",
      "['crossover' 'flex_fuel' 'luxury' 'luxury,performance' 'hatchback']\n",
      "Total unique <market_category> values: 71\n",
      "\n",
      "< vehicle_size >\n",
      "['compact' 'midsize' 'large']\n",
      "Total unique <vehicle_size> values: 3\n",
      "\n",
      "< vehicle_style >\n",
      "['sedan' '4dr_suv' 'coupe' 'convertible' '4dr_hatchback']\n",
      "Total unique <vehicle_style> values: 16\n",
      "\n",
      "< highway_mpg >\n",
      "[24 23 26 22 25]\n",
      "Total unique <highway_mpg> values: 59\n",
      "\n",
      "< city_mpg >\n",
      "[17 16 15 18 19]\n",
      "Total unique <city_mpg> values: 69\n",
      "\n",
      "< popularity >\n",
      "[1385 5657  873 2031 1851]\n",
      "Total unique <popularity> values: 48\n",
      "\n",
      "< msrp >\n",
      "[ 2000 29995 25995 20995 27995]\n",
      "Total unique <msrp> values: 6049\n",
      "\n"
     ]
    }
   ],
   "source": [
    "#print(df.nunique())\n",
    "for col in df.columns:\n",
    "    print(f'< {col} >')\n",
    "    print(df.groupby(col).size().sort_values(ascending=False).index[:5].values)\n",
    "    print(f'Total unique <{col}> values: {df[col].nunique()}\\n')"
   ]
  },
  {
   "cell_type": "markdown",
   "id": "d9935425",
   "metadata": {},
   "source": [
    "### Checking MSRP data"
   ]
  },
  {
   "cell_type": "code",
   "execution_count": 9,
   "id": "53688bde",
   "metadata": {},
   "outputs": [],
   "source": [
    "import matplotlib.pyplot as plt\n",
    "import seaborn as sns\n",
    "%matplotlib inline"
   ]
  },
  {
   "cell_type": "code",
   "execution_count": 10,
   "id": "8b113d30",
   "metadata": {},
   "outputs": [
    {
     "data": {
      "image/png": "[encoded data removed]",
      "text/plain": [
       "<Figure size 432x288 with 1 Axes>"
      ]
     },
     "metadata": {
      "needs_background": "light"
     },
     "output_type": "display_data"
    }
   ],
   "source": [
    "# Distribution of prices\n",
    "sns.histplot(df.msrp, bins=40)\n",
    "_ = plt.text(1e6, 6000, \"Long tail distribution\", horizontalalignment='left',\n",
    "         size='large', color='black', weight='semibold')"
   ]
  },
  {
   "cell_type": "code",
   "execution_count": 11,
   "id": "3482de5d",
   "metadata": {},
   "outputs": [
    {
     "data": {
      "image/png": "[encoded data removed]",
      "text/plain": [
       "<Figure size 432x288 with 1 Axes>"
      ]
     },
     "metadata": {
      "needs_background": "light"
     },
     "output_type": "display_data"
    }
   ],
   "source": [
    "# Distribution of prices < $100K\n",
    "sns.histplot(df.msrp[df.msrp < 1e5])\n",
    "_ = plt.text(5e4, 800, \"MSRP < 100,000\", horizontalalignment='left',\n",
    "         size='large', color='black', weight='semibold')"
   ]
  },
  {
   "cell_type": "code",
   "execution_count": 12,
   "id": "13b95543",
   "metadata": {},
   "outputs": [
    {
     "data": {
      "text/plain": [
       "Text(12, 600, 'log1p MSRP')"
      ]
     },
     "execution_count": 12,
     "metadata": {},
     "output_type": "execute_result"
    },
    {
     "data": {
      "image/png": "[encoded data removed]",
      "text/plain": [
       "<Figure size 432x288 with 1 Axes>"
      ]
     },
     "metadata": {
      "needs_background": "light"
     },
     "output_type": "display_data"
    }
   ],
   "source": [
    "# Lets apply log1p to the MSRP distribution\n",
    "priceLog = np.log1p(df.msrp)\n",
    "_ = sns.histplot(priceLog, bins=50)\n",
    "plt.text(12, 600, \"log1p MSRP\", horizontalalignment='left',\n",
    "         size='large', color='black', weight='semibold')"
   ]
  },
  {
   "cell_type": "markdown",
   "id": "a919be19",
   "metadata": {},
   "source": [
    "### Checking missing values"
   ]
  },
  {
   "cell_type": "code",
   "execution_count": 13,
   "id": "b8dc46ad",
   "metadata": {},
   "outputs": [
    {
     "data": {
      "text/html": [
       "<div>\n",
       "<style scoped>\n",
       "    .dataframe tbody tr th:only-of-type {\n",
       "        vertical-align: middle;\n",
       "    }\n",
       "\n",
       "    .dataframe tbody tr th {\n",
       "        vertical-align: top;\n",
       "    }\n",
       "\n",
       "    .dataframe thead th {\n",
       "        text-align: right;\n",
       "    }\n",
       "</style>\n",
       "<table border=\"1\" class=\"dataframe\">\n",
       "  <thead>\n",
       "    <tr style=\"text-align: right;\">\n",
       "      <th></th>\n",
       "      <th>column</th>\n",
       "      <th>isnull</th>\n",
       "    </tr>\n",
       "  </thead>\n",
       "  <tbody>\n",
       "    <tr>\n",
       "      <th>0</th>\n",
       "      <td>engine_fuel_type</td>\n",
       "      <td>3</td>\n",
       "    </tr>\n",
       "    <tr>\n",
       "      <th>1</th>\n",
       "      <td>engine_hp</td>\n",
       "      <td>69</td>\n",
       "    </tr>\n",
       "    <tr>\n",
       "      <th>2</th>\n",
       "      <td>engine_cylinders</td>\n",
       "      <td>30</td>\n",
       "    </tr>\n",
       "    <tr>\n",
       "      <th>3</th>\n",
       "      <td>number_of_doors</td>\n",
       "      <td>6</td>\n",
       "    </tr>\n",
       "    <tr>\n",
       "      <th>4</th>\n",
       "      <td>market_category</td>\n",
       "      <td>3742</td>\n",
       "    </tr>\n",
       "  </tbody>\n",
       "</table>\n",
       "</div>"
      ],
      "text/plain": [
       "             column  isnull\n",
       "0  engine_fuel_type       3\n",
       "1         engine_hp      69\n",
       "2  engine_cylinders      30\n",
       "3   number_of_doors       6\n",
       "4   market_category    3742"
      ]
     },
     "execution_count": 13,
     "metadata": {},
     "output_type": "execute_result"
    }
   ],
   "source": [
    "pd.DataFrame(df.isnull().sum(), columns=['isnull'])[df.isnull().sum() != 0].\\\n",
    "reset_index().\\\n",
    "rename(columns={'index': 'column'})"
   ]
  },
  {
   "cell_type": "markdown",
   "id": "3c0bbff3",
   "metadata": {},
   "source": [
    "### Validation framework"
   ]
  },
  {
   "cell_type": "code",
   "execution_count": 14,
   "id": "1e088445",
   "metadata": {},
   "outputs": [],
   "source": [
    "# Shuffled the data (rows)\n",
    "n = len(df)\n",
    "idx = np.arange(n)\n",
    "np.random.seed(2)\n",
    "np.random.shuffle(idx)"
   ]
  },
  {
   "cell_type": "code",
   "execution_count": 15,
   "id": "5f24503e",
   "metadata": {},
   "outputs": [
    {
     "name": "stdout",
     "output_type": "stream",
     "text": [
      "The lenghts of the datasets\n",
      "*Train set: 7150\t*Validation set: 2382\t*Test set: 2382\n"
     ]
    }
   ],
   "source": [
    "# Split the data Train:60%, Validation:20%, Test:20%\n",
    "nVal = int(0.2 * n)\n",
    "nTest = int(0.2 * n) \n",
    "nTrain = n - nTest - nVal\n",
    "\n",
    "dfTrain = df.iloc[idx[:nTrain]]\n",
    "dfVal = df.iloc[idx[nTrain:nTrain+nVal]]\n",
    "dfTest = df.iloc[idx[nTrain+nVal:]]\n",
    "\n",
    "print(f'The lenghts of the datasets')\n",
    "print(f'*Train set: {len(dfTrain)}\\t*Validation set: {len(dfVal)}\\t*Test set: {len(dfTest)}')"
   ]
  },
  {
   "cell_type": "code",
   "execution_count": 16,
   "id": "aee83a76",
   "metadata": {},
   "outputs": [],
   "source": [
    "# Reset indeces\n",
    "dfTrain.reset_index(drop=True, inplace=True)\n",
    "dfVal.reset_index(drop=True, inplace=True)\n",
    "dfTest.reset_index(drop=True, inplace=True)"
   ]
  },
  {
   "cell_type": "code",
   "execution_count": 17,
   "id": "0a787d98",
   "metadata": {},
   "outputs": [],
   "source": [
    "# Get targets for train, val and test datasets\n",
    "yTrain = np.log1p(dfTrain.msrp.values)\n",
    "yVal = np.log1p(dfVal.msrp.values)\n",
    "yTest = np.log1p(dfTest.msrp.values)"
   ]
  },
  {
   "cell_type": "code",
   "execution_count": 18,
   "id": "b501eb72",
   "metadata": {},
   "outputs": [],
   "source": [
    "# Drop target from features data\n",
    "#dfTrain.drop(columns=['msrp'], inplace=True)\n",
    "#dfVal.drop(columns=['msrp'], inplace=True)\n",
    "#dfTest.drop(columns=['msrp'], inplace=True)\n",
    "del dfTrain['msrp']\n",
    "del dfVal['msrp']\n",
    "del dfTest['msrp']"
   ]
  },
  {
   "cell_type": "markdown",
   "id": "06a9534d",
   "metadata": {},
   "source": [
    "### Linear Regression - Baseline Model"
   ]
  },
  {
   "cell_type": "code",
   "execution_count": 19,
   "id": "5a41e69d",
   "metadata": {},
   "outputs": [
    {
     "data": {
      "text/plain": [
       "['engine_hp', 'engine_cylinders', 'highway_mpg', 'city_mpg', 'popularity']"
      ]
     },
     "execution_count": 19,
     "metadata": {},
     "output_type": "execute_result"
    }
   ],
   "source": [
    "# Selection of Columns / features\n",
    "base = list(dfTrain.dtypes[dfTrain.dtypes != 'object'].iloc[[1,2,4,5,6]].index)\n",
    "base"
   ]
  },
  {
   "cell_type": "code",
   "execution_count": 20,
   "id": "10f7f589",
   "metadata": {},
   "outputs": [],
   "source": [
    "dfTemp = dfTrain[base]"
   ]
  },
  {
   "cell_type": "code",
   "execution_count": 21,
   "id": "dd1ccae4",
   "metadata": {},
   "outputs": [
    {
     "data": {
      "text/plain": [
       "engine_hp           40\n",
       "engine_cylinders    14\n",
       "highway_mpg          0\n",
       "city_mpg             0\n",
       "popularity           0\n",
       "dtype: int64"
      ]
     },
     "execution_count": 21,
     "metadata": {},
     "output_type": "execute_result"
    }
   ],
   "source": [
    "# Check NaNs\n",
    "dfTemp.isnull().sum()"
   ]
  },
  {
   "cell_type": "code",
   "execution_count": 22,
   "id": "8d26fcd3",
   "metadata": {},
   "outputs": [
    {
     "data": {
      "text/plain": [
       "engine_hp           0\n",
       "engine_cylinders    0\n",
       "highway_mpg         0\n",
       "city_mpg            0\n",
       "popularity          0\n",
       "dtype: int64"
      ]
     },
     "execution_count": 22,
     "metadata": {},
     "output_type": "execute_result"
    }
   ],
   "source": [
    "# Replace NaNs with \"Zeros\"\n",
    "dfTemp.fillna(0, inplace=True)\n",
    "dfTemp.isnull().sum()"
   ]
  },
  {
   "cell_type": "code",
   "execution_count": 23,
   "id": "1da1e636",
   "metadata": {},
   "outputs": [],
   "source": [
    "# Get XTrain numpy values (array)\n",
    "XTrain = dfTemp.values"
   ]
  },
  {
   "cell_type": "code",
   "execution_count": 24,
   "id": "199a2a13",
   "metadata": {},
   "outputs": [],
   "source": [
    "# Linear Regresion implementation\n",
    "\n",
    "def TrainLinearReg(X, y):\n",
    "    ones = np.ones(X.shape[0])\n",
    "    X = np.column_stack([ones, X])\n",
    "    XTX = X.T.dot(X)\n",
    "    XTXInv = np.linalg.inv(XTX)\n",
    "    w = XTXInv.dot(X.T).dot(y)\n",
    "    return w[0], w[1:]"
   ]
  },
  {
   "cell_type": "code",
   "execution_count": 25,
   "id": "7946d572",
   "metadata": {},
   "outputs": [
    {
     "name": "stdout",
     "output_type": "stream",
     "text": [
      "Model parameters: w0:7.927257388070117 - w:[ 9.70589522e-03 -1.59103494e-01  1.43792133e-02  1.49441072e-02\n",
      " -9.06908672e-06]\n",
      "Predictions: [ 9.54792783  9.38733977  9.67197758 ... 10.30423015 11.9778914\n",
      "  9.99863111]\n"
     ]
    },
    {
     "data": {
      "image/png": "[encoded data removed]",
      "text/plain": [
       "<Figure size 432x288 with 1 Axes>"
      ]
     },
     "metadata": {
      "needs_background": "light"
     },
     "output_type": "display_data"
    }
   ],
   "source": [
    "# Get model parameters and compare target and predicted target\n",
    "\n",
    "w0, w = TrainLinearReg(XTrain, yTrain)\n",
    "print(f'Model parameters: w0:{w0} - w:{w}')\n",
    "yPred = w0 + XTrain.dot(w)\n",
    "print(f'Predictions: {yPred}')\n",
    "_ = sns.histplot(yPred, color='red', alpha=0.5, bins=50)\n",
    "_ = sns.histplot(yTrain, color='blue', alpha=0.5, bins=50)"
   ]
  },
  {
   "cell_type": "markdown",
   "id": "25ce2557",
   "metadata": {},
   "source": [
    "### RMSE"
   ]
  },
  {
   "cell_type": "code",
   "execution_count": 26,
   "id": "d881d96c",
   "metadata": {},
   "outputs": [],
   "source": [
    "# Function to calculate the rmse error\n",
    "\n",
    "def RMSE(y, yPred):\n",
    "    sqrerr = (y - yPred)**2\n",
    "    mse = np.sqrt(sqrerr.mean())\n",
    "    return mse"
   ]
  },
  {
   "cell_type": "code",
   "execution_count": 27,
   "id": "905045de",
   "metadata": {},
   "outputs": [
    {
     "data": {
      "text/plain": [
       "0.7554192603920132"
      ]
     },
     "execution_count": 27,
     "metadata": {},
     "output_type": "execute_result"
    }
   ],
   "source": [
    "# Calculating the error on the train dataset\n",
    "\n",
    "trainError = RMSE(yTrain, yPred)\n",
    "trainError"
   ]
  },
  {
   "cell_type": "markdown",
   "id": "6107a4ca",
   "metadata": {},
   "source": [
    "### Validation"
   ]
  },
  {
   "cell_type": "code",
   "execution_count": 28,
   "id": "ed9cb29d",
   "metadata": {},
   "outputs": [],
   "source": [
    "# Function to prepare and clean up dataframes\n",
    "\n",
    "def prepareX(df):\n",
    "    dfTemp = df[base]\n",
    "    dfTemp.fillna(0, inplace=True)\n",
    "    X = dfTemp.values\n",
    "    return X"
   ]
  },
  {
   "cell_type": "code",
   "execution_count": 29,
   "id": "27797f5b",
   "metadata": {},
   "outputs": [
    {
     "name": "stdout",
     "output_type": "stream",
     "text": [
      "Validation error: 0.7616530991301601\n"
     ]
    }
   ],
   "source": [
    "# Calculate validation y and error\n",
    "\n",
    "Xtrain = prepareX(dfTrain)\n",
    "w0, w = TrainLinearReg(XTrain, yTrain)\n",
    "\n",
    "XVal = prepareX(dfVal)\n",
    "yValPred = w0 + XVal.dot(w)\n",
    "valErr = RMSE(yVal, yValPred)\n",
    "print(f'Validation error: {valErr}')"
   ]
  },
  {
   "cell_type": "markdown",
   "id": "57c9d433",
   "metadata": {},
   "source": [
    "### Feature Engineering"
   ]
  },
  {
   "cell_type": "code",
   "execution_count": 30,
   "id": "79e4bbd7",
   "metadata": {},
   "outputs": [],
   "source": [
    "# Function to prepare and clean up dataframes\n",
    "\n",
    "def PrepareX(df):\n",
    "    df = df.copy()\n",
    "    df['age'] = 2017 - df['year']\n",
    "    features = base + ['age']\n",
    "    dfTemp = df[features]\n",
    "    #dfTemp = df[base]\n",
    "    dfTemp.fillna(0, inplace=True)\n",
    "    X = dfTemp.values\n",
    "    return X"
   ]
  },
  {
   "cell_type": "code",
   "execution_count": 31,
   "id": "b8314f6f",
   "metadata": {},
   "outputs": [
    {
     "name": "stdout",
     "output_type": "stream",
     "text": [
      "Model parameters: w0:9.286850605506004 - w:[ 3.87296543e-03  7.24889532e-02 -2.59712372e-03  1.10445120e-02\n",
      " -4.77015685e-05 -9.31651725e-02]\n",
      "Predictions: [ 9.42481528  9.71833495 10.23946388 ... 10.74368095 12.14263879\n",
      " 10.47222446]\n",
      "Validation error: 0.5172055461058335\n"
     ]
    },
    {
     "data": {
      "image/png": "[encoded data removed]",
      "text/plain": [
       "<Figure size 432x288 with 1 Axes>"
      ]
     },
     "metadata": {
      "needs_background": "light"
     },
     "output_type": "display_data"
    }
   ],
   "source": [
    "# Calculate validation y and error\n",
    "\n",
    "XTrain = PrepareX(dfTrain)\n",
    "w0, w = TrainLinearReg(XTrain, yTrain)\n",
    "\n",
    "XVal = PrepareX(dfVal)\n",
    "yValPred = w0 + XVal.dot(w)\n",
    "valErr = RMSE(yVal, yValPred)\n",
    "\n",
    "print(f'Model parameters: w0:{w0} - w:{w}')\n",
    "yPred = w0 + XTrain.dot(w)\n",
    "print(f'Predictions: {yPred}')\n",
    "print(f'Validation error: {valErr}')\n",
    "\n",
    "_ = sns.histplot(yValPred, color='red', alpha=0.5, bins=50)\n",
    "_ = sns.histplot(yVal, color='blue', alpha=0.5, bins=50)"
   ]
  },
  {
   "cell_type": "code",
   "execution_count": 32,
   "id": "c36a6f11",
   "metadata": {},
   "outputs": [],
   "source": [
    "# On-Hot-Encoding of categorical features\n",
    "\n",
    "def OneHotCategorical(df, dims):\n",
    "    newDims = []\n",
    "    newdf = df.copy()\n",
    "    #print(dims)\n",
    "    for dim in dims:   \n",
    "        #print(dim)\n",
    "        for val in dfTrain[dim].value_counts().head().index:\n",
    "            #print('***',val)\n",
    "            newdf[f'{dim}_{val}'] = (newdf[dim] == val).astype('int')\n",
    "            newDims.append(f'{dim}_{val}')\n",
    "    return newdf, newDims"
   ]
  },
  {
   "cell_type": "code",
   "execution_count": 33,
   "id": "0a565c6e",
   "metadata": {},
   "outputs": [],
   "source": [
    "# Data preparation\n",
    "\n",
    "def PrepareX(df):\n",
    "    newdf = df.copy()\n",
    "    newdf['age'] = 2017 - newdf['year']\n",
    "    features = base + ['age']\n",
    "    \n",
    "    dims = ['number_of_doors']\n",
    "    newdf, newDims = OneHotCategorical(newdf, dims)\n",
    "    features += newDims\n",
    "\n",
    "    dims = ['make', 'engine_fuel_type', 'transmission_type','driven_wheels',\n",
    "            'market_category','vehicle_size','vehicle_style']\n",
    "    newdf, newDims = OneHotCategorical(newdf, dims)\n",
    "    features += newDims\n",
    "\n",
    "    dfTemp = newdf[features]\n",
    "    dfTemp.fillna(0, inplace=True)\n",
    "    X = dfTemp.values\n",
    "    return X"
   ]
  },
  {
   "cell_type": "code",
   "execution_count": 34,
   "id": "c6a5d8ec",
   "metadata": {},
   "outputs": [
    {
     "name": "stdout",
     "output_type": "stream",
     "text": [
      "Model parameters: w0:-3.0813475980763172e+16 - w:[-4.40823681e-01 -3.22830755e+01 -2.75355651e+01 -6.83109891e+01\n",
      "  1.96393117e-02 -1.57952735e+01 -5.25456865e+04 -5.28676624e+04\n",
      " -5.31863620e+04  3.99250749e+01  3.72285830e+01 -1.37322820e+02\n",
      "  1.57738523e+02 -5.13242869e+01  1.20830632e+03  1.21766462e+03\n",
      "  1.20708943e+03  1.15478745e+03  2.21306258e+03  4.96694357e+16\n",
      "  4.96694357e+16  4.96694357e+16  4.96694357e+16  4.96694357e+16\n",
      " -1.88559598e+16 -1.88559598e+16 -1.88559598e+16 -1.88559598e+16\n",
      " -9.68577363e+01  1.93173700e+01  2.54707277e+01  2.15150274e+02\n",
      "  1.40198690e+02  1.90114352e+03  1.76340965e+03  1.53633942e+03\n",
      " -4.85492239e-02  5.44797374e-02  1.78241160e-01  3.41906701e-01\n",
      " -1.64412078e-01]\n",
      "\n",
      "Predictions: [-412.  228. -784. ... -432. -188.   68.]\n",
      "Train error: 1542.510369970822\n",
      "Validation error: 506.27579457420126\n"
     ]
    }
   ],
   "source": [
    "# Calculate validation y and error\n",
    "\n",
    "XTrain = PrepareX(dfTrain)\n",
    "w0, w = TrainLinearReg(XTrain, yTrain)\n",
    "\n",
    "XVal = PrepareX(dfVal)\n",
    "yValPred = w0 + XVal.dot(w)\n",
    "valErr = RMSE(yVal, yValPred)\n",
    "\n",
    "print(f'Model parameters: w0:{w0} - w:{w}')\n",
    "yPred = w0 + XTrain.dot(w)\n",
    "trainErr = RMSE(yTrain, yPred)\n",
    "print()\n",
    "print(f'Predictions: {yPred}')\n",
    "print(f'Train error: {trainErr}')\n",
    "print(f'Validation error: {valErr}')"
   ]
  },
  {
   "cell_type": "markdown",
   "id": "542d3c11",
   "metadata": {},
   "source": [
    "### Regularization"
   ]
  },
  {
   "cell_type": "code",
   "execution_count": 35,
   "id": "2e47112a",
   "metadata": {},
   "outputs": [],
   "source": [
    "# Regularization function\n",
    "\n",
    "def regularization(X, r=1e-3):\n",
    "    return X + r * np.eye(X.shape[0])\n",
    "\n",
    "\n",
    "# New model function including regularization\n",
    "\n",
    "def TrainLinearReg(X, y, r=1e-3):\n",
    "    ones = np.ones(X.shape[0])\n",
    "    X = np.column_stack([ones, X])\n",
    "    \n",
    "    XTX = X.T.dot(X)\n",
    "    XTX = regularization(XTX, r)\n",
    "    \n",
    "    XTXInv = np.linalg.inv(XTX)\n",
    "    w = XTXInv.dot(X.T).dot(y)\n",
    "    return w[0], w[1:]"
   ]
  },
  {
   "cell_type": "code",
   "execution_count": 36,
   "id": "c4715641",
   "metadata": {},
   "outputs": [
    {
     "name": "stdout",
     "output_type": "stream",
     "text": [
      "Model parameters: w0:6.276604934242101 - w:[ 1.74662292e-03  1.10388876e-01 -5.09610915e-03 -5.90147528e-03\n",
      " -5.03725269e-05 -9.61981231e-02 -6.06574068e-01 -7.75065011e-01\n",
      " -8.79365683e-01 -4.24117367e-02  1.77091822e-01  1.38942853e-02\n",
      " -9.98087945e-02 -1.07723487e-01 -4.60189119e-01  6.99882687e-02\n",
      " -3.26371211e-01 -5.39206960e-01 -9.13568066e-02  1.09235948e+00\n",
      "  9.22836694e-01  1.15309106e+00  2.61933778e+00  4.88983909e-01\n",
      "  1.60511637e+00  1.53501046e+00  1.59823524e+00  1.53824231e+00\n",
      " -8.49615959e-02  4.57395757e-02 -4.80594024e-02  8.53486542e-03\n",
      " -3.56951055e-02  2.17756876e+00  2.06241139e+00  2.03662526e+00\n",
      " -4.85610158e-02  5.45307864e-02  1.78221655e-01  3.41920493e-01\n",
      " -1.64549139e-01]\n",
      "\n",
      "Predictions: [ 9.33738217  9.60726342 10.13981276 ... 10.57142107 12.18680465\n",
      " 10.58870478]\n",
      "Train error: 0.4602099520222216\n",
      "Validation error: 0.4565219901386227\n"
     ]
    }
   ],
   "source": [
    "# Calculate validation y and error\n",
    "\n",
    "XTrain = PrepareX(dfTrain)\n",
    "w0, w = TrainLinearReg(XTrain, yTrain, r=0.01)\n",
    "\n",
    "XVal = PrepareX(dfVal)\n",
    "yValPred = w0 + XVal.dot(w)\n",
    "valErr = RMSE(yVal, yValPred)\n",
    "\n",
    "print(f'Model parameters: w0:{w0} - w:{w}')\n",
    "yPred = w0 + XTrain.dot(w)\n",
    "trainErr = RMSE(yTrain, yPred)\n",
    "print()\n",
    "print(f'Predictions: {yPred}')\n",
    "print(f'Train error: {trainErr}')\n",
    "print(f'Validation error: {valErr}')\n"
   ]
  },
  {
   "cell_type": "markdown",
   "id": "886985ca",
   "metadata": {},
   "source": [
    "### Tuning the model"
   ]
  },
  {
   "cell_type": "code",
   "execution_count": 37,
   "id": "d7f08dbd",
   "metadata": {},
   "outputs": [
    {
     "name": "stdout",
     "output_type": "stream",
     "text": [
      "###############################\n",
      "r=0, W0=6.27660493, Train error: 0.46020995, Validation error=0.45652199\n",
      "###############################\n",
      "r=1e-05, W0=6.27660493, Train error: 0.46020995, Validation error=0.45652199\n",
      "###############################\n",
      "r=0.0001, W0=6.27660493, Train error: 0.46020995, Validation error=0.45652199\n",
      "###############################\n",
      "r=0.001, W0=6.27660493, Train error: 0.46020995, Validation error=0.45652199\n",
      "###############################\n",
      "r=0.01, W0=6.27660493, Train error: 0.46020995, Validation error=0.45652199\n",
      "###############################\n",
      "r=0.1, W0=6.27660493, Train error: 0.46020995, Validation error=0.45652199\n",
      "###############################\n",
      "r=1, W0=6.27660493, Train error: 0.46020995, Validation error=0.45652199\n",
      "###############################\n",
      "r=10, W0=6.27660493, Train error: 0.46020995, Validation error=0.45652199\n"
     ]
    }
   ],
   "source": [
    "# Testing with different values for regularization\n",
    "\n",
    "regParameters = [0, 1e-5, 1e-4, 1e-3, 1e-2, 1e-1, 1, 10]\n",
    "\n",
    "for r in regParameters:\n",
    "    XTrain = PrepareX(dfTrain)\n",
    "    w0, w = TrainLinearReg(XTrain, yTrain, r=0.01)\n",
    "    \n",
    "    XVal = PrepareX(dfVal)\n",
    "    yValPred = w0 + XVal.dot(w)\n",
    "    valErr = RMSE(yVal, yValPred)\n",
    "    yPred = w0 + XTrain.dot(w)\n",
    "    trainErr = RMSE(yTrain, yPred)\n",
    "\n",
    "    print('###############################')\n",
    "    print(f'r={r}, W0={round(w0,8)}, Train error: {round(trainErr,8)}, Validation error={round(valErr,8)}')"
   ]
  },
  {
   "cell_type": "markdown",
   "id": "7c7d1578",
   "metadata": {},
   "source": [
    "### Using the model"
   ]
  },
  {
   "cell_type": "code",
   "execution_count": 38,
   "id": "4829cbcc",
   "metadata": {},
   "outputs": [
    {
     "data": {
      "text/html": [
       "<div>\n",
       "<style scoped>\n",
       "    .dataframe tbody tr th:only-of-type {\n",
       "        vertical-align: middle;\n",
       "    }\n",
       "\n",
       "    .dataframe tbody tr th {\n",
       "        vertical-align: top;\n",
       "    }\n",
       "\n",
       "    .dataframe thead th {\n",
       "        text-align: right;\n",
       "    }\n",
       "</style>\n",
       "<table border=\"1\" class=\"dataframe\">\n",
       "  <thead>\n",
       "    <tr style=\"text-align: right;\">\n",
       "      <th></th>\n",
       "      <th>make</th>\n",
       "      <th>model</th>\n",
       "      <th>year</th>\n",
       "      <th>engine_fuel_type</th>\n",
       "      <th>engine_hp</th>\n",
       "      <th>engine_cylinders</th>\n",
       "      <th>transmission_type</th>\n",
       "      <th>driven_wheels</th>\n",
       "      <th>number_of_doors</th>\n",
       "      <th>market_category</th>\n",
       "      <th>vehicle_size</th>\n",
       "      <th>vehicle_style</th>\n",
       "      <th>highway_mpg</th>\n",
       "      <th>city_mpg</th>\n",
       "      <th>popularity</th>\n",
       "    </tr>\n",
       "  </thead>\n",
       "  <tbody>\n",
       "    <tr>\n",
       "      <th>0</th>\n",
       "      <td>chevrolet</td>\n",
       "      <td>cobalt</td>\n",
       "      <td>2008</td>\n",
       "      <td>regular_unleaded</td>\n",
       "      <td>148.0</td>\n",
       "      <td>4.0</td>\n",
       "      <td>manual</td>\n",
       "      <td>front_wheel_drive</td>\n",
       "      <td>2.0</td>\n",
       "      <td>NaN</td>\n",
       "      <td>compact</td>\n",
       "      <td>coupe</td>\n",
       "      <td>33</td>\n",
       "      <td>24</td>\n",
       "      <td>1385</td>\n",
       "    </tr>\n",
       "    <tr>\n",
       "      <th>1</th>\n",
       "      <td>toyota</td>\n",
       "      <td>matrix</td>\n",
       "      <td>2012</td>\n",
       "      <td>regular_unleaded</td>\n",
       "      <td>132.0</td>\n",
       "      <td>4.0</td>\n",
       "      <td>automatic</td>\n",
       "      <td>front_wheel_drive</td>\n",
       "      <td>4.0</td>\n",
       "      <td>hatchback</td>\n",
       "      <td>compact</td>\n",
       "      <td>4dr_hatchback</td>\n",
       "      <td>32</td>\n",
       "      <td>25</td>\n",
       "      <td>2031</td>\n",
       "    </tr>\n",
       "    <tr>\n",
       "      <th>2</th>\n",
       "      <td>subaru</td>\n",
       "      <td>impreza</td>\n",
       "      <td>2016</td>\n",
       "      <td>regular_unleaded</td>\n",
       "      <td>148.0</td>\n",
       "      <td>4.0</td>\n",
       "      <td>automatic</td>\n",
       "      <td>all_wheel_drive</td>\n",
       "      <td>4.0</td>\n",
       "      <td>hatchback</td>\n",
       "      <td>compact</td>\n",
       "      <td>4dr_hatchback</td>\n",
       "      <td>37</td>\n",
       "      <td>28</td>\n",
       "      <td>640</td>\n",
       "    </tr>\n",
       "    <tr>\n",
       "      <th>3</th>\n",
       "      <td>volkswagen</td>\n",
       "      <td>vanagon</td>\n",
       "      <td>1991</td>\n",
       "      <td>regular_unleaded</td>\n",
       "      <td>90.0</td>\n",
       "      <td>4.0</td>\n",
       "      <td>manual</td>\n",
       "      <td>rear_wheel_drive</td>\n",
       "      <td>3.0</td>\n",
       "      <td>NaN</td>\n",
       "      <td>large</td>\n",
       "      <td>passenger_minivan</td>\n",
       "      <td>18</td>\n",
       "      <td>16</td>\n",
       "      <td>873</td>\n",
       "    </tr>\n",
       "    <tr>\n",
       "      <th>4</th>\n",
       "      <td>ford</td>\n",
       "      <td>f-150</td>\n",
       "      <td>2017</td>\n",
       "      <td>flex-fuel_(unleaded/e85)</td>\n",
       "      <td>385.0</td>\n",
       "      <td>8.0</td>\n",
       "      <td>automatic</td>\n",
       "      <td>four_wheel_drive</td>\n",
       "      <td>4.0</td>\n",
       "      <td>flex_fuel</td>\n",
       "      <td>large</td>\n",
       "      <td>crew_cab_pickup</td>\n",
       "      <td>21</td>\n",
       "      <td>15</td>\n",
       "      <td>5657</td>\n",
       "    </tr>\n",
       "    <tr>\n",
       "      <th>...</th>\n",
       "      <td>...</td>\n",
       "      <td>...</td>\n",
       "      <td>...</td>\n",
       "      <td>...</td>\n",
       "      <td>...</td>\n",
       "      <td>...</td>\n",
       "      <td>...</td>\n",
       "      <td>...</td>\n",
       "      <td>...</td>\n",
       "      <td>...</td>\n",
       "      <td>...</td>\n",
       "      <td>...</td>\n",
       "      <td>...</td>\n",
       "      <td>...</td>\n",
       "      <td>...</td>\n",
       "    </tr>\n",
       "    <tr>\n",
       "      <th>9527</th>\n",
       "      <td>volvo</td>\n",
       "      <td>v60</td>\n",
       "      <td>2015</td>\n",
       "      <td>regular_unleaded</td>\n",
       "      <td>240.0</td>\n",
       "      <td>4.0</td>\n",
       "      <td>automatic</td>\n",
       "      <td>front_wheel_drive</td>\n",
       "      <td>4.0</td>\n",
       "      <td>luxury</td>\n",
       "      <td>midsize</td>\n",
       "      <td>wagon</td>\n",
       "      <td>37</td>\n",
       "      <td>25</td>\n",
       "      <td>870</td>\n",
       "    </tr>\n",
       "    <tr>\n",
       "      <th>9528</th>\n",
       "      <td>maserati</td>\n",
       "      <td>granturismo_convertible</td>\n",
       "      <td>2015</td>\n",
       "      <td>premium_unleaded_(required)</td>\n",
       "      <td>444.0</td>\n",
       "      <td>8.0</td>\n",
       "      <td>automatic</td>\n",
       "      <td>rear_wheel_drive</td>\n",
       "      <td>2.0</td>\n",
       "      <td>exotic,luxury,high-performance</td>\n",
       "      <td>midsize</td>\n",
       "      <td>convertible</td>\n",
       "      <td>20</td>\n",
       "      <td>13</td>\n",
       "      <td>238</td>\n",
       "    </tr>\n",
       "    <tr>\n",
       "      <th>9529</th>\n",
       "      <td>cadillac</td>\n",
       "      <td>escalade_hybrid</td>\n",
       "      <td>2013</td>\n",
       "      <td>regular_unleaded</td>\n",
       "      <td>332.0</td>\n",
       "      <td>8.0</td>\n",
       "      <td>automatic</td>\n",
       "      <td>rear_wheel_drive</td>\n",
       "      <td>4.0</td>\n",
       "      <td>luxury,hybrid</td>\n",
       "      <td>large</td>\n",
       "      <td>4dr_suv</td>\n",
       "      <td>23</td>\n",
       "      <td>20</td>\n",
       "      <td>1624</td>\n",
       "    </tr>\n",
       "    <tr>\n",
       "      <th>9530</th>\n",
       "      <td>mitsubishi</td>\n",
       "      <td>lancer</td>\n",
       "      <td>2016</td>\n",
       "      <td>regular_unleaded</td>\n",
       "      <td>148.0</td>\n",
       "      <td>4.0</td>\n",
       "      <td>manual</td>\n",
       "      <td>front_wheel_drive</td>\n",
       "      <td>4.0</td>\n",
       "      <td>NaN</td>\n",
       "      <td>compact</td>\n",
       "      <td>sedan</td>\n",
       "      <td>34</td>\n",
       "      <td>24</td>\n",
       "      <td>436</td>\n",
       "    </tr>\n",
       "    <tr>\n",
       "      <th>9531</th>\n",
       "      <td>kia</td>\n",
       "      <td>sorento</td>\n",
       "      <td>2015</td>\n",
       "      <td>regular_unleaded</td>\n",
       "      <td>290.0</td>\n",
       "      <td>6.0</td>\n",
       "      <td>automatic</td>\n",
       "      <td>front_wheel_drive</td>\n",
       "      <td>4.0</td>\n",
       "      <td>crossover</td>\n",
       "      <td>midsize</td>\n",
       "      <td>4dr_suv</td>\n",
       "      <td>25</td>\n",
       "      <td>18</td>\n",
       "      <td>1720</td>\n",
       "    </tr>\n",
       "  </tbody>\n",
       "</table>\n",
       "<p>9532 rows × 15 columns</p>\n",
       "</div>"
      ],
      "text/plain": [
       "            make                    model  year             engine_fuel_type  \\\n",
       "0      chevrolet                   cobalt  2008             regular_unleaded   \n",
       "1         toyota                   matrix  2012             regular_unleaded   \n",
       "2         subaru                  impreza  2016             regular_unleaded   \n",
       "3     volkswagen                  vanagon  1991             regular_unleaded   \n",
       "4           ford                    f-150  2017     flex-fuel_(unleaded/e85)   \n",
       "...          ...                      ...   ...                          ...   \n",
       "9527       volvo                      v60  2015             regular_unleaded   \n",
       "9528    maserati  granturismo_convertible  2015  premium_unleaded_(required)   \n",
       "9529    cadillac          escalade_hybrid  2013             regular_unleaded   \n",
       "9530  mitsubishi                   lancer  2016             regular_unleaded   \n",
       "9531         kia                  sorento  2015             regular_unleaded   \n",
       "\n",
       "      engine_hp  engine_cylinders transmission_type      driven_wheels  \\\n",
       "0         148.0               4.0            manual  front_wheel_drive   \n",
       "1         132.0               4.0         automatic  front_wheel_drive   \n",
       "2         148.0               4.0         automatic    all_wheel_drive   \n",
       "3          90.0               4.0            manual   rear_wheel_drive   \n",
       "4         385.0               8.0         automatic   four_wheel_drive   \n",
       "...         ...               ...               ...                ...   \n",
       "9527      240.0               4.0         automatic  front_wheel_drive   \n",
       "9528      444.0               8.0         automatic   rear_wheel_drive   \n",
       "9529      332.0               8.0         automatic   rear_wheel_drive   \n",
       "9530      148.0               4.0            manual  front_wheel_drive   \n",
       "9531      290.0               6.0         automatic  front_wheel_drive   \n",
       "\n",
       "      number_of_doors                 market_category vehicle_size  \\\n",
       "0                 2.0                             NaN      compact   \n",
       "1                 4.0                       hatchback      compact   \n",
       "2                 4.0                       hatchback      compact   \n",
       "3                 3.0                             NaN        large   \n",
       "4                 4.0                       flex_fuel        large   \n",
       "...               ...                             ...          ...   \n",
       "9527              4.0                          luxury      midsize   \n",
       "9528              2.0  exotic,luxury,high-performance      midsize   \n",
       "9529              4.0                   luxury,hybrid        large   \n",
       "9530              4.0                             NaN      compact   \n",
       "9531              4.0                       crossover      midsize   \n",
       "\n",
       "          vehicle_style  highway_mpg  city_mpg  popularity  \n",
       "0                 coupe           33        24        1385  \n",
       "1         4dr_hatchback           32        25        2031  \n",
       "2         4dr_hatchback           37        28         640  \n",
       "3     passenger_minivan           18        16         873  \n",
       "4       crew_cab_pickup           21        15        5657  \n",
       "...                 ...          ...       ...         ...  \n",
       "9527              wagon           37        25         870  \n",
       "9528        convertible           20        13         238  \n",
       "9529            4dr_suv           23        20        1624  \n",
       "9530              sedan           34        24         436  \n",
       "9531            4dr_suv           25        18        1720  \n",
       "\n",
       "[9532 rows x 15 columns]"
      ]
     },
     "execution_count": 38,
     "metadata": {},
     "output_type": "execute_result"
    }
   ],
   "source": [
    "# full train dataset (train + val)\n",
    "\n",
    "dfFull = pd.concat([dfTrain, dfVal]).reset_index(drop=True)\n",
    "dfFull"
   ]
  },
  {
   "cell_type": "code",
   "execution_count": 39,
   "id": "e9f4b0db",
   "metadata": {},
   "outputs": [
    {
     "data": {
      "text/plain": [
       "array([ 9.57574708,  9.887663  ,  9.89323518, ..., 11.21756062,\n",
       "        9.77542688, 10.1924563 ])"
      ]
     },
     "execution_count": 39,
     "metadata": {},
     "output_type": "execute_result"
    }
   ],
   "source": [
    "# Full ys\n",
    "\n",
    "yFull = np.concatenate([yTrain, yVal])\n",
    "yFull"
   ]
  },
  {
   "cell_type": "code",
   "execution_count": 40,
   "id": "aae4876c",
   "metadata": {},
   "outputs": [
    {
     "name": "stdout",
     "output_type": "stream",
     "text": [
      "Model parameters: w0:6.314022625853538 - w:[ 1.52553386e-03  1.18232560e-01 -6.64568689e-03 -5.31969464e-03\n",
      " -4.87602236e-05 -9.68998809e-02 -6.21529450e-01 -7.79057297e-01\n",
      " -8.77169441e-01 -4.14528067e-02  1.75551592e-01 -5.38706568e-04\n",
      " -1.00581806e-01 -9.27472872e-02 -4.66176279e-01  8.05174300e-02\n",
      " -3.15362351e-01 -5.51292342e-01 -7.84547864e-02  1.09275601e+00\n",
      "  9.17458258e-01  1.14698878e+00  2.64965254e+00  5.07142103e-01\n",
      "  1.62732589e+00  1.52807813e+00  1.61531603e+00  1.54331153e+00\n",
      " -9.70363117e-02  3.73309504e-02 -5.81840952e-02 -1.19871447e-02\n",
      " -2.36205368e-02  2.18604754e+00  2.07167340e+00  2.05629994e+00\n",
      " -5.00991813e-02  5.62519559e-02  1.84780006e-01  3.32653127e-01\n",
      " -1.58921282e-01]\n",
      "(41,)\n",
      "\n",
      "Predictions: [ 7.60140233  8.07464908 10.34563811 ... 10.27852782 10.00789261\n",
      " 10.40414162]\n",
      "Train error: 0.4605582354100096, Validation error: 0.4517787581255119\n"
     ]
    }
   ],
   "source": [
    "# Culculation of model and errors for extended full train dataset\n",
    "\n",
    "XFull = PrepareX(dfFull)\n",
    "w0, w = TrainLinearReg(XFull, yFull, r=0.01)\n",
    "\n",
    "XTest = PrepareX(dfTest)\n",
    "yTestPred = w0 + XTest.dot(w)\n",
    "testErr = RMSE(yTest, yTestPred)\n",
    "\n",
    "print(f'Model parameters: w0:{w0} - w:{w}')\n",
    "print(w.shape)\n",
    "yPred = w0 + XTrain.dot(w)\n",
    "trainErr = RMSE(yTrain, yPred)\n",
    "print()\n",
    "print(f'Predictions: {yTest}')\n",
    "print(f'Train error: {trainErr}, Validation error: {testErr}')\n"
   ]
  },
  {
   "cell_type": "code",
   "execution_count": 43,
   "id": "5f64d6bd",
   "metadata": {},
   "outputs": [
    {
     "data": {
      "text/plain": [
       "{'make': 'mercedes-benz',\n",
       " 'model': '560-class',\n",
       " 'year': 1990,\n",
       " 'engine_fuel_type': 'regular_unleaded',\n",
       " 'engine_hp': 238.0,\n",
       " 'engine_cylinders': 8.0,\n",
       " 'transmission_type': 'automatic',\n",
       " 'driven_wheels': 'rear_wheel_drive',\n",
       " 'number_of_doors': 4.0,\n",
       " 'market_category': 'luxury',\n",
       " 'vehicle_size': 'large',\n",
       " 'vehicle_style': 'sedan',\n",
       " 'highway_mpg': 16,\n",
       " 'city_mpg': 12,\n",
       " 'popularity': 617}"
      ]
     },
     "execution_count": 43,
     "metadata": {},
     "output_type": "execute_result"
    }
   ],
   "source": [
    "# Car for test from the test set\n",
    "\n",
    "carNumber = 19\n",
    "testCar = dfTest.iloc[carNumber].to_dict()\n",
    "testCarDF = pd.DataFrame([testCar])\n",
    "testCar"
   ]
  },
  {
   "cell_type": "code",
   "execution_count": 44,
   "id": "3942bb12",
   "metadata": {},
   "outputs": [
    {
     "name": "stdout",
     "output_type": "stream",
     "text": [
      "Predicted test car value: 3973.11\n",
      "Price of the car from the dataset: 2170.0\n",
      "Difference between predicted price and original price: 1803\n"
     ]
    }
   ],
   "source": [
    "# Predict value of the car and compare con original data\n",
    "\n",
    "XtestCar = PrepareX(testCarDF)\n",
    "yTestPred = w0 + XtestCar.dot(w)\n",
    "yTestPred = yTestPred[0]\n",
    "#print(yTestPred)\n",
    "yTestPred = round(np.expm1(yTestPred),2)\n",
    "print(f'Predicted test car value: {yTestPred}')\n",
    "# Price of the car from the dataset\n",
    "testCarPrice = round(np.expm1(yTest[carNumber]),2)\n",
    "print(f'Price of the car from the dataset: {testCarPrice}')\n",
    "print(f'Difference between predicted price and original price: {round(yTestPred - testCarPrice)}')"
   ]
  }
 ],
 "metadata": {
  "kernelspec": {
   "display_name": "Python 3 (ipykernel)",
   "language": "python",
   "name": "python3"
  },
  "language_info": {
   "codemirror_mode": {
    "name": "ipython",
    "version": 3
   },
   "file_extension": ".py",
   "mimetype": "text/x-python",
   "name": "python",
   "nbconvert_exporter": "python",
   "pygments_lexer": "ipython3",
   "version": "3.9.7"
  }
 },
 "nbformat": 4,
 "nbformat_minor": 5
}
