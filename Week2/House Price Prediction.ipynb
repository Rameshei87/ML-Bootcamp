{
 "cells": [
  {
   "cell_type": "code",
   "execution_count": 1,
   "id": "40780242",
   "metadata": {},
   "outputs": [],
   "source": [
    "import pandas as pd\n",
    "import numpy as np\n",
    "from matplotlib import pyplot as pt\n",
    "%matplotlib inline"
   ]
  },
  {
   "cell_type": "code",
   "execution_count": 2,
   "id": "946d7445",
   "metadata": {},
   "outputs": [
    {
     "data": {
      "text/html": [
       "<div>\n",
       "<style scoped>\n",
       "    .dataframe tbody tr th:only-of-type {\n",
       "        vertical-align: middle;\n",
       "    }\n",
       "\n",
       "    .dataframe tbody tr th {\n",
       "        vertical-align: top;\n",
       "    }\n",
       "\n",
       "    .dataframe thead th {\n",
       "        text-align: right;\n",
       "    }\n",
       "</style>\n",
       "<table border=\"1\" class=\"dataframe\">\n",
       "  <thead>\n",
       "    <tr style=\"text-align: right;\">\n",
       "      <th></th>\n",
       "      <th>longitude</th>\n",
       "      <th>latitude</th>\n",
       "      <th>housing_median_age</th>\n",
       "      <th>total_rooms</th>\n",
       "      <th>total_bedrooms</th>\n",
       "      <th>population</th>\n",
       "      <th>households</th>\n",
       "      <th>median_income</th>\n",
       "      <th>median_house_value</th>\n",
       "      <th>ocean_proximity</th>\n",
       "    </tr>\n",
       "  </thead>\n",
       "  <tbody>\n",
       "    <tr>\n",
       "      <th>0</th>\n",
       "      <td>-122.23</td>\n",
       "      <td>37.88</td>\n",
       "      <td>41.0</td>\n",
       "      <td>880.0</td>\n",
       "      <td>129.0</td>\n",
       "      <td>322.0</td>\n",
       "      <td>126.0</td>\n",
       "      <td>8.3252</td>\n",
       "      <td>452600.0</td>\n",
       "      <td>NEAR BAY</td>\n",
       "    </tr>\n",
       "    <tr>\n",
       "      <th>1</th>\n",
       "      <td>-122.22</td>\n",
       "      <td>37.86</td>\n",
       "      <td>21.0</td>\n",
       "      <td>7099.0</td>\n",
       "      <td>1106.0</td>\n",
       "      <td>2401.0</td>\n",
       "      <td>1138.0</td>\n",
       "      <td>8.3014</td>\n",
       "      <td>358500.0</td>\n",
       "      <td>NEAR BAY</td>\n",
       "    </tr>\n",
       "    <tr>\n",
       "      <th>2</th>\n",
       "      <td>-122.24</td>\n",
       "      <td>37.85</td>\n",
       "      <td>52.0</td>\n",
       "      <td>1467.0</td>\n",
       "      <td>190.0</td>\n",
       "      <td>496.0</td>\n",
       "      <td>177.0</td>\n",
       "      <td>7.2574</td>\n",
       "      <td>352100.0</td>\n",
       "      <td>NEAR BAY</td>\n",
       "    </tr>\n",
       "    <tr>\n",
       "      <th>3</th>\n",
       "      <td>-122.25</td>\n",
       "      <td>37.85</td>\n",
       "      <td>52.0</td>\n",
       "      <td>1274.0</td>\n",
       "      <td>235.0</td>\n",
       "      <td>558.0</td>\n",
       "      <td>219.0</td>\n",
       "      <td>5.6431</td>\n",
       "      <td>341300.0</td>\n",
       "      <td>NEAR BAY</td>\n",
       "    </tr>\n",
       "    <tr>\n",
       "      <th>4</th>\n",
       "      <td>-122.25</td>\n",
       "      <td>37.85</td>\n",
       "      <td>52.0</td>\n",
       "      <td>1627.0</td>\n",
       "      <td>280.0</td>\n",
       "      <td>565.0</td>\n",
       "      <td>259.0</td>\n",
       "      <td>3.8462</td>\n",
       "      <td>342200.0</td>\n",
       "      <td>NEAR BAY</td>\n",
       "    </tr>\n",
       "  </tbody>\n",
       "</table>\n",
       "</div>"
      ],
      "text/plain": [
       "   longitude  latitude  housing_median_age  total_rooms  total_bedrooms  \\\n",
       "0    -122.23     37.88                41.0        880.0           129.0   \n",
       "1    -122.22     37.86                21.0       7099.0          1106.0   \n",
       "2    -122.24     37.85                52.0       1467.0           190.0   \n",
       "3    -122.25     37.85                52.0       1274.0           235.0   \n",
       "4    -122.25     37.85                52.0       1627.0           280.0   \n",
       "\n",
       "   population  households  median_income  median_house_value ocean_proximity  \n",
       "0       322.0       126.0         8.3252            452600.0        NEAR BAY  \n",
       "1      2401.0      1138.0         8.3014            358500.0        NEAR BAY  \n",
       "2       496.0       177.0         7.2574            352100.0        NEAR BAY  \n",
       "3       558.0       219.0         5.6431            341300.0        NEAR BAY  \n",
       "4       565.0       259.0         3.8462            342200.0        NEAR BAY  "
      ]
     },
     "execution_count": 2,
     "metadata": {},
     "output_type": "execute_result"
    }
   ],
   "source": [
    "df = pd.read_csv('housing.csv')\n",
    "target = 'median_house_value'\n",
    "df.head()"
   ]
  },
  {
   "cell_type": "code",
   "execution_count": 3,
   "id": "8610759b",
   "metadata": {},
   "outputs": [
    {
     "data": {
      "text/html": [
       "<div>\n",
       "<style scoped>\n",
       "    .dataframe tbody tr th:only-of-type {\n",
       "        vertical-align: middle;\n",
       "    }\n",
       "\n",
       "    .dataframe tbody tr th {\n",
       "        vertical-align: top;\n",
       "    }\n",
       "\n",
       "    .dataframe thead th {\n",
       "        text-align: right;\n",
       "    }\n",
       "</style>\n",
       "<table border=\"1\" class=\"dataframe\">\n",
       "  <thead>\n",
       "    <tr style=\"text-align: right;\">\n",
       "      <th></th>\n",
       "      <th>longitude</th>\n",
       "      <th>latitude</th>\n",
       "      <th>housing_median_age</th>\n",
       "      <th>total_rooms</th>\n",
       "      <th>total_bedrooms</th>\n",
       "      <th>population</th>\n",
       "      <th>households</th>\n",
       "      <th>median_income</th>\n",
       "      <th>median_house_value</th>\n",
       "    </tr>\n",
       "  </thead>\n",
       "  <tbody>\n",
       "    <tr>\n",
       "      <th>count</th>\n",
       "      <td>20640.000000</td>\n",
       "      <td>20640.000000</td>\n",
       "      <td>20640.000000</td>\n",
       "      <td>20640.000000</td>\n",
       "      <td>20433.000000</td>\n",
       "      <td>20640.000000</td>\n",
       "      <td>20640.000000</td>\n",
       "      <td>20640.000000</td>\n",
       "      <td>20640.000000</td>\n",
       "    </tr>\n",
       "    <tr>\n",
       "      <th>mean</th>\n",
       "      <td>-119.569704</td>\n",
       "      <td>35.631861</td>\n",
       "      <td>28.639486</td>\n",
       "      <td>2635.763081</td>\n",
       "      <td>537.870553</td>\n",
       "      <td>1425.476744</td>\n",
       "      <td>499.539680</td>\n",
       "      <td>3.870671</td>\n",
       "      <td>206855.816909</td>\n",
       "    </tr>\n",
       "    <tr>\n",
       "      <th>std</th>\n",
       "      <td>2.003532</td>\n",
       "      <td>2.135952</td>\n",
       "      <td>12.585558</td>\n",
       "      <td>2181.615252</td>\n",
       "      <td>421.385070</td>\n",
       "      <td>1132.462122</td>\n",
       "      <td>382.329753</td>\n",
       "      <td>1.899822</td>\n",
       "      <td>115395.615874</td>\n",
       "    </tr>\n",
       "    <tr>\n",
       "      <th>min</th>\n",
       "      <td>-124.350000</td>\n",
       "      <td>32.540000</td>\n",
       "      <td>1.000000</td>\n",
       "      <td>2.000000</td>\n",
       "      <td>1.000000</td>\n",
       "      <td>3.000000</td>\n",
       "      <td>1.000000</td>\n",
       "      <td>0.499900</td>\n",
       "      <td>14999.000000</td>\n",
       "    </tr>\n",
       "    <tr>\n",
       "      <th>25%</th>\n",
       "      <td>-121.800000</td>\n",
       "      <td>33.930000</td>\n",
       "      <td>18.000000</td>\n",
       "      <td>1447.750000</td>\n",
       "      <td>296.000000</td>\n",
       "      <td>787.000000</td>\n",
       "      <td>280.000000</td>\n",
       "      <td>2.563400</td>\n",
       "      <td>119600.000000</td>\n",
       "    </tr>\n",
       "    <tr>\n",
       "      <th>50%</th>\n",
       "      <td>-118.490000</td>\n",
       "      <td>34.260000</td>\n",
       "      <td>29.000000</td>\n",
       "      <td>2127.000000</td>\n",
       "      <td>435.000000</td>\n",
       "      <td>1166.000000</td>\n",
       "      <td>409.000000</td>\n",
       "      <td>3.534800</td>\n",
       "      <td>179700.000000</td>\n",
       "    </tr>\n",
       "    <tr>\n",
       "      <th>75%</th>\n",
       "      <td>-118.010000</td>\n",
       "      <td>37.710000</td>\n",
       "      <td>37.000000</td>\n",
       "      <td>3148.000000</td>\n",
       "      <td>647.000000</td>\n",
       "      <td>1725.000000</td>\n",
       "      <td>605.000000</td>\n",
       "      <td>4.743250</td>\n",
       "      <td>264725.000000</td>\n",
       "    </tr>\n",
       "    <tr>\n",
       "      <th>max</th>\n",
       "      <td>-114.310000</td>\n",
       "      <td>41.950000</td>\n",
       "      <td>52.000000</td>\n",
       "      <td>39320.000000</td>\n",
       "      <td>6445.000000</td>\n",
       "      <td>35682.000000</td>\n",
       "      <td>6082.000000</td>\n",
       "      <td>15.000100</td>\n",
       "      <td>500001.000000</td>\n",
       "    </tr>\n",
       "  </tbody>\n",
       "</table>\n",
       "</div>"
      ],
      "text/plain": [
       "          longitude      latitude  housing_median_age   total_rooms  \\\n",
       "count  20640.000000  20640.000000        20640.000000  20640.000000   \n",
       "mean    -119.569704     35.631861           28.639486   2635.763081   \n",
       "std        2.003532      2.135952           12.585558   2181.615252   \n",
       "min     -124.350000     32.540000            1.000000      2.000000   \n",
       "25%     -121.800000     33.930000           18.000000   1447.750000   \n",
       "50%     -118.490000     34.260000           29.000000   2127.000000   \n",
       "75%     -118.010000     37.710000           37.000000   3148.000000   \n",
       "max     -114.310000     41.950000           52.000000  39320.000000   \n",
       "\n",
       "       total_bedrooms    population    households  median_income  \\\n",
       "count    20433.000000  20640.000000  20640.000000   20640.000000   \n",
       "mean       537.870553   1425.476744    499.539680       3.870671   \n",
       "std        421.385070   1132.462122    382.329753       1.899822   \n",
       "min          1.000000      3.000000      1.000000       0.499900   \n",
       "25%        296.000000    787.000000    280.000000       2.563400   \n",
       "50%        435.000000   1166.000000    409.000000       3.534800   \n",
       "75%        647.000000   1725.000000    605.000000       4.743250   \n",
       "max       6445.000000  35682.000000   6082.000000      15.000100   \n",
       "\n",
       "       median_house_value  \n",
       "count        20640.000000  \n",
       "mean        206855.816909  \n",
       "std         115395.615874  \n",
       "min          14999.000000  \n",
       "25%         119600.000000  \n",
       "50%         179700.000000  \n",
       "75%         264725.000000  \n",
       "max         500001.000000  "
      ]
     },
     "execution_count": 3,
     "metadata": {},
     "output_type": "execute_result"
    }
   ],
   "source": [
    "df.describe()"
   ]
  },
  {
   "cell_type": "code",
   "execution_count": 4,
   "id": "85fc44ed",
   "metadata": {},
   "outputs": [
    {
     "name": "stdout",
     "output_type": "stream",
     "text": [
      "<class 'pandas.core.frame.DataFrame'>\n",
      "RangeIndex: 20640 entries, 0 to 20639\n",
      "Data columns (total 10 columns):\n",
      " #   Column              Non-Null Count  Dtype  \n",
      "---  ------              --------------  -----  \n",
      " 0   longitude           20640 non-null  float64\n",
      " 1   latitude            20640 non-null  float64\n",
      " 2   housing_median_age  20640 non-null  float64\n",
      " 3   total_rooms         20640 non-null  float64\n",
      " 4   total_bedrooms      20433 non-null  float64\n",
      " 5   population          20640 non-null  float64\n",
      " 6   households          20640 non-null  float64\n",
      " 7   median_income       20640 non-null  float64\n",
      " 8   median_house_value  20640 non-null  float64\n",
      " 9   ocean_proximity     20640 non-null  object \n",
      "dtypes: float64(9), object(1)\n",
      "memory usage: 1.6+ MB\n"
     ]
    }
   ],
   "source": [
    "df.info()"
   ]
  },
  {
   "cell_type": "code",
   "execution_count": 5,
   "id": "3e3f19af",
   "metadata": {},
   "outputs": [
    {
     "name": "stdout",
     "output_type": "stream",
     "text": [
      "Median house value seems not to have a long tail, probably medium\n"
     ]
    },
    {
     "data": {
      "image/png": "[encoded data removed]",
      "text/plain": [
       "<Figure size 432x288 with 1 Axes>"
      ]
     },
     "metadata": {
      "needs_background": "light"
     },
     "output_type": "display_data"
    }
   ],
   "source": [
    "_ = df.median_house_value.hist(bins=50)\n",
    "print('Median house value seems not to have a long tail, probably medium')"
   ]
  },
  {
   "cell_type": "code",
   "execution_count": 6,
   "id": "fb32a271",
   "metadata": {},
   "outputs": [
    {
     "name": "stdout",
     "output_type": "stream",
     "text": [
      "Logarithmic value of the target variable seems less skewed\n"
     ]
    },
    {
     "data": {
      "image/png": "[encoded data removed]",
      "text/plain": [
       "<Figure size 432x288 with 1 Axes>"
      ]
     },
     "metadata": {
      "needs_background": "light"
     },
     "output_type": "display_data"
    }
   ],
   "source": [
    "_ = np.log1p(df.median_house_value).hist(bins=50)\n",
    "print('Logarithmic value of the target variable seems less skewed')"
   ]
  },
  {
   "cell_type": "markdown",
   "id": "8a8b1296",
   "metadata": {},
   "source": [
    "#### Select numerical values only"
   ]
  },
  {
   "cell_type": "code",
   "execution_count": 7,
   "id": "c30a2fa3",
   "metadata": {},
   "outputs": [
    {
     "data": {
      "text/html": [
       "<div>\n",
       "<style scoped>\n",
       "    .dataframe tbody tr th:only-of-type {\n",
       "        vertical-align: middle;\n",
       "    }\n",
       "\n",
       "    .dataframe tbody tr th {\n",
       "        vertical-align: top;\n",
       "    }\n",
       "\n",
       "    .dataframe thead th {\n",
       "        text-align: right;\n",
       "    }\n",
       "</style>\n",
       "<table border=\"1\" class=\"dataframe\">\n",
       "  <thead>\n",
       "    <tr style=\"text-align: right;\">\n",
       "      <th></th>\n",
       "      <th>longitude</th>\n",
       "      <th>latitude</th>\n",
       "      <th>housing_median_age</th>\n",
       "      <th>total_rooms</th>\n",
       "      <th>total_bedrooms</th>\n",
       "      <th>population</th>\n",
       "      <th>households</th>\n",
       "      <th>median_income</th>\n",
       "      <th>median_house_value</th>\n",
       "    </tr>\n",
       "  </thead>\n",
       "  <tbody>\n",
       "    <tr>\n",
       "      <th>0</th>\n",
       "      <td>-122.23</td>\n",
       "      <td>37.88</td>\n",
       "      <td>41.0</td>\n",
       "      <td>880.0</td>\n",
       "      <td>129.0</td>\n",
       "      <td>322.0</td>\n",
       "      <td>126.0</td>\n",
       "      <td>8.3252</td>\n",
       "      <td>452600.0</td>\n",
       "    </tr>\n",
       "    <tr>\n",
       "      <th>1</th>\n",
       "      <td>-122.22</td>\n",
       "      <td>37.86</td>\n",
       "      <td>21.0</td>\n",
       "      <td>7099.0</td>\n",
       "      <td>1106.0</td>\n",
       "      <td>2401.0</td>\n",
       "      <td>1138.0</td>\n",
       "      <td>8.3014</td>\n",
       "      <td>358500.0</td>\n",
       "    </tr>\n",
       "    <tr>\n",
       "      <th>2</th>\n",
       "      <td>-122.24</td>\n",
       "      <td>37.85</td>\n",
       "      <td>52.0</td>\n",
       "      <td>1467.0</td>\n",
       "      <td>190.0</td>\n",
       "      <td>496.0</td>\n",
       "      <td>177.0</td>\n",
       "      <td>7.2574</td>\n",
       "      <td>352100.0</td>\n",
       "    </tr>\n",
       "    <tr>\n",
       "      <th>3</th>\n",
       "      <td>-122.25</td>\n",
       "      <td>37.85</td>\n",
       "      <td>52.0</td>\n",
       "      <td>1274.0</td>\n",
       "      <td>235.0</td>\n",
       "      <td>558.0</td>\n",
       "      <td>219.0</td>\n",
       "      <td>5.6431</td>\n",
       "      <td>341300.0</td>\n",
       "    </tr>\n",
       "    <tr>\n",
       "      <th>4</th>\n",
       "      <td>-122.25</td>\n",
       "      <td>37.85</td>\n",
       "      <td>52.0</td>\n",
       "      <td>1627.0</td>\n",
       "      <td>280.0</td>\n",
       "      <td>565.0</td>\n",
       "      <td>259.0</td>\n",
       "      <td>3.8462</td>\n",
       "      <td>342200.0</td>\n",
       "    </tr>\n",
       "    <tr>\n",
       "      <th>...</th>\n",
       "      <td>...</td>\n",
       "      <td>...</td>\n",
       "      <td>...</td>\n",
       "      <td>...</td>\n",
       "      <td>...</td>\n",
       "      <td>...</td>\n",
       "      <td>...</td>\n",
       "      <td>...</td>\n",
       "      <td>...</td>\n",
       "    </tr>\n",
       "    <tr>\n",
       "      <th>20635</th>\n",
       "      <td>-121.09</td>\n",
       "      <td>39.48</td>\n",
       "      <td>25.0</td>\n",
       "      <td>1665.0</td>\n",
       "      <td>374.0</td>\n",
       "      <td>845.0</td>\n",
       "      <td>330.0</td>\n",
       "      <td>1.5603</td>\n",
       "      <td>78100.0</td>\n",
       "    </tr>\n",
       "    <tr>\n",
       "      <th>20636</th>\n",
       "      <td>-121.21</td>\n",
       "      <td>39.49</td>\n",
       "      <td>18.0</td>\n",
       "      <td>697.0</td>\n",
       "      <td>150.0</td>\n",
       "      <td>356.0</td>\n",
       "      <td>114.0</td>\n",
       "      <td>2.5568</td>\n",
       "      <td>77100.0</td>\n",
       "    </tr>\n",
       "    <tr>\n",
       "      <th>20637</th>\n",
       "      <td>-121.22</td>\n",
       "      <td>39.43</td>\n",
       "      <td>17.0</td>\n",
       "      <td>2254.0</td>\n",
       "      <td>485.0</td>\n",
       "      <td>1007.0</td>\n",
       "      <td>433.0</td>\n",
       "      <td>1.7000</td>\n",
       "      <td>92300.0</td>\n",
       "    </tr>\n",
       "    <tr>\n",
       "      <th>20638</th>\n",
       "      <td>-121.32</td>\n",
       "      <td>39.43</td>\n",
       "      <td>18.0</td>\n",
       "      <td>1860.0</td>\n",
       "      <td>409.0</td>\n",
       "      <td>741.0</td>\n",
       "      <td>349.0</td>\n",
       "      <td>1.8672</td>\n",
       "      <td>84700.0</td>\n",
       "    </tr>\n",
       "    <tr>\n",
       "      <th>20639</th>\n",
       "      <td>-121.24</td>\n",
       "      <td>39.37</td>\n",
       "      <td>16.0</td>\n",
       "      <td>2785.0</td>\n",
       "      <td>616.0</td>\n",
       "      <td>1387.0</td>\n",
       "      <td>530.0</td>\n",
       "      <td>2.3886</td>\n",
       "      <td>89400.0</td>\n",
       "    </tr>\n",
       "  </tbody>\n",
       "</table>\n",
       "<p>20640 rows × 9 columns</p>\n",
       "</div>"
      ],
      "text/plain": [
       "       longitude  latitude  housing_median_age  total_rooms  total_bedrooms  \\\n",
       "0        -122.23     37.88                41.0        880.0           129.0   \n",
       "1        -122.22     37.86                21.0       7099.0          1106.0   \n",
       "2        -122.24     37.85                52.0       1467.0           190.0   \n",
       "3        -122.25     37.85                52.0       1274.0           235.0   \n",
       "4        -122.25     37.85                52.0       1627.0           280.0   \n",
       "...          ...       ...                 ...          ...             ...   \n",
       "20635    -121.09     39.48                25.0       1665.0           374.0   \n",
       "20636    -121.21     39.49                18.0        697.0           150.0   \n",
       "20637    -121.22     39.43                17.0       2254.0           485.0   \n",
       "20638    -121.32     39.43                18.0       1860.0           409.0   \n",
       "20639    -121.24     39.37                16.0       2785.0           616.0   \n",
       "\n",
       "       population  households  median_income  median_house_value  \n",
       "0           322.0       126.0         8.3252            452600.0  \n",
       "1          2401.0      1138.0         8.3014            358500.0  \n",
       "2           496.0       177.0         7.2574            352100.0  \n",
       "3           558.0       219.0         5.6431            341300.0  \n",
       "4           565.0       259.0         3.8462            342200.0  \n",
       "...           ...         ...            ...                 ...  \n",
       "20635       845.0       330.0         1.5603             78100.0  \n",
       "20636       356.0       114.0         2.5568             77100.0  \n",
       "20637      1007.0       433.0         1.7000             92300.0  \n",
       "20638       741.0       349.0         1.8672             84700.0  \n",
       "20639      1387.0       530.0         2.3886             89400.0  \n",
       "\n",
       "[20640 rows x 9 columns]"
      ]
     },
     "execution_count": 7,
     "metadata": {},
     "output_type": "execute_result"
    }
   ],
   "source": [
    "dfNum = df.select_dtypes('float64')\n",
    "dfNum"
   ]
  },
  {
   "cell_type": "markdown",
   "id": "8704ca20",
   "metadata": {},
   "source": [
    "####  Missing values"
   ]
  },
  {
   "cell_type": "code",
   "execution_count": 8,
   "id": "43bdd271",
   "metadata": {},
   "outputs": [
    {
     "data": {
      "text/plain": [
       "longitude               0\n",
       "latitude                0\n",
       "housing_median_age      0\n",
       "total_rooms             0\n",
       "total_bedrooms        207\n",
       "population              0\n",
       "households              0\n",
       "median_income           0\n",
       "median_house_value      0\n",
       "dtype: int64"
      ]
     },
     "execution_count": 8,
     "metadata": {},
     "output_type": "execute_result"
    }
   ],
   "source": [
    "dfNum.isnull().sum()"
   ]
  },
  {
   "cell_type": "markdown",
   "id": "523de1da",
   "metadata": {},
   "source": [
    "#### Median (50% percentile) for Population"
   ]
  },
  {
   "cell_type": "code",
   "execution_count": 9,
   "id": "b96a84b7",
   "metadata": {},
   "outputs": [
    {
     "name": "stdout",
     "output_type": "stream",
     "text": [
      "Population median: 1166.0\n",
      "Population median: 1166.0\n"
     ]
    }
   ],
   "source": [
    "print('Population median:', dfNum.population.median())\n",
    "# Another way\n",
    "print('Population median:', df.describe().population.loc['50%'])"
   ]
  },
  {
   "cell_type": "code",
   "execution_count": 10,
   "id": "cefda1bc",
   "metadata": {},
   "outputs": [],
   "source": [
    "\n",
    "class LinearRegression():\n",
    "    \n",
    "    def __init__(self, df, seed):\n",
    "        self.df = df\n",
    "        self.seed = seed\n",
    "    \n",
    "    # Split dataset in Train, Validation and Test  \n",
    "    \n",
    "    def splitData(self, pTrain=0.6, pVal=0.2, pTest=0.2):\n",
    "        \n",
    "        self.pTrain, self.pVal, self.pTest = pTrain, pVal, pTest\n",
    "        np.random.seed(self.seed)\n",
    "        \n",
    "        assert self.pTrain + self.pVal + self.pTest == 1, 'Invalid split values, they should total = 1'\n",
    "        \n",
    "        newdf = self.df.copy()\n",
    "        n = len(newdf)\n",
    "        self.idx = np.arange(n)\n",
    "        np.random.shuffle(self.idx)\n",
    "        self.nTest = int(self.pTest * n)\n",
    "        self.nVal = int(self.pVal * n)\n",
    "        self.nTrain = n - self.nTest - self.nVal\n",
    "        \n",
    "        self.dfTrain = self.df.iloc[self.idx[:self.nTrain]]\n",
    "        self.dfTrain.reset_index(drop=True, inplace=True)\n",
    "        self.dfVal = self.df.iloc[self.idx[self.nTrain:self.nTrain+self.nVal]]\n",
    "        self.dfVal.reset_index(drop=True, inplace=True)\n",
    "        self.dfTest = self.df.iloc[self.idx[self.nTrain+self.nVal:]]\n",
    "        self.dfTest.reset_index(drop=True, inplace=True)\n",
    "    \n",
    "        self.yTrain = np.log1p(self.dfTrain[target].values)\n",
    "        self.yVal = np.log1p(self.dfVal[target].values)\n",
    "        self.yTest = np.log1p(self.dfTest[target].values)\n",
    "        \n",
    "            del self.dfTrain[target]\n",
    "            del self.dfVal[target]\n",
    "            del self.dfTest[target]\n",
    "            \n",
    "    \n",
    "    # 3. Fill NAs\n",
    "    \n",
    "    def prepareX(self, cols, how2fill = 'zero'):\n",
    "        \n",
    "        self.how2fill = how2fill\n",
    "        dfTrain_Temp = self.dfTrain.copy()\n",
    "        dfVal_Temp = self.dfVal.copy()\n",
    "        dfTest_Temp = self.dfTest.copy()\n",
    "        \n",
    "        values = {col:self.dfTrain[col].mean() if how2fill == 'mean' else 0 for col in cols}\n",
    "        \n",
    "        dfTrain_Temp.fillna(values, inplace=True)\n",
    "        self.XTrain = dfTrain_Temp.values\n",
    "        \n",
    "        dfVal_Temp.fillna(values, inplace=True)\n",
    "        self.XVal = dfVal_Temp.values\n",
    "        \n",
    "        dfTest_Temp.fillna(values, inplace=True)\n",
    "        self.XTest = dfTest_Temp.values\n",
    "        \n",
    "    \n",
    "    # New model function including regularization\n",
    "    \n",
    "    def train(self, r=1e-3, full=False):\n",
    "        self.r = r\n",
    "           \n",
    "        ones = np.ones(self.XTrain.shape[0])\n",
    "        _XTrainNew = np.column_stack([ones, self.XTrain])\n",
    "        _XTX = _XTrainNew.T.dot(_XTrainNew)\n",
    "        \n",
    "        # Regularization\n",
    "        _XTX = _XTX + self.r * np.eye(_XTX.shape[0])\n",
    "        \n",
    "        _XTXInv = np.linalg.inv(_XTX)\n",
    "        self._w = _XTXInv.dot(_XTrainNew.T).dot(self.yTrain)\n",
    "        self.w0 = self._w[0]\n",
    "        self.w = self._w[1:]        \n",
    "        \n",
    "        self.yPred = self.w0 + self.XTrain.dot(self.w)\n",
    "        \n",
    "        self.yValPred = self.w0 + self.XVal.dot(self.w)\n",
    "        \n",
    "        self.yTestPred = self.w0 + self.XTest.dot(self.w)\n",
    "        #print(self.yPred)\n",
    "    \n",
    "    \n",
    "    # Function to calculate the rmse error   \n",
    "    \n",
    "    def rmse(self):\n",
    "\n",
    "        trainErr = (self.yTrain - self.yPred)**2\n",
    "        self.trainMSE = round(np.sqrt(trainErr.mean()),2)\n",
    "        if self.pVal != 0:\n",
    "            valErr = (self.yVal - self.yValPred)**2\n",
    "            self.valMSE = round(np.sqrt(valErr.mean()),2)\n",
    "        else:\n",
    "            self.valMSE = np.nan\n",
    "        if self.pTest != 0:\n",
    "            testErr = (self.yTest - self.yTestPred)**2\n",
    "            self.testMSE = round(np.sqrt(testErr.mean()),2)\n",
    "        else:\n",
    "            self.testMSE = np.nan"
   ]
  },
  {
   "cell_type": "code",
   "execution_count": 11,
   "id": "79042846",
   "metadata": {},
   "outputs": [],
   "source": [
    "# Initializing some variables\n",
    "file = 'housing.csv'\n",
    "seed = 42"
   ]
  },
  {
   "cell_type": "code",
   "execution_count": 12,
   "id": "a10f617d",
   "metadata": {},
   "outputs": [],
   "source": [
    "#Creating model\n",
    "model = LinearRegression(dfNum, seed)"
   ]
  },
  {
   "cell_type": "code",
   "execution_count": 13,
   "id": "710a5834",
   "metadata": {},
   "outputs": [],
   "source": [
    "# Spliting data\n",
    "model.splitData()"
   ]
  },
  {
   "cell_type": "markdown",
   "id": "d2b8d06a",
   "metadata": {},
   "source": [
    "#### Errors for both models with fillna = Zero and Mean are equally good for Validation and Train datasets"
   ]
  },
  {
   "cell_type": "code",
   "execution_count": 14,
   "id": "93df3609",
   "metadata": {},
   "outputs": [
    {
     "name": "stdout",
     "output_type": "stream",
     "text": [
      "Error with fillna = zero\n",
      "- Train error: 0.34  - Validation error: 0.33  - Test error: 0.35\n"
     ]
    }
   ],
   "source": [
    "model.prepareX(cols = ['total_bedrooms'], how2fill = 'zero')\n",
    "model.train(r=0)\n",
    "print(f'Error with fillna = {model.how2fill}')\n",
    "model.rmse()\n",
    "print(f'- Train error: {model.trainMSE}  - Validation error: {model.valMSE}  - Test error: {model.testMSE}')        "
   ]
  },
  {
   "cell_type": "code",
   "execution_count": 15,
   "id": "83083913",
   "metadata": {},
   "outputs": [
    {
     "name": "stdout",
     "output_type": "stream",
     "text": [
      "Error with fillna = mean\n",
      "- Train error: 0.34 - Validation error: 0.33  - Test error: 0.35\n"
     ]
    }
   ],
   "source": [
    "model.prepareX(cols = ['total_bedrooms'], how2fill = 'mean')\n",
    "model.train(r=0)\n",
    "print(f'Error with fillna = {model.how2fill}' )\n",
    "model.rmse()\n",
    "print(f'- Train error: {model.trainMSE} - Validation error: {model.valMSE}  - Test error: {model.testMSE}')        "
   ]
  },
  {
   "cell_type": "markdown",
   "id": "f8c6b995",
   "metadata": {},
   "source": [
    "#### Best RMSE for r in  [0, 0.000001, 0.0001, 0.001, 0.01, 0.1, 1, 5, 10]"
   ]
  },
  {
   "cell_type": "code",
   "execution_count": 16,
   "id": "4a3b1f4e",
   "metadata": {},
   "outputs": [
    {
     "name": "stdout",
     "output_type": "stream",
     "text": [
      "Error with fillna = zero and r = 0\n",
      "- Train error: 0.34 - Validation error: 0.33  - Test error: 0.35\n",
      "\n",
      "Error with fillna = zero and r = 1e-06\n",
      "- Train error: 0.34 - Validation error: 0.33  - Test error: 0.35\n",
      "\n",
      "Error with fillna = zero and r = 0.0001\n",
      "- Train error: 0.34 - Validation error: 0.33  - Test error: 0.35\n",
      "\n",
      "Error with fillna = zero and r = 0.001\n",
      "- Train error: 0.34 - Validation error: 0.33  - Test error: 0.35\n",
      "\n",
      "Error with fillna = zero and r = 0.01\n",
      "- Train error: 0.34 - Validation error: 0.33  - Test error: 0.35\n",
      "\n",
      "Error with fillna = zero and r = 0.1\n",
      "- Train error: 0.34 - Validation error: 0.33  - Test error: 0.35\n",
      "\n",
      "Error with fillna = zero and r = 1\n",
      "- Train error: 0.35 - Validation error: 0.33  - Test error: 0.36\n",
      "\n",
      "Error with fillna = zero and r = 5\n",
      "- Train error: 0.35 - Validation error: 0.34  - Test error: 0.36\n",
      "\n",
      "Error with fillna = zero and r = 10\n",
      "- Train error: 0.35 - Validation error: 0.34  - Test error: 0.36\n",
      "\n"
     ]
    }
   ],
   "source": [
    "model.prepareX(cols = ['total_bedrooms'], how2fill = 'zero')\n",
    "Rs = [0, 0.000001, 0.0001, 0.001, 0.01, 0.1, 1, 5, 10]\n",
    "for r in Rs:\n",
    "    model.train(r)\n",
    "    print(f'Error with fillna = {model.how2fill} and r = {r}')\n",
    "    model.rmse()\n",
    "    print(f'- Train error: {model.trainMSE} - Validation error: {model.valMSE}  - Test error: {model.testMSE}')        \n",
    "    print()"
   ]
  },
  {
   "cell_type": "markdown",
   "id": "627f50c2",
   "metadata": {},
   "source": [
    "#### Testing model on different seeds"
   ]
  },
  {
   "cell_type": "code",
   "execution_count": 17,
   "id": "a9f34033",
   "metadata": {},
   "outputs": [
    {
     "name": "stdout",
     "output_type": "stream",
     "text": [
      "Seed=0 - Train error: 0.34 - Validation error: 0.34 - Test error: 0.34\n",
      "Seed=1 - Train error: 0.34 - Validation error: 0.34 - Test error: 0.34\n",
      "Seed=2 - Train error: 0.34 - Validation error: 0.33 - Test error: 0.35\n",
      "Seed=3 - Train error: 0.34 - Validation error: 0.34 - Test error: 0.34\n",
      "Seed=4 - Train error: 0.34 - Validation error: 0.34 - Test error: 0.34\n",
      "Seed=5 - Train error: 0.34 - Validation error: 0.34 - Test error: 0.34\n",
      "Seed=6 - Train error: 0.34 - Validation error: 0.35 - Test error: 0.34\n",
      "Seed=7 - Train error: 0.34 - Validation error: 0.34 - Test error: 0.35\n",
      "Seed=8 - Train error: 0.34 - Validation error: 0.35 - Test error: 0.35\n",
      "Seed=9 - Train error: 0.34 - Validation error: 0.34 - Test error: 0.35\n",
      "\n",
      "Standard deviation of the errors (for different seeds): 0.005\n"
     ]
    }
   ],
   "source": [
    "seeds = [0, 1, 2, 3, 4, 5, 6, 7, 8, 9]\n",
    "errors = []\n",
    "\n",
    "for seed in seeds:\n",
    "    #Creating model\n",
    "    model = LinearRegression(dfNum, seed)\n",
    "    # Spliting data\n",
    "    model.splitData(pTrain=0.6, pVal=.2, pTest=0.2)\n",
    "    \n",
    "    model.prepareX(cols = ['total_bedrooms'], how2fill = 'zero')\n",
    "    model.train(r=0)\n",
    "    model.rmse()\n",
    "    errors.append(model.valMSE)\n",
    "    print(f'Seed={seed} - Train error: {model.trainMSE} - Validation error: {model.valMSE} - Test error: {model.testMSE}')        \n",
    "\n",
    "errstd = round(np.std(errors),3)    \n",
    "print()\n",
    "print(f'Standard deviation of the errors (for different seeds): {errstd}')"
   ]
  },
  {
   "cell_type": "markdown",
   "id": "ee4aaf35",
   "metadata": {},
   "source": [
    "#### RMSE on test with trainin on Train + Validation"
   ]
  },
  {
   "cell_type": "code",
   "execution_count": 18,
   "id": "826abd19",
   "metadata": {},
   "outputs": [
    {
     "name": "stdout",
     "output_type": "stream",
     "text": [
      "Training on full dataset <Train + Validation>:\n",
      "Seed=9 - Train error: 0.34 - Validation error: nan - Test error: 0.35\n"
     ]
    }
   ],
   "source": [
    "seed = 9\n",
    "#Creating model\n",
    "model = LinearRegression(dfNum, seed)\n",
    "# Spliting data\n",
    "model.splitData(pTrain=0.8, pVal=0, pTest=0.2)\n",
    "model.prepareX(cols = ['total_bedrooms'], how2fill = 'zero')\n",
    "model.train(r=0.001)\n",
    "model.rmse()\n",
    "errors.append(model.valMSE)\n",
    "print(f'Training on full dataset <Train + Validation>:')\n",
    "print(f'Seed={seed} - Train error: {model.trainMSE} - Validation error: {model.valMSE} - Test error: {model.testMSE}')        \n"
   ]
  }
 ],
 "metadata": {
  "kernelspec": {
   "display_name": "Python 3 (ipykernel)",
   "language": "python",
   "name": "python3"
  },
  "language_info": {
   "codemirror_mode": {
    "name": "ipython",
    "version": 3
   },
   "file_extension": ".py",
   "mimetype": "text/x-python",
   "name": "python",
   "nbconvert_exporter": "python",
   "pygments_lexer": "ipython3",
   "version": "3.9.12"
  }
 },
 "nbformat": 4,
 "nbformat_minor": 5
}
