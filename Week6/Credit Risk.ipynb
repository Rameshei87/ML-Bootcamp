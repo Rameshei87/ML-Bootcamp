{
 "cells": [
  {
   "cell_type": "code",
   "execution_count": 1,
   "id": "99e44e90",
   "metadata": {},
   "outputs": [],
   "source": [
    "import numpy as np\n",
    "import pandas as pd\n",
    "import matplotlib.pyplot as plt\n",
    "import seaborn as sns\n",
    "\n",
    "%matplotlib inline"
   ]
  },
  {
   "cell_type": "code",
   "execution_count": 2,
   "id": "f56604f0",
   "metadata": {},
   "outputs": [],
   "source": [
    "file = 'CreditScoring.csv'"
   ]
  },
  {
   "cell_type": "code",
   "execution_count": 3,
   "id": "d81f1ea9",
   "metadata": {},
   "outputs": [
    {
     "data": {
      "text/html": [
       "<div>\n",
       "<style scoped>\n",
       "    .dataframe tbody tr th:only-of-type {\n",
       "        vertical-align: middle;\n",
       "    }\n",
       "\n",
       "    .dataframe tbody tr th {\n",
       "        vertical-align: top;\n",
       "    }\n",
       "\n",
       "    .dataframe thead th {\n",
       "        text-align: right;\n",
       "    }\n",
       "</style>\n",
       "<table border=\"1\" class=\"dataframe\">\n",
       "  <thead>\n",
       "    <tr style=\"text-align: right;\">\n",
       "      <th></th>\n",
       "      <th>status</th>\n",
       "      <th>seniority</th>\n",
       "      <th>home</th>\n",
       "      <th>time</th>\n",
       "      <th>age</th>\n",
       "      <th>marital</th>\n",
       "      <th>records</th>\n",
       "      <th>job</th>\n",
       "      <th>expenses</th>\n",
       "      <th>income</th>\n",
       "      <th>assets</th>\n",
       "      <th>debt</th>\n",
       "      <th>amount</th>\n",
       "      <th>price</th>\n",
       "    </tr>\n",
       "  </thead>\n",
       "  <tbody>\n",
       "    <tr>\n",
       "      <th>0</th>\n",
       "      <td>1</td>\n",
       "      <td>9</td>\n",
       "      <td>1</td>\n",
       "      <td>60</td>\n",
       "      <td>30</td>\n",
       "      <td>2</td>\n",
       "      <td>1</td>\n",
       "      <td>3</td>\n",
       "      <td>73</td>\n",
       "      <td>129</td>\n",
       "      <td>0</td>\n",
       "      <td>0</td>\n",
       "      <td>800</td>\n",
       "      <td>846</td>\n",
       "    </tr>\n",
       "    <tr>\n",
       "      <th>1</th>\n",
       "      <td>1</td>\n",
       "      <td>17</td>\n",
       "      <td>1</td>\n",
       "      <td>60</td>\n",
       "      <td>58</td>\n",
       "      <td>3</td>\n",
       "      <td>1</td>\n",
       "      <td>1</td>\n",
       "      <td>48</td>\n",
       "      <td>131</td>\n",
       "      <td>0</td>\n",
       "      <td>0</td>\n",
       "      <td>1000</td>\n",
       "      <td>1658</td>\n",
       "    </tr>\n",
       "    <tr>\n",
       "      <th>2</th>\n",
       "      <td>2</td>\n",
       "      <td>10</td>\n",
       "      <td>2</td>\n",
       "      <td>36</td>\n",
       "      <td>46</td>\n",
       "      <td>2</td>\n",
       "      <td>2</td>\n",
       "      <td>3</td>\n",
       "      <td>90</td>\n",
       "      <td>200</td>\n",
       "      <td>3000</td>\n",
       "      <td>0</td>\n",
       "      <td>2000</td>\n",
       "      <td>2985</td>\n",
       "    </tr>\n",
       "    <tr>\n",
       "      <th>3</th>\n",
       "      <td>1</td>\n",
       "      <td>0</td>\n",
       "      <td>1</td>\n",
       "      <td>60</td>\n",
       "      <td>24</td>\n",
       "      <td>1</td>\n",
       "      <td>1</td>\n",
       "      <td>1</td>\n",
       "      <td>63</td>\n",
       "      <td>182</td>\n",
       "      <td>2500</td>\n",
       "      <td>0</td>\n",
       "      <td>900</td>\n",
       "      <td>1325</td>\n",
       "    </tr>\n",
       "    <tr>\n",
       "      <th>4</th>\n",
       "      <td>1</td>\n",
       "      <td>0</td>\n",
       "      <td>1</td>\n",
       "      <td>36</td>\n",
       "      <td>26</td>\n",
       "      <td>1</td>\n",
       "      <td>1</td>\n",
       "      <td>1</td>\n",
       "      <td>46</td>\n",
       "      <td>107</td>\n",
       "      <td>0</td>\n",
       "      <td>0</td>\n",
       "      <td>310</td>\n",
       "      <td>910</td>\n",
       "    </tr>\n",
       "  </tbody>\n",
       "</table>\n",
       "</div>"
      ],
      "text/plain": [
       "   status  seniority  home  time  age  marital  records  job  expenses  \\\n",
       "0       1          9     1    60   30        2        1    3        73   \n",
       "1       1         17     1    60   58        3        1    1        48   \n",
       "2       2         10     2    36   46        2        2    3        90   \n",
       "3       1          0     1    60   24        1        1    1        63   \n",
       "4       1          0     1    36   26        1        1    1        46   \n",
       "\n",
       "   income  assets  debt  amount  price  \n",
       "0     129       0     0     800    846  \n",
       "1     131       0     0    1000   1658  \n",
       "2     200    3000     0    2000   2985  \n",
       "3     182    2500     0     900   1325  \n",
       "4     107       0     0     310    910  "
      ]
     },
     "execution_count": 3,
     "metadata": {},
     "output_type": "execute_result"
    }
   ],
   "source": [
    "df = pd.read_csv(file)\n",
    "df.columns = df.columns.str.lower()\n",
    "df.head()"
   ]
  },
  {
   "cell_type": "code",
   "execution_count": 4,
   "id": "5cb8fca8",
   "metadata": {},
   "outputs": [
    {
     "name": "stdout",
     "output_type": "stream",
     "text": [
      "<class 'pandas.core.frame.DataFrame'>\n",
      "RangeIndex: 4455 entries, 0 to 4454\n",
      "Data columns (total 14 columns):\n",
      " #   Column     Non-Null Count  Dtype\n",
      "---  ------     --------------  -----\n",
      " 0   status     4455 non-null   int64\n",
      " 1   seniority  4455 non-null   int64\n",
      " 2   home       4455 non-null   int64\n",
      " 3   time       4455 non-null   int64\n",
      " 4   age        4455 non-null   int64\n",
      " 5   marital    4455 non-null   int64\n",
      " 6   records    4455 non-null   int64\n",
      " 7   job        4455 non-null   int64\n",
      " 8   expenses   4455 non-null   int64\n",
      " 9   income     4455 non-null   int64\n",
      " 10  assets     4455 non-null   int64\n",
      " 11  debt       4455 non-null   int64\n",
      " 12  amount     4455 non-null   int64\n",
      " 13  price      4455 non-null   int64\n",
      "dtypes: int64(14)\n",
      "memory usage: 487.4 KB\n"
     ]
    }
   ],
   "source": [
    "df.info()"
   ]
  },
  {
   "cell_type": "code",
   "execution_count": 5,
   "id": "05ad7f6d",
   "metadata": {},
   "outputs": [],
   "source": [
    "status_values = {\n",
    "    1: 'ok',\n",
    "    2: 'default',\n",
    "    0: 'unk'\n",
    "}\n",
    "\n",
    "df.status = df.status.replace(status_values)\n",
    "\n",
    "home_values = {\n",
    "    1: 'rent',\n",
    "    2: 'owner',\n",
    "    3: 'private',\n",
    "    4: 'ignore',\n",
    "    5: 'parents',\n",
    "    6: 'other',\n",
    "    0: 'unk'\n",
    "}\n",
    "\n",
    "df.home = df.home.replace(home_values)\n",
    "\n",
    "marital_values = {\n",
    "    1: 'single',\n",
    "    2: 'married',\n",
    "    3: 'widow',\n",
    "    4: 'separated',\n",
    "    5: 'divorced',\n",
    "    0: 'unk'\n",
    "}\n",
    "\n",
    "df.marital = df.marital.replace(marital_values)\n",
    "\n",
    "records_values = {\n",
    "    1: 'no',\n",
    "    2: 'yes',\n",
    "    0: 'unk'\n",
    "}\n",
    "\n",
    "df.records = df.records.replace(records_values)\n",
    "\n",
    "job_values = {\n",
    "    1: 'fixed',\n",
    "    2: 'partime',\n",
    "    3: 'freelance',\n",
    "    4: 'others',\n",
    "    0: 'unk'\n",
    "}\n",
    "\n",
    "df.job = df.job.replace(job_values)\n"
   ]
  },
  {
   "cell_type": "code",
   "execution_count": 6,
   "id": "f40b004a",
   "metadata": {},
   "outputs": [
    {
     "data": {
      "text/html": [
       "<div>\n",
       "<style scoped>\n",
       "    .dataframe tbody tr th:only-of-type {\n",
       "        vertical-align: middle;\n",
       "    }\n",
       "\n",
       "    .dataframe tbody tr th {\n",
       "        vertical-align: top;\n",
       "    }\n",
       "\n",
       "    .dataframe thead th {\n",
       "        text-align: right;\n",
       "    }\n",
       "</style>\n",
       "<table border=\"1\" class=\"dataframe\">\n",
       "  <thead>\n",
       "    <tr style=\"text-align: right;\">\n",
       "      <th></th>\n",
       "      <th>status</th>\n",
       "      <th>seniority</th>\n",
       "      <th>home</th>\n",
       "      <th>time</th>\n",
       "      <th>age</th>\n",
       "      <th>marital</th>\n",
       "      <th>records</th>\n",
       "      <th>job</th>\n",
       "      <th>expenses</th>\n",
       "      <th>income</th>\n",
       "      <th>assets</th>\n",
       "      <th>debt</th>\n",
       "      <th>amount</th>\n",
       "      <th>price</th>\n",
       "    </tr>\n",
       "  </thead>\n",
       "  <tbody>\n",
       "    <tr>\n",
       "      <th>0</th>\n",
       "      <td>ok</td>\n",
       "      <td>9</td>\n",
       "      <td>rent</td>\n",
       "      <td>60</td>\n",
       "      <td>30</td>\n",
       "      <td>married</td>\n",
       "      <td>no</td>\n",
       "      <td>freelance</td>\n",
       "      <td>73</td>\n",
       "      <td>129</td>\n",
       "      <td>0</td>\n",
       "      <td>0</td>\n",
       "      <td>800</td>\n",
       "      <td>846</td>\n",
       "    </tr>\n",
       "    <tr>\n",
       "      <th>1</th>\n",
       "      <td>ok</td>\n",
       "      <td>17</td>\n",
       "      <td>rent</td>\n",
       "      <td>60</td>\n",
       "      <td>58</td>\n",
       "      <td>widow</td>\n",
       "      <td>no</td>\n",
       "      <td>fixed</td>\n",
       "      <td>48</td>\n",
       "      <td>131</td>\n",
       "      <td>0</td>\n",
       "      <td>0</td>\n",
       "      <td>1000</td>\n",
       "      <td>1658</td>\n",
       "    </tr>\n",
       "    <tr>\n",
       "      <th>2</th>\n",
       "      <td>default</td>\n",
       "      <td>10</td>\n",
       "      <td>owner</td>\n",
       "      <td>36</td>\n",
       "      <td>46</td>\n",
       "      <td>married</td>\n",
       "      <td>yes</td>\n",
       "      <td>freelance</td>\n",
       "      <td>90</td>\n",
       "      <td>200</td>\n",
       "      <td>3000</td>\n",
       "      <td>0</td>\n",
       "      <td>2000</td>\n",
       "      <td>2985</td>\n",
       "    </tr>\n",
       "    <tr>\n",
       "      <th>3</th>\n",
       "      <td>ok</td>\n",
       "      <td>0</td>\n",
       "      <td>rent</td>\n",
       "      <td>60</td>\n",
       "      <td>24</td>\n",
       "      <td>single</td>\n",
       "      <td>no</td>\n",
       "      <td>fixed</td>\n",
       "      <td>63</td>\n",
       "      <td>182</td>\n",
       "      <td>2500</td>\n",
       "      <td>0</td>\n",
       "      <td>900</td>\n",
       "      <td>1325</td>\n",
       "    </tr>\n",
       "    <tr>\n",
       "      <th>4</th>\n",
       "      <td>ok</td>\n",
       "      <td>0</td>\n",
       "      <td>rent</td>\n",
       "      <td>36</td>\n",
       "      <td>26</td>\n",
       "      <td>single</td>\n",
       "      <td>no</td>\n",
       "      <td>fixed</td>\n",
       "      <td>46</td>\n",
       "      <td>107</td>\n",
       "      <td>0</td>\n",
       "      <td>0</td>\n",
       "      <td>310</td>\n",
       "      <td>910</td>\n",
       "    </tr>\n",
       "    <tr>\n",
       "      <th>...</th>\n",
       "      <td>...</td>\n",
       "      <td>...</td>\n",
       "      <td>...</td>\n",
       "      <td>...</td>\n",
       "      <td>...</td>\n",
       "      <td>...</td>\n",
       "      <td>...</td>\n",
       "      <td>...</td>\n",
       "      <td>...</td>\n",
       "      <td>...</td>\n",
       "      <td>...</td>\n",
       "      <td>...</td>\n",
       "      <td>...</td>\n",
       "      <td>...</td>\n",
       "    </tr>\n",
       "    <tr>\n",
       "      <th>4450</th>\n",
       "      <td>default</td>\n",
       "      <td>1</td>\n",
       "      <td>rent</td>\n",
       "      <td>60</td>\n",
       "      <td>39</td>\n",
       "      <td>married</td>\n",
       "      <td>no</td>\n",
       "      <td>fixed</td>\n",
       "      <td>69</td>\n",
       "      <td>92</td>\n",
       "      <td>0</td>\n",
       "      <td>0</td>\n",
       "      <td>900</td>\n",
       "      <td>1020</td>\n",
       "    </tr>\n",
       "    <tr>\n",
       "      <th>4451</th>\n",
       "      <td>ok</td>\n",
       "      <td>22</td>\n",
       "      <td>owner</td>\n",
       "      <td>60</td>\n",
       "      <td>46</td>\n",
       "      <td>married</td>\n",
       "      <td>no</td>\n",
       "      <td>fixed</td>\n",
       "      <td>60</td>\n",
       "      <td>75</td>\n",
       "      <td>3000</td>\n",
       "      <td>600</td>\n",
       "      <td>950</td>\n",
       "      <td>1263</td>\n",
       "    </tr>\n",
       "    <tr>\n",
       "      <th>4452</th>\n",
       "      <td>default</td>\n",
       "      <td>0</td>\n",
       "      <td>owner</td>\n",
       "      <td>24</td>\n",
       "      <td>37</td>\n",
       "      <td>married</td>\n",
       "      <td>no</td>\n",
       "      <td>partime</td>\n",
       "      <td>60</td>\n",
       "      <td>90</td>\n",
       "      <td>3500</td>\n",
       "      <td>0</td>\n",
       "      <td>500</td>\n",
       "      <td>963</td>\n",
       "    </tr>\n",
       "    <tr>\n",
       "      <th>4453</th>\n",
       "      <td>ok</td>\n",
       "      <td>0</td>\n",
       "      <td>rent</td>\n",
       "      <td>48</td>\n",
       "      <td>23</td>\n",
       "      <td>single</td>\n",
       "      <td>no</td>\n",
       "      <td>freelance</td>\n",
       "      <td>49</td>\n",
       "      <td>140</td>\n",
       "      <td>0</td>\n",
       "      <td>0</td>\n",
       "      <td>550</td>\n",
       "      <td>550</td>\n",
       "    </tr>\n",
       "    <tr>\n",
       "      <th>4454</th>\n",
       "      <td>ok</td>\n",
       "      <td>5</td>\n",
       "      <td>owner</td>\n",
       "      <td>60</td>\n",
       "      <td>32</td>\n",
       "      <td>married</td>\n",
       "      <td>no</td>\n",
       "      <td>freelance</td>\n",
       "      <td>60</td>\n",
       "      <td>140</td>\n",
       "      <td>4000</td>\n",
       "      <td>1000</td>\n",
       "      <td>1350</td>\n",
       "      <td>1650</td>\n",
       "    </tr>\n",
       "  </tbody>\n",
       "</table>\n",
       "<p>4455 rows × 14 columns</p>\n",
       "</div>"
      ],
      "text/plain": [
       "       status  seniority   home  time  age  marital records        job  \\\n",
       "0          ok          9   rent    60   30  married      no  freelance   \n",
       "1          ok         17   rent    60   58    widow      no      fixed   \n",
       "2     default         10  owner    36   46  married     yes  freelance   \n",
       "3          ok          0   rent    60   24   single      no      fixed   \n",
       "4          ok          0   rent    36   26   single      no      fixed   \n",
       "...       ...        ...    ...   ...  ...      ...     ...        ...   \n",
       "4450  default          1   rent    60   39  married      no      fixed   \n",
       "4451       ok         22  owner    60   46  married      no      fixed   \n",
       "4452  default          0  owner    24   37  married      no    partime   \n",
       "4453       ok          0   rent    48   23   single      no  freelance   \n",
       "4454       ok          5  owner    60   32  married      no  freelance   \n",
       "\n",
       "      expenses  income  assets  debt  amount  price  \n",
       "0           73     129       0     0     800    846  \n",
       "1           48     131       0     0    1000   1658  \n",
       "2           90     200    3000     0    2000   2985  \n",
       "3           63     182    2500     0     900   1325  \n",
       "4           46     107       0     0     310    910  \n",
       "...        ...     ...     ...   ...     ...    ...  \n",
       "4450        69      92       0     0     900   1020  \n",
       "4451        60      75    3000   600     950   1263  \n",
       "4452        60      90    3500     0     500    963  \n",
       "4453        49     140       0     0     550    550  \n",
       "4454        60     140    4000  1000    1350   1650  \n",
       "\n",
       "[4455 rows x 14 columns]"
      ]
     },
     "execution_count": 6,
     "metadata": {},
     "output_type": "execute_result"
    }
   ],
   "source": [
    "df"
   ]
  },
  {
   "cell_type": "code",
   "execution_count": 7,
   "id": "877ccfa3",
   "metadata": {},
   "outputs": [
    {
     "data": {
      "text/html": [
       "<div>\n",
       "<style scoped>\n",
       "    .dataframe tbody tr th:only-of-type {\n",
       "        vertical-align: middle;\n",
       "    }\n",
       "\n",
       "    .dataframe tbody tr th {\n",
       "        vertical-align: top;\n",
       "    }\n",
       "\n",
       "    .dataframe thead th {\n",
       "        text-align: right;\n",
       "    }\n",
       "</style>\n",
       "<table border=\"1\" class=\"dataframe\">\n",
       "  <thead>\n",
       "    <tr style=\"text-align: right;\">\n",
       "      <th></th>\n",
       "      <th>seniority</th>\n",
       "      <th>time</th>\n",
       "      <th>age</th>\n",
       "      <th>expenses</th>\n",
       "      <th>income</th>\n",
       "      <th>assets</th>\n",
       "      <th>debt</th>\n",
       "      <th>amount</th>\n",
       "      <th>price</th>\n",
       "    </tr>\n",
       "  </thead>\n",
       "  <tbody>\n",
       "    <tr>\n",
       "      <th>count</th>\n",
       "      <td>4455.0</td>\n",
       "      <td>4455.0</td>\n",
       "      <td>4455.0</td>\n",
       "      <td>4455.0</td>\n",
       "      <td>4455.0</td>\n",
       "      <td>4455.0</td>\n",
       "      <td>4455.0</td>\n",
       "      <td>4455.0</td>\n",
       "      <td>4455.0</td>\n",
       "    </tr>\n",
       "    <tr>\n",
       "      <th>mean</th>\n",
       "      <td>8.0</td>\n",
       "      <td>46.0</td>\n",
       "      <td>37.0</td>\n",
       "      <td>56.0</td>\n",
       "      <td>763317.0</td>\n",
       "      <td>1060341.0</td>\n",
       "      <td>404382.0</td>\n",
       "      <td>1039.0</td>\n",
       "      <td>1463.0</td>\n",
       "    </tr>\n",
       "    <tr>\n",
       "      <th>std</th>\n",
       "      <td>8.0</td>\n",
       "      <td>15.0</td>\n",
       "      <td>11.0</td>\n",
       "      <td>20.0</td>\n",
       "      <td>8703625.0</td>\n",
       "      <td>10217569.0</td>\n",
       "      <td>6344253.0</td>\n",
       "      <td>475.0</td>\n",
       "      <td>628.0</td>\n",
       "    </tr>\n",
       "    <tr>\n",
       "      <th>min</th>\n",
       "      <td>0.0</td>\n",
       "      <td>6.0</td>\n",
       "      <td>18.0</td>\n",
       "      <td>35.0</td>\n",
       "      <td>0.0</td>\n",
       "      <td>0.0</td>\n",
       "      <td>0.0</td>\n",
       "      <td>100.0</td>\n",
       "      <td>105.0</td>\n",
       "    </tr>\n",
       "    <tr>\n",
       "      <th>25%</th>\n",
       "      <td>2.0</td>\n",
       "      <td>36.0</td>\n",
       "      <td>28.0</td>\n",
       "      <td>35.0</td>\n",
       "      <td>80.0</td>\n",
       "      <td>0.0</td>\n",
       "      <td>0.0</td>\n",
       "      <td>700.0</td>\n",
       "      <td>1118.0</td>\n",
       "    </tr>\n",
       "    <tr>\n",
       "      <th>50%</th>\n",
       "      <td>5.0</td>\n",
       "      <td>48.0</td>\n",
       "      <td>36.0</td>\n",
       "      <td>51.0</td>\n",
       "      <td>120.0</td>\n",
       "      <td>3500.0</td>\n",
       "      <td>0.0</td>\n",
       "      <td>1000.0</td>\n",
       "      <td>1400.0</td>\n",
       "    </tr>\n",
       "    <tr>\n",
       "      <th>75%</th>\n",
       "      <td>12.0</td>\n",
       "      <td>60.0</td>\n",
       "      <td>45.0</td>\n",
       "      <td>72.0</td>\n",
       "      <td>166.0</td>\n",
       "      <td>6000.0</td>\n",
       "      <td>0.0</td>\n",
       "      <td>1300.0</td>\n",
       "      <td>1692.0</td>\n",
       "    </tr>\n",
       "    <tr>\n",
       "      <th>max</th>\n",
       "      <td>48.0</td>\n",
       "      <td>72.0</td>\n",
       "      <td>68.0</td>\n",
       "      <td>180.0</td>\n",
       "      <td>99999999.0</td>\n",
       "      <td>99999999.0</td>\n",
       "      <td>99999999.0</td>\n",
       "      <td>5000.0</td>\n",
       "      <td>11140.0</td>\n",
       "    </tr>\n",
       "  </tbody>\n",
       "</table>\n",
       "</div>"
      ],
      "text/plain": [
       "       seniority    time     age  expenses      income      assets  \\\n",
       "count     4455.0  4455.0  4455.0    4455.0      4455.0      4455.0   \n",
       "mean         8.0    46.0    37.0      56.0    763317.0   1060341.0   \n",
       "std          8.0    15.0    11.0      20.0   8703625.0  10217569.0   \n",
       "min          0.0     6.0    18.0      35.0         0.0         0.0   \n",
       "25%          2.0    36.0    28.0      35.0        80.0         0.0   \n",
       "50%          5.0    48.0    36.0      51.0       120.0      3500.0   \n",
       "75%         12.0    60.0    45.0      72.0       166.0      6000.0   \n",
       "max         48.0    72.0    68.0     180.0  99999999.0  99999999.0   \n",
       "\n",
       "             debt  amount    price  \n",
       "count      4455.0  4455.0   4455.0  \n",
       "mean     404382.0  1039.0   1463.0  \n",
       "std     6344253.0   475.0    628.0  \n",
       "min           0.0   100.0    105.0  \n",
       "25%           0.0   700.0   1118.0  \n",
       "50%           0.0  1000.0   1400.0  \n",
       "75%           0.0  1300.0   1692.0  \n",
       "max    99999999.0  5000.0  11140.0  "
      ]
     },
     "execution_count": 7,
     "metadata": {},
     "output_type": "execute_result"
    }
   ],
   "source": [
    "df.describe().round()"
   ]
  },
  {
   "cell_type": "code",
   "execution_count": 8,
   "id": "e65e717d",
   "metadata": {},
   "outputs": [
    {
     "data": {
      "text/html": [
       "<div>\n",
       "<style scoped>\n",
       "    .dataframe tbody tr th:only-of-type {\n",
       "        vertical-align: middle;\n",
       "    }\n",
       "\n",
       "    .dataframe tbody tr th {\n",
       "        vertical-align: top;\n",
       "    }\n",
       "\n",
       "    .dataframe thead th {\n",
       "        text-align: right;\n",
       "    }\n",
       "</style>\n",
       "<table border=\"1\" class=\"dataframe\">\n",
       "  <thead>\n",
       "    <tr style=\"text-align: right;\">\n",
       "      <th></th>\n",
       "      <th>seniority</th>\n",
       "      <th>time</th>\n",
       "      <th>age</th>\n",
       "      <th>expenses</th>\n",
       "      <th>income</th>\n",
       "      <th>assets</th>\n",
       "      <th>debt</th>\n",
       "      <th>amount</th>\n",
       "      <th>price</th>\n",
       "    </tr>\n",
       "  </thead>\n",
       "  <tbody>\n",
       "    <tr>\n",
       "      <th>count</th>\n",
       "      <td>4455.0</td>\n",
       "      <td>4455.0</td>\n",
       "      <td>4455.0</td>\n",
       "      <td>4455.0</td>\n",
       "      <td>4455.0</td>\n",
       "      <td>4455.0</td>\n",
       "      <td>4455.0</td>\n",
       "      <td>4455.0</td>\n",
       "      <td>4455.0</td>\n",
       "    </tr>\n",
       "    <tr>\n",
       "      <th>mean</th>\n",
       "      <td>8.0</td>\n",
       "      <td>46.0</td>\n",
       "      <td>37.0</td>\n",
       "      <td>56.0</td>\n",
       "      <td>763317.0</td>\n",
       "      <td>1060341.0</td>\n",
       "      <td>404382.0</td>\n",
       "      <td>1039.0</td>\n",
       "      <td>1463.0</td>\n",
       "    </tr>\n",
       "    <tr>\n",
       "      <th>std</th>\n",
       "      <td>8.0</td>\n",
       "      <td>15.0</td>\n",
       "      <td>11.0</td>\n",
       "      <td>20.0</td>\n",
       "      <td>8703625.0</td>\n",
       "      <td>10217569.0</td>\n",
       "      <td>6344253.0</td>\n",
       "      <td>475.0</td>\n",
       "      <td>628.0</td>\n",
       "    </tr>\n",
       "    <tr>\n",
       "      <th>min</th>\n",
       "      <td>0.0</td>\n",
       "      <td>6.0</td>\n",
       "      <td>18.0</td>\n",
       "      <td>35.0</td>\n",
       "      <td>0.0</td>\n",
       "      <td>0.0</td>\n",
       "      <td>0.0</td>\n",
       "      <td>100.0</td>\n",
       "      <td>105.0</td>\n",
       "    </tr>\n",
       "    <tr>\n",
       "      <th>25%</th>\n",
       "      <td>2.0</td>\n",
       "      <td>36.0</td>\n",
       "      <td>28.0</td>\n",
       "      <td>35.0</td>\n",
       "      <td>80.0</td>\n",
       "      <td>0.0</td>\n",
       "      <td>0.0</td>\n",
       "      <td>700.0</td>\n",
       "      <td>1118.0</td>\n",
       "    </tr>\n",
       "    <tr>\n",
       "      <th>50%</th>\n",
       "      <td>5.0</td>\n",
       "      <td>48.0</td>\n",
       "      <td>36.0</td>\n",
       "      <td>51.0</td>\n",
       "      <td>120.0</td>\n",
       "      <td>3500.0</td>\n",
       "      <td>0.0</td>\n",
       "      <td>1000.0</td>\n",
       "      <td>1400.0</td>\n",
       "    </tr>\n",
       "    <tr>\n",
       "      <th>75%</th>\n",
       "      <td>12.0</td>\n",
       "      <td>60.0</td>\n",
       "      <td>45.0</td>\n",
       "      <td>72.0</td>\n",
       "      <td>166.0</td>\n",
       "      <td>6000.0</td>\n",
       "      <td>0.0</td>\n",
       "      <td>1300.0</td>\n",
       "      <td>1692.0</td>\n",
       "    </tr>\n",
       "    <tr>\n",
       "      <th>max</th>\n",
       "      <td>48.0</td>\n",
       "      <td>72.0</td>\n",
       "      <td>68.0</td>\n",
       "      <td>180.0</td>\n",
       "      <td>99999999.0</td>\n",
       "      <td>99999999.0</td>\n",
       "      <td>99999999.0</td>\n",
       "      <td>5000.0</td>\n",
       "      <td>11140.0</td>\n",
       "    </tr>\n",
       "  </tbody>\n",
       "</table>\n",
       "</div>"
      ],
      "text/plain": [
       "       seniority    time     age  expenses      income      assets  \\\n",
       "count     4455.0  4455.0  4455.0    4455.0      4455.0      4455.0   \n",
       "mean         8.0    46.0    37.0      56.0    763317.0   1060341.0   \n",
       "std          8.0    15.0    11.0      20.0   8703625.0  10217569.0   \n",
       "min          0.0     6.0    18.0      35.0         0.0         0.0   \n",
       "25%          2.0    36.0    28.0      35.0        80.0         0.0   \n",
       "50%          5.0    48.0    36.0      51.0       120.0      3500.0   \n",
       "75%         12.0    60.0    45.0      72.0       166.0      6000.0   \n",
       "max         48.0    72.0    68.0     180.0  99999999.0  99999999.0   \n",
       "\n",
       "             debt  amount    price  \n",
       "count      4455.0  4455.0   4455.0  \n",
       "mean     404382.0  1039.0   1463.0  \n",
       "std     6344253.0   475.0    628.0  \n",
       "min           0.0   100.0    105.0  \n",
       "25%           0.0   700.0   1118.0  \n",
       "50%           0.0  1000.0   1400.0  \n",
       "75%           0.0  1300.0   1692.0  \n",
       "max    99999999.0  5000.0  11140.0  "
      ]
     },
     "execution_count": 8,
     "metadata": {},
     "output_type": "execute_result"
    }
   ],
   "source": [
    "df.describe().round()"
   ]
  },
  {
   "cell_type": "code",
   "execution_count": 9,
   "id": "f0c77d66",
   "metadata": {},
   "outputs": [
    {
     "data": {
      "text/plain": [
       "status       0\n",
       "seniority    0\n",
       "home         0\n",
       "time         0\n",
       "age          0\n",
       "marital      0\n",
       "records      0\n",
       "job          0\n",
       "expenses     0\n",
       "income       0\n",
       "assets       0\n",
       "debt         0\n",
       "amount       0\n",
       "price        0\n",
       "dtype: int64"
      ]
     },
     "execution_count": 9,
     "metadata": {},
     "output_type": "execute_result"
    }
   ],
   "source": [
    "df.isnull().sum()"
   ]
  },
  {
   "cell_type": "code",
   "execution_count": 10,
   "id": "923707b7",
   "metadata": {},
   "outputs": [],
   "source": [
    "df[['income', 'assets', 'debt']] = df[['income', 'assets', 'debt']].replace(99999999, np.nan)\n"
   ]
  },
  {
   "cell_type": "code",
   "execution_count": 11,
   "id": "d51347a1",
   "metadata": {},
   "outputs": [],
   "source": [
    "df = df[df.status != 'unk'].reset_index(drop=True)\n",
    "df = df.fillna(0)"
   ]
  },
  {
   "cell_type": "code",
   "execution_count": 12,
   "id": "36fa4d70",
   "metadata": {},
   "outputs": [
    {
     "data": {
      "text/html": [
       "<div>\n",
       "<style scoped>\n",
       "    .dataframe tbody tr th:only-of-type {\n",
       "        vertical-align: middle;\n",
       "    }\n",
       "\n",
       "    .dataframe tbody tr th {\n",
       "        vertical-align: top;\n",
       "    }\n",
       "\n",
       "    .dataframe thead th {\n",
       "        text-align: right;\n",
       "    }\n",
       "</style>\n",
       "<table border=\"1\" class=\"dataframe\">\n",
       "  <thead>\n",
       "    <tr style=\"text-align: right;\">\n",
       "      <th></th>\n",
       "      <th>status</th>\n",
       "      <th>seniority</th>\n",
       "      <th>home</th>\n",
       "      <th>time</th>\n",
       "      <th>age</th>\n",
       "      <th>marital</th>\n",
       "      <th>records</th>\n",
       "      <th>job</th>\n",
       "      <th>expenses</th>\n",
       "      <th>income</th>\n",
       "      <th>assets</th>\n",
       "      <th>debt</th>\n",
       "      <th>amount</th>\n",
       "      <th>price</th>\n",
       "    </tr>\n",
       "  </thead>\n",
       "  <tbody>\n",
       "    <tr>\n",
       "      <th>0</th>\n",
       "      <td>0</td>\n",
       "      <td>9</td>\n",
       "      <td>rent</td>\n",
       "      <td>60</td>\n",
       "      <td>30</td>\n",
       "      <td>married</td>\n",
       "      <td>no</td>\n",
       "      <td>freelance</td>\n",
       "      <td>73</td>\n",
       "      <td>129.0</td>\n",
       "      <td>0.0</td>\n",
       "      <td>0.0</td>\n",
       "      <td>800</td>\n",
       "      <td>846</td>\n",
       "    </tr>\n",
       "    <tr>\n",
       "      <th>1</th>\n",
       "      <td>0</td>\n",
       "      <td>17</td>\n",
       "      <td>rent</td>\n",
       "      <td>60</td>\n",
       "      <td>58</td>\n",
       "      <td>widow</td>\n",
       "      <td>no</td>\n",
       "      <td>fixed</td>\n",
       "      <td>48</td>\n",
       "      <td>131.0</td>\n",
       "      <td>0.0</td>\n",
       "      <td>0.0</td>\n",
       "      <td>1000</td>\n",
       "      <td>1658</td>\n",
       "    </tr>\n",
       "    <tr>\n",
       "      <th>2</th>\n",
       "      <td>1</td>\n",
       "      <td>10</td>\n",
       "      <td>owner</td>\n",
       "      <td>36</td>\n",
       "      <td>46</td>\n",
       "      <td>married</td>\n",
       "      <td>yes</td>\n",
       "      <td>freelance</td>\n",
       "      <td>90</td>\n",
       "      <td>200.0</td>\n",
       "      <td>3000.0</td>\n",
       "      <td>0.0</td>\n",
       "      <td>2000</td>\n",
       "      <td>2985</td>\n",
       "    </tr>\n",
       "    <tr>\n",
       "      <th>3</th>\n",
       "      <td>0</td>\n",
       "      <td>0</td>\n",
       "      <td>rent</td>\n",
       "      <td>60</td>\n",
       "      <td>24</td>\n",
       "      <td>single</td>\n",
       "      <td>no</td>\n",
       "      <td>fixed</td>\n",
       "      <td>63</td>\n",
       "      <td>182.0</td>\n",
       "      <td>2500.0</td>\n",
       "      <td>0.0</td>\n",
       "      <td>900</td>\n",
       "      <td>1325</td>\n",
       "    </tr>\n",
       "    <tr>\n",
       "      <th>4</th>\n",
       "      <td>0</td>\n",
       "      <td>0</td>\n",
       "      <td>rent</td>\n",
       "      <td>36</td>\n",
       "      <td>26</td>\n",
       "      <td>single</td>\n",
       "      <td>no</td>\n",
       "      <td>fixed</td>\n",
       "      <td>46</td>\n",
       "      <td>107.0</td>\n",
       "      <td>0.0</td>\n",
       "      <td>0.0</td>\n",
       "      <td>310</td>\n",
       "      <td>910</td>\n",
       "    </tr>\n",
       "    <tr>\n",
       "      <th>...</th>\n",
       "      <td>...</td>\n",
       "      <td>...</td>\n",
       "      <td>...</td>\n",
       "      <td>...</td>\n",
       "      <td>...</td>\n",
       "      <td>...</td>\n",
       "      <td>...</td>\n",
       "      <td>...</td>\n",
       "      <td>...</td>\n",
       "      <td>...</td>\n",
       "      <td>...</td>\n",
       "      <td>...</td>\n",
       "      <td>...</td>\n",
       "      <td>...</td>\n",
       "    </tr>\n",
       "    <tr>\n",
       "      <th>4449</th>\n",
       "      <td>1</td>\n",
       "      <td>1</td>\n",
       "      <td>rent</td>\n",
       "      <td>60</td>\n",
       "      <td>39</td>\n",
       "      <td>married</td>\n",
       "      <td>no</td>\n",
       "      <td>fixed</td>\n",
       "      <td>69</td>\n",
       "      <td>92.0</td>\n",
       "      <td>0.0</td>\n",
       "      <td>0.0</td>\n",
       "      <td>900</td>\n",
       "      <td>1020</td>\n",
       "    </tr>\n",
       "    <tr>\n",
       "      <th>4450</th>\n",
       "      <td>0</td>\n",
       "      <td>22</td>\n",
       "      <td>owner</td>\n",
       "      <td>60</td>\n",
       "      <td>46</td>\n",
       "      <td>married</td>\n",
       "      <td>no</td>\n",
       "      <td>fixed</td>\n",
       "      <td>60</td>\n",
       "      <td>75.0</td>\n",
       "      <td>3000.0</td>\n",
       "      <td>600.0</td>\n",
       "      <td>950</td>\n",
       "      <td>1263</td>\n",
       "    </tr>\n",
       "    <tr>\n",
       "      <th>4451</th>\n",
       "      <td>1</td>\n",
       "      <td>0</td>\n",
       "      <td>owner</td>\n",
       "      <td>24</td>\n",
       "      <td>37</td>\n",
       "      <td>married</td>\n",
       "      <td>no</td>\n",
       "      <td>partime</td>\n",
       "      <td>60</td>\n",
       "      <td>90.0</td>\n",
       "      <td>3500.0</td>\n",
       "      <td>0.0</td>\n",
       "      <td>500</td>\n",
       "      <td>963</td>\n",
       "    </tr>\n",
       "    <tr>\n",
       "      <th>4452</th>\n",
       "      <td>0</td>\n",
       "      <td>0</td>\n",
       "      <td>rent</td>\n",
       "      <td>48</td>\n",
       "      <td>23</td>\n",
       "      <td>single</td>\n",
       "      <td>no</td>\n",
       "      <td>freelance</td>\n",
       "      <td>49</td>\n",
       "      <td>140.0</td>\n",
       "      <td>0.0</td>\n",
       "      <td>0.0</td>\n",
       "      <td>550</td>\n",
       "      <td>550</td>\n",
       "    </tr>\n",
       "    <tr>\n",
       "      <th>4453</th>\n",
       "      <td>0</td>\n",
       "      <td>5</td>\n",
       "      <td>owner</td>\n",
       "      <td>60</td>\n",
       "      <td>32</td>\n",
       "      <td>married</td>\n",
       "      <td>no</td>\n",
       "      <td>freelance</td>\n",
       "      <td>60</td>\n",
       "      <td>140.0</td>\n",
       "      <td>4000.0</td>\n",
       "      <td>1000.0</td>\n",
       "      <td>1350</td>\n",
       "      <td>1650</td>\n",
       "    </tr>\n",
       "  </tbody>\n",
       "</table>\n",
       "<p>4454 rows × 14 columns</p>\n",
       "</div>"
      ],
      "text/plain": [
       "      status  seniority   home  time  age  marital records        job  \\\n",
       "0          0          9   rent    60   30  married      no  freelance   \n",
       "1          0         17   rent    60   58    widow      no      fixed   \n",
       "2          1         10  owner    36   46  married     yes  freelance   \n",
       "3          0          0   rent    60   24   single      no      fixed   \n",
       "4          0          0   rent    36   26   single      no      fixed   \n",
       "...      ...        ...    ...   ...  ...      ...     ...        ...   \n",
       "4449       1          1   rent    60   39  married      no      fixed   \n",
       "4450       0         22  owner    60   46  married      no      fixed   \n",
       "4451       1          0  owner    24   37  married      no    partime   \n",
       "4452       0          0   rent    48   23   single      no  freelance   \n",
       "4453       0          5  owner    60   32  married      no  freelance   \n",
       "\n",
       "      expenses  income  assets    debt  amount  price  \n",
       "0           73   129.0     0.0     0.0     800    846  \n",
       "1           48   131.0     0.0     0.0    1000   1658  \n",
       "2           90   200.0  3000.0     0.0    2000   2985  \n",
       "3           63   182.0  2500.0     0.0     900   1325  \n",
       "4           46   107.0     0.0     0.0     310    910  \n",
       "...        ...     ...     ...     ...     ...    ...  \n",
       "4449        69    92.0     0.0     0.0     900   1020  \n",
       "4450        60    75.0  3000.0   600.0     950   1263  \n",
       "4451        60    90.0  3500.0     0.0     500    963  \n",
       "4452        49   140.0     0.0     0.0     550    550  \n",
       "4453        60   140.0  4000.0  1000.0    1350   1650  \n",
       "\n",
       "[4454 rows x 14 columns]"
      ]
     },
     "execution_count": 12,
     "metadata": {},
     "output_type": "execute_result"
    }
   ],
   "source": [
    "status_values = {\n",
    "    'ok':0,\n",
    "    'default':1,\n",
    "}\n",
    "df.status = df.status.replace(status_values).astype(int)\n",
    "df"
   ]
  },
  {
   "cell_type": "code",
   "execution_count": 13,
   "id": "581b1acb",
   "metadata": {},
   "outputs": [],
   "source": [
    "target = df.status\n",
    "data = df.drop(columns=['status'])"
   ]
  },
  {
   "cell_type": "code",
   "execution_count": 14,
   "id": "54e61641",
   "metadata": {},
   "outputs": [],
   "source": [
    "categoricalCols = ['home', 'marital', 'records', 'job']\n",
    "numericalCols = ['seniority', 'time', 'age', 'expenses', 'income', 'assets', 'debt', 'amount', 'price']\n",
    "allCols = categoricalCols + numericalCols"
   ]
  },
  {
   "cell_type": "code",
   "execution_count": 15,
   "id": "988acae8",
   "metadata": {},
   "outputs": [],
   "source": [
    "from sklearn.model_selection import train_test_split"
   ]
  },
  {
   "cell_type": "code",
   "execution_count": 16,
   "id": "deafa958",
   "metadata": {},
   "outputs": [],
   "source": [
    "dfTrainFull, dfTest, yTrainFull, yTest = train_test_split(data, target, test_size=0.2, random_state=11)\n",
    "dfTrain, dfVal, yTrain, yVal = train_test_split(data, target, test_size=0.25, random_state=11)"
   ]
  },
  {
   "cell_type": "code",
   "execution_count": 17,
   "id": "d890df8a",
   "metadata": {},
   "outputs": [],
   "source": [
    "from sklearn.preprocessing import OneHotEncoder, StandardScaler\n",
    "from sklearn.compose import ColumnTransformer\n",
    "\n",
    "catPreprocessor = OneHotEncoder(handle_unknown=\"ignore\")\n",
    "preprocessor = ColumnTransformer([\n",
    "    ('one-hot-encoder', catPreprocessor, categoricalCols)],remainder=\"passthrough\")"
   ]
  },
  {
   "cell_type": "code",
   "execution_count": 18,
   "id": "ef9883a6",
   "metadata": {},
   "outputs": [],
   "source": [
    "from sklearn.tree import DecisionTreeClassifier\n",
    "from sklearn.pipeline import make_pipeline\n",
    "\n",
    "model = make_pipeline(preprocessor, DecisionTreeClassifier())"
   ]
  },
  {
   "cell_type": "code",
   "execution_count": 19,
   "id": "cca558d8",
   "metadata": {},
   "outputs": [
    {
     "data": {
      "text/html": [
       "<style>#sk-container-id-1 {color: black;background-color: white;}#sk-container-id-1 pre{padding: 0;}#sk-container-id-1 div.sk-toggleable {background-color: white;}#sk-container-id-1 label.sk-toggleable__label {cursor: pointer;display: block;width: 100%;margin-bottom: 0;padding: 0.3em;box-sizing: border-box;text-align: center;}#sk-container-id-1 label.sk-toggleable__label-arrow:before {content: \"▸\";float: left;margin-right: 0.25em;color: #696969;}#sk-container-id-1 label.sk-toggleable__label-arrow:hover:before {color: black;}#sk-container-id-1 div.sk-estimator:hover label.sk-toggleable__label-arrow:before {color: black;}#sk-container-id-1 div.sk-toggleable__content {max-height: 0;max-width: 0;overflow: hidden;text-align: left;background-color: #f0f8ff;}#sk-container-id-1 div.sk-toggleable__content pre {margin: 0.2em;color: black;border-radius: 0.25em;background-color: #f0f8ff;}#sk-container-id-1 input.sk-toggleable__control:checked~div.sk-toggleable__content {max-height: 200px;max-width: 100%;overflow: auto;}#sk-container-id-1 input.sk-toggleable__control:checked~label.sk-toggleable__label-arrow:before {content: \"▾\";}#sk-container-id-1 div.sk-estimator input.sk-toggleable__control:checked~label.sk-toggleable__label {background-color: #d4ebff;}#sk-container-id-1 div.sk-label input.sk-toggleable__control:checked~label.sk-toggleable__label {background-color: #d4ebff;}#sk-container-id-1 input.sk-hidden--visually {border: 0;clip: rect(1px 1px 1px 1px);clip: rect(1px, 1px, 1px, 1px);height: 1px;margin: -1px;overflow: hidden;padding: 0;position: absolute;width: 1px;}#sk-container-id-1 div.sk-estimator {font-family: monospace;background-color: #f0f8ff;border: 1px dotted black;border-radius: 0.25em;box-sizing: border-box;margin-bottom: 0.5em;}#sk-container-id-1 div.sk-estimator:hover {background-color: #d4ebff;}#sk-container-id-1 div.sk-parallel-item::after {content: \"\";width: 100%;border-bottom: 1px solid gray;flex-grow: 1;}#sk-container-id-1 div.sk-label:hover label.sk-toggleable__label {background-color: #d4ebff;}#sk-container-id-1 div.sk-serial::before {content: \"\";position: absolute;border-left: 1px solid gray;box-sizing: border-box;top: 0;bottom: 0;left: 50%;z-index: 0;}#sk-container-id-1 div.sk-serial {display: flex;flex-direction: column;align-items: center;background-color: white;padding-right: 0.2em;padding-left: 0.2em;position: relative;}#sk-container-id-1 div.sk-item {position: relative;z-index: 1;}#sk-container-id-1 div.sk-parallel {display: flex;align-items: stretch;justify-content: center;background-color: white;position: relative;}#sk-container-id-1 div.sk-item::before, #sk-container-id-1 div.sk-parallel-item::before {content: \"\";position: absolute;border-left: 1px solid gray;box-sizing: border-box;top: 0;bottom: 0;left: 50%;z-index: -1;}#sk-container-id-1 div.sk-parallel-item {display: flex;flex-direction: column;z-index: 1;position: relative;background-color: white;}#sk-container-id-1 div.sk-parallel-item:first-child::after {align-self: flex-end;width: 50%;}#sk-container-id-1 div.sk-parallel-item:last-child::after {align-self: flex-start;width: 50%;}#sk-container-id-1 div.sk-parallel-item:only-child::after {width: 0;}#sk-container-id-1 div.sk-dashed-wrapped {border: 1px dashed gray;margin: 0 0.4em 0.5em 0.4em;box-sizing: border-box;padding-bottom: 0.4em;background-color: white;}#sk-container-id-1 div.sk-label label {font-family: monospace;font-weight: bold;display: inline-block;line-height: 1.2em;}#sk-container-id-1 div.sk-label-container {text-align: center;}#sk-container-id-1 div.sk-container {/* jupyter's `normalize.less` sets `[hidden] { display: none; }` but bootstrap.min.css set `[hidden] { display: none !important; }` so we also need the `!important` here to be able to override the default hidden behavior on the sphinx rendered scikit-learn.org. See: https://github.com/scikit-learn/scikit-learn/issues/21755 */display: inline-block !important;position: relative;}#sk-container-id-1 div.sk-text-repr-fallback {display: none;}</style><div id=\"sk-container-id-1\" class=\"sk-top-container\"><div class=\"sk-text-repr-fallback\"><pre>Pipeline(steps=[(&#x27;columntransformer&#x27;,\n",
       "                 ColumnTransformer(remainder=&#x27;passthrough&#x27;,\n",
       "                                   transformers=[(&#x27;one-hot-encoder&#x27;,\n",
       "                                                  OneHotEncoder(handle_unknown=&#x27;ignore&#x27;),\n",
       "                                                  [&#x27;home&#x27;, &#x27;marital&#x27;, &#x27;records&#x27;,\n",
       "                                                   &#x27;job&#x27;])])),\n",
       "                (&#x27;decisiontreeclassifier&#x27;, DecisionTreeClassifier())])</pre><b>In a Jupyter environment, please rerun this cell to show the HTML representation or trust the notebook. <br />On GitHub, the HTML representation is unable to render, please try loading this page with nbviewer.org.</b></div><div class=\"sk-container\" hidden><div class=\"sk-item sk-dashed-wrapped\"><div class=\"sk-label-container\"><div class=\"sk-label sk-toggleable\"><input class=\"sk-toggleable__control sk-hidden--visually\" id=\"sk-estimator-id-1\" type=\"checkbox\" ><label for=\"sk-estimator-id-1\" class=\"sk-toggleable__label sk-toggleable__label-arrow\">Pipeline</label><div class=\"sk-toggleable__content\"><pre>Pipeline(steps=[(&#x27;columntransformer&#x27;,\n",
       "                 ColumnTransformer(remainder=&#x27;passthrough&#x27;,\n",
       "                                   transformers=[(&#x27;one-hot-encoder&#x27;,\n",
       "                                                  OneHotEncoder(handle_unknown=&#x27;ignore&#x27;),\n",
       "                                                  [&#x27;home&#x27;, &#x27;marital&#x27;, &#x27;records&#x27;,\n",
       "                                                   &#x27;job&#x27;])])),\n",
       "                (&#x27;decisiontreeclassifier&#x27;, DecisionTreeClassifier())])</pre></div></div></div><div class=\"sk-serial\"><div class=\"sk-item sk-dashed-wrapped\"><div class=\"sk-label-container\"><div class=\"sk-label sk-toggleable\"><input class=\"sk-toggleable__control sk-hidden--visually\" id=\"sk-estimator-id-2\" type=\"checkbox\" ><label for=\"sk-estimator-id-2\" class=\"sk-toggleable__label sk-toggleable__label-arrow\">columntransformer: ColumnTransformer</label><div class=\"sk-toggleable__content\"><pre>ColumnTransformer(remainder=&#x27;passthrough&#x27;,\n",
       "                  transformers=[(&#x27;one-hot-encoder&#x27;,\n",
       "                                 OneHotEncoder(handle_unknown=&#x27;ignore&#x27;),\n",
       "                                 [&#x27;home&#x27;, &#x27;marital&#x27;, &#x27;records&#x27;, &#x27;job&#x27;])])</pre></div></div></div><div class=\"sk-parallel\"><div class=\"sk-parallel-item\"><div class=\"sk-item\"><div class=\"sk-label-container\"><div class=\"sk-label sk-toggleable\"><input class=\"sk-toggleable__control sk-hidden--visually\" id=\"sk-estimator-id-3\" type=\"checkbox\" ><label for=\"sk-estimator-id-3\" class=\"sk-toggleable__label sk-toggleable__label-arrow\">one-hot-encoder</label><div class=\"sk-toggleable__content\"><pre>[&#x27;home&#x27;, &#x27;marital&#x27;, &#x27;records&#x27;, &#x27;job&#x27;]</pre></div></div></div><div class=\"sk-serial\"><div class=\"sk-item\"><div class=\"sk-estimator sk-toggleable\"><input class=\"sk-toggleable__control sk-hidden--visually\" id=\"sk-estimator-id-4\" type=\"checkbox\" ><label for=\"sk-estimator-id-4\" class=\"sk-toggleable__label sk-toggleable__label-arrow\">OneHotEncoder</label><div class=\"sk-toggleable__content\"><pre>OneHotEncoder(handle_unknown=&#x27;ignore&#x27;)</pre></div></div></div></div></div></div><div class=\"sk-parallel-item\"><div class=\"sk-item\"><div class=\"sk-label-container\"><div class=\"sk-label sk-toggleable\"><input class=\"sk-toggleable__control sk-hidden--visually\" id=\"sk-estimator-id-5\" type=\"checkbox\" ><label for=\"sk-estimator-id-5\" class=\"sk-toggleable__label sk-toggleable__label-arrow\">remainder</label><div class=\"sk-toggleable__content\"><pre>[&#x27;seniority&#x27;, &#x27;time&#x27;, &#x27;age&#x27;, &#x27;expenses&#x27;, &#x27;income&#x27;, &#x27;assets&#x27;, &#x27;debt&#x27;, &#x27;amount&#x27;, &#x27;price&#x27;]</pre></div></div></div><div class=\"sk-serial\"><div class=\"sk-item\"><div class=\"sk-estimator sk-toggleable\"><input class=\"sk-toggleable__control sk-hidden--visually\" id=\"sk-estimator-id-6\" type=\"checkbox\" ><label for=\"sk-estimator-id-6\" class=\"sk-toggleable__label sk-toggleable__label-arrow\">passthrough</label><div class=\"sk-toggleable__content\"><pre>passthrough</pre></div></div></div></div></div></div></div></div><div class=\"sk-item\"><div class=\"sk-estimator sk-toggleable\"><input class=\"sk-toggleable__control sk-hidden--visually\" id=\"sk-estimator-id-7\" type=\"checkbox\" ><label for=\"sk-estimator-id-7\" class=\"sk-toggleable__label sk-toggleable__label-arrow\">DecisionTreeClassifier</label><div class=\"sk-toggleable__content\"><pre>DecisionTreeClassifier()</pre></div></div></div></div></div></div></div>"
      ],
      "text/plain": [
       "Pipeline(steps=[('columntransformer',\n",
       "                 ColumnTransformer(remainder='passthrough',\n",
       "                                   transformers=[('one-hot-encoder',\n",
       "                                                  OneHotEncoder(handle_unknown='ignore'),\n",
       "                                                  ['home', 'marital', 'records',\n",
       "                                                   'job'])])),\n",
       "                ('decisiontreeclassifier', DecisionTreeClassifier())])"
      ]
     },
     "execution_count": 19,
     "metadata": {},
     "output_type": "execute_result"
    }
   ],
   "source": [
    "model.fit(dfTrain, yTrain)"
   ]
  },
  {
   "cell_type": "code",
   "execution_count": 20,
   "id": "e4fca7b3",
   "metadata": {},
   "outputs": [
    {
     "name": "stdout",
     "output_type": "stream",
     "text": [
      "Val prediction: [1. 1. 0. ... 0. 0. 1.]\n",
      "Val AUC: 0.6494502127258371\n",
      "Train prediction: [1. 0. 1. ... 0. 0. 1.]\n",
      "Train AUC: 1.0\n"
     ]
    }
   ],
   "source": [
    "from sklearn.metrics import roc_auc_score\n",
    "yValPred = model.predict_proba(dfVal)[:,1]\n",
    "print(f'Val prediction: {yValPred}')\n",
    "print(f'Val AUC: {roc_auc_score(yVal, yValPred)}')\n",
    "\n",
    "yTrainPred = model.predict_proba(dfTrain)[:,1]\n",
    "print(f'Train prediction: {yTrainPred}')\n",
    "print(f'Train AUC: {roc_auc_score(yTrain, yTrainPred)}')"
   ]
  },
  {
   "cell_type": "markdown",
   "id": "4f188100",
   "metadata": {},
   "source": [
    "Model is overfitting. Let's change the depth of the tree to 3."
   ]
  },
  {
   "cell_type": "code",
   "execution_count": 21,
   "id": "94964b0b",
   "metadata": {},
   "outputs": [
    {
     "data": {
      "text/html": [
       "<style>#sk-container-id-2 {color: black;background-color: white;}#sk-container-id-2 pre{padding: 0;}#sk-container-id-2 div.sk-toggleable {background-color: white;}#sk-container-id-2 label.sk-toggleable__label {cursor: pointer;display: block;width: 100%;margin-bottom: 0;padding: 0.3em;box-sizing: border-box;text-align: center;}#sk-container-id-2 label.sk-toggleable__label-arrow:before {content: \"▸\";float: left;margin-right: 0.25em;color: #696969;}#sk-container-id-2 label.sk-toggleable__label-arrow:hover:before {color: black;}#sk-container-id-2 div.sk-estimator:hover label.sk-toggleable__label-arrow:before {color: black;}#sk-container-id-2 div.sk-toggleable__content {max-height: 0;max-width: 0;overflow: hidden;text-align: left;background-color: #f0f8ff;}#sk-container-id-2 div.sk-toggleable__content pre {margin: 0.2em;color: black;border-radius: 0.25em;background-color: #f0f8ff;}#sk-container-id-2 input.sk-toggleable__control:checked~div.sk-toggleable__content {max-height: 200px;max-width: 100%;overflow: auto;}#sk-container-id-2 input.sk-toggleable__control:checked~label.sk-toggleable__label-arrow:before {content: \"▾\";}#sk-container-id-2 div.sk-estimator input.sk-toggleable__control:checked~label.sk-toggleable__label {background-color: #d4ebff;}#sk-container-id-2 div.sk-label input.sk-toggleable__control:checked~label.sk-toggleable__label {background-color: #d4ebff;}#sk-container-id-2 input.sk-hidden--visually {border: 0;clip: rect(1px 1px 1px 1px);clip: rect(1px, 1px, 1px, 1px);height: 1px;margin: -1px;overflow: hidden;padding: 0;position: absolute;width: 1px;}#sk-container-id-2 div.sk-estimator {font-family: monospace;background-color: #f0f8ff;border: 1px dotted black;border-radius: 0.25em;box-sizing: border-box;margin-bottom: 0.5em;}#sk-container-id-2 div.sk-estimator:hover {background-color: #d4ebff;}#sk-container-id-2 div.sk-parallel-item::after {content: \"\";width: 100%;border-bottom: 1px solid gray;flex-grow: 1;}#sk-container-id-2 div.sk-label:hover label.sk-toggleable__label {background-color: #d4ebff;}#sk-container-id-2 div.sk-serial::before {content: \"\";position: absolute;border-left: 1px solid gray;box-sizing: border-box;top: 0;bottom: 0;left: 50%;z-index: 0;}#sk-container-id-2 div.sk-serial {display: flex;flex-direction: column;align-items: center;background-color: white;padding-right: 0.2em;padding-left: 0.2em;position: relative;}#sk-container-id-2 div.sk-item {position: relative;z-index: 1;}#sk-container-id-2 div.sk-parallel {display: flex;align-items: stretch;justify-content: center;background-color: white;position: relative;}#sk-container-id-2 div.sk-item::before, #sk-container-id-2 div.sk-parallel-item::before {content: \"\";position: absolute;border-left: 1px solid gray;box-sizing: border-box;top: 0;bottom: 0;left: 50%;z-index: -1;}#sk-container-id-2 div.sk-parallel-item {display: flex;flex-direction: column;z-index: 1;position: relative;background-color: white;}#sk-container-id-2 div.sk-parallel-item:first-child::after {align-self: flex-end;width: 50%;}#sk-container-id-2 div.sk-parallel-item:last-child::after {align-self: flex-start;width: 50%;}#sk-container-id-2 div.sk-parallel-item:only-child::after {width: 0;}#sk-container-id-2 div.sk-dashed-wrapped {border: 1px dashed gray;margin: 0 0.4em 0.5em 0.4em;box-sizing: border-box;padding-bottom: 0.4em;background-color: white;}#sk-container-id-2 div.sk-label label {font-family: monospace;font-weight: bold;display: inline-block;line-height: 1.2em;}#sk-container-id-2 div.sk-label-container {text-align: center;}#sk-container-id-2 div.sk-container {/* jupyter's `normalize.less` sets `[hidden] { display: none; }` but bootstrap.min.css set `[hidden] { display: none !important; }` so we also need the `!important` here to be able to override the default hidden behavior on the sphinx rendered scikit-learn.org. See: https://github.com/scikit-learn/scikit-learn/issues/21755 */display: inline-block !important;position: relative;}#sk-container-id-2 div.sk-text-repr-fallback {display: none;}</style><div id=\"sk-container-id-2\" class=\"sk-top-container\"><div class=\"sk-text-repr-fallback\"><pre>Pipeline(steps=[(&#x27;columntransformer&#x27;,\n",
       "                 ColumnTransformer(remainder=&#x27;passthrough&#x27;,\n",
       "                                   transformers=[(&#x27;one-hot-encoder&#x27;,\n",
       "                                                  OneHotEncoder(handle_unknown=&#x27;ignore&#x27;),\n",
       "                                                  [&#x27;home&#x27;, &#x27;marital&#x27;, &#x27;records&#x27;,\n",
       "                                                   &#x27;job&#x27;])])),\n",
       "                (&#x27;decisiontreeclassifier&#x27;,\n",
       "                 DecisionTreeClassifier(max_depth=3))])</pre><b>In a Jupyter environment, please rerun this cell to show the HTML representation or trust the notebook. <br />On GitHub, the HTML representation is unable to render, please try loading this page with nbviewer.org.</b></div><div class=\"sk-container\" hidden><div class=\"sk-item sk-dashed-wrapped\"><div class=\"sk-label-container\"><div class=\"sk-label sk-toggleable\"><input class=\"sk-toggleable__control sk-hidden--visually\" id=\"sk-estimator-id-8\" type=\"checkbox\" ><label for=\"sk-estimator-id-8\" class=\"sk-toggleable__label sk-toggleable__label-arrow\">Pipeline</label><div class=\"sk-toggleable__content\"><pre>Pipeline(steps=[(&#x27;columntransformer&#x27;,\n",
       "                 ColumnTransformer(remainder=&#x27;passthrough&#x27;,\n",
       "                                   transformers=[(&#x27;one-hot-encoder&#x27;,\n",
       "                                                  OneHotEncoder(handle_unknown=&#x27;ignore&#x27;),\n",
       "                                                  [&#x27;home&#x27;, &#x27;marital&#x27;, &#x27;records&#x27;,\n",
       "                                                   &#x27;job&#x27;])])),\n",
       "                (&#x27;decisiontreeclassifier&#x27;,\n",
       "                 DecisionTreeClassifier(max_depth=3))])</pre></div></div></div><div class=\"sk-serial\"><div class=\"sk-item sk-dashed-wrapped\"><div class=\"sk-label-container\"><div class=\"sk-label sk-toggleable\"><input class=\"sk-toggleable__control sk-hidden--visually\" id=\"sk-estimator-id-9\" type=\"checkbox\" ><label for=\"sk-estimator-id-9\" class=\"sk-toggleable__label sk-toggleable__label-arrow\">columntransformer: ColumnTransformer</label><div class=\"sk-toggleable__content\"><pre>ColumnTransformer(remainder=&#x27;passthrough&#x27;,\n",
       "                  transformers=[(&#x27;one-hot-encoder&#x27;,\n",
       "                                 OneHotEncoder(handle_unknown=&#x27;ignore&#x27;),\n",
       "                                 [&#x27;home&#x27;, &#x27;marital&#x27;, &#x27;records&#x27;, &#x27;job&#x27;])])</pre></div></div></div><div class=\"sk-parallel\"><div class=\"sk-parallel-item\"><div class=\"sk-item\"><div class=\"sk-label-container\"><div class=\"sk-label sk-toggleable\"><input class=\"sk-toggleable__control sk-hidden--visually\" id=\"sk-estimator-id-10\" type=\"checkbox\" ><label for=\"sk-estimator-id-10\" class=\"sk-toggleable__label sk-toggleable__label-arrow\">one-hot-encoder</label><div class=\"sk-toggleable__content\"><pre>[&#x27;home&#x27;, &#x27;marital&#x27;, &#x27;records&#x27;, &#x27;job&#x27;]</pre></div></div></div><div class=\"sk-serial\"><div class=\"sk-item\"><div class=\"sk-estimator sk-toggleable\"><input class=\"sk-toggleable__control sk-hidden--visually\" id=\"sk-estimator-id-11\" type=\"checkbox\" ><label for=\"sk-estimator-id-11\" class=\"sk-toggleable__label sk-toggleable__label-arrow\">OneHotEncoder</label><div class=\"sk-toggleable__content\"><pre>OneHotEncoder(handle_unknown=&#x27;ignore&#x27;)</pre></div></div></div></div></div></div><div class=\"sk-parallel-item\"><div class=\"sk-item\"><div class=\"sk-label-container\"><div class=\"sk-label sk-toggleable\"><input class=\"sk-toggleable__control sk-hidden--visually\" id=\"sk-estimator-id-12\" type=\"checkbox\" ><label for=\"sk-estimator-id-12\" class=\"sk-toggleable__label sk-toggleable__label-arrow\">remainder</label><div class=\"sk-toggleable__content\"><pre>[&#x27;seniority&#x27;, &#x27;time&#x27;, &#x27;age&#x27;, &#x27;expenses&#x27;, &#x27;income&#x27;, &#x27;assets&#x27;, &#x27;debt&#x27;, &#x27;amount&#x27;, &#x27;price&#x27;]</pre></div></div></div><div class=\"sk-serial\"><div class=\"sk-item\"><div class=\"sk-estimator sk-toggleable\"><input class=\"sk-toggleable__control sk-hidden--visually\" id=\"sk-estimator-id-13\" type=\"checkbox\" ><label for=\"sk-estimator-id-13\" class=\"sk-toggleable__label sk-toggleable__label-arrow\">passthrough</label><div class=\"sk-toggleable__content\"><pre>passthrough</pre></div></div></div></div></div></div></div></div><div class=\"sk-item\"><div class=\"sk-estimator sk-toggleable\"><input class=\"sk-toggleable__control sk-hidden--visually\" id=\"sk-estimator-id-14\" type=\"checkbox\" ><label for=\"sk-estimator-id-14\" class=\"sk-toggleable__label sk-toggleable__label-arrow\">DecisionTreeClassifier</label><div class=\"sk-toggleable__content\"><pre>DecisionTreeClassifier(max_depth=3)</pre></div></div></div></div></div></div></div>"
      ],
      "text/plain": [
       "Pipeline(steps=[('columntransformer',\n",
       "                 ColumnTransformer(remainder='passthrough',\n",
       "                                   transformers=[('one-hot-encoder',\n",
       "                                                  OneHotEncoder(handle_unknown='ignore'),\n",
       "                                                  ['home', 'marital', 'records',\n",
       "                                                   'job'])])),\n",
       "                ('decisiontreeclassifier',\n",
       "                 DecisionTreeClassifier(max_depth=3))])"
      ]
     },
     "execution_count": 21,
     "metadata": {},
     "output_type": "execute_result"
    }
   ],
   "source": [
    "model = make_pipeline(preprocessor, DecisionTreeClassifier(max_depth=3))\n",
    "model.fit(dfTrain, yTrain)"
   ]
  },
  {
   "cell_type": "code",
   "execution_count": 22,
   "id": "8b3243a3",
   "metadata": {},
   "outputs": [
    {
     "name": "stdout",
     "output_type": "stream",
     "text": [
      "Val prediction: [0.39529915 0.12840853 0.12840853 ... 0.10526316 0.12840853 0.61386139]\n",
      "Val AUC: 0.739853782905721\n",
      "Train prediction: [0.61596958 0.39529915 0.61386139 ... 0.12840853 0.12840853 0.39529915]\n",
      "Train AUC: 0.7619636991251401\n"
     ]
    }
   ],
   "source": [
    "from sklearn.metrics import roc_auc_score\n",
    "from sklearn.tree import export_text\n",
    "\n",
    "yValPred = model.predict_proba(dfVal)[:,1]\n",
    "print(f'Val prediction: {yValPred}')\n",
    "aucVal = roc_auc_score(yVal, yValPred)\n",
    "print(f'Val AUC: {aucVal}')\n",
    "yTrainPred = model.predict_proba(dfTrain)[:,1]\n",
    "print(f'Train prediction: {yTrainPred}')\n",
    "print(f'Train AUC: {roc_auc_score(yTrain, yTrainPred)}')"
   ]
  },
  {
   "cell_type": "code",
   "execution_count": 23,
   "id": "b1725aae",
   "metadata": {},
   "outputs": [
    {
     "name": "stdout",
     "output_type": "stream",
     "text": [
      "Val prediction: [0.21973256 0.21973256 0.21973256 ... 0.21973256 0.21973256 0.56719023]\n",
      "Val AUC: 0.6014641351702789\n",
      "Train prediction: [0.21973256 0.21973256 0.56719023 ... 0.21973256 0.21973256 0.21973256]\n",
      "Train AUC: 0.6226529357256055\n"
     ]
    }
   ],
   "source": [
    "model2 = make_pipeline(preprocessor, DecisionTreeClassifier(max_depth=1))\n",
    "model2.fit(dfTrain, yTrain)\n",
    "from sklearn.metrics import roc_auc_score\n",
    "yValPred = model2.predict_proba(dfVal)[:,1]\n",
    "print(f'Val prediction: {yValPred}')\n",
    "aucVal = roc_auc_score(yVal, yValPred)\n",
    "print(f'Val AUC: {aucVal}')\n",
    "yTrainPred = model2.predict_proba(dfTrain)[:,1]\n",
    "print(f'Train prediction: {yTrainPred}')\n",
    "print(f'Train AUC: {roc_auc_score(yTrain, yTrainPred)}')"
   ]
  },
  {
   "cell_type": "code",
   "execution_count": 24,
   "id": "4a6d48c1",
   "metadata": {},
   "outputs": [
    {
     "name": "stdout",
     "output_type": "stream",
     "text": [
      "|--- records_no <= 0.50\n",
      "|   |--- class: 1\n",
      "|--- records_no >  0.50\n",
      "|   |--- class: 0\n",
      "\n"
     ]
    }
   ],
   "source": [
    "names = list(model2.named_steps['columntransformer'].transformers_[0][1].get_feature_names_out(categoricalCols)) + numericalCols\n",
    "names\n",
    "print(export_text(model2['decisiontreeclassifier'], feature_names=names))"
   ]
  },
  {
   "cell_type": "code",
   "execution_count": 25,
   "id": "fe0c9b22",
   "metadata": {
    "scrolled": true
   },
   "outputs": [
    {
     "data": {
      "text/plain": [
       "array(['home_ignore', 'home_other', 'home_owner', 'home_parents',\n",
       "       'home_private', 'home_rent', 'home_unk', 'marital_divorced',\n",
       "       'marital_married', 'marital_separated', 'marital_single',\n",
       "       'marital_unk', 'marital_widow', 'records_no', 'records_yes',\n",
       "       'job_fixed', 'job_freelance', 'job_others', 'job_partime',\n",
       "       'job_unk'], dtype=object)"
      ]
     },
     "execution_count": 25,
     "metadata": {},
     "output_type": "execute_result"
    }
   ],
   "source": [
    "model2.named_steps['columntransformer'].transformers_[0][1].get_feature_names_out(categoricalCols)"
   ]
  },
  {
   "cell_type": "code",
   "execution_count": 26,
   "id": "b8e60684",
   "metadata": {},
   "outputs": [
    {
     "name": "stdout",
     "output_type": "stream",
     "text": [
      "Val prediction: [0.17867203 0.17867203 0.17867203 ... 0.58156028 0.17867203 0.70180723]\n",
      "Val AUC: 0.6624278637454675\n",
      "Train prediction: [0.58156028 0.17867203 0.70180723 ... 0.17867203 0.17867203 0.17867203]\n",
      "Train AUC: 0.6972613817060012\n"
     ]
    }
   ],
   "source": [
    "model3 = make_pipeline(preprocessor, DecisionTreeClassifier(max_depth=2))\n",
    "model3.fit(dfTrain, yTrain)\n",
    "from sklearn.metrics import roc_auc_score\n",
    "yValPred = model3.predict_proba(dfVal)[:,1]\n",
    "print(f'Val prediction: {yValPred}')\n",
    "aucVal = roc_auc_score(yVal, yValPred)\n",
    "print(f'Val AUC: {aucVal}')\n",
    "yTrainPred = model3.predict_proba(dfTrain)[:,1]\n",
    "print(f'Train prediction: {yTrainPred}')\n",
    "print(f'Train AUC: {roc_auc_score(yTrain, yTrainPred)}')"
   ]
  },
  {
   "cell_type": "code",
   "execution_count": 27,
   "id": "2ce49610",
   "metadata": {},
   "outputs": [
    {
     "name": "stdout",
     "output_type": "stream",
     "text": [
      "|--- records_yes <= 0.50\n",
      "|   |--- job_partime <= 0.50\n",
      "|   |   |--- class: 0\n",
      "|   |--- job_partime >  0.50\n",
      "|   |   |--- class: 1\n",
      "|--- records_yes >  0.50\n",
      "|   |--- seniority <= 6.50\n",
      "|   |   |--- class: 1\n",
      "|   |--- seniority >  6.50\n",
      "|   |   |--- class: 0\n",
      "\n"
     ]
    }
   ],
   "source": [
    "names = list(model3.named_steps['columntransformer'].transformers_[0][1].get_feature_names_out(categoricalCols)) + numericalCols\n",
    "names\n",
    "print(export_text(model3['decisiontreeclassifier'], feature_names=names))"
   ]
  },
  {
   "cell_type": "markdown",
   "id": "e75e8d6a",
   "metadata": {},
   "source": [
    "#### Decision Trees"
   ]
  },
  {
   "cell_type": "code",
   "execution_count": 28,
   "id": "a35f7d7f",
   "metadata": {},
   "outputs": [
    {
     "name": "stdout",
     "output_type": "stream",
     "text": [
      "Depth: 1, auc: 0.601\n",
      "Depth: 2, auc: 0.662\n",
      "Depth: 3, auc: 0.74\n",
      "Depth: 4, auc: 0.78\n",
      "Depth: 5, auc: 0.782\n",
      "Depth: 6, auc: 0.779\n",
      "Depth: 10, auc: 0.684\n",
      "Depth: 15, auc: 0.659\n",
      "Depth: 20, auc: 0.662\n",
      "Depth: None, auc: 0.654\n"
     ]
    }
   ],
   "source": [
    "depth = [1,2,3,4,5,6,10,15,20, None]\n",
    "\n",
    "for d in depth:\n",
    "    dt = make_pipeline(preprocessor, DecisionTreeClassifier(max_depth=d))\n",
    "    dt.fit(dfTrain, yTrain)\n",
    "\n",
    "    yValPred = dt.predict_proba(dfVal)[:,1]\n",
    "    auc = round(roc_auc_score(yVal, yValPred),3)\n",
    "    \n",
    "    print(f'Depth: {d}, auc: {auc}')   "
   ]
  },
  {
   "cell_type": "code",
   "execution_count": 29,
   "id": "8bfe4834",
   "metadata": {},
   "outputs": [],
   "source": [
    "scores = []\n",
    "\n",
    "depth = [4,5,6,7,10,15,20,None]\n",
    "\n",
    "leaves = [1,2,5,10,15,20,100,200,500]\n",
    "\n",
    "for d in depth:\n",
    "    \n",
    "    for l in leaves:\n",
    "        \n",
    "        dt = make_pipeline(preprocessor, DecisionTreeClassifier(max_depth=d, min_samples_leaf=l))\n",
    "        dt.fit(dfTrain, yTrain)\n",
    "    \n",
    "        yValPred = dt.predict_proba(dfVal)[:,1]\n",
    "        auc = round(roc_auc_score(yVal, yValPred),3)\n",
    "        scores.append([d, l, auc])\n",
    "        #print(f'Depth: {d}, Leaves: {l}, auc: {auc}')   "
   ]
  },
  {
   "cell_type": "code",
   "execution_count": 30,
   "id": "0c37a530",
   "metadata": {},
   "outputs": [],
   "source": [
    "dfScores = pd.DataFrame(scores, columns=['max_depth', 'min_samples_leaf', 'auc'])\n",
    "#dfScores.sort_values(by='auc', ascending=False)"
   ]
  },
  {
   "cell_type": "code",
   "execution_count": 31,
   "id": "f1cfc455",
   "metadata": {},
   "outputs": [
    {
     "data": {
      "text/html": [
       "<div>\n",
       "<style scoped>\n",
       "    .dataframe tbody tr th:only-of-type {\n",
       "        vertical-align: middle;\n",
       "    }\n",
       "\n",
       "    .dataframe tbody tr th {\n",
       "        vertical-align: top;\n",
       "    }\n",
       "\n",
       "    .dataframe thead tr th {\n",
       "        text-align: left;\n",
       "    }\n",
       "\n",
       "    .dataframe thead tr:last-of-type th {\n",
       "        text-align: right;\n",
       "    }\n",
       "</style>\n",
       "<table border=\"1\" class=\"dataframe\">\n",
       "  <thead>\n",
       "    <tr>\n",
       "      <th></th>\n",
       "      <th colspan=\"8\" halign=\"left\">auc</th>\n",
       "    </tr>\n",
       "    <tr>\n",
       "      <th>max_depth</th>\n",
       "      <th>NaN</th>\n",
       "      <th>4.0</th>\n",
       "      <th>5.0</th>\n",
       "      <th>6.0</th>\n",
       "      <th>7.0</th>\n",
       "      <th>10.0</th>\n",
       "      <th>15.0</th>\n",
       "      <th>20.0</th>\n",
       "    </tr>\n",
       "    <tr>\n",
       "      <th>min_samples_leaf</th>\n",
       "      <th></th>\n",
       "      <th></th>\n",
       "      <th></th>\n",
       "      <th></th>\n",
       "      <th></th>\n",
       "      <th></th>\n",
       "      <th></th>\n",
       "      <th></th>\n",
       "    </tr>\n",
       "  </thead>\n",
       "  <tbody>\n",
       "    <tr>\n",
       "      <th>1</th>\n",
       "      <td>0.651</td>\n",
       "      <td>0.781</td>\n",
       "      <td>0.782</td>\n",
       "      <td>0.780</td>\n",
       "      <td>0.751</td>\n",
       "      <td>0.680</td>\n",
       "      <td>0.683</td>\n",
       "      <td>0.665</td>\n",
       "    </tr>\n",
       "    <tr>\n",
       "      <th>2</th>\n",
       "      <td>0.673</td>\n",
       "      <td>0.781</td>\n",
       "      <td>0.783</td>\n",
       "      <td>0.782</td>\n",
       "      <td>0.756</td>\n",
       "      <td>0.690</td>\n",
       "      <td>0.683</td>\n",
       "      <td>0.671</td>\n",
       "    </tr>\n",
       "    <tr>\n",
       "      <th>5</th>\n",
       "      <td>0.715</td>\n",
       "      <td>0.781</td>\n",
       "      <td>0.784</td>\n",
       "      <td>0.780</td>\n",
       "      <td>0.770</td>\n",
       "      <td>0.725</td>\n",
       "      <td>0.718</td>\n",
       "      <td>0.718</td>\n",
       "    </tr>\n",
       "    <tr>\n",
       "      <th>10</th>\n",
       "      <td>0.757</td>\n",
       "      <td>0.779</td>\n",
       "      <td>0.785</td>\n",
       "      <td>0.779</td>\n",
       "      <td>0.776</td>\n",
       "      <td>0.748</td>\n",
       "      <td>0.751</td>\n",
       "      <td>0.755</td>\n",
       "    </tr>\n",
       "    <tr>\n",
       "      <th>15</th>\n",
       "      <td>0.772</td>\n",
       "      <td>0.779</td>\n",
       "      <td>0.784</td>\n",
       "      <td>0.777</td>\n",
       "      <td>0.776</td>\n",
       "      <td>0.769</td>\n",
       "      <td>0.773</td>\n",
       "      <td>0.768</td>\n",
       "    </tr>\n",
       "    <tr>\n",
       "      <th>20</th>\n",
       "      <td>0.783</td>\n",
       "      <td>0.778</td>\n",
       "      <td>0.783</td>\n",
       "      <td>0.784</td>\n",
       "      <td>0.786</td>\n",
       "      <td>0.788</td>\n",
       "      <td>0.783</td>\n",
       "      <td>0.778</td>\n",
       "    </tr>\n",
       "    <tr>\n",
       "      <th>100</th>\n",
       "      <td>0.791</td>\n",
       "      <td>0.770</td>\n",
       "      <td>0.779</td>\n",
       "      <td>0.788</td>\n",
       "      <td>0.792</td>\n",
       "      <td>0.791</td>\n",
       "      <td>0.791</td>\n",
       "      <td>0.791</td>\n",
       "    </tr>\n",
       "    <tr>\n",
       "      <th>200</th>\n",
       "      <td>0.783</td>\n",
       "      <td>0.770</td>\n",
       "      <td>0.783</td>\n",
       "      <td>0.783</td>\n",
       "      <td>0.783</td>\n",
       "      <td>0.783</td>\n",
       "      <td>0.783</td>\n",
       "      <td>0.783</td>\n",
       "    </tr>\n",
       "    <tr>\n",
       "      <th>500</th>\n",
       "      <td>0.729</td>\n",
       "      <td>0.729</td>\n",
       "      <td>0.729</td>\n",
       "      <td>0.729</td>\n",
       "      <td>0.729</td>\n",
       "      <td>0.729</td>\n",
       "      <td>0.729</td>\n",
       "      <td>0.729</td>\n",
       "    </tr>\n",
       "  </tbody>\n",
       "</table>\n",
       "</div>"
      ],
      "text/plain": [
       "                    auc                                                 \n",
       "max_depth           NaN   4.0    5.0    6.0    7.0    10.0   15.0   20.0\n",
       "min_samples_leaf                                                        \n",
       "1                 0.651  0.781  0.782  0.780  0.751  0.680  0.683  0.665\n",
       "2                 0.673  0.781  0.783  0.782  0.756  0.690  0.683  0.671\n",
       "5                 0.715  0.781  0.784  0.780  0.770  0.725  0.718  0.718\n",
       "10                0.757  0.779  0.785  0.779  0.776  0.748  0.751  0.755\n",
       "15                0.772  0.779  0.784  0.777  0.776  0.769  0.773  0.768\n",
       "20                0.783  0.778  0.783  0.784  0.786  0.788  0.783  0.778\n",
       "100               0.791  0.770  0.779  0.788  0.792  0.791  0.791  0.791\n",
       "200               0.783  0.770  0.783  0.783  0.783  0.783  0.783  0.783\n",
       "500               0.729  0.729  0.729  0.729  0.729  0.729  0.729  0.729"
      ]
     },
     "execution_count": 31,
     "metadata": {},
     "output_type": "execute_result"
    }
   ],
   "source": [
    "dfScoresPivot = dfScores.pivot(index='min_samples_leaf', columns=['max_depth'], values=['auc'])\n",
    "dfScoresPivot.round(3)"
   ]
  },
  {
   "cell_type": "code",
   "execution_count": 32,
   "id": "36476a6b",
   "metadata": {},
   "outputs": [
    {
     "data": {
      "text/plain": [
       "<AxesSubplot:xlabel='None-max_depth', ylabel='min_samples_leaf'>"
      ]
     },
     "execution_count": 32,
     "metadata": {},
     "output_type": "execute_result"
    },
    {
     "data": {
      "image/png": "[encoded data removed]",
      "text/plain": [
       "<Figure size 432x288 with 2 Axes>"
      ]
     },
     "metadata": {
      "needs_background": "light"
     },
     "output_type": "display_data"
    }
   ],
   "source": [
    "sns.heatmap(dfScoresPivot, annot=True, fmt='.3f')"
   ]
  },
  {
   "cell_type": "code",
   "execution_count": 33,
   "id": "a2efe666",
   "metadata": {},
   "outputs": [
    {
     "data": {
      "text/plain": [
       "0.783"
      ]
     },
     "execution_count": 33,
     "metadata": {},
     "output_type": "execute_result"
    }
   ],
   "source": [
    "dt = make_pipeline(preprocessor, DecisionTreeClassifier(max_depth=10, min_samples_leaf=20))\n",
    "dt.fit(dfTrain, yTrain)\n",
    "yValPred = dt.predict_proba(dfVal)[:,1]\n",
    "auc = round(roc_auc_score(yVal, yValPred),3)\n",
    "auc"
   ]
  },
  {
   "cell_type": "markdown",
   "id": "468ff398",
   "metadata": {},
   "source": [
    "#### Random Forest"
   ]
  },
  {
   "cell_type": "code",
   "execution_count": 34,
   "id": "a5bfc532",
   "metadata": {},
   "outputs": [],
   "source": [
    "from sklearn.ensemble import RandomForestClassifier"
   ]
  },
  {
   "cell_type": "code",
   "execution_count": 35,
   "id": "947f264d",
   "metadata": {},
   "outputs": [
    {
     "data": {
      "text/html": [
       "<style>#sk-container-id-3 {color: black;background-color: white;}#sk-container-id-3 pre{padding: 0;}#sk-container-id-3 div.sk-toggleable {background-color: white;}#sk-container-id-3 label.sk-toggleable__label {cursor: pointer;display: block;width: 100%;margin-bottom: 0;padding: 0.3em;box-sizing: border-box;text-align: center;}#sk-container-id-3 label.sk-toggleable__label-arrow:before {content: \"▸\";float: left;margin-right: 0.25em;color: #696969;}#sk-container-id-3 label.sk-toggleable__label-arrow:hover:before {color: black;}#sk-container-id-3 div.sk-estimator:hover label.sk-toggleable__label-arrow:before {color: black;}#sk-container-id-3 div.sk-toggleable__content {max-height: 0;max-width: 0;overflow: hidden;text-align: left;background-color: #f0f8ff;}#sk-container-id-3 div.sk-toggleable__content pre {margin: 0.2em;color: black;border-radius: 0.25em;background-color: #f0f8ff;}#sk-container-id-3 input.sk-toggleable__control:checked~div.sk-toggleable__content {max-height: 200px;max-width: 100%;overflow: auto;}#sk-container-id-3 input.sk-toggleable__control:checked~label.sk-toggleable__label-arrow:before {content: \"▾\";}#sk-container-id-3 div.sk-estimator input.sk-toggleable__control:checked~label.sk-toggleable__label {background-color: #d4ebff;}#sk-container-id-3 div.sk-label input.sk-toggleable__control:checked~label.sk-toggleable__label {background-color: #d4ebff;}#sk-container-id-3 input.sk-hidden--visually {border: 0;clip: rect(1px 1px 1px 1px);clip: rect(1px, 1px, 1px, 1px);height: 1px;margin: -1px;overflow: hidden;padding: 0;position: absolute;width: 1px;}#sk-container-id-3 div.sk-estimator {font-family: monospace;background-color: #f0f8ff;border: 1px dotted black;border-radius: 0.25em;box-sizing: border-box;margin-bottom: 0.5em;}#sk-container-id-3 div.sk-estimator:hover {background-color: #d4ebff;}#sk-container-id-3 div.sk-parallel-item::after {content: \"\";width: 100%;border-bottom: 1px solid gray;flex-grow: 1;}#sk-container-id-3 div.sk-label:hover label.sk-toggleable__label {background-color: #d4ebff;}#sk-container-id-3 div.sk-serial::before {content: \"\";position: absolute;border-left: 1px solid gray;box-sizing: border-box;top: 0;bottom: 0;left: 50%;z-index: 0;}#sk-container-id-3 div.sk-serial {display: flex;flex-direction: column;align-items: center;background-color: white;padding-right: 0.2em;padding-left: 0.2em;position: relative;}#sk-container-id-3 div.sk-item {position: relative;z-index: 1;}#sk-container-id-3 div.sk-parallel {display: flex;align-items: stretch;justify-content: center;background-color: white;position: relative;}#sk-container-id-3 div.sk-item::before, #sk-container-id-3 div.sk-parallel-item::before {content: \"\";position: absolute;border-left: 1px solid gray;box-sizing: border-box;top: 0;bottom: 0;left: 50%;z-index: -1;}#sk-container-id-3 div.sk-parallel-item {display: flex;flex-direction: column;z-index: 1;position: relative;background-color: white;}#sk-container-id-3 div.sk-parallel-item:first-child::after {align-self: flex-end;width: 50%;}#sk-container-id-3 div.sk-parallel-item:last-child::after {align-self: flex-start;width: 50%;}#sk-container-id-3 div.sk-parallel-item:only-child::after {width: 0;}#sk-container-id-3 div.sk-dashed-wrapped {border: 1px dashed gray;margin: 0 0.4em 0.5em 0.4em;box-sizing: border-box;padding-bottom: 0.4em;background-color: white;}#sk-container-id-3 div.sk-label label {font-family: monospace;font-weight: bold;display: inline-block;line-height: 1.2em;}#sk-container-id-3 div.sk-label-container {text-align: center;}#sk-container-id-3 div.sk-container {/* jupyter's `normalize.less` sets `[hidden] { display: none; }` but bootstrap.min.css set `[hidden] { display: none !important; }` so we also need the `!important` here to be able to override the default hidden behavior on the sphinx rendered scikit-learn.org. See: https://github.com/scikit-learn/scikit-learn/issues/21755 */display: inline-block !important;position: relative;}#sk-container-id-3 div.sk-text-repr-fallback {display: none;}</style><div id=\"sk-container-id-3\" class=\"sk-top-container\"><div class=\"sk-text-repr-fallback\"><pre>Pipeline(steps=[(&#x27;columntransformer&#x27;,\n",
       "                 ColumnTransformer(remainder=&#x27;passthrough&#x27;,\n",
       "                                   transformers=[(&#x27;one-hot-encoder&#x27;,\n",
       "                                                  OneHotEncoder(handle_unknown=&#x27;ignore&#x27;),\n",
       "                                                  [&#x27;home&#x27;, &#x27;marital&#x27;, &#x27;records&#x27;,\n",
       "                                                   &#x27;job&#x27;])])),\n",
       "                (&#x27;randomforestclassifier&#x27;,\n",
       "                 RandomForestClassifier(n_estimators=10, random_state=1))])</pre><b>In a Jupyter environment, please rerun this cell to show the HTML representation or trust the notebook. <br />On GitHub, the HTML representation is unable to render, please try loading this page with nbviewer.org.</b></div><div class=\"sk-container\" hidden><div class=\"sk-item sk-dashed-wrapped\"><div class=\"sk-label-container\"><div class=\"sk-label sk-toggleable\"><input class=\"sk-toggleable__control sk-hidden--visually\" id=\"sk-estimator-id-15\" type=\"checkbox\" ><label for=\"sk-estimator-id-15\" class=\"sk-toggleable__label sk-toggleable__label-arrow\">Pipeline</label><div class=\"sk-toggleable__content\"><pre>Pipeline(steps=[(&#x27;columntransformer&#x27;,\n",
       "                 ColumnTransformer(remainder=&#x27;passthrough&#x27;,\n",
       "                                   transformers=[(&#x27;one-hot-encoder&#x27;,\n",
       "                                                  OneHotEncoder(handle_unknown=&#x27;ignore&#x27;),\n",
       "                                                  [&#x27;home&#x27;, &#x27;marital&#x27;, &#x27;records&#x27;,\n",
       "                                                   &#x27;job&#x27;])])),\n",
       "                (&#x27;randomforestclassifier&#x27;,\n",
       "                 RandomForestClassifier(n_estimators=10, random_state=1))])</pre></div></div></div><div class=\"sk-serial\"><div class=\"sk-item sk-dashed-wrapped\"><div class=\"sk-label-container\"><div class=\"sk-label sk-toggleable\"><input class=\"sk-toggleable__control sk-hidden--visually\" id=\"sk-estimator-id-16\" type=\"checkbox\" ><label for=\"sk-estimator-id-16\" class=\"sk-toggleable__label sk-toggleable__label-arrow\">columntransformer: ColumnTransformer</label><div class=\"sk-toggleable__content\"><pre>ColumnTransformer(remainder=&#x27;passthrough&#x27;,\n",
       "                  transformers=[(&#x27;one-hot-encoder&#x27;,\n",
       "                                 OneHotEncoder(handle_unknown=&#x27;ignore&#x27;),\n",
       "                                 [&#x27;home&#x27;, &#x27;marital&#x27;, &#x27;records&#x27;, &#x27;job&#x27;])])</pre></div></div></div><div class=\"sk-parallel\"><div class=\"sk-parallel-item\"><div class=\"sk-item\"><div class=\"sk-label-container\"><div class=\"sk-label sk-toggleable\"><input class=\"sk-toggleable__control sk-hidden--visually\" id=\"sk-estimator-id-17\" type=\"checkbox\" ><label for=\"sk-estimator-id-17\" class=\"sk-toggleable__label sk-toggleable__label-arrow\">one-hot-encoder</label><div class=\"sk-toggleable__content\"><pre>[&#x27;home&#x27;, &#x27;marital&#x27;, &#x27;records&#x27;, &#x27;job&#x27;]</pre></div></div></div><div class=\"sk-serial\"><div class=\"sk-item\"><div class=\"sk-estimator sk-toggleable\"><input class=\"sk-toggleable__control sk-hidden--visually\" id=\"sk-estimator-id-18\" type=\"checkbox\" ><label for=\"sk-estimator-id-18\" class=\"sk-toggleable__label sk-toggleable__label-arrow\">OneHotEncoder</label><div class=\"sk-toggleable__content\"><pre>OneHotEncoder(handle_unknown=&#x27;ignore&#x27;)</pre></div></div></div></div></div></div><div class=\"sk-parallel-item\"><div class=\"sk-item\"><div class=\"sk-label-container\"><div class=\"sk-label sk-toggleable\"><input class=\"sk-toggleable__control sk-hidden--visually\" id=\"sk-estimator-id-19\" type=\"checkbox\" ><label for=\"sk-estimator-id-19\" class=\"sk-toggleable__label sk-toggleable__label-arrow\">remainder</label><div class=\"sk-toggleable__content\"><pre>[&#x27;seniority&#x27;, &#x27;time&#x27;, &#x27;age&#x27;, &#x27;expenses&#x27;, &#x27;income&#x27;, &#x27;assets&#x27;, &#x27;debt&#x27;, &#x27;amount&#x27;, &#x27;price&#x27;]</pre></div></div></div><div class=\"sk-serial\"><div class=\"sk-item\"><div class=\"sk-estimator sk-toggleable\"><input class=\"sk-toggleable__control sk-hidden--visually\" id=\"sk-estimator-id-20\" type=\"checkbox\" ><label for=\"sk-estimator-id-20\" class=\"sk-toggleable__label sk-toggleable__label-arrow\">passthrough</label><div class=\"sk-toggleable__content\"><pre>passthrough</pre></div></div></div></div></div></div></div></div><div class=\"sk-item\"><div class=\"sk-estimator sk-toggleable\"><input class=\"sk-toggleable__control sk-hidden--visually\" id=\"sk-estimator-id-21\" type=\"checkbox\" ><label for=\"sk-estimator-id-21\" class=\"sk-toggleable__label sk-toggleable__label-arrow\">RandomForestClassifier</label><div class=\"sk-toggleable__content\"><pre>RandomForestClassifier(n_estimators=10, random_state=1)</pre></div></div></div></div></div></div></div>"
      ],
      "text/plain": [
       "Pipeline(steps=[('columntransformer',\n",
       "                 ColumnTransformer(remainder='passthrough',\n",
       "                                   transformers=[('one-hot-encoder',\n",
       "                                                  OneHotEncoder(handle_unknown='ignore'),\n",
       "                                                  ['home', 'marital', 'records',\n",
       "                                                   'job'])])),\n",
       "                ('randomforestclassifier',\n",
       "                 RandomForestClassifier(n_estimators=10, random_state=1))])"
      ]
     },
     "execution_count": 35,
     "metadata": {},
     "output_type": "execute_result"
    }
   ],
   "source": [
    "RF = make_pipeline(preprocessor, RandomForestClassifier(n_estimators=10, random_state=1))\n",
    "RF.fit(dfTrain, yTrain)"
   ]
  },
  {
   "cell_type": "code",
   "execution_count": 36,
   "id": "e6b59dea",
   "metadata": {},
   "outputs": [],
   "source": [
    "yValPred = RF.predict_proba(dfVal)[:,1]"
   ]
  },
  {
   "cell_type": "code",
   "execution_count": 37,
   "id": "a8edf098",
   "metadata": {},
   "outputs": [
    {
     "data": {
      "text/plain": [
       "0.7927956064159527"
      ]
     },
     "execution_count": 37,
     "metadata": {},
     "output_type": "execute_result"
    }
   ],
   "source": [
    "roc_auc_score(yVal, yValPred)"
   ]
  },
  {
   "cell_type": "code",
   "execution_count": 38,
   "id": "6952a60c",
   "metadata": {},
   "outputs": [],
   "source": [
    "dfVal.reset_index(drop=True, inplace=True)"
   ]
  },
  {
   "cell_type": "code",
   "execution_count": 39,
   "id": "19ce9f22",
   "metadata": {},
   "outputs": [
    {
     "data": {
      "text/plain": [
       "array([[0.4, 0.6]])"
      ]
     },
     "execution_count": 39,
     "metadata": {},
     "output_type": "execute_result"
    }
   ],
   "source": [
    "RF.predict_proba(dfVal[0:1])"
   ]
  },
  {
   "cell_type": "code",
   "execution_count": 40,
   "id": "02607c99",
   "metadata": {},
   "outputs": [],
   "source": [
    "scores = []\n",
    "for n in range(10, 201, 10):\n",
    "    RF = make_pipeline(preprocessor, RandomForestClassifier(n_estimators=n, random_state=1))\n",
    "    RF.fit(dfTrain, yTrain)\n",
    "    yValPred = RF.predict_proba(dfVal)[:,1]\n",
    "    auc = roc_auc_score(yVal, yValPred)\n",
    "    scores.append([n, auc])"
   ]
  },
  {
   "cell_type": "code",
   "execution_count": 41,
   "id": "054c373b",
   "metadata": {},
   "outputs": [],
   "source": [
    "dfScores = pd.DataFrame(scores, columns=['n_stimators', 'auc'])"
   ]
  },
  {
   "cell_type": "code",
   "execution_count": 42,
   "id": "83dc1e7d",
   "metadata": {},
   "outputs": [
    {
     "data": {
      "image/png": "[encoded data removed]",
      "text/plain": [
       "<Figure size 432x288 with 1 Axes>"
      ]
     },
     "metadata": {
      "needs_background": "light"
     },
     "output_type": "display_data"
    }
   ],
   "source": [
    "_ = plt.plot(dfScores.n_stimators, dfScores.auc)"
   ]
  },
  {
   "cell_type": "code",
   "execution_count": 43,
   "id": "21336581",
   "metadata": {},
   "outputs": [],
   "source": [
    "scores = []\n",
    "\n",
    "for d in [5,10,15, 50, 100]:\n",
    "    for n in range(10, 201, 10):\n",
    "        RF = make_pipeline(preprocessor, RandomForestClassifier(n_estimators=n, max_depth=d, random_state=1))\n",
    "        RF.fit(dfTrain, yTrain)\n",
    "        yValPred = RF.predict_proba(dfVal)[:,1]\n",
    "        auc = roc_auc_score(yVal, yValPred)\n",
    "        scores.append([d, n, auc])"
   ]
  },
  {
   "cell_type": "code",
   "execution_count": 44,
   "id": "414423e7",
   "metadata": {},
   "outputs": [],
   "source": [
    "dfScores = pd.DataFrame(scores, columns=['max_depth', 'n_stimators', 'auc'])"
   ]
  },
  {
   "cell_type": "code",
   "execution_count": 45,
   "id": "2a223094",
   "metadata": {},
   "outputs": [
    {
     "data": {
      "image/png": "[encoded data removed]",
      "text/plain": [
       "<Figure size 432x288 with 1 Axes>"
      ]
     },
     "metadata": {
      "needs_background": "light"
     },
     "output_type": "display_data"
    }
   ],
   "source": [
    "for d in [5,10,15, 50, 100]:\n",
    "    dfSubset = dfScores[dfScores.max_depth == d]\n",
    "    plt.plot(dfSubset.n_stimators, dfSubset.auc ,label = f'max_depth={d}')\n",
    "                 \n",
    "_ = plt.legend()                 "
   ]
  },
  {
   "cell_type": "code",
   "execution_count": 46,
   "id": "af881157",
   "metadata": {},
   "outputs": [],
   "source": [
    "max_depth = 10"
   ]
  },
  {
   "cell_type": "code",
   "execution_count": 47,
   "id": "fded70c6",
   "metadata": {},
   "outputs": [],
   "source": [
    "scores = []\n",
    "\n",
    "for l in [1,3,5,10,50]:\n",
    "    for n in range(10, 201, 10):\n",
    "        RF = make_pipeline(preprocessor, RandomForestClassifier(n_estimators=n, \n",
    "                                                                max_depth=max_depth,\n",
    "                                                                min_samples_leaf=l,\n",
    "                                                                random_state=1,\n",
    "                                                                n_jobs=-1))\n",
    "        RF.fit(dfTrain, yTrain)\n",
    "        yValPred = RF.predict_proba(dfVal)[:,1]\n",
    "        auc = roc_auc_score(yVal, yValPred)\n",
    "        scores.append([l, n, auc])"
   ]
  },
  {
   "cell_type": "code",
   "execution_count": 48,
   "id": "d0ab391a",
   "metadata": {},
   "outputs": [
    {
     "data": {
      "image/png": "[encoded data removed]",
      "text/plain": [
       "<Figure size 432x288 with 1 Axes>"
      ]
     },
     "metadata": {
      "needs_background": "light"
     },
     "output_type": "display_data"
    }
   ],
   "source": [
    "dfScores = pd.DataFrame(scores, columns=['min_samples_leaf', 'n_stimators', 'auc'])\n",
    "for l in [1,3,5,10,50]:\n",
    "    dfSubset = dfScores[dfScores.min_samples_leaf == l]\n",
    "    plt.plot(dfSubset.n_stimators, dfSubset.auc ,label = f'min_samples_leaf={l}')\n",
    "                 \n",
    "_ = plt.legend()                 "
   ]
  },
  {
   "cell_type": "code",
   "execution_count": 49,
   "id": "9a54aa2c",
   "metadata": {},
   "outputs": [],
   "source": [
    "min_samples_leaf = 3"
   ]
  },
  {
   "cell_type": "code",
   "execution_count": 50,
   "id": "5f4a1f32",
   "metadata": {},
   "outputs": [
    {
     "data": {
      "text/plain": [
       "0.8346434730684769"
      ]
     },
     "execution_count": 50,
     "metadata": {},
     "output_type": "execute_result"
    }
   ],
   "source": [
    "RF = make_pipeline(preprocessor, RandomForestClassifier(n_estimators=100, \n",
    "                                                        max_depth=max_depth,\n",
    "                                                        min_samples_leaf=min_samples_leaf,\n",
    "                                                        random_state=1,\n",
    "                                                       n_jobs=-1))\n",
    "RF.fit(dfTrain, yTrain)\n",
    "yValPred = RF.predict_proba(dfVal)[:,1]\n",
    "auc = roc_auc_score(yVal, yValPred)\n",
    "auc"
   ]
  },
  {
   "cell_type": "markdown",
   "id": "024a79b4",
   "metadata": {},
   "source": [
    "#### Gradient Boosting and XGBoost"
   ]
  },
  {
   "cell_type": "code",
   "execution_count": 51,
   "id": "036c3fb4",
   "metadata": {},
   "outputs": [],
   "source": [
    "import xgboost as xgb\n",
    "dfTrainNew = dfTrain.copy()\n",
    "dfValNew = dfVal.copy()"
   ]
  },
  {
   "cell_type": "code",
   "execution_count": 52,
   "id": "38e53892",
   "metadata": {},
   "outputs": [],
   "source": [
    "for col in categoricalCols:\n",
    "    dfTrainNew[col] = dfTrainNew[col].astype(\"category\")\n",
    "    dfValNew[col] = dfValNew[col].astype(\"category\")"
   ]
  },
  {
   "cell_type": "code",
   "execution_count": 53,
   "id": "26bacc80",
   "metadata": {},
   "outputs": [],
   "source": [
    "dTrain = xgb.DMatrix(dfTrainNew, yTrain, enable_categorical=True)\n",
    "dVal = xgb.DMatrix(dfValNew, yVal, enable_categorical=True)"
   ]
  },
  {
   "cell_type": "code",
   "execution_count": 54,
   "id": "4dd90318",
   "metadata": {},
   "outputs": [
    {
     "name": "stdout",
     "output_type": "stream",
     "text": [
      "[16:34:06] WARNING: C:/Users/administrator/workspace/xgboost-win64_release_1.6.0/src/learner.cc:627: \n",
      "Parameters: { \"nthreads\" } might not be used.\n",
      "\n",
      "  This could be a false alarm, with some parameters getting used by language bindings but\n",
      "  then being mistakenly passed down to XGBoost core, or some parameter actually being used\n",
      "  but getting flagged wrongly here. Please open an issue if you find any such cases.\n",
      "\n",
      "\n"
     ]
    }
   ],
   "source": [
    "xgbParams = {\n",
    "    'eta': 0.3,\n",
    "    'max_depth': 6,\n",
    "    'min_child_weight': 1,\n",
    "    \n",
    "    'objective': 'binary:logistic',\n",
    "    'nthreads': 8,\n",
    "    \n",
    "    'seed': 1,\n",
    "    'verbosity': 1,\n",
    "}\n",
    "\n",
    "modelxgb = xgb.train(xgbParams, dTrain, num_boost_round=10)"
   ]
  },
  {
   "cell_type": "code",
   "execution_count": 55,
   "id": "76d1ac37",
   "metadata": {},
   "outputs": [],
   "source": [
    "yValPred = modelxgb.predict(dVal)"
   ]
  },
  {
   "cell_type": "code",
   "execution_count": 56,
   "id": "b73a759f",
   "metadata": {},
   "outputs": [
    {
     "data": {
      "text/plain": [
       "0.8305598441189065"
      ]
     },
     "execution_count": 56,
     "metadata": {},
     "output_type": "execute_result"
    }
   ],
   "source": [
    "roc_auc_score(yVal, yValPred)"
   ]
  },
  {
   "cell_type": "code",
   "execution_count": 57,
   "id": "f6a6baa8",
   "metadata": {},
   "outputs": [],
   "source": [
    "watchlist = [(dTrain, 'train'), (dVal, 'val')]"
   ]
  },
  {
   "cell_type": "code",
   "execution_count": 58,
   "id": "89f7e54b",
   "metadata": {},
   "outputs": [],
   "source": [
    "%%capture output\n",
    "\n",
    "xgbParams = {\n",
    "    'eta': 0.3,\n",
    "    'max_depth': 6,\n",
    "    'min_child_weight': 1,\n",
    "    \n",
    "    'objective': 'binary:logistic',\n",
    "    'eval_metric': 'auc',\n",
    "    'nthreads': 8,\n",
    "    \n",
    "    'seed': 1,\n",
    "    'verbosity': 0,\n",
    "}\n",
    "modelxgb = xgb.train(xgbParams, dTrain, evals=watchlist, num_boost_round=200, verbose_eval=5)"
   ]
  },
  {
   "cell_type": "code",
   "execution_count": 59,
   "id": "132b7167",
   "metadata": {},
   "outputs": [
    {
     "data": {
      "text/plain": [
       "'[0]\\ttrain-auc:0.85035\\tval-auc:0.77839\\n[5]\\ttrain-auc:0.91763\\tval-auc:0.82582\\n[10]\\ttrain-auc:0.93863\\tval-auc:0.83174\\n[15]\\ttrain-auc:0.95722\\tval-auc:0.82962\\n[20]\\ttrain-auc:0.96818\\tval-auc:0.82923\\n[25]\\ttrain-auc:0.97606\\tval-auc:0.82568\\n[30]\\ttrain-auc:0.98305\\tval-auc:0.82383\\n[35]\\ttrain-auc:0.98459\\tval-auc:0.82252\\n[40]\\ttrain-auc:0.98815\\tval-auc:0.82196\\n[45]\\ttrain-auc:0.99134\\tval-auc:0.82024\\n[50]\\ttrain-auc:0.99429\\tval-auc:0.81864\\n[55]\\ttrain-auc:0.99569\\tval-auc:0.81762\\n[60]\\ttrain-auc:0.99674\\tval-auc:0.81638\\n[65]\\ttrain-auc:0.99759\\tval-auc:0.81271\\n[70]\\ttrain-auc:0.99806\\tval-auc:0.81112\\n[75]\\ttrain-auc:0.99905\\tval-auc:0.80925\\n[80]\\ttrain-auc:0.99937\\tval-auc:0.81066\\n[85]\\ttrain-auc:0.99952\\tval-auc:0.80939\\n[90]\\ttrain-auc:0.99970\\tval-auc:0.81010\\n[95]\\ttrain-auc:0.99987\\tval-auc:0.81036\\n[100]\\ttrain-auc:0.99995\\tval-auc:0.81023\\n[105]\\ttrain-auc:0.99998\\tval-auc:0.81022\\n[110]\\ttrain-auc:0.99998\\tval-auc:0.81024\\n[115]\\ttrain-auc:0.99999\\tval-auc:0.80967\\n[120]\\ttrain-auc:1.00000\\tval-auc:0.80833\\n[125]\\ttrain-auc:1.00000\\tval-auc:0.80894\\n[130]\\ttrain-auc:1.00000\\tval-auc:0.80855\\n[135]\\ttrain-auc:1.00000\\tval-auc:0.80789\\n[140]\\ttrain-auc:1.00000\\tval-auc:0.80711\\n[145]\\ttrain-auc:1.00000\\tval-auc:0.80690\\n[150]\\ttrain-auc:1.00000\\tval-auc:0.80680\\n[155]\\ttrain-auc:1.00000\\tval-auc:0.80740\\n[160]\\ttrain-auc:1.00000\\tval-auc:0.80840\\n[165]\\ttrain-auc:1.00000\\tval-auc:0.80757\\n[170]\\ttrain-auc:1.00000\\tval-auc:0.80715\\n[175]\\ttrain-auc:1.00000\\tval-auc:0.80678\\n[180]\\ttrain-auc:1.00000\\tval-auc:0.80568\\n[185]\\ttrain-auc:1.00000\\tval-auc:0.80615\\n[190]\\ttrain-auc:1.00000\\tval-auc:0.80630\\n[195]\\ttrain-auc:1.00000\\tval-auc:0.80717\\n[199]\\ttrain-auc:1.00000\\tval-auc:0.80692\\n'"
      ]
     },
     "execution_count": 59,
     "metadata": {},
     "output_type": "execute_result"
    }
   ],
   "source": [
    "s = output.stdout\n",
    "s"
   ]
  },
  {
   "cell_type": "code",
   "execution_count": 60,
   "id": "421e1c7c",
   "metadata": {},
   "outputs": [],
   "source": [
    "import regex\n",
    "newString = regex.findall(r'.*\\[(\\d+)\\].*:(0.\\d+).*:(0.\\d+).*', s)\n",
    "dfScores = pd.DataFrame(newString, columns=['iteration','train-auc', 'val-auc'])\n",
    "#dfScores['iteration'] = dfScores['iteration'].astype(int)\n",
    "#dfScores[['train-auc', 'val-auc']] = dfScores[['train-auc', 'val-auc']].astype(float)\n",
    "dfScores =  dfScores.astype(float)"
   ]
  },
  {
   "cell_type": "code",
   "execution_count": 61,
   "id": "49fbeef0",
   "metadata": {},
   "outputs": [
    {
     "data": {
      "image/png": "[encoded data removed]",
      "text/plain": [
       "<Figure size 432x288 with 1 Axes>"
      ]
     },
     "metadata": {
      "needs_background": "light"
     },
     "output_type": "display_data"
    }
   ],
   "source": [
    "plt.plot(dfScores['iteration'], dfScores['train-auc'], label='train')\n",
    "plt.plot(dfScores['iteration'], dfScores['val-auc'], label='val')\n",
    "plt.legend()\n",
    "plt.grid()\n",
    "_ = plt.show()"
   ]
  },
  {
   "cell_type": "code",
   "execution_count": 62,
   "id": "816919b0",
   "metadata": {},
   "outputs": [
    {
     "data": {
      "image/png": "[encoded data removed]",
      "text/plain": [
       "<Figure size 432x288 with 1 Axes>"
      ]
     },
     "metadata": {
      "needs_background": "light"
     },
     "output_type": "display_data"
    }
   ],
   "source": [
    "plt.plot(dfScores['iteration'], dfScores['val-auc'], label='val')\n",
    "plt.legend()\n",
    "plt.grid()\n",
    "_ = plt.show()"
   ]
  },
  {
   "cell_type": "markdown",
   "id": "a2813f86",
   "metadata": {},
   "source": [
    "#### XGBoost Parameter Tuning"
   ]
  },
  {
   "cell_type": "code",
   "execution_count": 63,
   "id": "243c0c62",
   "metadata": {},
   "outputs": [],
   "source": [
    "scores = {}"
   ]
  },
  {
   "cell_type": "code",
   "execution_count": 64,
   "id": "ae5b9a45",
   "metadata": {},
   "outputs": [],
   "source": [
    "%%capture output\n",
    "\n",
    "eta = 0.01\n",
    "xgbParams = {\n",
    "    'eta': eta,\n",
    "    'max_depth': 6,\n",
    "    'min_child_weight': 1,\n",
    "\n",
    "    'objective': 'binary:logistic',\n",
    "    'eval_metric': 'auc',\n",
    "    'nthreads': 8,\n",
    "\n",
    "    'seed': 1,\n",
    "    'verbosity': 0,\n",
    "}\n",
    "modelxgb = xgb.train(xgbParams, dTrain, evals=watchlist, num_boost_round=200, verbose_eval=5)"
   ]
  },
  {
   "cell_type": "code",
   "execution_count": 65,
   "id": "2ad8c1f4",
   "metadata": {},
   "outputs": [],
   "source": [
    "s = output.stdout"
   ]
  },
  {
   "cell_type": "code",
   "execution_count": 66,
   "id": "f72fb2a6",
   "metadata": {},
   "outputs": [
    {
     "data": {
      "text/plain": [
       "{'eta=0.01':     iteration  train-auc  val-auc\n",
       " 0         0.0    0.85035  0.77839\n",
       " 1         5.0    0.85281  0.78325\n",
       " 2        10.0    0.85467  0.78280\n",
       " 3        15.0    0.86462  0.79359\n",
       " 4        20.0    0.86802  0.79862\n",
       " 5        25.0    0.87144  0.80354\n",
       " 6        30.0    0.87503  0.80704\n",
       " 7        35.0    0.87758  0.80867\n",
       " 8        40.0    0.87987  0.80953\n",
       " 9        45.0    0.88121  0.81137\n",
       " 10       50.0    0.88427  0.81355\n",
       " 11       55.0    0.88651  0.81550\n",
       " 12       60.0    0.88938  0.81710\n",
       " 13       65.0    0.89169  0.81808\n",
       " 14       70.0    0.89345  0.81883\n",
       " 15       75.0    0.89488  0.81938\n",
       " 16       80.0    0.89614  0.82004\n",
       " 17       85.0    0.89802  0.82176\n",
       " 18       90.0    0.89990  0.82313\n",
       " 19       95.0    0.90136  0.82445\n",
       " 20      100.0    0.90283  0.82476\n",
       " 21      105.0    0.90438  0.82492\n",
       " 22      110.0    0.90551  0.82520\n",
       " 23      115.0    0.90698  0.82572\n",
       " 24      120.0    0.90828  0.82646\n",
       " 25      125.0    0.90935  0.82694\n",
       " 26      130.0    0.91038  0.82743\n",
       " 27      135.0    0.91174  0.82800\n",
       " 28      140.0    0.91314  0.82817\n",
       " 29      145.0    0.91450  0.82872\n",
       " 30      150.0    0.91579  0.82933\n",
       " 31      155.0    0.91694  0.82995\n",
       " 32      160.0    0.91817  0.83073\n",
       " 33      165.0    0.91936  0.83042\n",
       " 34      170.0    0.92053  0.83080\n",
       " 35      175.0    0.92161  0.83095\n",
       " 36      180.0    0.92253  0.83108\n",
       " 37      185.0    0.92353  0.83114\n",
       " 38      190.0    0.92449  0.83099\n",
       " 39      195.0    0.92545  0.83133\n",
       " 40      199.0    0.92611  0.83102}"
      ]
     },
     "execution_count": 66,
     "metadata": {},
     "output_type": "execute_result"
    }
   ],
   "source": [
    "newString = regex.findall(r'.*\\[(\\d+)\\].*:(\\d.\\d+).*:(\\d.\\d+).*', s)\n",
    "dfScores = pd.DataFrame(newString, columns=['iteration','train-auc', 'val-auc'])\n",
    "dfScores =  dfScores.astype(float)\n",
    "scores[f'eta={eta}'] = dfScores\n",
    "scores"
   ]
  },
  {
   "cell_type": "code",
   "execution_count": 67,
   "id": "b2b6953b",
   "metadata": {},
   "outputs": [
    {
     "data": {
      "image/png": "[encoded data removed]",
      "text/plain": [
       "<Figure size 432x288 with 1 Axes>"
      ]
     },
     "metadata": {
      "needs_background": "light"
     },
     "output_type": "display_data"
    }
   ],
   "source": [
    "for key, dfScore in scores.items():\n",
    "    #print(key, dfScore)\n",
    "    plt.plot(dfScore.iteration, dfScore['val-auc'], label=key)\n",
    "    \n",
    "plt.legend()\n",
    "plt.grid()\n",
    "_ = plt.show()"
   ]
  },
  {
   "cell_type": "code",
   "execution_count": 68,
   "id": "8c39acb7",
   "metadata": {},
   "outputs": [],
   "source": [
    "scores = {}"
   ]
  },
  {
   "cell_type": "code",
   "execution_count": 69,
   "id": "88a9b17f",
   "metadata": {},
   "outputs": [],
   "source": [
    "%%capture output\n",
    "\n",
    "depth = 10\n",
    "xgbParams = {\n",
    "    'eta': 0.05,\n",
    "    'max_depth': depth,\n",
    "    'min_child_weight': 1,\n",
    "\n",
    "    'objective': 'binary:logistic',\n",
    "    'eval_metric': 'auc',\n",
    "    'nthreads': 8,\n",
    "\n",
    "    'seed': 1,\n",
    "    'verbosity': 0,\n",
    "}\n",
    "modelxgb = xgb.train(xgbParams, dTrain, evals=watchlist, num_boost_round=200, verbose_eval=5)"
   ]
  },
  {
   "cell_type": "code",
   "execution_count": 70,
   "id": "22e1d930",
   "metadata": {},
   "outputs": [
    {
     "data": {
      "text/plain": [
       "{'max_depth=10':     iteration  train-auc  val-auc\n",
       " 0         0.0    0.90790  0.77540\n",
       " 1         5.0    0.93355  0.78978\n",
       " 2        10.0    0.94954  0.79611\n",
       " 3        15.0    0.95995  0.80090\n",
       " 4        20.0    0.96856  0.80686\n",
       " 5        25.0    0.97708  0.81167\n",
       " 6        30.0    0.98198  0.81239\n",
       " 7        35.0    0.98585  0.81248\n",
       " 8        40.0    0.98895  0.81326\n",
       " 9        45.0    0.99107  0.81181\n",
       " 10       50.0    0.99282  0.81144\n",
       " 11       55.0    0.99412  0.81178\n",
       " 12       60.0    0.99549  0.81260\n",
       " 13       65.0    0.99637  0.81212\n",
       " 14       70.0    0.99703  0.81359\n",
       " 15       75.0    0.99756  0.81292\n",
       " 16       80.0    0.99806  0.81286\n",
       " 17       85.0    0.99849  0.81391\n",
       " 18       90.0    0.99872  0.81362\n",
       " 19       95.0    0.99888  0.81402\n",
       " 20      100.0    0.99903  0.81399\n",
       " 21      105.0    0.99914  0.81374\n",
       " 22      110.0    0.99927  0.81385\n",
       " 23      115.0    0.99937  0.81327\n",
       " 24      120.0    0.99950  0.81327\n",
       " 25      125.0    0.99959  0.81277\n",
       " 26      130.0    0.99968  0.81298\n",
       " 27      135.0    0.99973  0.81317\n",
       " 28      140.0    0.99979  0.81344\n",
       " 29      145.0    0.99984  0.81282\n",
       " 30      150.0    0.99988  0.81290\n",
       " 31      155.0    0.99991  0.81332\n",
       " 32      160.0    0.99993  0.81331\n",
       " 33      165.0    0.99994  0.81325\n",
       " 34      170.0    0.99995  0.81315\n",
       " 35      175.0    0.99996  0.81339\n",
       " 36      180.0    0.99997  0.81312\n",
       " 37      185.0    0.99998  0.81291\n",
       " 38      190.0    0.99998  0.81311\n",
       " 39      195.0    0.99998  0.81310\n",
       " 40      199.0    0.99998  0.81330}"
      ]
     },
     "execution_count": 70,
     "metadata": {},
     "output_type": "execute_result"
    }
   ],
   "source": [
    "s = output.stdout\n",
    "newString = regex.findall(r'.*\\[(\\d+)\\].*:(\\d.\\d+).*:(\\d.\\d+).*', s)\n",
    "dfScores = pd.DataFrame(newString, columns=['iteration','train-auc', 'val-auc'])\n",
    "dfScores =  dfScores.astype(float)\n",
    "scores[f'max_depth={depth}'] = dfScores\n",
    "scores"
   ]
  },
  {
   "cell_type": "code",
   "execution_count": 71,
   "id": "ee1a6ae9",
   "metadata": {},
   "outputs": [],
   "source": [
    "del scores['max_depth=10']"
   ]
  },
  {
   "cell_type": "code",
   "execution_count": 72,
   "id": "bd0c3091",
   "metadata": {},
   "outputs": [
    {
     "name": "stderr",
     "output_type": "stream",
     "text": [
      "No handles with labels found to put in legend.\n"
     ]
    },
    {
     "data": {
      "image/png": "[encoded data removed]",
      "text/plain": [
       "<Figure size 432x288 with 1 Axes>"
      ]
     },
     "metadata": {
      "needs_background": "light"
     },
     "output_type": "display_data"
    }
   ],
   "source": [
    "for key, dfScore in scores.items():\n",
    "    #print(key, dfScore)\n",
    "    plt.plot(dfScore.iteration, dfScore['val-auc'], label=key)\n",
    "    \n",
    "plt.legend()\n",
    "plt.grid()\n",
    "plt.ylim(0.8, 0.85)\n",
    "_ = plt.show()"
   ]
  },
  {
   "cell_type": "code",
   "execution_count": 73,
   "id": "81fe8c61",
   "metadata": {},
   "outputs": [],
   "source": [
    "scores = {}"
   ]
  },
  {
   "cell_type": "code",
   "execution_count": 74,
   "id": "0a28f68a",
   "metadata": {},
   "outputs": [],
   "source": [
    "%%capture output\n",
    "\n",
    "weight = 1\n",
    "xgbParams = {\n",
    "    'eta': 0.05,\n",
    "    'max_depth': 3,\n",
    "    'min_child_weight': weight,\n",
    "\n",
    "    'objective': 'binary:logistic',\n",
    "    'eval_metric': 'auc',\n",
    "    'nthreads': 8,\n",
    "\n",
    "    'seed': 1,\n",
    "    'verbosity': 0,\n",
    "}\n",
    "modelxgb = xgb.train(xgbParams, dTrain, evals=watchlist, num_boost_round=200, verbose_eval=5)"
   ]
  },
  {
   "cell_type": "code",
   "execution_count": 75,
   "id": "f557e57d",
   "metadata": {},
   "outputs": [
    {
     "data": {
      "text/plain": [
       "{'min_child_weight=1':     iteration  train-auc  val-auc\n",
       " 0         0.0    0.76631  0.73365\n",
       " 1         5.0    0.79822  0.76490\n",
       " 2        10.0    0.81783  0.79015\n",
       " 3        15.0    0.82712  0.79854\n",
       " 4        20.0    0.83305  0.80464\n",
       " 5        25.0    0.83995  0.81042\n",
       " 6        30.0    0.84513  0.81355\n",
       " 7        35.0    0.84946  0.81530\n",
       " 8        40.0    0.85381  0.81806\n",
       " 9        45.0    0.85763  0.82167\n",
       " 10       50.0    0.86118  0.82501\n",
       " 11       55.0    0.86439  0.82703\n",
       " 12       60.0    0.86681  0.82897\n",
       " 13       65.0    0.86975  0.83138\n",
       " 14       70.0    0.87253  0.83308\n",
       " 15       75.0    0.87373  0.83427\n",
       " 16       80.0    0.87530  0.83513\n",
       " 17       85.0    0.87727  0.83594\n",
       " 18       90.0    0.87873  0.83679\n",
       " 19       95.0    0.88026  0.83822\n",
       " 20      100.0    0.88147  0.83894\n",
       " 21      105.0    0.88309  0.84020\n",
       " 22      110.0    0.88483  0.84126\n",
       " 23      115.0    0.88608  0.84196\n",
       " 24      120.0    0.88728  0.84293\n",
       " 25      125.0    0.88849  0.84339\n",
       " 26      130.0    0.88970  0.84426\n",
       " 27      135.0    0.89070  0.84464\n",
       " 28      140.0    0.89193  0.84529\n",
       " 29      145.0    0.89278  0.84483\n",
       " 30      150.0    0.89400  0.84547\n",
       " 31      155.0    0.89495  0.84572\n",
       " 32      160.0    0.89616  0.84546\n",
       " 33      165.0    0.89705  0.84564\n",
       " 34      170.0    0.89787  0.84578\n",
       " 35      175.0    0.89904  0.84571\n",
       " 36      180.0    0.89968  0.84593\n",
       " 37      185.0    0.90062  0.84597\n",
       " 38      190.0    0.90117  0.84606\n",
       " 39      195.0    0.90197  0.84606\n",
       " 40      199.0    0.90243  0.84604}"
      ]
     },
     "execution_count": 75,
     "metadata": {},
     "output_type": "execute_result"
    }
   ],
   "source": [
    "s = output.stdout\n",
    "newString = regex.findall(r'.*\\[(\\d+)\\].*:(\\d.\\d+).*:(\\d.\\d+).*', s)\n",
    "dfScores = pd.DataFrame(newString, columns=['iteration','train-auc', 'val-auc'])\n",
    "dfScores =  dfScores.astype(float)\n",
    "scores[f'min_child_weight={weight}'] = dfScores\n",
    "scores"
   ]
  },
  {
   "cell_type": "code",
   "execution_count": 76,
   "id": "a5699346",
   "metadata": {},
   "outputs": [
    {
     "data": {
      "image/png": "[encoded data removed]",
      "text/plain": [
       "<Figure size 432x288 with 1 Axes>"
      ]
     },
     "metadata": {
      "needs_background": "light"
     },
     "output_type": "display_data"
    }
   ],
   "source": [
    "for key, dfScore in scores.items():\n",
    "    #print(key, dfScore)\n",
    "    plt.plot(dfScore.iteration, dfScore['val-auc'], label=key)\n",
    "    \n",
    "plt.legend()\n",
    "plt.grid()\n",
    "plt.ylim(0.8, 0.85)\n",
    "_ = plt.show()"
   ]
  },
  {
   "cell_type": "markdown",
   "id": "8071ee39",
   "metadata": {},
   "source": [
    "#### Final XGBoost  Model"
   ]
  },
  {
   "cell_type": "code",
   "execution_count": 77,
   "id": "4b021eed",
   "metadata": {},
   "outputs": [],
   "source": [
    "scores = {}"
   ]
  },
  {
   "cell_type": "code",
   "execution_count": 78,
   "id": "1aaf66e2",
   "metadata": {},
   "outputs": [],
   "source": [
    "%%capture output\n",
    "\n",
    "xgbParams = {\n",
    "    'eta': 0.05,\n",
    "    'max_depth': 3,\n",
    "    'min_child_weight': 1,\n",
    "\n",
    "    'objective': 'binary:logistic',\n",
    "    'eval_metric': 'auc',\n",
    "    \n",
    "    'nthreads': 8,\n",
    "    'seed': 1,\n",
    "    'verbosity': 0,\n",
    "}\n",
    "modelxgb = xgb.train(xgbParams, dTrain, evals=watchlist, num_boost_round=175, verbose_eval=5)"
   ]
  },
  {
   "cell_type": "code",
   "execution_count": 79,
   "id": "e35c8ef1",
   "metadata": {},
   "outputs": [
    {
     "data": {
      "text/plain": [
       "{'min_child_weight=1':     iteration  train-auc  val-auc\n",
       " 0         0.0    0.76631  0.73365\n",
       " 1         5.0    0.79822  0.76490\n",
       " 2        10.0    0.81783  0.79015\n",
       " 3        15.0    0.82712  0.79854\n",
       " 4        20.0    0.83305  0.80464\n",
       " 5        25.0    0.83995  0.81042\n",
       " 6        30.0    0.84513  0.81355\n",
       " 7        35.0    0.84946  0.81530\n",
       " 8        40.0    0.85381  0.81806\n",
       " 9        45.0    0.85763  0.82167\n",
       " 10       50.0    0.86118  0.82501\n",
       " 11       55.0    0.86439  0.82703\n",
       " 12       60.0    0.86681  0.82897\n",
       " 13       65.0    0.86975  0.83138\n",
       " 14       70.0    0.87253  0.83308\n",
       " 15       75.0    0.87373  0.83427\n",
       " 16       80.0    0.87530  0.83513\n",
       " 17       85.0    0.87727  0.83594\n",
       " 18       90.0    0.87873  0.83679\n",
       " 19       95.0    0.88026  0.83822\n",
       " 20      100.0    0.88147  0.83894\n",
       " 21      105.0    0.88309  0.84020\n",
       " 22      110.0    0.88483  0.84126\n",
       " 23      115.0    0.88608  0.84196\n",
       " 24      120.0    0.88728  0.84293\n",
       " 25      125.0    0.88849  0.84339\n",
       " 26      130.0    0.88970  0.84426\n",
       " 27      135.0    0.89070  0.84464\n",
       " 28      140.0    0.89193  0.84529\n",
       " 29      145.0    0.89278  0.84483\n",
       " 30      150.0    0.89400  0.84547\n",
       " 31      155.0    0.89495  0.84572\n",
       " 32      160.0    0.89616  0.84546\n",
       " 33      165.0    0.89705  0.84564\n",
       " 34      170.0    0.89787  0.84578\n",
       " 35      174.0    0.89891  0.84568}"
      ]
     },
     "execution_count": 79,
     "metadata": {},
     "output_type": "execute_result"
    }
   ],
   "source": [
    "s = output.stdout\n",
    "newString = regex.findall(r'.*\\[(\\d+)\\].*:(\\d.\\d+).*:(\\d.\\d+).*', s)\n",
    "dfScores = pd.DataFrame(newString, columns=['iteration','train-auc', 'val-auc'])\n",
    "dfScores =  dfScores.astype(float)\n",
    "scores[f'min_child_weight={weight}'] = dfScores\n",
    "scores"
   ]
  },
  {
   "cell_type": "code",
   "execution_count": 80,
   "id": "35c64f89",
   "metadata": {},
   "outputs": [
    {
     "data": {
      "image/png": "[encoded data removed]",
      "text/plain": [
       "<Figure size 432x288 with 1 Axes>"
      ]
     },
     "metadata": {
      "needs_background": "light"
     },
     "output_type": "display_data"
    }
   ],
   "source": [
    "for key, dfScore in scores.items():\n",
    "    #print(key, dfScore)\n",
    "    plt.plot(dfScore.iteration, dfScore['val-auc'], label=key)\n",
    "    \n",
    "plt.legend()\n",
    "plt.grid()\n",
    "_ = plt.show()"
   ]
  },
  {
   "cell_type": "markdown",
   "id": "8b2b675c",
   "metadata": {},
   "source": [
    "#### Comparing models"
   ]
  },
  {
   "cell_type": "code",
   "execution_count": 82,
   "id": "1073660a",
   "metadata": {},
   "outputs": [
    {
     "data": {
      "text/plain": [
       "0.7885"
      ]
     },
     "execution_count": 82,
     "metadata": {},
     "output_type": "execute_result"
    }
   ],
   "source": [
    "dt = make_pipeline(preprocessor, DecisionTreeClassifier(max_depth=10, min_samples_leaf=20))\n",
    "dt.fit(dfTrain, yTrain)\n",
    "yValPred = dt.predict_proba(dfVal)[:,1]\n",
    "auc = round(roc_auc_score(yVal, yValPred),4)\n",
    "auc"
   ]
  },
  {
   "cell_type": "code",
   "execution_count": 84,
   "id": "6588a4f4",
   "metadata": {},
   "outputs": [
    {
     "data": {
      "text/plain": [
       "0.8346"
      ]
     },
     "execution_count": 84,
     "metadata": {},
     "output_type": "execute_result"
    }
   ],
   "source": [
    "rf = make_pipeline(preprocessor, RandomForestClassifier(n_estimators=100, \n",
    "                                                        max_depth=max_depth,\n",
    "                                                        min_samples_leaf=min_samples_leaf,\n",
    "                                                        random_state=1,\n",
    "                                                       n_jobs=-1))\n",
    "RF.fit(dfTrain, yTrain)\n",
    "yValPred = RF.predict_proba(dfVal)[:,1]\n",
    "auc = round(roc_auc_score(yVal, yValPred),4)\n",
    "auc"
   ]
  },
  {
   "cell_type": "code",
   "execution_count": 88,
   "id": "93217467",
   "metadata": {},
   "outputs": [
    {
     "data": {
      "text/plain": [
       "0.8457"
      ]
     },
     "execution_count": 88,
     "metadata": {},
     "output_type": "execute_result"
    }
   ],
   "source": [
    "yValPred = modelxgb.predict(dVal)\n",
    "auc = round(roc_auc_score(yVal, yValPred),4)\n",
    "auc"
   ]
  },
  {
   "cell_type": "markdown",
   "id": "7bcf2d42",
   "metadata": {},
   "source": [
    "### Training Final Model"
   ]
  },
  {
   "cell_type": "code",
   "execution_count": 100,
   "id": "203e36bc",
   "metadata": {},
   "outputs": [],
   "source": [
    "dfTrainFull.reset_index(drop=True, inplace=True)"
   ]
  },
  {
   "cell_type": "code",
   "execution_count": 101,
   "id": "b1954428",
   "metadata": {},
   "outputs": [
    {
     "data": {
      "text/plain": [
       "Index(['seniority', 'home', 'time', 'age', 'marital', 'records', 'job',\n",
       "       'expenses', 'income', 'assets', 'debt', 'amount', 'price'],\n",
       "      dtype='object')"
      ]
     },
     "execution_count": 101,
     "metadata": {},
     "output_type": "execute_result"
    }
   ],
   "source": [
    "dfTrainFull.columns"
   ]
  },
  {
   "cell_type": "code",
   "execution_count": 109,
   "id": "f411fc51",
   "metadata": {},
   "outputs": [],
   "source": [
    "import xgboost as xgb\n",
    "TrainNew = dfTrainFull.copy()\n",
    "TestNew = dfTest.copy()\n",
    "\n",
    "for col in categoricalCols:\n",
    "    TrainNew[col] = TrainNew[col].astype(\"category\")\n",
    "    TestNew[col] = TestNew[col].astype(\"category\")\n",
    "\n",
    "dTrain = xgb.DMatrix(TrainNew, yTrainFull, enable_categorical=True)\n",
    "dVal = xgb.DMatrix(TestNew, yTest, enable_categorical=True)"
   ]
  },
  {
   "cell_type": "code",
   "execution_count": 112,
   "id": "7ebe8472",
   "metadata": {},
   "outputs": [
    {
     "name": "stdout",
     "output_type": "stream",
     "text": [
      "[16:58:47] WARNING: C:/Users/administrator/workspace/xgboost-win64_release_1.6.0/src/learner.cc:627: \n",
      "Parameters: { \"nthreads\" } might not be used.\n",
      "\n",
      "  This could be a false alarm, with some parameters getting used by language bindings but\n",
      "  then being mistakenly passed down to XGBoost core, or some parameter actually being used\n",
      "  but getting flagged wrongly here. Please open an issue if you find any such cases.\n",
      "\n",
      "\n"
     ]
    }
   ],
   "source": [
    "xgbParams = {\n",
    "    'eta': 0.05,\n",
    "    'max_depth': 3,\n",
    "    'min_child_weight': 1,\n",
    "\n",
    "    'objective': 'binary:logistic',\n",
    "    'eval_metric': 'auc',\n",
    "    \n",
    "    'nthreads': 8,\n",
    "    'seed': 1,\n",
    "    'verbosity': 1,\n",
    "}\n",
    "modelxgb = xgb.train(xgbParams, dTrain, num_boost_round=175)"
   ]
  },
  {
   "cell_type": "code",
   "execution_count": 113,
   "id": "97bfbd5e",
   "metadata": {},
   "outputs": [
    {
     "data": {
      "text/plain": [
       "0.8382"
      ]
     },
     "execution_count": 113,
     "metadata": {},
     "output_type": "execute_result"
    }
   ],
   "source": [
    "yTestPred = modelxgb.predict(dTest)\n",
    "yTestPred[:10]\n",
    "auc = round(roc_auc_score(yTest, yTestPred),4)\n",
    "auc"
   ]
  },
  {
   "cell_type": "code",
   "execution_count": null,
   "id": "54ffe5dd",
   "metadata": {},
   "outputs": [],
   "source": []
  }
 ],
 "metadata": {
  "kernelspec": {
   "display_name": "Python 3 (ipykernel)",
   "language": "python",
   "name": "python3"
  },
  "language_info": {
   "codemirror_mode": {
    "name": "ipython",
    "version": 3
   },
   "file_extension": ".py",
   "mimetype": "text/x-python",
   "name": "python",
   "nbconvert_exporter": "python",
   "pygments_lexer": "ipython3",
   "version": "3.9.12"
  }
 },
 "nbformat": 4,
 "nbformat_minor": 5
}
