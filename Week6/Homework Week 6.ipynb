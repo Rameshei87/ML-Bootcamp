{
 "cells": [
  {
   "cell_type": "code",
   "execution_count": 1,
   "id": "b1c86a2c",
   "metadata": {},
   "outputs": [],
   "source": [
    "import pandas as pd\n",
    "import numpy as np\n",
    "import xgboost as xgb\n",
    "import matplotlib.pyplot as plt\n",
    "import regex"
   ]
  },
  {
   "cell_type": "markdown",
   "id": "48dd48ec",
   "metadata": {},
   "source": [
    "#### Loading the data"
   ]
  },
  {
   "cell_type": "code",
   "execution_count": 2,
   "id": "5de23095",
   "metadata": {},
   "outputs": [
    {
     "data": {
      "text/html": [
       "<div>\n",
       "<style scoped>\n",
       "    .dataframe tbody tr th:only-of-type {\n",
       "        vertical-align: middle;\n",
       "    }\n",
       "\n",
       "    .dataframe tbody tr th {\n",
       "        vertical-align: top;\n",
       "    }\n",
       "\n",
       "    .dataframe thead th {\n",
       "        text-align: right;\n",
       "    }\n",
       "</style>\n",
       "<table border=\"1\" class=\"dataframe\">\n",
       "  <thead>\n",
       "    <tr style=\"text-align: right;\">\n",
       "      <th></th>\n",
       "      <th>longitude</th>\n",
       "      <th>latitude</th>\n",
       "      <th>housing_median_age</th>\n",
       "      <th>total_rooms</th>\n",
       "      <th>total_bedrooms</th>\n",
       "      <th>population</th>\n",
       "      <th>households</th>\n",
       "      <th>median_income</th>\n",
       "      <th>median_house_value</th>\n",
       "      <th>ocean_proximity</th>\n",
       "    </tr>\n",
       "  </thead>\n",
       "  <tbody>\n",
       "    <tr>\n",
       "      <th>0</th>\n",
       "      <td>-122.23</td>\n",
       "      <td>37.88</td>\n",
       "      <td>41.0</td>\n",
       "      <td>880.0</td>\n",
       "      <td>129.0</td>\n",
       "      <td>322.0</td>\n",
       "      <td>126.0</td>\n",
       "      <td>8.3252</td>\n",
       "      <td>452600.0</td>\n",
       "      <td>NEAR BAY</td>\n",
       "    </tr>\n",
       "    <tr>\n",
       "      <th>1</th>\n",
       "      <td>-122.22</td>\n",
       "      <td>37.86</td>\n",
       "      <td>21.0</td>\n",
       "      <td>7099.0</td>\n",
       "      <td>1106.0</td>\n",
       "      <td>2401.0</td>\n",
       "      <td>1138.0</td>\n",
       "      <td>8.3014</td>\n",
       "      <td>358500.0</td>\n",
       "      <td>NEAR BAY</td>\n",
       "    </tr>\n",
       "    <tr>\n",
       "      <th>2</th>\n",
       "      <td>-122.24</td>\n",
       "      <td>37.85</td>\n",
       "      <td>52.0</td>\n",
       "      <td>1467.0</td>\n",
       "      <td>190.0</td>\n",
       "      <td>496.0</td>\n",
       "      <td>177.0</td>\n",
       "      <td>7.2574</td>\n",
       "      <td>352100.0</td>\n",
       "      <td>NEAR BAY</td>\n",
       "    </tr>\n",
       "    <tr>\n",
       "      <th>3</th>\n",
       "      <td>-122.25</td>\n",
       "      <td>37.85</td>\n",
       "      <td>52.0</td>\n",
       "      <td>1274.0</td>\n",
       "      <td>235.0</td>\n",
       "      <td>558.0</td>\n",
       "      <td>219.0</td>\n",
       "      <td>5.6431</td>\n",
       "      <td>341300.0</td>\n",
       "      <td>NEAR BAY</td>\n",
       "    </tr>\n",
       "    <tr>\n",
       "      <th>4</th>\n",
       "      <td>-122.25</td>\n",
       "      <td>37.85</td>\n",
       "      <td>52.0</td>\n",
       "      <td>1627.0</td>\n",
       "      <td>280.0</td>\n",
       "      <td>565.0</td>\n",
       "      <td>259.0</td>\n",
       "      <td>3.8462</td>\n",
       "      <td>342200.0</td>\n",
       "      <td>NEAR BAY</td>\n",
       "    </tr>\n",
       "  </tbody>\n",
       "</table>\n",
       "</div>"
      ],
      "text/plain": [
       "   longitude  latitude  housing_median_age  total_rooms  total_bedrooms  \\\n",
       "0    -122.23     37.88                41.0        880.0           129.0   \n",
       "1    -122.22     37.86                21.0       7099.0          1106.0   \n",
       "2    -122.24     37.85                52.0       1467.0           190.0   \n",
       "3    -122.25     37.85                52.0       1274.0           235.0   \n",
       "4    -122.25     37.85                52.0       1627.0           280.0   \n",
       "\n",
       "   population  households  median_income  median_house_value ocean_proximity  \n",
       "0       322.0       126.0         8.3252            452600.0        NEAR BAY  \n",
       "1      2401.0      1138.0         8.3014            358500.0        NEAR BAY  \n",
       "2       496.0       177.0         7.2574            352100.0        NEAR BAY  \n",
       "3       558.0       219.0         5.6431            341300.0        NEAR BAY  \n",
       "4       565.0       259.0         3.8462            342200.0        NEAR BAY  "
      ]
     },
     "execution_count": 2,
     "metadata": {},
     "output_type": "execute_result"
    }
   ],
   "source": [
    "df = pd.read_csv('housing.csv')\n",
    "df.head()"
   ]
  },
  {
   "cell_type": "code",
   "execution_count": 3,
   "id": "a6a6d6e8",
   "metadata": {},
   "outputs": [
    {
     "data": {
      "text/html": [
       "<div>\n",
       "<style scoped>\n",
       "    .dataframe tbody tr th:only-of-type {\n",
       "        vertical-align: middle;\n",
       "    }\n",
       "\n",
       "    .dataframe tbody tr th {\n",
       "        vertical-align: top;\n",
       "    }\n",
       "\n",
       "    .dataframe thead th {\n",
       "        text-align: right;\n",
       "    }\n",
       "</style>\n",
       "<table border=\"1\" class=\"dataframe\">\n",
       "  <thead>\n",
       "    <tr style=\"text-align: right;\">\n",
       "      <th></th>\n",
       "      <th>latitude</th>\n",
       "      <th>longitude</th>\n",
       "      <th>housing_median_age</th>\n",
       "      <th>total_rooms</th>\n",
       "      <th>total_bedrooms</th>\n",
       "      <th>population</th>\n",
       "      <th>households</th>\n",
       "      <th>median_income</th>\n",
       "      <th>median_house_value</th>\n",
       "      <th>ocean_proximity</th>\n",
       "    </tr>\n",
       "  </thead>\n",
       "  <tbody>\n",
       "    <tr>\n",
       "      <th>0</th>\n",
       "      <td>37.88</td>\n",
       "      <td>-122.23</td>\n",
       "      <td>41.0</td>\n",
       "      <td>880.0</td>\n",
       "      <td>129.0</td>\n",
       "      <td>322.0</td>\n",
       "      <td>126.0</td>\n",
       "      <td>8.3252</td>\n",
       "      <td>452600.0</td>\n",
       "      <td>NEAR BAY</td>\n",
       "    </tr>\n",
       "    <tr>\n",
       "      <th>1</th>\n",
       "      <td>37.86</td>\n",
       "      <td>-122.22</td>\n",
       "      <td>21.0</td>\n",
       "      <td>7099.0</td>\n",
       "      <td>1106.0</td>\n",
       "      <td>2401.0</td>\n",
       "      <td>1138.0</td>\n",
       "      <td>8.3014</td>\n",
       "      <td>358500.0</td>\n",
       "      <td>NEAR BAY</td>\n",
       "    </tr>\n",
       "    <tr>\n",
       "      <th>2</th>\n",
       "      <td>37.85</td>\n",
       "      <td>-122.24</td>\n",
       "      <td>52.0</td>\n",
       "      <td>1467.0</td>\n",
       "      <td>190.0</td>\n",
       "      <td>496.0</td>\n",
       "      <td>177.0</td>\n",
       "      <td>7.2574</td>\n",
       "      <td>352100.0</td>\n",
       "      <td>NEAR BAY</td>\n",
       "    </tr>\n",
       "    <tr>\n",
       "      <th>3</th>\n",
       "      <td>37.85</td>\n",
       "      <td>-122.25</td>\n",
       "      <td>52.0</td>\n",
       "      <td>1274.0</td>\n",
       "      <td>235.0</td>\n",
       "      <td>558.0</td>\n",
       "      <td>219.0</td>\n",
       "      <td>5.6431</td>\n",
       "      <td>341300.0</td>\n",
       "      <td>NEAR BAY</td>\n",
       "    </tr>\n",
       "    <tr>\n",
       "      <th>4</th>\n",
       "      <td>37.85</td>\n",
       "      <td>-122.25</td>\n",
       "      <td>52.0</td>\n",
       "      <td>1627.0</td>\n",
       "      <td>280.0</td>\n",
       "      <td>565.0</td>\n",
       "      <td>259.0</td>\n",
       "      <td>3.8462</td>\n",
       "      <td>342200.0</td>\n",
       "      <td>NEAR BAY</td>\n",
       "    </tr>\n",
       "  </tbody>\n",
       "</table>\n",
       "</div>"
      ],
      "text/plain": [
       "   latitude  longitude  housing_median_age  total_rooms  total_bedrooms  \\\n",
       "0     37.88    -122.23                41.0        880.0           129.0   \n",
       "1     37.86    -122.22                21.0       7099.0          1106.0   \n",
       "2     37.85    -122.24                52.0       1467.0           190.0   \n",
       "3     37.85    -122.25                52.0       1274.0           235.0   \n",
       "4     37.85    -122.25                52.0       1627.0           280.0   \n",
       "\n",
       "   population  households  median_income  median_house_value ocean_proximity  \n",
       "0       322.0       126.0         8.3252            452600.0        NEAR BAY  \n",
       "1      2401.0      1138.0         8.3014            358500.0        NEAR BAY  \n",
       "2       496.0       177.0         7.2574            352100.0        NEAR BAY  \n",
       "3       558.0       219.0         5.6431            341300.0        NEAR BAY  \n",
       "4       565.0       259.0         3.8462            342200.0        NEAR BAY  "
      ]
     },
     "execution_count": 3,
     "metadata": {},
     "output_type": "execute_result"
    }
   ],
   "source": [
    "cols = ['latitude', 'longitude', 'housing_median_age', 'total_rooms', 'total_bedrooms', 'population', 'households', 'median_income', 'median_house_value', 'ocean_proximity']\n",
    "\n",
    "df = df[cols]\n",
    "\n",
    "df.head()"
   ]
  },
  {
   "cell_type": "code",
   "execution_count": 4,
   "id": "671bb578",
   "metadata": {},
   "outputs": [],
   "source": [
    "# Fill NA with 0s\n",
    "df.fillna(0, inplace=True)"
   ]
  },
  {
   "cell_type": "code",
   "execution_count": 5,
   "id": "14bbe578",
   "metadata": {},
   "outputs": [],
   "source": [
    "# Apply the log tranform to median_house_value\n",
    "df.median_house_value = np.log1p(df.median_house_value)"
   ]
  },
  {
   "cell_type": "code",
   "execution_count": 6,
   "id": "360651ba",
   "metadata": {},
   "outputs": [
    {
     "data": {
      "text/html": [
       "<div>\n",
       "<style scoped>\n",
       "    .dataframe tbody tr th:only-of-type {\n",
       "        vertical-align: middle;\n",
       "    }\n",
       "\n",
       "    .dataframe tbody tr th {\n",
       "        vertical-align: top;\n",
       "    }\n",
       "\n",
       "    .dataframe thead th {\n",
       "        text-align: right;\n",
       "    }\n",
       "</style>\n",
       "<table border=\"1\" class=\"dataframe\">\n",
       "  <thead>\n",
       "    <tr style=\"text-align: right;\">\n",
       "      <th></th>\n",
       "      <th>latitude</th>\n",
       "      <th>longitude</th>\n",
       "      <th>housing_median_age</th>\n",
       "      <th>total_rooms</th>\n",
       "      <th>total_bedrooms</th>\n",
       "      <th>population</th>\n",
       "      <th>households</th>\n",
       "      <th>median_income</th>\n",
       "      <th>median_house_value</th>\n",
       "      <th>ocean_proximity</th>\n",
       "    </tr>\n",
       "  </thead>\n",
       "  <tbody>\n",
       "    <tr>\n",
       "      <th>0</th>\n",
       "      <td>37.88</td>\n",
       "      <td>-122.23</td>\n",
       "      <td>41.0</td>\n",
       "      <td>880.0</td>\n",
       "      <td>129.0</td>\n",
       "      <td>322.0</td>\n",
       "      <td>126.0</td>\n",
       "      <td>8.3252</td>\n",
       "      <td>13.022766</td>\n",
       "      <td>NEAR BAY</td>\n",
       "    </tr>\n",
       "    <tr>\n",
       "      <th>1</th>\n",
       "      <td>37.86</td>\n",
       "      <td>-122.22</td>\n",
       "      <td>21.0</td>\n",
       "      <td>7099.0</td>\n",
       "      <td>1106.0</td>\n",
       "      <td>2401.0</td>\n",
       "      <td>1138.0</td>\n",
       "      <td>8.3014</td>\n",
       "      <td>12.789687</td>\n",
       "      <td>NEAR BAY</td>\n",
       "    </tr>\n",
       "    <tr>\n",
       "      <th>2</th>\n",
       "      <td>37.85</td>\n",
       "      <td>-122.24</td>\n",
       "      <td>52.0</td>\n",
       "      <td>1467.0</td>\n",
       "      <td>190.0</td>\n",
       "      <td>496.0</td>\n",
       "      <td>177.0</td>\n",
       "      <td>7.2574</td>\n",
       "      <td>12.771673</td>\n",
       "      <td>NEAR BAY</td>\n",
       "    </tr>\n",
       "    <tr>\n",
       "      <th>3</th>\n",
       "      <td>37.85</td>\n",
       "      <td>-122.25</td>\n",
       "      <td>52.0</td>\n",
       "      <td>1274.0</td>\n",
       "      <td>235.0</td>\n",
       "      <td>558.0</td>\n",
       "      <td>219.0</td>\n",
       "      <td>5.6431</td>\n",
       "      <td>12.740520</td>\n",
       "      <td>NEAR BAY</td>\n",
       "    </tr>\n",
       "    <tr>\n",
       "      <th>4</th>\n",
       "      <td>37.85</td>\n",
       "      <td>-122.25</td>\n",
       "      <td>52.0</td>\n",
       "      <td>1627.0</td>\n",
       "      <td>280.0</td>\n",
       "      <td>565.0</td>\n",
       "      <td>259.0</td>\n",
       "      <td>3.8462</td>\n",
       "      <td>12.743154</td>\n",
       "      <td>NEAR BAY</td>\n",
       "    </tr>\n",
       "  </tbody>\n",
       "</table>\n",
       "</div>"
      ],
      "text/plain": [
       "   latitude  longitude  housing_median_age  total_rooms  total_bedrooms  \\\n",
       "0     37.88    -122.23                41.0        880.0           129.0   \n",
       "1     37.86    -122.22                21.0       7099.0          1106.0   \n",
       "2     37.85    -122.24                52.0       1467.0           190.0   \n",
       "3     37.85    -122.25                52.0       1274.0           235.0   \n",
       "4     37.85    -122.25                52.0       1627.0           280.0   \n",
       "\n",
       "   population  households  median_income  median_house_value ocean_proximity  \n",
       "0       322.0       126.0         8.3252           13.022766        NEAR BAY  \n",
       "1      2401.0      1138.0         8.3014           12.789687        NEAR BAY  \n",
       "2       496.0       177.0         7.2574           12.771673        NEAR BAY  \n",
       "3       558.0       219.0         5.6431           12.740520        NEAR BAY  \n",
       "4       565.0       259.0         3.8462           12.743154        NEAR BAY  "
      ]
     },
     "execution_count": 6,
     "metadata": {},
     "output_type": "execute_result"
    }
   ],
   "source": [
    "df.head()"
   ]
  },
  {
   "cell_type": "code",
   "execution_count": 7,
   "id": "8332ff8a",
   "metadata": {},
   "outputs": [
    {
     "data": {
      "text/plain": [
       "latitude              0\n",
       "longitude             0\n",
       "housing_median_age    0\n",
       "total_rooms           0\n",
       "total_bedrooms        0\n",
       "population            0\n",
       "households            0\n",
       "median_income         0\n",
       "median_house_value    0\n",
       "ocean_proximity       0\n",
       "dtype: int64"
      ]
     },
     "execution_count": 7,
     "metadata": {},
     "output_type": "execute_result"
    }
   ],
   "source": [
    "df.isnull().sum()"
   ]
  },
  {
   "cell_type": "code",
   "execution_count": 8,
   "id": "ea20b68b",
   "metadata": {},
   "outputs": [],
   "source": [
    "targetCol = 'median_house_value'\n",
    "\n",
    "target = df[targetCol]\n",
    "data = df.drop(columns=[targetCol])"
   ]
  },
  {
   "cell_type": "code",
   "execution_count": 9,
   "id": "4fef6720",
   "metadata": {},
   "outputs": [],
   "source": [
    "from sklearn.model_selection import train_test_split"
   ]
  },
  {
   "cell_type": "code",
   "execution_count": 10,
   "id": "ceca0bf8",
   "metadata": {},
   "outputs": [],
   "source": [
    "# train/validation/test split with 60%/20%/20% distribution\n",
    "dfTrainFull, dfTest, yTrainFull, yTest = train_test_split(data, target, test_size=0.2, random_state=1)\n",
    "dfTrain, dfVal, yTrain, yVal = train_test_split(dfTrainFull, yTrainFull, test_size=0.25, random_state=1)"
   ]
  },
  {
   "cell_type": "code",
   "execution_count": 11,
   "id": "b235db8b",
   "metadata": {},
   "outputs": [
    {
     "data": {
      "text/plain": [
       "(12384, 4128, 4128)"
      ]
     },
     "execution_count": 11,
     "metadata": {},
     "output_type": "execute_result"
    }
   ],
   "source": [
    "len(dfTrain), len(dfVal), len(dfTest)"
   ]
  },
  {
   "cell_type": "code",
   "execution_count": 12,
   "id": "f42c3829",
   "metadata": {},
   "outputs": [],
   "source": [
    "from sklearn.tree import DecisionTreeClassifier, DecisionTreeRegressor\n",
    "from sklearn.pipeline import make_pipeline\n",
    "from sklearn.metrics import roc_auc_score\n",
    "from sklearn.tree import export_text"
   ]
  },
  {
   "cell_type": "code",
   "execution_count": 13,
   "id": "f795cfb8",
   "metadata": {},
   "outputs": [],
   "source": [
    "from sklearn.preprocessing import OneHotEncoder, StandardScaler\n",
    "from sklearn.compose import ColumnTransformer\n",
    "\n",
    "categoricalCols = ['ocean_proximity']\n",
    "numericalCols = list(set(dfTrain.columns).difference(categoricalCols))\n",
    "catPreprocessor = OneHotEncoder(handle_unknown=\"ignore\")\n",
    "preprocessor = ColumnTransformer([\n",
    "    ('one-hot-encoder', catPreprocessor, categoricalCols)],remainder=\"passthrough\")"
   ]
  },
  {
   "cell_type": "markdown",
   "id": "14421dc1",
   "metadata": {},
   "source": [
    "#### Which feature is used for splitting the data"
   ]
  },
  {
   "cell_type": "code",
   "execution_count": 14,
   "id": "1057f927",
   "metadata": {},
   "outputs": [
    {
     "data": {
      "text/plain": [
       "Pipeline(steps=[('columntransformer',\n",
       "                 ColumnTransformer(remainder='passthrough',\n",
       "                                   transformers=[('one-hot-encoder',\n",
       "                                                  OneHotEncoder(handle_unknown='ignore'),\n",
       "                                                  ['ocean_proximity'])])),\n",
       "                ('decisiontreeregressor', DecisionTreeRegressor(max_depth=1))])"
      ]
     },
     "execution_count": 14,
     "metadata": {},
     "output_type": "execute_result"
    }
   ],
   "source": [
    "modelDT = make_pipeline(preprocessor, DecisionTreeRegressor(max_depth=1))\n",
    "modelDT.fit(dfTrain, yTrain)"
   ]
  },
  {
   "cell_type": "code",
   "execution_count": 15,
   "id": "0ccdb76e",
   "metadata": {},
   "outputs": [
    {
     "data": {
      "text/plain": [
       "['ocean_proximity_<1H OCEAN',\n",
       " 'ocean_proximity_INLAND',\n",
       " 'ocean_proximity_ISLAND',\n",
       " 'ocean_proximity_NEAR BAY',\n",
       " 'ocean_proximity_NEAR OCEAN',\n",
       " 'households',\n",
       " 'median_income',\n",
       " 'total_bedrooms',\n",
       " 'longitude',\n",
       " 'total_rooms',\n",
       " 'housing_median_age',\n",
       " 'population',\n",
       " 'latitude']"
      ]
     },
     "execution_count": 15,
     "metadata": {},
     "output_type": "execute_result"
    }
   ],
   "source": [
    "names = list(modelDT.named_steps['columntransformer'].transformers_[0][1].get_feature_names_out(categoricalCols)) + numericalCols\n",
    "names"
   ]
  },
  {
   "cell_type": "code",
   "execution_count": 16,
   "id": "824ddca2",
   "metadata": {},
   "outputs": [
    {
     "data": {
      "text/plain": [
       "Pipeline(steps=[('columntransformer',\n",
       "                 ColumnTransformer(remainder='passthrough',\n",
       "                                   transformers=[('one-hot-encoder',\n",
       "                                                  OneHotEncoder(handle_unknown='ignore'),\n",
       "                                                  ['ocean_proximity'])])),\n",
       "                ('decisiontreeregressor', DecisionTreeRegressor(max_depth=1))])"
      ]
     },
     "execution_count": 16,
     "metadata": {},
     "output_type": "execute_result"
    }
   ],
   "source": [
    "modelDT"
   ]
  },
  {
   "cell_type": "code",
   "execution_count": 17,
   "id": "02bbf7a9",
   "metadata": {},
   "outputs": [
    {
     "name": "stdout",
     "output_type": "stream",
     "text": [
      "|--- ocean_proximity_INLAND <= 0.50\n",
      "|   |--- value: [12.31]\n",
      "|--- ocean_proximity_INLAND >  0.50\n",
      "|   |--- value: [11.61]\n",
      "\n"
     ]
    }
   ],
   "source": [
    "print(export_text(modelDT['decisiontreeregressor'], feature_names=names))"
   ]
  },
  {
   "cell_type": "markdown",
   "id": "9488eb8a",
   "metadata": {},
   "source": [
    "ocean_proximity_INLAND is used to split the data"
   ]
  },
  {
   "cell_type": "markdown",
   "id": "f19db020",
   "metadata": {},
   "source": [
    "#### RMSE of this model on validation (n_estimators=10, random_state=1)"
   ]
  },
  {
   "cell_type": "code",
   "execution_count": 18,
   "id": "dbd70433",
   "metadata": {},
   "outputs": [
    {
     "data": {
      "text/plain": [
       "Pipeline(steps=[('columntransformer',\n",
       "                 ColumnTransformer(remainder='passthrough',\n",
       "                                   transformers=[('one-hot-encoder',\n",
       "                                                  OneHotEncoder(handle_unknown='ignore'),\n",
       "                                                  ['ocean_proximity'])])),\n",
       "                ('randomforestregressor',\n",
       "                 RandomForestRegressor(n_estimators=10, n_jobs=-1,\n",
       "                                       random_state=1))])"
      ]
     },
     "execution_count": 18,
     "metadata": {},
     "output_type": "execute_result"
    }
   ],
   "source": [
    "from sklearn.ensemble import RandomForestClassifier, RandomForestRegressor\n",
    "RF = make_pipeline(preprocessor, RandomForestRegressor(n_estimators=10, random_state=1, n_jobs=-1))\n",
    "RF.fit(dfTrain, yTrain)"
   ]
  },
  {
   "cell_type": "code",
   "execution_count": 19,
   "id": "2149fb8a",
   "metadata": {},
   "outputs": [
    {
     "data": {
      "text/plain": [
       "array([12.75007188, 13.07958783, 11.36243637, ..., 12.71480652,\n",
       "       12.33095461, 12.29977523])"
      ]
     },
     "execution_count": 19,
     "metadata": {},
     "output_type": "execute_result"
    }
   ],
   "source": [
    "yValPred = RF.predict(dfVal)\n",
    "yValPred"
   ]
  },
  {
   "cell_type": "code",
   "execution_count": 20,
   "id": "f89e46d0",
   "metadata": {},
   "outputs": [],
   "source": [
    "from sklearn.metrics import mean_squared_error"
   ]
  },
  {
   "cell_type": "code",
   "execution_count": 25,
   "id": "961b37ca",
   "metadata": {},
   "outputs": [
    {
     "name": "stdout",
     "output_type": "stream",
     "text": [
      "Mean squared error: 0.25\n"
     ]
    }
   ],
   "source": [
    "rmse = mean_squared_error(yVal, yValPred, squared=False)\n",
    "print(f'Mean squared error: {round(rmse,2)}')"
   ]
  },
  {
   "cell_type": "markdown",
   "id": "1846e317",
   "metadata": {},
   "source": [
    "#### After which value of n_estimators does RMSE stop improving?"
   ]
  },
  {
   "cell_type": "code",
   "execution_count": 26,
   "id": "d66ff0bf",
   "metadata": {},
   "outputs": [],
   "source": [
    "scores = []\n",
    "for n in range(10, 201, 10):\n",
    "    RF = make_pipeline(preprocessor, RandomForestRegressor(n_estimators=n, random_state=1, n_jobs=-1))\n",
    "    RF.fit(dfTrain, yTrain)\n",
    "    yValPred = RF.predict(dfVal)\n",
    "    RMSE = mean_squared_error(yVal, yValPred)\n",
    "    scores.append([n, RMSE])"
   ]
  },
  {
   "cell_type": "code",
   "execution_count": 27,
   "id": "f3021087",
   "metadata": {},
   "outputs": [],
   "source": [
    "dfScores = pd.DataFrame(scores, columns=['n_stimators', 'RMSE'])"
   ]
  },
  {
   "cell_type": "code",
   "execution_count": 28,
   "id": "ff9c7ec9",
   "metadata": {},
   "outputs": [
    {
     "data": {
      "image/png": "[encoded data removed]",
      "text/plain": [
       "<Figure size 432x288 with 1 Axes>"
      ]
     },
     "metadata": {
      "needs_background": "light"
     },
     "output_type": "display_data"
    }
   ],
   "source": [
    "_ = plt.plot(dfScores.n_stimators, dfScores.RMSE)\n",
    "plt.grid()\n",
    "plt.show()"
   ]
  },
  {
   "cell_type": "markdown",
   "id": "33acbe7e",
   "metadata": {},
   "source": [
    "After n_stimators = 150"
   ]
  },
  {
   "cell_type": "markdown",
   "id": "f2b3fd2b",
   "metadata": {},
   "source": [
    "#### Let's find the best max_depth"
   ]
  },
  {
   "cell_type": "code",
   "execution_count": 29,
   "id": "1ad4265f",
   "metadata": {},
   "outputs": [],
   "source": [
    "scores = []\n",
    "\n",
    "for d in [10, 15, 20, 25]:\n",
    "    for n in range(10, 201, 10):\n",
    "        RF = make_pipeline(preprocessor, RandomForestRegressor(n_estimators=n, max_depth=d, random_state=1, n_jobs=-1))\n",
    "        RF.fit(dfTrain, yTrain)\n",
    "        yValPred = RF.predict(dfVal)\n",
    "        RMSE = mean_squared_error(yVal, yValPred)\n",
    "        scores.append([d, n, RMSE])"
   ]
  },
  {
   "cell_type": "code",
   "execution_count": 30,
   "id": "a1d7c65c",
   "metadata": {},
   "outputs": [],
   "source": [
    "dfScores = pd.DataFrame(scores, columns=['max_depth', 'n_stimators', 'RMSE'])"
   ]
  },
  {
   "cell_type": "code",
   "execution_count": 31,
   "id": "d423783b",
   "metadata": {},
   "outputs": [
    {
     "data": {
      "image/png": "[encoded data removed]",
      "text/plain": [
       "<Figure size 432x288 with 1 Axes>"
      ]
     },
     "metadata": {
      "needs_background": "light"
     },
     "output_type": "display_data"
    }
   ],
   "source": [
    "for d in [10, 15, 20, 25]:\n",
    "    dfSubset = dfScores[dfScores.max_depth == d]\n",
    "    plt.plot(dfSubset.n_stimators, dfSubset.RMSE ,label = f'max_depth={d}')\n",
    "                 \n",
    "plt.grid()\n",
    "plt.legend()\n",
    "plt.ylim(0.05, 0.055)\n",
    "plt.show()"
   ]
  },
  {
   "cell_type": "markdown",
   "id": "d8a68cd9",
   "metadata": {},
   "source": [
    "best max_depth = 20"
   ]
  },
  {
   "cell_type": "markdown",
   "id": "bd163474",
   "metadata": {},
   "source": [
    "#### Feature importance information "
   ]
  },
  {
   "cell_type": "code",
   "execution_count": 52,
   "id": "33730dcf",
   "metadata": {},
   "outputs": [
    {
     "data": {
      "text/plain": [
       "0.0600661340627008"
      ]
     },
     "execution_count": 52,
     "metadata": {},
     "output_type": "execute_result"
    }
   ],
   "source": [
    "RF = make_pipeline(preprocessor, RandomForestRegressor(n_estimators=10, max_depth=20, random_state=1, n_jobs=-1))\n",
    "RF.fit(dfTrain, yTrain)\n",
    "yValPred = RF.predict(dfVal)\n",
    "RMSE = mean_squared_error(yVal, yValPred)\n",
    "RMSE"
   ]
  },
  {
   "cell_type": "code",
   "execution_count": 53,
   "id": "dce593a1",
   "metadata": {},
   "outputs": [
    {
     "data": {
      "text/plain": [
       "['ocean_proximity_<1H OCEAN',\n",
       " 'ocean_proximity_INLAND',\n",
       " 'ocean_proximity_ISLAND',\n",
       " 'ocean_proximity_NEAR BAY',\n",
       " 'ocean_proximity_NEAR OCEAN',\n",
       " 'households',\n",
       " 'median_income',\n",
       " 'total_bedrooms',\n",
       " 'longitude',\n",
       " 'total_rooms',\n",
       " 'housing_median_age',\n",
       " 'population',\n",
       " 'latitude']"
      ]
     },
     "execution_count": 53,
     "metadata": {},
     "output_type": "execute_result"
    }
   ],
   "source": [
    "names = list(RF.named_steps['columntransformer'].transformers_[0][1].get_feature_names_out(categoricalCols)) + numericalCols\n",
    "names"
   ]
  },
  {
   "cell_type": "code",
   "execution_count": 54,
   "id": "d91c83d2",
   "metadata": {},
   "outputs": [],
   "source": [
    "#print(export_text(RF[1][1], feature_names=names))"
   ]
  },
  {
   "cell_type": "code",
   "execution_count": 55,
   "id": "e7734ec9",
   "metadata": {},
   "outputs": [],
   "source": [
    "importance = RF.steps[1][1].feature_importances_"
   ]
  },
  {
   "cell_type": "code",
   "execution_count": 56,
   "id": "cf195043",
   "metadata": {},
   "outputs": [
    {
     "data": {
      "text/html": [
       "<div>\n",
       "<style scoped>\n",
       "    .dataframe tbody tr th:only-of-type {\n",
       "        vertical-align: middle;\n",
       "    }\n",
       "\n",
       "    .dataframe tbody tr th {\n",
       "        vertical-align: top;\n",
       "    }\n",
       "\n",
       "    .dataframe thead th {\n",
       "        text-align: right;\n",
       "    }\n",
       "</style>\n",
       "<table border=\"1\" class=\"dataframe\">\n",
       "  <thead>\n",
       "    <tr style=\"text-align: right;\">\n",
       "      <th></th>\n",
       "      <th>Importance</th>\n",
       "      <th>Feature</th>\n",
       "    </tr>\n",
       "  </thead>\n",
       "  <tbody>\n",
       "    <tr>\n",
       "      <th>12</th>\n",
       "      <td>0.363161</td>\n",
       "      <td>latitude</td>\n",
       "    </tr>\n",
       "    <tr>\n",
       "      <th>1</th>\n",
       "      <td>0.310901</td>\n",
       "      <td>ocean_proximity_INLAND</td>\n",
       "    </tr>\n",
       "    <tr>\n",
       "      <th>5</th>\n",
       "      <td>0.101711</td>\n",
       "      <td>households</td>\n",
       "    </tr>\n",
       "    <tr>\n",
       "      <th>6</th>\n",
       "      <td>0.096212</td>\n",
       "      <td>median_income</td>\n",
       "    </tr>\n",
       "    <tr>\n",
       "      <th>7</th>\n",
       "      <td>0.032801</td>\n",
       "      <td>total_bedrooms</td>\n",
       "    </tr>\n",
       "    <tr>\n",
       "      <th>10</th>\n",
       "      <td>0.030854</td>\n",
       "      <td>housing_median_age</td>\n",
       "    </tr>\n",
       "    <tr>\n",
       "      <th>8</th>\n",
       "      <td>0.020796</td>\n",
       "      <td>longitude</td>\n",
       "    </tr>\n",
       "    <tr>\n",
       "      <th>9</th>\n",
       "      <td>0.019145</td>\n",
       "      <td>total_rooms</td>\n",
       "    </tr>\n",
       "    <tr>\n",
       "      <th>11</th>\n",
       "      <td>0.016574</td>\n",
       "      <td>population</td>\n",
       "    </tr>\n",
       "    <tr>\n",
       "      <th>4</th>\n",
       "      <td>0.004919</td>\n",
       "      <td>ocean_proximity_NEAR OCEAN</td>\n",
       "    </tr>\n",
       "    <tr>\n",
       "      <th>0</th>\n",
       "      <td>0.002210</td>\n",
       "      <td>ocean_proximity_&lt;1H OCEAN</td>\n",
       "    </tr>\n",
       "    <tr>\n",
       "      <th>3</th>\n",
       "      <td>0.000359</td>\n",
       "      <td>ocean_proximity_NEAR BAY</td>\n",
       "    </tr>\n",
       "    <tr>\n",
       "      <th>2</th>\n",
       "      <td>0.000359</td>\n",
       "      <td>ocean_proximity_ISLAND</td>\n",
       "    </tr>\n",
       "  </tbody>\n",
       "</table>\n",
       "</div>"
      ],
      "text/plain": [
       "    Importance                     Feature\n",
       "12    0.363161                    latitude\n",
       "1     0.310901      ocean_proximity_INLAND\n",
       "5     0.101711                  households\n",
       "6     0.096212               median_income\n",
       "7     0.032801              total_bedrooms\n",
       "10    0.030854          housing_median_age\n",
       "8     0.020796                   longitude\n",
       "9     0.019145                 total_rooms\n",
       "11    0.016574                  population\n",
       "4     0.004919  ocean_proximity_NEAR OCEAN\n",
       "0     0.002210   ocean_proximity_<1H OCEAN\n",
       "3     0.000359    ocean_proximity_NEAR BAY\n",
       "2     0.000359      ocean_proximity_ISLAND"
      ]
     },
     "execution_count": 56,
     "metadata": {},
     "output_type": "execute_result"
    }
   ],
   "source": [
    "featImp = list(zip(importance, names))\n",
    "featImpDF = pd.DataFrame(featImp, columns=['Importance', 'Feature'])\n",
    "featImpDF = featImpDF.sort_values(by='Importance', ascending=False)\n",
    "featImpDF"
   ]
  },
  {
   "cell_type": "markdown",
   "id": "075ca23e",
   "metadata": {},
   "source": [
    "the most important feature is median_income"
   ]
  },
  {
   "cell_type": "markdown",
   "id": "09473f71",
   "metadata": {},
   "source": [
    "#### Tunning the eta parameter"
   ]
  },
  {
   "cell_type": "code",
   "execution_count": 37,
   "id": "3c1b1143",
   "metadata": {},
   "outputs": [],
   "source": [
    "dfTrainNew = dfTrain.copy()\n",
    "dfValNew = dfVal.copy()"
   ]
  },
  {
   "cell_type": "code",
   "execution_count": 38,
   "id": "92757817",
   "metadata": {},
   "outputs": [],
   "source": [
    "for col in categoricalCols:\n",
    "    dfTrainNew[col] = dfTrainNew[col].astype(\"category\")\n",
    "    dfValNew[col] = dfValNew[col].astype(\"category\")"
   ]
  },
  {
   "cell_type": "code",
   "execution_count": 39,
   "id": "ab54ed0d",
   "metadata": {},
   "outputs": [],
   "source": [
    "dTrain = xgb.DMatrix(dfTrainNew, yTrain, enable_categorical=True)\n",
    "dVal = xgb.DMatrix(dfValNew, yVal, enable_categorical=True)"
   ]
  },
  {
   "cell_type": "code",
   "execution_count": 40,
   "id": "acf7ed34",
   "metadata": {},
   "outputs": [],
   "source": [
    "watchlist = [(dTrain, 'train'), (dVal, 'val')]"
   ]
  },
  {
   "cell_type": "code",
   "execution_count": 41,
   "id": "914deced",
   "metadata": {},
   "outputs": [
    {
     "name": "stdout",
     "output_type": "stream",
     "text": [
      "[0]\ttrain-rmse:8.12774\tval-rmse:8.13350\n",
      "[5]\ttrain-rmse:1.40249\tval-rmse:1.40664\n",
      "[10]\ttrain-rmse:0.34210\tval-rmse:0.35636\n",
      "[15]\ttrain-rmse:0.22896\tval-rmse:0.25518\n",
      "[20]\ttrain-rmse:0.21281\tval-rmse:0.24632\n",
      "[25]\ttrain-rmse:0.20065\tval-rmse:0.24128\n",
      "[30]\ttrain-rmse:0.19406\tval-rmse:0.23874\n",
      "[35]\ttrain-rmse:0.18480\tval-rmse:0.23630\n",
      "[40]\ttrain-rmse:0.17803\tval-rmse:0.23568\n",
      "[45]\ttrain-rmse:0.17197\tval-rmse:0.23445\n",
      "[50]\ttrain-rmse:0.16785\tval-rmse:0.23413\n",
      "[55]\ttrain-rmse:0.16126\tval-rmse:0.23234\n",
      "[60]\ttrain-rmse:0.15777\tval-rmse:0.23151\n",
      "[65]\ttrain-rmse:0.15347\tval-rmse:0.23063\n",
      "[70]\ttrain-rmse:0.14956\tval-rmse:0.23033\n",
      "[75]\ttrain-rmse:0.14685\tval-rmse:0.23004\n",
      "[80]\ttrain-rmse:0.14248\tval-rmse:0.22926\n",
      "[85]\ttrain-rmse:0.13915\tval-rmse:0.22834\n",
      "[90]\ttrain-rmse:0.13724\tval-rmse:0.22844\n",
      "[95]\ttrain-rmse:0.13393\tval-rmse:0.22807\n",
      "[100]\ttrain-rmse:0.13095\tval-rmse:0.22824\n"
     ]
    }
   ],
   "source": [
    "xgbParams = {\n",
    "    'eta': 0.3, \n",
    "    'max_depth': 6,\n",
    "    'min_child_weight': 1,\n",
    "    \n",
    "    'objective': 'reg:squarederror',\n",
    "    'nthread': 8,\n",
    "    \n",
    "    'seed': 1,\n",
    "    'verbosity': 1,\n",
    "}\n",
    "modelxgb = xgb.train(xgbParams, dTrain, evals=watchlist, num_boost_round=101, verbose_eval=5)"
   ]
  },
  {
   "cell_type": "code",
   "execution_count": 42,
   "id": "7ae6ff97",
   "metadata": {},
   "outputs": [],
   "source": [
    "scores = {}"
   ]
  },
  {
   "cell_type": "code",
   "execution_count": 47,
   "id": "daf1a5e8",
   "metadata": {},
   "outputs": [],
   "source": [
    "%%capture output\n",
    "\n",
    "eta = 0.3\n",
    "\n",
    "xgbParams = {\n",
    "    'eta': eta, \n",
    "    'max_depth': 6,\n",
    "    'min_child_weight': 1,\n",
    "    \n",
    "    'objective': 'reg:squarederror',\n",
    "    'nthread': 8,\n",
    "    \n",
    "    'seed': 1,\n",
    "    'verbosity': 1,\n",
    "}\n",
    "modelxgb = xgb.train(xgbParams, dTrain, evals=watchlist, num_boost_round=101, verbose_eval=5)"
   ]
  },
  {
   "cell_type": "code",
   "execution_count": 48,
   "id": "9c9a3b2b",
   "metadata": {},
   "outputs": [
    {
     "data": {
      "text/plain": [
       "{'eta=0.01':     iteration  train-squarederror  val-squarederror\n",
       " 0        15.0             9.88163           9.88735\n",
       " 1        20.0             9.39831           9.40394\n",
       " 2        25.0             8.93870           8.94423\n",
       " 3        30.0             8.50164           8.50703\n",
       " 4        35.0             8.08604           8.09132\n",
       " 5        40.0             7.69078           7.69594\n",
       " 6        45.0             7.31492           7.31995\n",
       " 7        50.0             6.95750           6.96243\n",
       " 8        55.0             6.61764           6.62253\n",
       " 9        60.0             6.29445           6.29923\n",
       " 10       65.0             5.98714           5.99193\n",
       " 11       70.0             5.69492           5.69967\n",
       " 12       75.0             5.41705           5.42176\n",
       " 13       80.0             5.15284           5.15751\n",
       " 14       85.0             4.90160           4.90620\n",
       " 15       90.0             4.66271           4.66725\n",
       " 16       95.0             4.43557           4.44003\n",
       " 17      100.0             4.21958           4.22404,\n",
       " 'eta=0.1':     iteration  train-squarederror  val-squarederror\n",
       " 0         5.0             6.17595           6.18083\n",
       " 1        10.0             3.65841           3.66288\n",
       " 2        15.0             2.17597           2.17985\n",
       " 3        20.0             1.30631           1.31153\n",
       " 4        25.0             0.80053           0.80777\n",
       " 5        30.0             0.51311           0.52326\n",
       " 6        35.0             0.35792           0.37359\n",
       " 7        40.0             0.27944           0.30045\n",
       " 8        45.0             0.24291           0.26743\n",
       " 9        50.0             0.22583           0.25366\n",
       " 10       55.0             0.21637           0.24646\n",
       " 11       60.0             0.21045           0.24300\n",
       " 12       65.0             0.20561           0.24064\n",
       " 13       70.0             0.20088           0.23873\n",
       " 14       75.0             0.19764           0.23709\n",
       " 15       80.0             0.19492           0.23602\n",
       " 16       85.0             0.19183           0.23487\n",
       " 17       90.0             0.18892           0.23398\n",
       " 18       95.0             0.18642           0.23344\n",
       " 19      100.0             0.18375           0.23247,\n",
       " 'eta=0.3':     iteration  train-squarederror  val-squarederror\n",
       " 0         0.0             8.12774           8.13350\n",
       " 1         5.0             1.40249           1.40664\n",
       " 2        10.0             0.34210           0.35636\n",
       " 3        15.0             0.22896           0.25518\n",
       " 4        20.0             0.21281           0.24632\n",
       " 5        25.0             0.20065           0.24128\n",
       " 6        30.0             0.19406           0.23874\n",
       " 7        35.0             0.18480           0.23630\n",
       " 8        40.0             0.17803           0.23568\n",
       " 9        45.0             0.17197           0.23445\n",
       " 10       50.0             0.16785           0.23413\n",
       " 11       55.0             0.16126           0.23234\n",
       " 12       60.0             0.15777           0.23151\n",
       " 13       65.0             0.15347           0.23063\n",
       " 14       70.0             0.14956           0.23033\n",
       " 15       75.0             0.14685           0.23004\n",
       " 16       80.0             0.14248           0.22926\n",
       " 17       85.0             0.13915           0.22834\n",
       " 18       90.0             0.13724           0.22844\n",
       " 19       95.0             0.13393           0.22807\n",
       " 20      100.0             0.13095           0.22824}"
      ]
     },
     "execution_count": 48,
     "metadata": {},
     "output_type": "execute_result"
    }
   ],
   "source": [
    "s = output.stdout\n",
    "\n",
    "newString = regex.findall(r'.*\\[(\\d+)\\].*:(\\d.\\d+).*:(\\d.\\d+).*', s)\n",
    "dfScores = pd.DataFrame(newString, columns=['iteration','train-squarederror', 'val-squarederror'])\n",
    "dfScores =  dfScores.astype(float)\n",
    "scores[f'eta={eta}'] = dfScores\n",
    "scores"
   ]
  },
  {
   "cell_type": "code",
   "execution_count": 49,
   "id": "fa9d843f",
   "metadata": {},
   "outputs": [
    {
     "data": {
      "image/png": "[encoded data removed]",
      "text/plain": [
       "<Figure size 432x288 with 1 Axes>"
      ]
     },
     "metadata": {
      "needs_background": "light"
     },
     "output_type": "display_data"
    }
   ],
   "source": [
    "for key, dfScore in scores.items():\n",
    "    plt.plot(dfScore.iteration, dfScore['val-squarederror'], label=key)\n",
    "    \n",
    "plt.legend()\n",
    "plt.grid()\n",
    "_ = plt.show()"
   ]
  },
  {
   "cell_type": "markdown",
   "id": "9fec2183",
   "metadata": {},
   "source": [
    "Both 0.1 and 0.3 give the same RMSE Score"
   ]
  },
  {
   "cell_type": "code",
   "execution_count": null,
   "id": "1681d026",
   "metadata": {},
   "outputs": [],
   "source": []
  }
 ],
 "metadata": {
  "kernelspec": {
   "display_name": "Python 3 (ipykernel)",
   "language": "python",
   "name": "python3"
  },
  "language_info": {
   "codemirror_mode": {
    "name": "ipython",
    "version": 3
   },
   "file_extension": ".py",
   "mimetype": "text/x-python",
   "name": "python",
   "nbconvert_exporter": "python",
   "pygments_lexer": "ipython3",
   "version": "3.9.12"
  }
 },
 "nbformat": 4,
 "nbformat_minor": 5
}
