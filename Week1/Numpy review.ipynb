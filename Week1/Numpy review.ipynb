{
 "cells": [
  {
   "cell_type": "code",
   "execution_count": 8,
   "id": "c985de75",
   "metadata": {},
   "outputs": [],
   "source": [
    "import numpy as np"
   ]
  },
  {
   "cell_type": "markdown",
   "id": "86993c48",
   "metadata": {},
   "source": [
    "### Unidimensional arrays"
   ]
  },
  {
   "cell_type": "code",
   "execution_count": 9,
   "id": "3bf191fc",
   "metadata": {},
   "outputs": [],
   "source": [
    "def printArray(array):\n",
    "    print(array)\n",
    "    print(f'Array shape: {array.shape}')"
   ]
  },
  {
   "cell_type": "code",
   "execution_count": 10,
   "id": "ebd82149",
   "metadata": {
    "scrolled": true
   },
   "outputs": [
    {
     "name": "stdout",
     "output_type": "stream",
     "text": [
      "[0. 0. 0. 0. 0. 0. 0. 0. 0. 0.]\n",
      "Array shape: (10,)\n",
      "[1. 1. 1.]\n",
      "Array shape: (3,)\n",
      "[1.5 1.5 1.5 1.5 1.5 1.5 1.5 1.5]\n",
      "Array shape: (8,)\n",
      "[1 2 4 6 8 9]\n",
      "Array shape: (6,)\n",
      "[  0.  10.  20.  30.  40.  50.  60.  70.  80.  90. 100.]\n",
      "Array shape: (11,)\n"
     ]
    }
   ],
   "source": [
    "printArray(np.zeros(10))\n",
    "printArray(np.ones(3))\n",
    "printArray(np.full(8,1.5))\n",
    "printArray(np.array([1,2,4,6,8,9]))\n",
    "printArray(np.linspace(0,100,11))"
   ]
  },
  {
   "cell_type": "markdown",
   "id": "05195153",
   "metadata": {},
   "source": [
    "### MultiDimensional Arrays"
   ]
  },
  {
   "cell_type": "code",
   "execution_count": 11,
   "id": "95014cdc",
   "metadata": {},
   "outputs": [
    {
     "name": "stdout",
     "output_type": "stream",
     "text": [
      "[[0. 0. 0. 0.]\n",
      " [0. 0. 0. 0.]\n",
      " [0. 0. 0. 0.]\n",
      " [0. 0. 0. 0.]]\n",
      "Array shape: (4, 4)\n"
     ]
    }
   ],
   "source": [
    "printArray(np.zeros((4,4)))"
   ]
  },
  {
   "cell_type": "code",
   "execution_count": 12,
   "id": "eecfe951",
   "metadata": {},
   "outputs": [],
   "source": [
    "array = np.array([\n",
    "    [1,1,1],\n",
    "    [2,2,2],\n",
    "    [5,5,5],\n",
    "    [9,9,9]\n",
    "])"
   ]
  },
  {
   "cell_type": "code",
   "execution_count": 13,
   "id": "b71a841d",
   "metadata": {},
   "outputs": [
    {
     "name": "stdout",
     "output_type": "stream",
     "text": [
      "Just one element: 1\n",
      "Just one row: [5 5 5]\n",
      "Just one column: [1 2 5 9]\n"
     ]
    }
   ],
   "source": [
    "print(f'Just one element: {array[0,2]}')\n",
    "print(f'Just one row: {array[2]}')\n",
    "print(f'Just one column: {array[:,1]}')"
   ]
  },
  {
   "cell_type": "markdown",
   "id": "05b7454b",
   "metadata": {},
   "source": [
    "### Randomly generated arrays "
   ]
  },
  {
   "cell_type": "code",
   "execution_count": 14,
   "id": "d0da586e",
   "metadata": {},
   "outputs": [
    {
     "data": {
      "text/plain": [
       "array([[0.5507979 , 0.70814782, 0.29090474],\n",
       "       [0.51082761, 0.89294695, 0.89629309],\n",
       "       [0.12558531, 0.20724288, 0.0514672 ],\n",
       "       [0.44080984, 0.02987621, 0.45683322],\n",
       "       [0.64914405, 0.27848728, 0.6762549 ],\n",
       "       [0.59086282, 0.02398188, 0.55885409],\n",
       "       [0.25925245, 0.4151012 , 0.28352508]])"
      ]
     },
     "execution_count": 14,
     "metadata": {},
     "output_type": "execute_result"
    }
   ],
   "source": [
    "np.random.seed(3)\n",
    "np.random.rand(7,3)"
   ]
  },
  {
   "cell_type": "code",
   "execution_count": 15,
   "id": "7fcaee79",
   "metadata": {},
   "outputs": [
    {
     "data": {
      "text/plain": [
       "array([[ 1.78862847,  0.43650985,  0.09649747],\n",
       "       [-1.8634927 , -0.2773882 , -0.35475898],\n",
       "       [-0.08274148, -0.62700068, -0.04381817]])"
      ]
     },
     "execution_count": 15,
     "metadata": {},
     "output_type": "execute_result"
    }
   ],
   "source": [
    "np.random.seed(3)\n",
    "np.random.randn(3,3)"
   ]
  },
  {
   "cell_type": "code",
   "execution_count": 16,
   "id": "1e37bb33",
   "metadata": {},
   "outputs": [
    {
     "data": {
      "text/plain": [
       "array([[10,  3,  8,  0, 19, 10],\n",
       "       [11,  9, 10,  6,  0, 12],\n",
       "       [ 7, 14, 17,  2,  2,  1],\n",
       "       [19,  5,  8, 14,  1, 10],\n",
       "       [ 7, 11,  1, 15, 16,  5]])"
      ]
     },
     "execution_count": 16,
     "metadata": {},
     "output_type": "execute_result"
    }
   ],
   "source": [
    "np.random.seed(3)\n",
    "np.random.randint(0,20,(5,6))"
   ]
  },
  {
   "cell_type": "markdown",
   "id": "4b37e73a",
   "metadata": {},
   "source": [
    "### Operations and comparisons"
   ]
  },
  {
   "cell_type": "code",
   "execution_count": 17,
   "id": "2a1d51b0",
   "metadata": {},
   "outputs": [],
   "source": [
    "# Random arrays\n",
    "a = np.random.randint(0,20,(1,6))\n",
    "b = np.random.randint(0,20,(1,6))"
   ]
  },
  {
   "cell_type": "code",
   "execution_count": 18,
   "id": "bf1da3c1",
   "metadata": {},
   "outputs": [
    {
     "name": "stdout",
     "output_type": "stream",
     "text": [
      "[[17 14  0  0  9 18]] [[ 5  7  5 14  1 17]]\n"
     ]
    }
   ],
   "source": [
    "print(a,b)"
   ]
  },
  {
   "cell_type": "code",
   "execution_count": 19,
   "id": "5f4d6cbc",
   "metadata": {},
   "outputs": [
    {
     "data": {
      "text/plain": [
       "array([[ 4.84,  4.41,  0.25,  1.96,  1.  , 12.25]])"
      ]
     },
     "execution_count": 19,
     "metadata": {},
     "output_type": "execute_result"
    }
   ],
   "source": [
    "#Some operations\n",
    "((b + a)/10)**2"
   ]
  },
  {
   "cell_type": "code",
   "execution_count": 20,
   "id": "f9060ad9",
   "metadata": {},
   "outputs": [
    {
     "data": {
      "text/plain": [
       "array([[False, False,  True,  True, False, False]])"
      ]
     },
     "execution_count": 20,
     "metadata": {},
     "output_type": "execute_result"
    }
   ],
   "source": [
    "#Comparison\n",
    "b > a"
   ]
  },
  {
   "cell_type": "code",
   "execution_count": 21,
   "id": "2efad674",
   "metadata": {},
   "outputs": [
    {
     "data": {
      "text/plain": [
       "array([0, 0])"
      ]
     },
     "execution_count": 21,
     "metadata": {},
     "output_type": "execute_result"
    }
   ],
   "source": [
    "a[b > a]"
   ]
  },
  {
   "cell_type": "code",
   "execution_count": 22,
   "id": "5712f20d",
   "metadata": {},
   "outputs": [
    {
     "data": {
      "text/plain": [
       "0"
      ]
     },
     "execution_count": 22,
     "metadata": {},
     "output_type": "execute_result"
    }
   ],
   "source": [
    "a.min()"
   ]
  },
  {
   "cell_type": "code",
   "execution_count": 23,
   "id": "af4c3c20",
   "metadata": {},
   "outputs": [
    {
     "data": {
      "text/plain": [
       "18"
      ]
     },
     "execution_count": 23,
     "metadata": {},
     "output_type": "execute_result"
    }
   ],
   "source": [
    "a.max()"
   ]
  },
  {
   "cell_type": "code",
   "execution_count": 24,
   "id": "2e94b270",
   "metadata": {},
   "outputs": [
    {
     "data": {
      "text/plain": [
       "5.550275268448904"
      ]
     },
     "execution_count": 24,
     "metadata": {},
     "output_type": "execute_result"
    }
   ],
   "source": [
    "b.std()"
   ]
  },
  {
   "cell_type": "markdown",
   "id": "884cc57e",
   "metadata": {},
   "source": [
    "### Lineal Algebra"
   ]
  },
  {
   "cell_type": "code",
   "execution_count": 41,
   "id": "dce527b5",
   "metadata": {},
   "outputs": [],
   "source": [
    "a = np.array([2,4,5,6])\n",
    "b = np.array([1,0,0,2])"
   ]
  },
  {
   "cell_type": "code",
   "execution_count": 49,
   "id": "981368d6",
   "metadata": {},
   "outputs": [
    {
     "data": {
      "text/plain": [
       "array([ 2,  0,  0, 12])"
      ]
     },
     "execution_count": 49,
     "metadata": {},
     "output_type": "execute_result"
    }
   ],
   "source": [
    "# element-wise multiplication\n",
    "a * b"
   ]
  },
  {
   "cell_type": "code",
   "execution_count": 51,
   "id": "1583e6f8",
   "metadata": {},
   "outputs": [
    {
     "data": {
      "text/plain": [
       "14"
      ]
     },
     "execution_count": 51,
     "metadata": {},
     "output_type": "execute_result"
    }
   ],
   "source": [
    "# dot product\n",
    "np.dot(a,b)"
   ]
  },
  {
   "cell_type": "code",
   "execution_count": 57,
   "id": "cf6968a6",
   "metadata": {},
   "outputs": [
    {
     "data": {
      "text/plain": [
       "array([[1., 0., 0., 0., 0.],\n",
       "       [0., 1., 0., 0., 0.],\n",
       "       [0., 0., 1., 0., 0.],\n",
       "       [0., 0., 0., 1., 0.],\n",
       "       [0., 0., 0., 0., 1.]])"
      ]
     },
     "execution_count": 57,
     "metadata": {},
     "output_type": "execute_result"
    }
   ],
   "source": [
    "# Identity matrix\n",
    "np.identity(5)"
   ]
  },
  {
   "cell_type": "code",
   "execution_count": 62,
   "id": "d6261fe8",
   "metadata": {},
   "outputs": [
    {
     "data": {
      "text/plain": [
       "array([[ True,  True,  True,  True,  True],\n",
       "       [ True,  True,  True,  True,  True],\n",
       "       [ True,  True,  True,  True,  True],\n",
       "       [ True,  True,  True,  True,  True],\n",
       "       [ True,  True,  True,  True,  True]])"
      ]
     },
     "execution_count": 62,
     "metadata": {},
     "output_type": "execute_result"
    }
   ],
   "source": [
    "#Compare matrices\n",
    "np.equal(np.identity(5),np.eye(5))"
   ]
  },
  {
   "cell_type": "code",
   "execution_count": 85,
   "id": "75bfc301",
   "metadata": {},
   "outputs": [
    {
     "data": {
      "text/plain": [
       "array([[3, 4, 1],\n",
       "       [0, 1, 2],\n",
       "       [3, 1, 0]])"
      ]
     },
     "execution_count": 85,
     "metadata": {},
     "output_type": "execute_result"
    }
   ],
   "source": [
    "# Matrix inverse\n",
    "a = np.random.randint(0,5,(3,3))\n",
    "a"
   ]
  },
  {
   "cell_type": "code",
   "execution_count": 86,
   "id": "3072b4fc",
   "metadata": {},
   "outputs": [
    {
     "data": {
      "text/plain": [
       "array([[-0.13333333,  0.06666667,  0.46666667],\n",
       "       [ 0.4       , -0.2       , -0.4       ],\n",
       "       [-0.2       ,  0.6       ,  0.2       ]])"
      ]
     },
     "execution_count": 86,
     "metadata": {},
     "output_type": "execute_result"
    }
   ],
   "source": [
    "# Inverse\n",
    "aInv = np.linalg.inv(a)\n",
    "aInv"
   ]
  },
  {
   "cell_type": "code",
   "execution_count": 87,
   "id": "a87759df",
   "metadata": {},
   "outputs": [
    {
     "data": {
      "text/plain": [
       "array([[ 1.00000000e+00,  0.00000000e+00,  2.77555756e-17],\n",
       "       [ 0.00000000e+00,  1.00000000e+00,  0.00000000e+00],\n",
       "       [ 5.55111512e-17, -2.77555756e-17,  1.00000000e+00]])"
      ]
     },
     "execution_count": 87,
     "metadata": {},
     "output_type": "execute_result"
    }
   ],
   "source": [
    "# matrix * Inverse = Identity\n",
    "a.dot(aInv)"
   ]
  }
 ],
 "metadata": {
  "kernelspec": {
   "display_name": "Python 3 (ipykernel)",
   "language": "python",
   "name": "python3"
  },
  "language_info": {
   "codemirror_mode": {
    "name": "ipython",
    "version": 3
   },
   "file_extension": ".py",
   "mimetype": "text/x-python",
   "name": "python",
   "nbconvert_exporter": "python",
   "pygments_lexer": "ipython3",
   "version": "3.9.7"
  }
 },
 "nbformat": 4,
 "nbformat_minor": 5
}
