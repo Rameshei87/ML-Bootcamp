{
 "cells": [
  {
   "cell_type": "code",
   "execution_count": 2,
   "id": "deddb5e1",
   "metadata": {},
   "outputs": [],
   "source": [
    "import requests"
   ]
  },
  {
   "cell_type": "code",
   "execution_count": 27,
   "id": "7a2a9813",
   "metadata": {},
   "outputs": [],
   "source": [
    "url = 'http://supermac7.pythonanywhere.com/predict'"
   ]
  },
  {
   "cell_type": "code",
   "execution_count": 64,
   "id": "c6c1314a",
   "metadata": {},
   "outputs": [],
   "source": [
    "user = {\n",
    "    \"tenure\": 1,\n",
    "    \"monthlycharges\": 700.75,\n",
    "    \"totalcharges\": 700.75,\n",
    "    \"seniorcitizen\": 0,\n",
    "    \"gender\": \"male\",\n",
    "    \"partner\": \"no\",\n",
    "    \"dependents\": \"yes\",\n",
    "    \"phoneservice\": \"yes\",\n",
    "    \"multiplelines\": \"no\",\n",
    "    \"internetservice\": \"no\",\n",
    "    \"onlinesecurity\": \"no_internet_service\",\n",
    "    \"onlinebackup\": \"no_internet_service\",\n",
    "    \"deviceprotection\": \"no_internet_service\",\n",
    "    \"techsupport\": \"no_internet_service\",\n",
    "    \"streamingtv\": \"no_internet_service\",\n",
    "    \"streamingmovies\": \"no_internet_service\",\n",
    "    \"contract\": \"month-to-month\",\n",
    "    \"paperlessbilling\": \"no\",\n",
    "    \"paymentmethod\": \"mailed_check\"\n",
    "    }"
   ]
  },
  {
   "cell_type": "code",
   "execution_count": 65,
   "id": "56a252f0",
   "metadata": {},
   "outputs": [
    {
     "data": {
      "text/plain": [
       "{'churn': True, 'churn probability': 0.922213613474077}"
      ]
     },
     "execution_count": 65,
     "metadata": {},
     "output_type": "execute_result"
    }
   ],
   "source": [
    "res = requests.post(url, json=user).json()\n",
    "res"
   ]
  },
  {
   "cell_type": "code",
   "execution_count": 66,
   "id": "3d0424a4",
   "metadata": {},
   "outputs": [
    {
     "name": "stdout",
     "output_type": "stream",
     "text": [
      "Churn probability 92.0 %. Please end promo email to customer\n"
     ]
    }
   ],
   "source": [
    "if res['churn'] == True:\n",
    "    prob = round(res['churn probability'],2) * 100\n",
    "    print(f'Churn probability {prob} %. Please end promo email to customer')"
   ]
  },
  {
   "cell_type": "code",
   "execution_count": null,
   "id": "c4f9fea1",
   "metadata": {},
   "outputs": [],
   "source": []
  }
 ],
 "metadata": {
  "kernelspec": {
   "display_name": "Python 3 (ipykernel)",
   "language": "python",
   "name": "python3"
  },
  "language_info": {
   "codemirror_mode": {
    "name": "ipython",
    "version": 3
   },
   "file_extension": ".py",
   "mimetype": "text/x-python",
   "name": "python",
   "nbconvert_exporter": "python",
   "pygments_lexer": "ipython3",
   "version": "3.9.12"
  }
 },
 "nbformat": 4,
 "nbformat_minor": 5
}
