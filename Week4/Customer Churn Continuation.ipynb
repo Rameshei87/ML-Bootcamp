{
 "cells": [
  {
   "cell_type": "code",
   "execution_count": 1,
   "id": "6c37952d",
   "metadata": {},
   "outputs": [],
   "source": [
    "import pandas as pd\n",
    "import numpy as np\n",
    "import matplotlib.pyplot as plt\n",
    "from IPython.display import display, Latex\n",
    "import seaborn as sns\n",
    "from sklearn import set_config\n",
    "set_config(display='diagram')\n",
    "from collections import Counter\n",
    "\n",
    "%matplotlib inline"
   ]
  },
  {
   "cell_type": "markdown",
   "id": "67a89df6",
   "metadata": {},
   "source": [
    "#### Prepare the data"
   ]
  },
  {
   "cell_type": "code",
   "execution_count": 2,
   "id": "f1d9dce9",
   "metadata": {},
   "outputs": [
    {
     "data": {
      "text/html": [
       "<div>\n",
       "<style scoped>\n",
       "    .dataframe tbody tr th:only-of-type {\n",
       "        vertical-align: middle;\n",
       "    }\n",
       "\n",
       "    .dataframe tbody tr th {\n",
       "        vertical-align: top;\n",
       "    }\n",
       "\n",
       "    .dataframe thead th {\n",
       "        text-align: right;\n",
       "    }\n",
       "</style>\n",
       "<table border=\"1\" class=\"dataframe\">\n",
       "  <thead>\n",
       "    <tr style=\"text-align: right;\">\n",
       "      <th></th>\n",
       "      <th>customerid</th>\n",
       "      <th>gender</th>\n",
       "      <th>seniorcitizen</th>\n",
       "      <th>partner</th>\n",
       "      <th>dependents</th>\n",
       "      <th>tenure</th>\n",
       "      <th>phoneservice</th>\n",
       "      <th>multiplelines</th>\n",
       "      <th>internetservice</th>\n",
       "      <th>onlinesecurity</th>\n",
       "      <th>...</th>\n",
       "      <th>deviceprotection</th>\n",
       "      <th>techsupport</th>\n",
       "      <th>streamingtv</th>\n",
       "      <th>streamingmovies</th>\n",
       "      <th>contract</th>\n",
       "      <th>paperlessbilling</th>\n",
       "      <th>paymentmethod</th>\n",
       "      <th>monthlycharges</th>\n",
       "      <th>totalcharges</th>\n",
       "      <th>churn</th>\n",
       "    </tr>\n",
       "  </thead>\n",
       "  <tbody>\n",
       "    <tr>\n",
       "      <th>0</th>\n",
       "      <td>7590-vhveg</td>\n",
       "      <td>female</td>\n",
       "      <td>False</td>\n",
       "      <td>yes</td>\n",
       "      <td>no</td>\n",
       "      <td>1</td>\n",
       "      <td>no</td>\n",
       "      <td>no_phone_service</td>\n",
       "      <td>dsl</td>\n",
       "      <td>no</td>\n",
       "      <td>...</td>\n",
       "      <td>no</td>\n",
       "      <td>no</td>\n",
       "      <td>no</td>\n",
       "      <td>no</td>\n",
       "      <td>month-to-month</td>\n",
       "      <td>yes</td>\n",
       "      <td>electronic_check</td>\n",
       "      <td>29.85</td>\n",
       "      <td>29.85</td>\n",
       "      <td>0</td>\n",
       "    </tr>\n",
       "    <tr>\n",
       "      <th>1</th>\n",
       "      <td>5575-gnvde</td>\n",
       "      <td>male</td>\n",
       "      <td>False</td>\n",
       "      <td>no</td>\n",
       "      <td>no</td>\n",
       "      <td>34</td>\n",
       "      <td>yes</td>\n",
       "      <td>no</td>\n",
       "      <td>dsl</td>\n",
       "      <td>yes</td>\n",
       "      <td>...</td>\n",
       "      <td>yes</td>\n",
       "      <td>no</td>\n",
       "      <td>no</td>\n",
       "      <td>no</td>\n",
       "      <td>one_year</td>\n",
       "      <td>no</td>\n",
       "      <td>mailed_check</td>\n",
       "      <td>56.95</td>\n",
       "      <td>1889.50</td>\n",
       "      <td>0</td>\n",
       "    </tr>\n",
       "    <tr>\n",
       "      <th>2</th>\n",
       "      <td>3668-qpybk</td>\n",
       "      <td>male</td>\n",
       "      <td>False</td>\n",
       "      <td>no</td>\n",
       "      <td>no</td>\n",
       "      <td>2</td>\n",
       "      <td>yes</td>\n",
       "      <td>no</td>\n",
       "      <td>dsl</td>\n",
       "      <td>yes</td>\n",
       "      <td>...</td>\n",
       "      <td>no</td>\n",
       "      <td>no</td>\n",
       "      <td>no</td>\n",
       "      <td>no</td>\n",
       "      <td>month-to-month</td>\n",
       "      <td>yes</td>\n",
       "      <td>mailed_check</td>\n",
       "      <td>53.85</td>\n",
       "      <td>108.15</td>\n",
       "      <td>1</td>\n",
       "    </tr>\n",
       "    <tr>\n",
       "      <th>3</th>\n",
       "      <td>7795-cfocw</td>\n",
       "      <td>male</td>\n",
       "      <td>False</td>\n",
       "      <td>no</td>\n",
       "      <td>no</td>\n",
       "      <td>45</td>\n",
       "      <td>no</td>\n",
       "      <td>no_phone_service</td>\n",
       "      <td>dsl</td>\n",
       "      <td>yes</td>\n",
       "      <td>...</td>\n",
       "      <td>yes</td>\n",
       "      <td>yes</td>\n",
       "      <td>no</td>\n",
       "      <td>no</td>\n",
       "      <td>one_year</td>\n",
       "      <td>no</td>\n",
       "      <td>bank_transfer_(automatic)</td>\n",
       "      <td>42.30</td>\n",
       "      <td>1840.75</td>\n",
       "      <td>0</td>\n",
       "    </tr>\n",
       "    <tr>\n",
       "      <th>4</th>\n",
       "      <td>9237-hqitu</td>\n",
       "      <td>female</td>\n",
       "      <td>False</td>\n",
       "      <td>no</td>\n",
       "      <td>no</td>\n",
       "      <td>2</td>\n",
       "      <td>yes</td>\n",
       "      <td>no</td>\n",
       "      <td>fiber_optic</td>\n",
       "      <td>no</td>\n",
       "      <td>...</td>\n",
       "      <td>no</td>\n",
       "      <td>no</td>\n",
       "      <td>no</td>\n",
       "      <td>no</td>\n",
       "      <td>month-to-month</td>\n",
       "      <td>yes</td>\n",
       "      <td>electronic_check</td>\n",
       "      <td>70.70</td>\n",
       "      <td>151.65</td>\n",
       "      <td>1</td>\n",
       "    </tr>\n",
       "  </tbody>\n",
       "</table>\n",
       "<p>5 rows × 21 columns</p>\n",
       "</div>"
      ],
      "text/plain": [
       "   customerid  gender seniorcitizen partner dependents  tenure phoneservice  \\\n",
       "0  7590-vhveg  female         False     yes         no       1           no   \n",
       "1  5575-gnvde    male         False      no         no      34          yes   \n",
       "2  3668-qpybk    male         False      no         no       2          yes   \n",
       "3  7795-cfocw    male         False      no         no      45           no   \n",
       "4  9237-hqitu  female         False      no         no       2          yes   \n",
       "\n",
       "      multiplelines internetservice onlinesecurity  ... deviceprotection  \\\n",
       "0  no_phone_service             dsl             no  ...               no   \n",
       "1                no             dsl            yes  ...              yes   \n",
       "2                no             dsl            yes  ...               no   \n",
       "3  no_phone_service             dsl            yes  ...              yes   \n",
       "4                no     fiber_optic             no  ...               no   \n",
       "\n",
       "  techsupport streamingtv streamingmovies        contract paperlessbilling  \\\n",
       "0          no          no              no  month-to-month              yes   \n",
       "1          no          no              no        one_year               no   \n",
       "2          no          no              no  month-to-month              yes   \n",
       "3         yes          no              no        one_year               no   \n",
       "4          no          no              no  month-to-month              yes   \n",
       "\n",
       "               paymentmethod monthlycharges  totalcharges  churn  \n",
       "0           electronic_check          29.85         29.85      0  \n",
       "1               mailed_check          56.95       1889.50      0  \n",
       "2               mailed_check          53.85        108.15      1  \n",
       "3  bank_transfer_(automatic)          42.30       1840.75      0  \n",
       "4           electronic_check          70.70        151.65      1  \n",
       "\n",
       "[5 rows x 21 columns]"
      ]
     },
     "execution_count": 2,
     "metadata": {},
     "output_type": "execute_result"
    }
   ],
   "source": [
    "# Read the data\n",
    "df = pd.read_csv('WA_Fn-UseC_-Telco-Customer-Churn.csv')\n",
    "\n",
    "# Standarize data formats\n",
    "df.columns = df.columns.str.lower().str.replace(' ','_')\n",
    "categCols = df.select_dtypes('object').columns.to_list()\n",
    "for col in categCols:\n",
    "    df[col] = df[col].str.lower().str.replace(' ','_')\n",
    "    \n",
    "# Correct values and type of variable totalcharges\n",
    "df.totalcharges = pd.to_numeric(df.totalcharges, errors='coerce')\n",
    "\n",
    "# Filling missing values with zero\n",
    "df.totalcharges.fillna(0, inplace=True)\n",
    "\n",
    "# Make seniorcitizen an object type variable\n",
    "df.seniorcitizen = df.seniorcitizen.astype(bool).astype(object)\n",
    "\n",
    "# Converting the target variable to binary values, no=0 or yes=1.\n",
    "df.churn = (df.churn == 'yes').astype(int)\n",
    "df.churn.head()\n",
    "\n",
    "df.head()"
   ]
  },
  {
   "cell_type": "markdown",
   "id": "680a7790",
   "metadata": {},
   "source": [
    "#### Data processing and model"
   ]
  },
  {
   "cell_type": "code",
   "execution_count": 3,
   "id": "ce6d4faa",
   "metadata": {},
   "outputs": [],
   "source": [
    "targetCol = 'churn'\n",
    "target = df[targetCol]\n",
    "data = df.drop(columns=[targetCol])"
   ]
  },
  {
   "cell_type": "code",
   "execution_count": 4,
   "id": "70ba7aed",
   "metadata": {},
   "outputs": [],
   "source": [
    "# Getting numerical and categorical columns\n",
    "from sklearn.compose import make_column_selector as selector\n",
    "numColSelector = selector(dtype_exclude=object)\n",
    "ctgColSelector = selector(dtype_include=object)\n",
    "numericalCols = numColSelector(data)\n",
    "categoricalCols = ctgColSelector(data)\n",
    "categoricalCols.remove('customerid')\n",
    "\n",
    "# creating preprocesors\n",
    "from sklearn.preprocessing import OneHotEncoder, StandardScaler\n",
    "catPreprocessor = OneHotEncoder(handle_unknown=\"ignore\")\n",
    "numPreprocessor = StandardScaler()\n",
    "\n",
    "# Transforming the data\n",
    "from sklearn.compose import ColumnTransformer\n",
    "preprocessor = ColumnTransformer([\n",
    "    ('one-hot-encoder', catPreprocessor, categoricalCols)],remainder=\"passthrough\")\n",
    "    #('one-hot-encoder', catPreprocessor, categoricalCols),\n",
    "    #('standard_scaler', numPreprocessor, numericalCols)])\n",
    "    \n",
    "# creating the model\n",
    "from sklearn.linear_model import LogisticRegression\n",
    "from sklearn.pipeline import make_pipeline\n",
    "model = make_pipeline(preprocessor, LogisticRegression(max_iter=500))    \n",
    "\n",
    "# Splitting the data\n",
    "from sklearn.model_selection import train_test_split\n",
    "allColumns = numericalCols + categoricalCols\n",
    "dataTrainFull, dataTest, targetTrainFull, targetTest = train_test_split(\n",
    "    data[allColumns], target, test_size=0.2, random_state=1)\n",
    "dataTrain, dataVal, targetTrain, targetVal = train_test_split(\n",
    "    dataTrainFull, targetTrainFull, test_size=0.25, random_state=1)\n",
    "#print(len(dataTrain), len(dataVal), len(dataTest))"
   ]
  },
  {
   "cell_type": "code",
   "execution_count": 5,
   "id": "a5c3e9da",
   "metadata": {},
   "outputs": [
    {
     "name": "stdout",
     "output_type": "stream",
     "text": [
      "Accuracy of base model: 0.803\n"
     ]
    }
   ],
   "source": [
    "_ = model.fit(dataTrain, targetTrain)\n",
    "acc = round(model.score(dataVal, targetVal),3)\n",
    "print(f'Accuracy of base model: {acc}')"
   ]
  },
  {
   "cell_type": "code",
   "execution_count": 6,
   "id": "353f8ccd",
   "metadata": {},
   "outputs": [
    {
     "data": {
      "text/plain": [
       "array([0.00775403, 0.2055377 , 0.22004259, ..., 0.14923791, 0.7831508 ,\n",
       "       0.81251385])"
      ]
     },
     "execution_count": 6,
     "metadata": {},
     "output_type": "execute_result"
    }
   ],
   "source": [
    "valPred = model.predict_proba(dataVal)[:,1]\n",
    "valPred"
   ]
  },
  {
   "cell_type": "code",
   "execution_count": 7,
   "id": "0d39c0cf",
   "metadata": {},
   "outputs": [
    {
     "data": {
      "text/plain": [
       "0.8034066713981547"
      ]
     },
     "execution_count": 7,
     "metadata": {},
     "output_type": "execute_result"
    }
   ],
   "source": [
    "from sklearn.metrics import accuracy_score\n",
    "binaryPred = model.predict(dataVal)\n",
    "accuracy_score(targetVal, binaryPred)"
   ]
  },
  {
   "cell_type": "code",
   "execution_count": 8,
   "id": "ac0cac2b",
   "metadata": {},
   "outputs": [
    {
     "name": "stdout",
     "output_type": "stream",
     "text": [
      "Threshold: 0.00, Score: 0.2740\n",
      "Threshold: 0.05, Score: 0.5082\n",
      "Threshold: 0.10, Score: 0.6011\n",
      "Threshold: 0.15, Score: 0.6636\n",
      "Threshold: 0.20, Score: 0.7069\n",
      "Threshold: 0.25, Score: 0.7388\n",
      "Threshold: 0.30, Score: 0.7601\n",
      "Threshold: 0.35, Score: 0.7665\n",
      "Threshold: 0.40, Score: 0.7828\n",
      "Threshold: 0.45, Score: 0.7942\n",
      "Threshold: 0.50, Score: 0.8034\n",
      "Threshold: 0.55, Score: 0.8020\n",
      "Threshold: 0.60, Score: 0.7977\n",
      "Threshold: 0.65, Score: 0.7864\n",
      "Threshold: 0.70, Score: 0.7658\n",
      "Threshold: 0.75, Score: 0.7431\n",
      "Threshold: 0.80, Score: 0.7289\n",
      "Threshold: 0.85, Score: 0.7260\n",
      "Threshold: 0.90, Score: 0.7260\n",
      "Threshold: 0.95, Score: 0.7260\n",
      "Threshold: 1.00, Score: 0.7260\n"
     ]
    }
   ],
   "source": [
    "thresholds = np.linspace(0, 1, 21)\n",
    "\n",
    "scores = []\n",
    "\n",
    "for t in thresholds:\n",
    "    churnPred = (valPred >= t)\n",
    "    score = (targetVal == churnPred).mean()\n",
    "    print(f'Threshold: {t:.2f}, Score: {score:.4f}')\n",
    "    scores.append(score)"
   ]
  },
  {
   "cell_type": "code",
   "execution_count": 9,
   "id": "f0893b20",
   "metadata": {},
   "outputs": [
    {
     "data": {
      "image/png": "[encoded data removed]",
      "text/plain": [
       "<Figure size 576x288 with 1 Axes>"
      ]
     },
     "metadata": {
      "needs_background": "light"
     },
     "output_type": "display_data"
    }
   ],
   "source": [
    "font = {'family': 'serif',\n",
    "        'color':  'blue',\n",
    "        'weight': 'normal',\n",
    "        'size': 16,\n",
    "        }\n",
    "\n",
    "fig, ax = plt.subplots(figsize=(8, 4))\n",
    "ax.plot(thresholds, scores, label='Score')  # Plot some data on the axes.\n",
    "ax.set_xlabel('Threshold')  # Add an x-label to the axes.\n",
    "ax.set_ylabel('Score')  # Add a y-label to the axes.\n",
    "ax.set_title(\"Score vs Threshold\")  # Add a title to the axes.\n",
    "plt.axvline(x=0.5, linestyle='dashed', color='green', label='Max Score')\n",
    "plt.axvline(x=1.0, linestyle='dashed', color='red', label='100% Churn')\n",
    "plt.axvline(x=0, linestyle='dashed', color='darkred', label='0% Churn')\n",
    "\n",
    "ax.legend();  # Add a legend.\n",
    "_ = plt.show()"
   ]
  },
  {
   "cell_type": "code",
   "execution_count": 10,
   "id": "2bfa2184",
   "metadata": {},
   "outputs": [
    {
     "name": "stdout",
     "output_type": "stream",
     "text": [
      "target: 0, count: 1023\n",
      "target: 1, count: 386\n",
      "Target 0 has almost 3 times as much samples as target 1 Total t0/t1 = 2.65\n",
      "Total mean of targetVal data is the same as the predicted by dummy predictor(when threshold == 1) = 0.7260468417317246\n"
     ]
    }
   ],
   "source": [
    "from collections import Counter\n",
    "count = Counter(targetVal)\n",
    "for i,j in count.items():\n",
    "    print(f'target: {i}, count: {j}')\n",
    "print(f'Target 0 has almost 3 times as much samples as target 1 Total t0/t1 = {round(count[0]/count[1],2)}')\n",
    "print(f'Total mean of targetVal data is the same as the predicted by dummy predictor'\n",
    "      f'(when threshold == 1) = {1 - targetVal.mean()}')"
   ]
  },
  {
   "cell_type": "markdown",
   "id": "735e71f9",
   "metadata": {},
   "source": [
    "There is class imbalace in the target values. It's almost 3 to 1. So accuracy here is not a good measure."
   ]
  },
  {
   "cell_type": "markdown",
   "id": "0cc27000",
   "metadata": {},
   "source": [
    "#### Confusion table"
   ]
  },
  {
   "cell_type": "code",
   "execution_count": 11,
   "id": "aa1513d8",
   "metadata": {},
   "outputs": [],
   "source": [
    "from sklearn.metrics import confusion_matrix, ConfusionMatrixDisplay, classification_report\n",
    "\n",
    "targetValPred = model.predict(dataVal)"
   ]
  },
  {
   "cell_type": "code",
   "execution_count": 12,
   "id": "8db89566",
   "metadata": {},
   "outputs": [
    {
     "name": "stdout",
     "output_type": "stream",
     "text": [
      "920 103 174 212\n"
     ]
    },
    {
     "data": {
      "image/png": "[encoded data removed]",
      "text/plain": [
       "<Figure size 432x288 with 2 Axes>"
      ]
     },
     "metadata": {
      "needs_background": "light"
     },
     "output_type": "display_data"
    },
    {
     "data": {
      "image/png": "[encoded data removed]",
      "text/plain": [
       "<Figure size 432x288 with 2 Axes>"
      ]
     },
     "metadata": {
      "needs_background": "light"
     },
     "output_type": "display_data"
    }
   ],
   "source": [
    "cm = confusion_matrix(targetVal, targetValPred)\n",
    "cmprob = np.round(100 * cm / len(targetVal), 1)\n",
    "cm_display = ConfusionMatrixDisplay(cm, display_labels=['No-churn', 'Churn']).plot()\n",
    "cm_display = ConfusionMatrixDisplay(cmprob, display_labels=['No-churn', 'Churn']).plot()\n",
    "tn, fp, fn, tp = cm.ravel()\n",
    "print(tn, fp, fn, tp)"
   ]
  },
  {
   "cell_type": "code",
   "execution_count": 13,
   "id": "1f6d8a2f",
   "metadata": {},
   "outputs": [
    {
     "data": {
      "text/plain": [
       "'Confusion matrix:'"
      ]
     },
     "metadata": {},
     "output_type": "display_data"
    },
    {
     "data": {
      "text/plain": [
       "array([[920, 103],\n",
       "       [174, 212]], dtype=int64)"
      ]
     },
     "metadata": {},
     "output_type": "display_data"
    },
    {
     "data": {
      "text/plain": [
       "'Percentages:'"
      ]
     },
     "metadata": {},
     "output_type": "display_data"
    },
    {
     "data": {
      "text/plain": [
       "array([[0.65, 0.07],\n",
       "       [0.12, 0.15]])"
      ]
     },
     "metadata": {},
     "output_type": "display_data"
    }
   ],
   "source": [
    "# Another way\n",
    "\n",
    "threshold = 0.5\n",
    "\n",
    "actualPos = targetVal == 1\n",
    "actualNeg = targetVal == 0\n",
    "predictPos = targetValPred >= threshold\n",
    "predictNeg = targetValPred < threshold\n",
    "\n",
    "tp = (actualPos & predictPos).sum()\n",
    "fp = (predictPos & actualNeg).sum()\n",
    "tn = (actualNeg & predictNeg).sum()\n",
    "fn = (actualPos & predictNeg).sum()\n",
    "\n",
    "confMatrix = np.array([[tn, fp],[fn, tp]])\n",
    "display('Confusion matrix:', confMatrix)\n",
    "display('Percentages:', (confMatrix/confMatrix.sum()).round(2))"
   ]
  },
  {
   "cell_type": "markdown",
   "id": "65074dff",
   "metadata": {},
   "source": [
    "#### Precision and Recall"
   ]
  },
  {
   "cell_type": "code",
   "execution_count": 14,
   "id": "5b075d6d",
   "metadata": {},
   "outputs": [
    {
     "name": "stdout",
     "output_type": "stream",
     "text": [
      "Precision: 0.67\n",
      "Recall: 0.55\n"
     ]
    }
   ],
   "source": [
    "targetValPred2 = (model.predict_proba(dataVal)[0:,1] > 0.5) * 1\n",
    "#print((targetValPred2 == targetValPred).sum())\n",
    "\n",
    "# Precision: calculates the part of the predictions that was correct p = tp / (fp + tp)\n",
    "\n",
    "p = tp / (fp + tp)\n",
    "print('Precision:',round(p,2))\n",
    "\n",
    "\n",
    "# Recall: calculates the part of the actual values that was predicted correct r = tp / (tp + fn)\n",
    "\n",
    "r = tp / (tp + fn)\n",
    "print('Recall:',round(r,2))"
   ]
  },
  {
   "cell_type": "code",
   "execution_count": 15,
   "id": "f302cc1b",
   "metadata": {},
   "outputs": [
    {
     "name": "stdout",
     "output_type": "stream",
     "text": [
      "              precision    recall  f1-score   support\n",
      "\n",
      "           0       0.84      0.90      0.87      1023\n",
      "           1       0.67      0.55      0.60       386\n",
      "\n",
      "    accuracy                           0.80      1409\n",
      "   macro avg       0.76      0.72      0.74      1409\n",
      "weighted avg       0.79      0.80      0.80      1409\n",
      "\n"
     ]
    }
   ],
   "source": [
    "# Another way, with sklearn\n",
    "print(classification_report(targetVal, targetValPred))"
   ]
  },
  {
   "cell_type": "markdown",
   "id": "a72b9274",
   "metadata": {},
   "source": [
    "#### ROC Curves"
   ]
  },
  {
   "cell_type": "code",
   "execution_count": 16,
   "id": "ec6f63aa",
   "metadata": {},
   "outputs": [
    {
     "name": "stdout",
     "output_type": "stream",
     "text": [
      "tpr = 0.5492227979274611\n",
      "fpr = 0.10068426197458455\n"
     ]
    }
   ],
   "source": [
    "tpr = tp / (tp + fn)\n",
    "print('tpr =',tpr)\n",
    "\n",
    "fpr = fp / (fp + tn)\n",
    "print('fpr =',fpr)"
   ]
  },
  {
   "cell_type": "code",
   "execution_count": 17,
   "id": "a6e4a970",
   "metadata": {},
   "outputs": [],
   "source": [
    "def TPR_FPR(targetValPredProba, targetVal):\n",
    "    thresholds = np.linspace(0, 1, 101)\n",
    "    scores = []\n",
    "    for t in thresholds:\n",
    "        actualPos = (targetVal == 1)\n",
    "        actualNeg = (targetVal == 0)\n",
    "        predictPos = (targetValPredProba >= t)\n",
    "        predictNeg = (targetValPredProba < t)\n",
    "        #print(t, actualPos.sum(), actualNeg.sum(), predictPos.sum(), predictNeg.sum())\n",
    "        tp = (actualPos & predictPos).sum()\n",
    "        tn = (actualNeg & predictNeg).sum()\n",
    "        \n",
    "        fp = (predictPos & actualNeg).sum()\n",
    "        fn = (actualPos & predictNeg).sum()\n",
    "        \n",
    "        scores.append((t, tp, fp, fn, tn))\n",
    "    \n",
    "    columns = ['threshold', 'tp', 'fp', 'fn', 'tn']\n",
    "    dfScores = pd.DataFrame(scores, columns=columns)\n",
    "    \n",
    "    dfScores['tpr'] = dfScores.tp / (dfScores.tp + dfScores.fn)\n",
    "    dfScores['fpr'] = dfScores.fp / (dfScores.fp + dfScores.tn)\n",
    "    return dfScores"
   ]
  },
  {
   "cell_type": "code",
   "execution_count": 18,
   "id": "313ac69a",
   "metadata": {},
   "outputs": [
    {
     "data": {
      "text/html": [
       "<div>\n",
       "<style scoped>\n",
       "    .dataframe tbody tr th:only-of-type {\n",
       "        vertical-align: middle;\n",
       "    }\n",
       "\n",
       "    .dataframe tbody tr th {\n",
       "        vertical-align: top;\n",
       "    }\n",
       "\n",
       "    .dataframe thead th {\n",
       "        text-align: right;\n",
       "    }\n",
       "</style>\n",
       "<table border=\"1\" class=\"dataframe\">\n",
       "  <thead>\n",
       "    <tr style=\"text-align: right;\">\n",
       "      <th></th>\n",
       "      <th>threshold</th>\n",
       "      <th>tp</th>\n",
       "      <th>fp</th>\n",
       "      <th>fn</th>\n",
       "      <th>tn</th>\n",
       "      <th>tpr</th>\n",
       "      <th>fpr</th>\n",
       "    </tr>\n",
       "  </thead>\n",
       "  <tbody>\n",
       "    <tr>\n",
       "      <th>0</th>\n",
       "      <td>0.00</td>\n",
       "      <td>386</td>\n",
       "      <td>1023</td>\n",
       "      <td>0</td>\n",
       "      <td>0</td>\n",
       "      <td>1.000000</td>\n",
       "      <td>1.000000</td>\n",
       "    </tr>\n",
       "    <tr>\n",
       "      <th>1</th>\n",
       "      <td>0.01</td>\n",
       "      <td>385</td>\n",
       "      <td>907</td>\n",
       "      <td>1</td>\n",
       "      <td>116</td>\n",
       "      <td>0.997409</td>\n",
       "      <td>0.886608</td>\n",
       "    </tr>\n",
       "    <tr>\n",
       "      <th>2</th>\n",
       "      <td>0.02</td>\n",
       "      <td>384</td>\n",
       "      <td>809</td>\n",
       "      <td>2</td>\n",
       "      <td>214</td>\n",
       "      <td>0.994819</td>\n",
       "      <td>0.790811</td>\n",
       "    </tr>\n",
       "    <tr>\n",
       "      <th>3</th>\n",
       "      <td>0.03</td>\n",
       "      <td>382</td>\n",
       "      <td>755</td>\n",
       "      <td>4</td>\n",
       "      <td>268</td>\n",
       "      <td>0.989637</td>\n",
       "      <td>0.738025</td>\n",
       "    </tr>\n",
       "    <tr>\n",
       "      <th>4</th>\n",
       "      <td>0.04</td>\n",
       "      <td>381</td>\n",
       "      <td>713</td>\n",
       "      <td>5</td>\n",
       "      <td>310</td>\n",
       "      <td>0.987047</td>\n",
       "      <td>0.696970</td>\n",
       "    </tr>\n",
       "    <tr>\n",
       "      <th>...</th>\n",
       "      <td>...</td>\n",
       "      <td>...</td>\n",
       "      <td>...</td>\n",
       "      <td>...</td>\n",
       "      <td>...</td>\n",
       "      <td>...</td>\n",
       "      <td>...</td>\n",
       "    </tr>\n",
       "    <tr>\n",
       "      <th>96</th>\n",
       "      <td>0.96</td>\n",
       "      <td>0</td>\n",
       "      <td>0</td>\n",
       "      <td>386</td>\n",
       "      <td>1023</td>\n",
       "      <td>0.000000</td>\n",
       "      <td>0.000000</td>\n",
       "    </tr>\n",
       "    <tr>\n",
       "      <th>97</th>\n",
       "      <td>0.97</td>\n",
       "      <td>0</td>\n",
       "      <td>0</td>\n",
       "      <td>386</td>\n",
       "      <td>1023</td>\n",
       "      <td>0.000000</td>\n",
       "      <td>0.000000</td>\n",
       "    </tr>\n",
       "    <tr>\n",
       "      <th>98</th>\n",
       "      <td>0.98</td>\n",
       "      <td>0</td>\n",
       "      <td>0</td>\n",
       "      <td>386</td>\n",
       "      <td>1023</td>\n",
       "      <td>0.000000</td>\n",
       "      <td>0.000000</td>\n",
       "    </tr>\n",
       "    <tr>\n",
       "      <th>99</th>\n",
       "      <td>0.99</td>\n",
       "      <td>0</td>\n",
       "      <td>0</td>\n",
       "      <td>386</td>\n",
       "      <td>1023</td>\n",
       "      <td>0.000000</td>\n",
       "      <td>0.000000</td>\n",
       "    </tr>\n",
       "    <tr>\n",
       "      <th>100</th>\n",
       "      <td>1.00</td>\n",
       "      <td>0</td>\n",
       "      <td>0</td>\n",
       "      <td>386</td>\n",
       "      <td>1023</td>\n",
       "      <td>0.000000</td>\n",
       "      <td>0.000000</td>\n",
       "    </tr>\n",
       "  </tbody>\n",
       "</table>\n",
       "<p>101 rows × 7 columns</p>\n",
       "</div>"
      ],
      "text/plain": [
       "     threshold   tp    fp   fn    tn       tpr       fpr\n",
       "0         0.00  386  1023    0     0  1.000000  1.000000\n",
       "1         0.01  385   907    1   116  0.997409  0.886608\n",
       "2         0.02  384   809    2   214  0.994819  0.790811\n",
       "3         0.03  382   755    4   268  0.989637  0.738025\n",
       "4         0.04  381   713    5   310  0.987047  0.696970\n",
       "..         ...  ...   ...  ...   ...       ...       ...\n",
       "96        0.96    0     0  386  1023  0.000000  0.000000\n",
       "97        0.97    0     0  386  1023  0.000000  0.000000\n",
       "98        0.98    0     0  386  1023  0.000000  0.000000\n",
       "99        0.99    0     0  386  1023  0.000000  0.000000\n",
       "100       1.00    0     0  386  1023  0.000000  0.000000\n",
       "\n",
       "[101 rows x 7 columns]"
      ]
     },
     "execution_count": 18,
     "metadata": {},
     "output_type": "execute_result"
    }
   ],
   "source": [
    "targetValPredProba = model.predict_proba(dataVal)[0:,1]\n",
    "dfScores = TPR_FPR(targetValPredProba, targetVal)\n",
    "dfScores"
   ]
  },
  {
   "cell_type": "code",
   "execution_count": 19,
   "id": "72f02858",
   "metadata": {},
   "outputs": [],
   "source": [
    "def plotRates(dfs, names):\n",
    "    \n",
    "    plt.figure(figsize=(10,6))\n",
    "    for df,name in zip(dfs,names):\n",
    "        plt.plot(df.threshold, df.tpr, label='TPR_' + name)\n",
    "        plt.plot(df.threshold, df.fpr, label='FPR_' + name)\n",
    "        plt.legend()\n",
    "    _ = plt.show()"
   ]
  },
  {
   "cell_type": "code",
   "execution_count": 20,
   "id": "95835721",
   "metadata": {},
   "outputs": [
    {
     "data": {
      "image/png": "[encoded data removed]",
      "text/plain": [
       "<Figure size 720x432 with 1 Axes>"
      ]
     },
     "metadata": {
      "needs_background": "light"
     },
     "output_type": "display_data"
    }
   ],
   "source": [
    "plotRates([dfScores],['Validation'])"
   ]
  },
  {
   "cell_type": "markdown",
   "id": "abef35a3",
   "metadata": {},
   "source": [
    "#### Random Model"
   ]
  },
  {
   "cell_type": "code",
   "execution_count": 21,
   "id": "3f930e58",
   "metadata": {},
   "outputs": [
    {
     "data": {
      "text/plain": [
       "0.5017743080198722"
      ]
     },
     "metadata": {},
     "output_type": "display_data"
    },
    {
     "data": {
      "text/html": [
       "<div>\n",
       "<style scoped>\n",
       "    .dataframe tbody tr th:only-of-type {\n",
       "        vertical-align: middle;\n",
       "    }\n",
       "\n",
       "    .dataframe tbody tr th {\n",
       "        vertical-align: top;\n",
       "    }\n",
       "\n",
       "    .dataframe thead th {\n",
       "        text-align: right;\n",
       "    }\n",
       "</style>\n",
       "<table border=\"1\" class=\"dataframe\">\n",
       "  <thead>\n",
       "    <tr style=\"text-align: right;\">\n",
       "      <th></th>\n",
       "      <th>threshold</th>\n",
       "      <th>tp</th>\n",
       "      <th>fp</th>\n",
       "      <th>fn</th>\n",
       "      <th>tn</th>\n",
       "      <th>tpr</th>\n",
       "      <th>fpr</th>\n",
       "    </tr>\n",
       "  </thead>\n",
       "  <tbody>\n",
       "    <tr>\n",
       "      <th>0</th>\n",
       "      <td>0.0</td>\n",
       "      <td>386</td>\n",
       "      <td>1023</td>\n",
       "      <td>0</td>\n",
       "      <td>0</td>\n",
       "      <td>1.000000</td>\n",
       "      <td>1.000000</td>\n",
       "    </tr>\n",
       "    <tr>\n",
       "      <th>10</th>\n",
       "      <td>0.1</td>\n",
       "      <td>347</td>\n",
       "      <td>923</td>\n",
       "      <td>39</td>\n",
       "      <td>100</td>\n",
       "      <td>0.898964</td>\n",
       "      <td>0.902248</td>\n",
       "    </tr>\n",
       "    <tr>\n",
       "      <th>20</th>\n",
       "      <td>0.2</td>\n",
       "      <td>307</td>\n",
       "      <td>822</td>\n",
       "      <td>79</td>\n",
       "      <td>201</td>\n",
       "      <td>0.795337</td>\n",
       "      <td>0.803519</td>\n",
       "    </tr>\n",
       "    <tr>\n",
       "      <th>30</th>\n",
       "      <td>0.3</td>\n",
       "      <td>276</td>\n",
       "      <td>724</td>\n",
       "      <td>110</td>\n",
       "      <td>299</td>\n",
       "      <td>0.715026</td>\n",
       "      <td>0.707722</td>\n",
       "    </tr>\n",
       "    <tr>\n",
       "      <th>40</th>\n",
       "      <td>0.4</td>\n",
       "      <td>237</td>\n",
       "      <td>624</td>\n",
       "      <td>149</td>\n",
       "      <td>399</td>\n",
       "      <td>0.613990</td>\n",
       "      <td>0.609971</td>\n",
       "    </tr>\n",
       "    <tr>\n",
       "      <th>50</th>\n",
       "      <td>0.5</td>\n",
       "      <td>202</td>\n",
       "      <td>518</td>\n",
       "      <td>184</td>\n",
       "      <td>505</td>\n",
       "      <td>0.523316</td>\n",
       "      <td>0.506354</td>\n",
       "    </tr>\n",
       "    <tr>\n",
       "      <th>60</th>\n",
       "      <td>0.6</td>\n",
       "      <td>161</td>\n",
       "      <td>409</td>\n",
       "      <td>225</td>\n",
       "      <td>614</td>\n",
       "      <td>0.417098</td>\n",
       "      <td>0.399804</td>\n",
       "    </tr>\n",
       "    <tr>\n",
       "      <th>70</th>\n",
       "      <td>0.7</td>\n",
       "      <td>121</td>\n",
       "      <td>302</td>\n",
       "      <td>265</td>\n",
       "      <td>721</td>\n",
       "      <td>0.313472</td>\n",
       "      <td>0.295210</td>\n",
       "    </tr>\n",
       "    <tr>\n",
       "      <th>80</th>\n",
       "      <td>0.8</td>\n",
       "      <td>78</td>\n",
       "      <td>206</td>\n",
       "      <td>308</td>\n",
       "      <td>817</td>\n",
       "      <td>0.202073</td>\n",
       "      <td>0.201369</td>\n",
       "    </tr>\n",
       "    <tr>\n",
       "      <th>90</th>\n",
       "      <td>0.9</td>\n",
       "      <td>40</td>\n",
       "      <td>101</td>\n",
       "      <td>346</td>\n",
       "      <td>922</td>\n",
       "      <td>0.103627</td>\n",
       "      <td>0.098729</td>\n",
       "    </tr>\n",
       "    <tr>\n",
       "      <th>100</th>\n",
       "      <td>1.0</td>\n",
       "      <td>0</td>\n",
       "      <td>0</td>\n",
       "      <td>386</td>\n",
       "      <td>1023</td>\n",
       "      <td>0.000000</td>\n",
       "      <td>0.000000</td>\n",
       "    </tr>\n",
       "  </tbody>\n",
       "</table>\n",
       "</div>"
      ],
      "text/plain": [
       "     threshold   tp    fp   fn    tn       tpr       fpr\n",
       "0          0.0  386  1023    0     0  1.000000  1.000000\n",
       "10         0.1  347   923   39   100  0.898964  0.902248\n",
       "20         0.2  307   822   79   201  0.795337  0.803519\n",
       "30         0.3  276   724  110   299  0.715026  0.707722\n",
       "40         0.4  237   624  149   399  0.613990  0.609971\n",
       "50         0.5  202   518  184   505  0.523316  0.506354\n",
       "60         0.6  161   409  225   614  0.417098  0.399804\n",
       "70         0.7  121   302  265   721  0.313472  0.295210\n",
       "80         0.8   78   206  308   817  0.202073  0.201369\n",
       "90         0.9   40   101  346   922  0.103627  0.098729\n",
       "100        1.0    0     0  386  1023  0.000000  0.000000"
      ]
     },
     "metadata": {},
     "output_type": "display_data"
    }
   ],
   "source": [
    "np.random.seed(1)\n",
    "targetRand = np.random.uniform(0,1,size=len(targetVal))\n",
    "\n",
    "display(((targetRand >= 0.5) == targetVal).mean())\n",
    "\n",
    "dfRand = TPR_FPR(targetRand, targetVal)\n",
    "display(dfRand[::10])"
   ]
  },
  {
   "cell_type": "code",
   "execution_count": 22,
   "id": "e3dc4e93",
   "metadata": {},
   "outputs": [
    {
     "data": {
      "image/png": "[encoded data removed]",
      "text/plain": [
       "<Figure size 720x432 with 1 Axes>"
      ]
     },
     "metadata": {
      "needs_background": "light"
     },
     "output_type": "display_data"
    }
   ],
   "source": [
    "plotRates([dfRand],['Random'])"
   ]
  },
  {
   "cell_type": "markdown",
   "id": "929f61ca",
   "metadata": {},
   "source": [
    "#### Ideal Model"
   ]
  },
  {
   "cell_type": "code",
   "execution_count": 23,
   "id": "9cdeb75a",
   "metadata": {},
   "outputs": [
    {
     "data": {
      "text/html": [
       "<div>\n",
       "<style scoped>\n",
       "    .dataframe tbody tr th:only-of-type {\n",
       "        vertical-align: middle;\n",
       "    }\n",
       "\n",
       "    .dataframe tbody tr th {\n",
       "        vertical-align: top;\n",
       "    }\n",
       "\n",
       "    .dataframe thead th {\n",
       "        text-align: right;\n",
       "    }\n",
       "</style>\n",
       "<table border=\"1\" class=\"dataframe\">\n",
       "  <thead>\n",
       "    <tr style=\"text-align: right;\">\n",
       "      <th></th>\n",
       "      <th>threshold</th>\n",
       "      <th>tp</th>\n",
       "      <th>fp</th>\n",
       "      <th>fn</th>\n",
       "      <th>tn</th>\n",
       "      <th>tpr</th>\n",
       "      <th>fpr</th>\n",
       "    </tr>\n",
       "  </thead>\n",
       "  <tbody>\n",
       "    <tr>\n",
       "      <th>0</th>\n",
       "      <td>0.0</td>\n",
       "      <td>386</td>\n",
       "      <td>1023</td>\n",
       "      <td>0</td>\n",
       "      <td>0</td>\n",
       "      <td>1.000000</td>\n",
       "      <td>1.000000</td>\n",
       "    </tr>\n",
       "    <tr>\n",
       "      <th>20</th>\n",
       "      <td>0.2</td>\n",
       "      <td>386</td>\n",
       "      <td>741</td>\n",
       "      <td>0</td>\n",
       "      <td>282</td>\n",
       "      <td>1.000000</td>\n",
       "      <td>0.724340</td>\n",
       "    </tr>\n",
       "    <tr>\n",
       "      <th>40</th>\n",
       "      <td>0.4</td>\n",
       "      <td>386</td>\n",
       "      <td>459</td>\n",
       "      <td>0</td>\n",
       "      <td>564</td>\n",
       "      <td>1.000000</td>\n",
       "      <td>0.448680</td>\n",
       "    </tr>\n",
       "    <tr>\n",
       "      <th>60</th>\n",
       "      <td>0.6</td>\n",
       "      <td>386</td>\n",
       "      <td>178</td>\n",
       "      <td>0</td>\n",
       "      <td>845</td>\n",
       "      <td>1.000000</td>\n",
       "      <td>0.173998</td>\n",
       "    </tr>\n",
       "    <tr>\n",
       "      <th>80</th>\n",
       "      <td>0.8</td>\n",
       "      <td>282</td>\n",
       "      <td>0</td>\n",
       "      <td>104</td>\n",
       "      <td>1023</td>\n",
       "      <td>0.730570</td>\n",
       "      <td>0.000000</td>\n",
       "    </tr>\n",
       "    <tr>\n",
       "      <th>100</th>\n",
       "      <td>1.0</td>\n",
       "      <td>1</td>\n",
       "      <td>0</td>\n",
       "      <td>385</td>\n",
       "      <td>1023</td>\n",
       "      <td>0.002591</td>\n",
       "      <td>0.000000</td>\n",
       "    </tr>\n",
       "  </tbody>\n",
       "</table>\n",
       "</div>"
      ],
      "text/plain": [
       "     threshold   tp    fp   fn    tn       tpr       fpr\n",
       "0          0.0  386  1023    0     0  1.000000  1.000000\n",
       "20         0.2  386   741    0   282  1.000000  0.724340\n",
       "40         0.4  386   459    0   564  1.000000  0.448680\n",
       "60         0.6  386   178    0   845  1.000000  0.173998\n",
       "80         0.8  282     0  104  1023  0.730570  0.000000\n",
       "100        1.0    1     0  385  1023  0.002591  0.000000"
      ]
     },
     "execution_count": 23,
     "metadata": {},
     "output_type": "execute_result"
    }
   ],
   "source": [
    "numNeg, numPos = Counter((targetVal)).values()\n",
    "\n",
    "targetIdeal = np.repeat([0,1], [numNeg, numPos])\n",
    "\n",
    "targetIdealPred = np.linspace(0, 1, len(targetVal))\n",
    "((targetIdealPred >= 0.726) == targetIdeal).mean()\n",
    "\n",
    "dfIdeal = TPR_FPR(targetIdealPred, targetIdeal)\n",
    "\n",
    "dfIdeal[::20]"
   ]
  },
  {
   "cell_type": "code",
   "execution_count": 24,
   "id": "f0c78d6d",
   "metadata": {},
   "outputs": [
    {
     "data": {
      "image/png": "[encoded data removed]",
      "text/plain": [
       "<Figure size 720x432 with 1 Axes>"
      ]
     },
     "metadata": {
      "needs_background": "light"
     },
     "output_type": "display_data"
    }
   ],
   "source": [
    "plotRates([dfIdeal],['Ideal'])"
   ]
  },
  {
   "cell_type": "code",
   "execution_count": 25,
   "id": "28e20fde",
   "metadata": {},
   "outputs": [
    {
     "data": {
      "image/png": "[encoded data removed]",
      "text/plain": [
       "<Figure size 720x432 with 1 Axes>"
      ]
     },
     "metadata": {
      "needs_background": "light"
     },
     "output_type": "display_data"
    }
   ],
   "source": [
    "plotRates([dfScores, dfIdeal],['Validation', 'Ideal'])"
   ]
  },
  {
   "cell_type": "code",
   "execution_count": 26,
   "id": "dfdb3fbd",
   "metadata": {},
   "outputs": [
    {
     "data": {
      "image/png": "[encoded data removed]",
      "text/plain": [
       "<Figure size 576x576 with 1 Axes>"
      ]
     },
     "metadata": {
      "needs_background": "light"
     },
     "output_type": "display_data"
    }
   ],
   "source": [
    "plt.figure(figsize=(8,8))\n",
    "plt.plot(dfScores.fpr, dfScores.tpr, label='Validation')\n",
    "plt.plot(dfRand.fpr, dfRand.tpr, label = 'Random')\n",
    "plt.plot(dfIdeal.fpr, dfIdeal.tpr, label = 'Ideal')\n",
    "\n",
    "plt.legend()\n",
    "plt.xlabel('FPR')\n",
    "plt.ylabel('TPR')\n",
    "\n",
    "_ = plt.show()"
   ]
  },
  {
   "cell_type": "code",
   "execution_count": 27,
   "id": "cefe4910",
   "metadata": {},
   "outputs": [
    {
     "data": {
      "image/png": "[encoded data removed]",
      "text/plain": [
       "<Figure size 576x576 with 1 Axes>"
      ]
     },
     "metadata": {
      "needs_background": "light"
     },
     "output_type": "display_data"
    }
   ],
   "source": [
    "from sklearn.metrics import roc_curve, RocCurveDisplay\n",
    "\n",
    "#y_score = clf.decision_function(X_test)\n",
    "\n",
    "fig, ax = plt.subplots(figsize=(8, 8))\n",
    "fpr, tpr, _ = roc_curve(targetVal.values, targetValPredProba)\n",
    "roc_display1 = RocCurveDisplay(fpr=fpr, tpr=tpr).plot(ax=ax)\n",
    "fpr2, tpr2, _ = roc_curve(targetVal, targetRand)\n",
    "roc_display2 = RocCurveDisplay(fpr=fpr2, tpr=tpr2).plot(ax=ax)\n",
    "\n",
    "plt.show()"
   ]
  },
  {
   "cell_type": "code",
   "execution_count": 28,
   "id": "696b6125",
   "metadata": {},
   "outputs": [
    {
     "data": {
      "image/png": "[encoded data removed]",
      "text/plain": [
       "<Figure size 576x576 with 1 Axes>"
      ]
     },
     "metadata": {
      "needs_background": "light"
     },
     "output_type": "display_data"
    }
   ],
   "source": [
    "plt.figure(figsize=(8,8))\n",
    "plt.plot(fpr, tpr, label='Validation')\n",
    "plt.plot(fpr2, tpr2, label='Validation')\n",
    "\n",
    "plt.legend()\n",
    "plt.xlabel('FPR')\n",
    "plt.ylabel('TPR')\n",
    "\n",
    "_ = plt.show()"
   ]
  },
  {
   "cell_type": "markdown",
   "id": "a077207b",
   "metadata": {},
   "source": [
    "#### AUC - Area Under the ROC Curve"
   ]
  },
  {
   "cell_type": "code",
   "execution_count": 29,
   "id": "ec4d14c3",
   "metadata": {},
   "outputs": [],
   "source": [
    "from sklearn.metrics import auc, roc_auc_score"
   ]
  },
  {
   "cell_type": "code",
   "execution_count": 30,
   "id": "867c59dc",
   "metadata": {},
   "outputs": [
    {
     "name": "stdout",
     "output_type": "stream",
     "text": [
      "Sklearn method #1 0.8459422910367254\n",
      "Sklearn method #2 0.8459422910367254\n",
      "Sklearn method #3 0.8456434645637387\n",
      "Random model 0.5060233793728696\n",
      "Ideal model 0.9999430203759136\n"
     ]
    }
   ],
   "source": [
    "print(f'Sklearn method #1 {auc(fpr, tpr)}')\n",
    "print(f'Sklearn method #2 {roc_auc_score(targetVal, targetValPredProba)}')\n",
    "print(f'Sklearn method #3 {auc(dfScores.fpr, dfScores.tpr)}')\n",
    "print(f'Random model {auc(dfRand.fpr, dfRand.tpr)}')\n",
    "print(f'Ideal model {auc(dfIdeal.fpr, dfIdeal.tpr)}')"
   ]
  },
  {
   "cell_type": "code",
   "execution_count": 31,
   "id": "7d248701",
   "metadata": {},
   "outputs": [
    {
     "data": {
      "text/plain": [
       "0.84545"
      ]
     },
     "execution_count": 31,
     "metadata": {},
     "output_type": "execute_result"
    }
   ],
   "source": [
    "# Interpretation or AUC\n",
    "import random\n",
    "result = 0\n",
    "neg = targetValPredProba[targetVal == 0]\n",
    "pos = targetValPredProba[targetVal == 1]\n",
    "\n",
    "n = 100000\n",
    "\n",
    "for i in range(n):\n",
    "    posidx = random.randint(0, len(pos) - 1)\n",
    "    negidx = random.randint(0, len(neg) - 1)\n",
    "    \n",
    "    if pos[posidx] > neg[negidx]:\n",
    "        result += 1\n",
    "\n",
    "result / n        "
   ]
  },
  {
   "cell_type": "code",
   "execution_count": 32,
   "id": "f90a4a34",
   "metadata": {},
   "outputs": [
    {
     "data": {
      "text/plain": [
       "0.8483"
      ]
     },
     "execution_count": 32,
     "metadata": {},
     "output_type": "execute_result"
    }
   ],
   "source": [
    "# Probability that from two values chosen at random the true-positive one is bigger that the false-positive one\n",
    "n= 50000\n",
    "np.random.seed(1)\n",
    "pos_idx = np.random.randint(0, len(pos), size=n)\n",
    "neg_idx = np.random.randint(0, len(neg), size=n)\n",
    "(pos[pos_idx] > neg[neg_idx]).mean()"
   ]
  },
  {
   "cell_type": "markdown",
   "id": "aa0e43d1",
   "metadata": {},
   "source": [
    "#### K-Fold Cross-validation"
   ]
  },
  {
   "cell_type": "code",
   "execution_count": 33,
   "id": "beaee88c",
   "metadata": {},
   "outputs": [],
   "source": [
    "from sklearn.feature_extraction import DictVectorizer"
   ]
  },
  {
   "cell_type": "code",
   "execution_count": 34,
   "id": "2b56d026",
   "metadata": {},
   "outputs": [],
   "source": [
    "\n",
    "def train(df_train, y_train, C=1.0):\n",
    "    dicts = df_train[categoricalCols + numericalCols].to_dict(orient='records')\n",
    "    \n",
    "    dv = DictVectorizer(sparse=False)\n",
    "    X_train = dv.fit_transform(dicts)\n",
    "    \n",
    "    model = LogisticRegression(C=C, max_iter=1000)\n",
    "    model.fit(X_train, y_train)\n",
    "    \n",
    "    return dv, model"
   ]
  },
  {
   "cell_type": "code",
   "execution_count": 35,
   "id": "ffe27079",
   "metadata": {},
   "outputs": [],
   "source": [
    "def predict(df, dv, model):\n",
    "    dicts = df[categoricalCols + numericalCols].to_dict(orient='records')\n",
    "    \n",
    "    X = dv.transform(dicts)\n",
    "    \n",
    "    y_pred = model.predict_proba(X)[:,1]\n",
    "    \n",
    "    return y_pred"
   ]
  },
  {
   "cell_type": "code",
   "execution_count": 36,
   "id": "97ccccda",
   "metadata": {},
   "outputs": [],
   "source": [
    "newDataTrainFull = dataTrainFull.copy()\n",
    "newDataTrainFull['churn'] = targetTrainFull.values"
   ]
  },
  {
   "cell_type": "code",
   "execution_count": 37,
   "id": "f67dcea1",
   "metadata": {},
   "outputs": [
    {
     "data": {
      "application/vnd.jupyter.widget-view+json": {
       "model_id": "91cf3b69b0434ed298c1b3042a5f154e",
       "version_major": 2,
       "version_minor": 0
      },
      "text/plain": [
       "  0%|          | 0/7 [00:00<?, ?it/s]"
      ]
     },
     "metadata": {},
     "output_type": "display_data"
    },
    {
     "name": "stdout",
     "output_type": "stream",
     "text": [
      "C = 0.001 - Mean AUC = 0.825 +- 0.009\n",
      "C = 0.01 - Mean AUC = 0.840 +- 0.009\n",
      "C = 0.1 - Mean AUC = 0.840 +- 0.008\n",
      "C = 0.5 - Mean AUC = 0.840 +- 0.006\n",
      "C = 1 - Mean AUC = 0.840 +- 0.008\n",
      "C = 5 - Mean AUC = 0.842 +- 0.008\n",
      "C = 10 - Mean AUC = 0.841 +- 0.008\n"
     ]
    }
   ],
   "source": [
    "# Testing different regularization parameters and doing k-fold cross-validation\n",
    "\n",
    "from tqdm.auto import tqdm\n",
    "from sklearn.model_selection import KFold\n",
    "\n",
    "n_splits = 5\n",
    "\n",
    "for C in tqdm([1e-3, 1e-2, 0.1, 0.5, 1, 5, 10]):\n",
    "    \n",
    "    kfold = KFold(n_splits = n_splits, shuffle = True, random_state=1)   \n",
    "    ausc = []\n",
    "    \n",
    "    for train_idx, val_idx in kfold.split(newDataTrainFull):\n",
    "        df_train = newDataTrainFull.iloc[train_idx]\n",
    "        df_val = newDataTrainFull.iloc[val_idx]\n",
    "        y_train = df_train.churn.values\n",
    "        y_val = df_val.churn.values\n",
    "       \n",
    "        dv, model = train(df_train[categoricalCols + numericalCols], y_train, C=C)\n",
    "        newTargetPredict = predict(df_val[categoricalCols + numericalCols], dv, model)\n",
    "        \n",
    "        auc = roc_auc_score(df_val.churn, newTargetPredict)\n",
    "        \n",
    "        ausc.append(auc)       \n",
    "        \n",
    "    print('C = %s - Mean AUC = %.3f +- %.3f' % (C, np.mean(ausc), np.std(ausc)))\n"
   ]
  },
  {
   "cell_type": "code",
   "execution_count": 38,
   "id": "b5e4d12e",
   "metadata": {},
   "outputs": [
    {
     "data": {
      "text/plain": [
       "0.8572386167896259"
      ]
     },
     "execution_count": 38,
     "metadata": {},
     "output_type": "execute_result"
    }
   ],
   "source": [
    "dv, model = train(newDataTrainFull[categoricalCols + numericalCols], newDataTrainFull.churn.values, C=1.0)\n",
    "targetTestPredict = predict(dataTest[categoricalCols + numericalCols], dv, model)\n",
    "\n",
    "auc = roc_auc_score(targetTest, targetTestPredict)\n",
    "auc"
   ]
  }
 ],
 "metadata": {
  "kernelspec": {
   "display_name": "Python 3 (ipykernel)",
   "language": "python",
   "name": "python3"
  },
  "language_info": {
   "codemirror_mode": {
    "name": "ipython",
    "version": 3
   },
   "file_extension": ".py",
   "mimetype": "text/x-python",
   "name": "python",
   "nbconvert_exporter": "python",
   "pygments_lexer": "ipython3",
   "version": "3.9.7"
  }
 },
 "nbformat": 4,
 "nbformat_minor": 5
}
