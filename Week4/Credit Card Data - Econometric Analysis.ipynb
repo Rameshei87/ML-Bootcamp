{
 "cells": [
  {
   "cell_type": "code",
   "execution_count": 30,
   "id": "84d4d995",
   "metadata": {},
   "outputs": [],
   "source": [
    "import numpy as np\n",
    "import pandas as pd\n",
    "import matplotlib.pyplot as plt\n",
    "from IPython.display import display\n",
    "from sklearn.model_selection import train_test_split\n",
    "from sklearn.metrics import roc_auc_score, roc_curve\n",
    "from sklearn.pipeline import make_pipeline\n",
    "from sklearn.preprocessing import OneHotEncoder, StandardScaler\n",
    "from sklearn.feature_extraction import DictVectorizer\n",
    "from sklearn.compose import ColumnTransformer\n",
    "from sklearn.linear_model import LogisticRegression\n",
    "\n",
    "from sklearn import set_config\n",
    "set_config(display='diagram')\n",
    "\n",
    "%matplotlib inline"
   ]
  },
  {
   "cell_type": "code",
   "execution_count": 31,
   "id": "dd573d68",
   "metadata": {},
   "outputs": [
    {
     "data": {
      "text/html": [
       "<div>\n",
       "<style scoped>\n",
       "    .dataframe tbody tr th:only-of-type {\n",
       "        vertical-align: middle;\n",
       "    }\n",
       "\n",
       "    .dataframe tbody tr th {\n",
       "        vertical-align: top;\n",
       "    }\n",
       "\n",
       "    .dataframe thead th {\n",
       "        text-align: right;\n",
       "    }\n",
       "</style>\n",
       "<table border=\"1\" class=\"dataframe\">\n",
       "  <thead>\n",
       "    <tr style=\"text-align: right;\">\n",
       "      <th></th>\n",
       "      <th>card</th>\n",
       "      <th>reports</th>\n",
       "      <th>age</th>\n",
       "      <th>income</th>\n",
       "      <th>share</th>\n",
       "      <th>expenditure</th>\n",
       "      <th>owner</th>\n",
       "      <th>selfemp</th>\n",
       "      <th>dependents</th>\n",
       "      <th>months</th>\n",
       "      <th>majorcards</th>\n",
       "      <th>active</th>\n",
       "    </tr>\n",
       "  </thead>\n",
       "  <tbody>\n",
       "    <tr>\n",
       "      <th>0</th>\n",
       "      <td>yes</td>\n",
       "      <td>0</td>\n",
       "      <td>37.66667</td>\n",
       "      <td>4.5200</td>\n",
       "      <td>0.033270</td>\n",
       "      <td>124.983300</td>\n",
       "      <td>yes</td>\n",
       "      <td>no</td>\n",
       "      <td>3</td>\n",
       "      <td>54</td>\n",
       "      <td>1</td>\n",
       "      <td>12</td>\n",
       "    </tr>\n",
       "    <tr>\n",
       "      <th>1</th>\n",
       "      <td>yes</td>\n",
       "      <td>0</td>\n",
       "      <td>33.25000</td>\n",
       "      <td>2.4200</td>\n",
       "      <td>0.005217</td>\n",
       "      <td>9.854167</td>\n",
       "      <td>no</td>\n",
       "      <td>no</td>\n",
       "      <td>3</td>\n",
       "      <td>34</td>\n",
       "      <td>1</td>\n",
       "      <td>13</td>\n",
       "    </tr>\n",
       "    <tr>\n",
       "      <th>2</th>\n",
       "      <td>yes</td>\n",
       "      <td>0</td>\n",
       "      <td>33.66667</td>\n",
       "      <td>4.5000</td>\n",
       "      <td>0.004156</td>\n",
       "      <td>15.000000</td>\n",
       "      <td>yes</td>\n",
       "      <td>no</td>\n",
       "      <td>4</td>\n",
       "      <td>58</td>\n",
       "      <td>1</td>\n",
       "      <td>5</td>\n",
       "    </tr>\n",
       "    <tr>\n",
       "      <th>3</th>\n",
       "      <td>yes</td>\n",
       "      <td>0</td>\n",
       "      <td>30.50000</td>\n",
       "      <td>2.5400</td>\n",
       "      <td>0.065214</td>\n",
       "      <td>137.869200</td>\n",
       "      <td>no</td>\n",
       "      <td>no</td>\n",
       "      <td>0</td>\n",
       "      <td>25</td>\n",
       "      <td>1</td>\n",
       "      <td>7</td>\n",
       "    </tr>\n",
       "    <tr>\n",
       "      <th>4</th>\n",
       "      <td>yes</td>\n",
       "      <td>0</td>\n",
       "      <td>32.16667</td>\n",
       "      <td>9.7867</td>\n",
       "      <td>0.067051</td>\n",
       "      <td>546.503300</td>\n",
       "      <td>yes</td>\n",
       "      <td>no</td>\n",
       "      <td>2</td>\n",
       "      <td>64</td>\n",
       "      <td>1</td>\n",
       "      <td>5</td>\n",
       "    </tr>\n",
       "  </tbody>\n",
       "</table>\n",
       "</div>"
      ],
      "text/plain": [
       "  card  reports       age  income     share  expenditure owner selfemp  \\\n",
       "0  yes        0  37.66667  4.5200  0.033270   124.983300   yes      no   \n",
       "1  yes        0  33.25000  2.4200  0.005217     9.854167    no      no   \n",
       "2  yes        0  33.66667  4.5000  0.004156    15.000000   yes      no   \n",
       "3  yes        0  30.50000  2.5400  0.065214   137.869200    no      no   \n",
       "4  yes        0  32.16667  9.7867  0.067051   546.503300   yes      no   \n",
       "\n",
       "   dependents  months  majorcards  active  \n",
       "0           3      54           1      12  \n",
       "1           3      34           1      13  \n",
       "2           4      58           1       5  \n",
       "3           0      25           1       7  \n",
       "4           2      64           1       5  "
      ]
     },
     "execution_count": 31,
     "metadata": {},
     "output_type": "execute_result"
    }
   ],
   "source": [
    "df = pd.read_csv('AER_credit_card_data.csv')\n",
    "df.head()"
   ]
  },
  {
   "cell_type": "code",
   "execution_count": 32,
   "id": "03841588",
   "metadata": {},
   "outputs": [
    {
     "data": {
      "text/plain": [
       "'Before'"
      ]
     },
     "metadata": {},
     "output_type": "display_data"
    },
    {
     "data": {
      "text/plain": [
       "yes    1023\n",
       "no      296\n",
       "Name: card, dtype: int64"
      ]
     },
     "metadata": {},
     "output_type": "display_data"
    },
    {
     "data": {
      "text/plain": [
       "'After'"
      ]
     },
     "metadata": {},
     "output_type": "display_data"
    },
    {
     "data": {
      "text/plain": [
       "1    1023\n",
       "0     296\n",
       "Name: card, dtype: int64"
      ]
     },
     "metadata": {},
     "output_type": "display_data"
    }
   ],
   "source": [
    "# Convert target value 'card' to 1s and 0s\n",
    "display('Before', df.card.value_counts())\n",
    "mapping = {'yes': 1, 'no': 0}\n",
    "df.card.replace(mapping, inplace=True)\n",
    "display('After', df.card.value_counts())"
   ]
  },
  {
   "cell_type": "markdown",
   "id": "5b816154",
   "metadata": {},
   "source": [
    "#### EDA"
   ]
  },
  {
   "cell_type": "code",
   "execution_count": 33,
   "id": "02fec851",
   "metadata": {},
   "outputs": [
    {
     "name": "stdout",
     "output_type": "stream",
     "text": [
      "<class 'pandas.core.frame.DataFrame'>\n",
      "RangeIndex: 1319 entries, 0 to 1318\n",
      "Data columns (total 12 columns):\n",
      " #   Column       Non-Null Count  Dtype  \n",
      "---  ------       --------------  -----  \n",
      " 0   card         1319 non-null   int64  \n",
      " 1   reports      1319 non-null   int64  \n",
      " 2   age          1319 non-null   float64\n",
      " 3   income       1319 non-null   float64\n",
      " 4   share        1319 non-null   float64\n",
      " 5   expenditure  1319 non-null   float64\n",
      " 6   owner        1319 non-null   object \n",
      " 7   selfemp      1319 non-null   object \n",
      " 8   dependents   1319 non-null   int64  \n",
      " 9   months       1319 non-null   int64  \n",
      " 10  majorcards   1319 non-null   int64  \n",
      " 11  active       1319 non-null   int64  \n",
      "dtypes: float64(4), int64(6), object(2)\n",
      "memory usage: 123.8+ KB\n"
     ]
    }
   ],
   "source": [
    "df.info()"
   ]
  },
  {
   "cell_type": "code",
   "execution_count": 34,
   "id": "7d0145b6",
   "metadata": {},
   "outputs": [
    {
     "data": {
      "text/html": [
       "<div>\n",
       "<style scoped>\n",
       "    .dataframe tbody tr th:only-of-type {\n",
       "        vertical-align: middle;\n",
       "    }\n",
       "\n",
       "    .dataframe tbody tr th {\n",
       "        vertical-align: top;\n",
       "    }\n",
       "\n",
       "    .dataframe thead th {\n",
       "        text-align: right;\n",
       "    }\n",
       "</style>\n",
       "<table border=\"1\" class=\"dataframe\">\n",
       "  <thead>\n",
       "    <tr style=\"text-align: right;\">\n",
       "      <th></th>\n",
       "      <th>card</th>\n",
       "      <th>reports</th>\n",
       "      <th>age</th>\n",
       "      <th>income</th>\n",
       "      <th>share</th>\n",
       "      <th>expenditure</th>\n",
       "      <th>dependents</th>\n",
       "      <th>months</th>\n",
       "      <th>majorcards</th>\n",
       "      <th>active</th>\n",
       "    </tr>\n",
       "  </thead>\n",
       "  <tbody>\n",
       "    <tr>\n",
       "      <th>count</th>\n",
       "      <td>1319.000000</td>\n",
       "      <td>1319.000000</td>\n",
       "      <td>1319.000000</td>\n",
       "      <td>1319.000000</td>\n",
       "      <td>1319.000000</td>\n",
       "      <td>1319.000000</td>\n",
       "      <td>1319.000000</td>\n",
       "      <td>1319.000000</td>\n",
       "      <td>1319.000000</td>\n",
       "      <td>1319.000000</td>\n",
       "    </tr>\n",
       "    <tr>\n",
       "      <th>mean</th>\n",
       "      <td>0.775588</td>\n",
       "      <td>0.456406</td>\n",
       "      <td>33.213103</td>\n",
       "      <td>3.365376</td>\n",
       "      <td>0.068732</td>\n",
       "      <td>185.057071</td>\n",
       "      <td>0.993935</td>\n",
       "      <td>55.267627</td>\n",
       "      <td>0.817286</td>\n",
       "      <td>6.996967</td>\n",
       "    </tr>\n",
       "    <tr>\n",
       "      <th>std</th>\n",
       "      <td>0.417353</td>\n",
       "      <td>1.345267</td>\n",
       "      <td>10.142783</td>\n",
       "      <td>1.693902</td>\n",
       "      <td>0.094656</td>\n",
       "      <td>272.218917</td>\n",
       "      <td>1.247745</td>\n",
       "      <td>66.271746</td>\n",
       "      <td>0.386579</td>\n",
       "      <td>6.305812</td>\n",
       "    </tr>\n",
       "    <tr>\n",
       "      <th>min</th>\n",
       "      <td>0.000000</td>\n",
       "      <td>0.000000</td>\n",
       "      <td>0.166667</td>\n",
       "      <td>0.210000</td>\n",
       "      <td>0.000109</td>\n",
       "      <td>0.000000</td>\n",
       "      <td>0.000000</td>\n",
       "      <td>0.000000</td>\n",
       "      <td>0.000000</td>\n",
       "      <td>0.000000</td>\n",
       "    </tr>\n",
       "    <tr>\n",
       "      <th>25%</th>\n",
       "      <td>1.000000</td>\n",
       "      <td>0.000000</td>\n",
       "      <td>25.416670</td>\n",
       "      <td>2.243750</td>\n",
       "      <td>0.002316</td>\n",
       "      <td>4.583333</td>\n",
       "      <td>0.000000</td>\n",
       "      <td>12.000000</td>\n",
       "      <td>1.000000</td>\n",
       "      <td>2.000000</td>\n",
       "    </tr>\n",
       "    <tr>\n",
       "      <th>50%</th>\n",
       "      <td>1.000000</td>\n",
       "      <td>0.000000</td>\n",
       "      <td>31.250000</td>\n",
       "      <td>2.900000</td>\n",
       "      <td>0.038827</td>\n",
       "      <td>101.298300</td>\n",
       "      <td>1.000000</td>\n",
       "      <td>30.000000</td>\n",
       "      <td>1.000000</td>\n",
       "      <td>6.000000</td>\n",
       "    </tr>\n",
       "    <tr>\n",
       "      <th>75%</th>\n",
       "      <td>1.000000</td>\n",
       "      <td>0.000000</td>\n",
       "      <td>39.416670</td>\n",
       "      <td>4.000000</td>\n",
       "      <td>0.093617</td>\n",
       "      <td>249.035800</td>\n",
       "      <td>2.000000</td>\n",
       "      <td>72.000000</td>\n",
       "      <td>1.000000</td>\n",
       "      <td>11.000000</td>\n",
       "    </tr>\n",
       "    <tr>\n",
       "      <th>max</th>\n",
       "      <td>1.000000</td>\n",
       "      <td>14.000000</td>\n",
       "      <td>83.500000</td>\n",
       "      <td>13.500000</td>\n",
       "      <td>0.906320</td>\n",
       "      <td>3099.505000</td>\n",
       "      <td>6.000000</td>\n",
       "      <td>540.000000</td>\n",
       "      <td>1.000000</td>\n",
       "      <td>46.000000</td>\n",
       "    </tr>\n",
       "  </tbody>\n",
       "</table>\n",
       "</div>"
      ],
      "text/plain": [
       "              card      reports          age       income        share  \\\n",
       "count  1319.000000  1319.000000  1319.000000  1319.000000  1319.000000   \n",
       "mean      0.775588     0.456406    33.213103     3.365376     0.068732   \n",
       "std       0.417353     1.345267    10.142783     1.693902     0.094656   \n",
       "min       0.000000     0.000000     0.166667     0.210000     0.000109   \n",
       "25%       1.000000     0.000000    25.416670     2.243750     0.002316   \n",
       "50%       1.000000     0.000000    31.250000     2.900000     0.038827   \n",
       "75%       1.000000     0.000000    39.416670     4.000000     0.093617   \n",
       "max       1.000000    14.000000    83.500000    13.500000     0.906320   \n",
       "\n",
       "       expenditure   dependents       months   majorcards       active  \n",
       "count  1319.000000  1319.000000  1319.000000  1319.000000  1319.000000  \n",
       "mean    185.057071     0.993935    55.267627     0.817286     6.996967  \n",
       "std     272.218917     1.247745    66.271746     0.386579     6.305812  \n",
       "min       0.000000     0.000000     0.000000     0.000000     0.000000  \n",
       "25%       4.583333     0.000000    12.000000     1.000000     2.000000  \n",
       "50%     101.298300     1.000000    30.000000     1.000000     6.000000  \n",
       "75%     249.035800     2.000000    72.000000     1.000000    11.000000  \n",
       "max    3099.505000     6.000000   540.000000     1.000000    46.000000  "
      ]
     },
     "execution_count": 34,
     "metadata": {},
     "output_type": "execute_result"
    }
   ],
   "source": [
    "df.describe()"
   ]
  },
  {
   "cell_type": "code",
   "execution_count": 35,
   "id": "f1aa53b3",
   "metadata": {},
   "outputs": [
    {
     "data": {
      "text/plain": [
       "card           0\n",
       "reports        0\n",
       "age            0\n",
       "income         0\n",
       "share          0\n",
       "expenditure    0\n",
       "owner          0\n",
       "selfemp        0\n",
       "dependents     0\n",
       "months         0\n",
       "majorcards     0\n",
       "active         0\n",
       "dtype: int64"
      ]
     },
     "execution_count": 35,
     "metadata": {},
     "output_type": "execute_result"
    }
   ],
   "source": [
    "df.isnull().sum()"
   ]
  },
  {
   "cell_type": "code",
   "execution_count": 36,
   "id": "78a4bf1a",
   "metadata": {},
   "outputs": [
    {
     "data": {
      "text/plain": [
       "card              2\n",
       "reports          13\n",
       "age             418\n",
       "income          431\n",
       "share          1162\n",
       "expenditure     981\n",
       "owner             2\n",
       "selfemp           2\n",
       "dependents        7\n",
       "months          193\n",
       "majorcards        2\n",
       "active           35\n",
       "dtype: int64"
      ]
     },
     "execution_count": 36,
     "metadata": {},
     "output_type": "execute_result"
    }
   ],
   "source": [
    "df.nunique()"
   ]
  },
  {
   "cell_type": "code",
   "execution_count": 37,
   "id": "37613eac",
   "metadata": {},
   "outputs": [
    {
     "data": {
      "text/plain": [
       "(791, 264, 264, 791, 264, 264)"
      ]
     },
     "execution_count": 37,
     "metadata": {},
     "output_type": "execute_result"
    }
   ],
   "source": [
    "# Splitting dataset 60%-20%-20%\n",
    "\n",
    "target = df.card\n",
    "data = df.drop(columns='card')\n",
    "\n",
    "dfTrainFull, dfTest, yTrainFull, yTest  = train_test_split(data, target, test_size=0.2, random_state=1)\n",
    "dfTrain, dfVal, yTrain, yVal  = train_test_split(dfTrainFull, yTrainFull, test_size=0.25, random_state=1)\n",
    "len(dfTrain) ,len(dfVal), len(dfTest), len(yTrain), len(yVal), len(yTest)"
   ]
  },
  {
   "cell_type": "code",
   "execution_count": 38,
   "id": "283d0b4d",
   "metadata": {},
   "outputs": [
    {
     "name": "stdout",
     "output_type": "stream",
     "text": [
      "Numerical columns: ['reports', 'age', 'income', 'share', 'expenditure', 'dependents', 'months', 'majorcards', 'active']\n",
      "\n",
      "Categorical columns: ['owner', 'selfemp']\n"
     ]
    }
   ],
   "source": [
    "numericalCols = dfTrain.select_dtypes(exclude=object).columns\n",
    "categoricalCols = dfTrain.select_dtypes(include=object).columns\n",
    "allCols = list(dfTrain.columns)\n",
    "print(f'Numerical columns: {list(numericalCols)}\\n')\n",
    "print(f'Categorical columns: {list(categoricalCols)}')"
   ]
  },
  {
   "cell_type": "markdown",
   "id": "171af827",
   "metadata": {},
   "source": [
    "#### Variable with hights correlation"
   ]
  },
  {
   "cell_type": "code",
   "execution_count": 39,
   "id": "f6fc86bd",
   "metadata": {},
   "outputs": [
    {
     "name": "stdout",
     "output_type": "stream",
     "text": [
      "0.28333701393106236\n",
      "0.4759979020592945\n",
      "0.5908049467233478\n",
      "0.989183643423692\n",
      "0.991042345276873\n",
      "0.46722427722262094\n",
      "0.470578221903237\n",
      "0.5343859842838476\n",
      "0.6043173411362006\n"
     ]
    },
    {
     "name": "stderr",
     "output_type": "stream",
     "text": [
      "C:\\Users\\MacCasa\\AppData\\Local\\Temp/ipykernel_17620/72586089.py:7: SettingWithCopyWarning: \n",
      "A value is trying to be set on a copy of a slice from a DataFrame.\n",
      "Try using .loc[row_indexer,col_indexer] = value instead\n",
      "\n",
      "See the caveats in the documentation: https://pandas.pydata.org/pandas-docs/stable/user_guide/indexing.html#returning-a-view-versus-a-copy\n",
      "  dfTrain[col] = -dfTrain[col]\n",
      "C:\\Users\\MacCasa\\AppData\\Local\\Temp/ipykernel_17620/72586089.py:7: SettingWithCopyWarning: \n",
      "A value is trying to be set on a copy of a slice from a DataFrame.\n",
      "Try using .loc[row_indexer,col_indexer] = value instead\n",
      "\n",
      "See the caveats in the documentation: https://pandas.pydata.org/pandas-docs/stable/user_guide/indexing.html#returning-a-view-versus-a-copy\n",
      "  dfTrain[col] = -dfTrain[col]\n",
      "C:\\Users\\MacCasa\\AppData\\Local\\Temp/ipykernel_17620/72586089.py:7: SettingWithCopyWarning: \n",
      "A value is trying to be set on a copy of a slice from a DataFrame.\n",
      "Try using .loc[row_indexer,col_indexer] = value instead\n",
      "\n",
      "See the caveats in the documentation: https://pandas.pydata.org/pandas-docs/stable/user_guide/indexing.html#returning-a-view-versus-a-copy\n",
      "  dfTrain[col] = -dfTrain[col]\n",
      "C:\\Users\\MacCasa\\AppData\\Local\\Temp/ipykernel_17620/72586089.py:7: SettingWithCopyWarning: \n",
      "A value is trying to be set on a copy of a slice from a DataFrame.\n",
      "Try using .loc[row_indexer,col_indexer] = value instead\n",
      "\n",
      "See the caveats in the documentation: https://pandas.pydata.org/pandas-docs/stable/user_guide/indexing.html#returning-a-view-versus-a-copy\n",
      "  dfTrain[col] = -dfTrain[col]\n"
     ]
    }
   ],
   "source": [
    "res = {}\n",
    "\n",
    "for col in numericalCols:\n",
    "    auc = roc_auc_score(yTrain, dfTrain[col])\n",
    "    res[col] = auc\n",
    "    if auc < 0.5:\n",
    "        dfTrain[col] = -dfTrain[col]\n",
    "    print(auc)"
   ]
  },
  {
   "cell_type": "code",
   "execution_count": 40,
   "id": "013de185",
   "metadata": {},
   "outputs": [
    {
     "data": {
      "text/plain": [
       "(0.28333701393106236,\n",
       " 0.46722427722262094,\n",
       " 0.6043173411362006,\n",
       " 0.989183643423692)"
      ]
     },
     "execution_count": 40,
     "metadata": {},
     "output_type": "execute_result"
    }
   ],
   "source": [
    "res.get('reports'), res.get('dependents'), res.get('active'), res.get('share')"
   ]
  },
  {
   "cell_type": "markdown",
   "id": "9f2c395b",
   "metadata": {},
   "source": [
    "The one with the highest correlation is the feature 'share'"
   ]
  },
  {
   "cell_type": "markdown",
   "id": "ac32b71b",
   "metadata": {},
   "source": [
    "#### Training the model"
   ]
  },
  {
   "cell_type": "code",
   "execution_count": 41,
   "id": "885625f0",
   "metadata": {},
   "outputs": [
    {
     "data": {
      "text/html": [
       "<style>#sk-bb592ddd-bb57-4b4e-b1fd-acb7988ff5b7 {color: black;background-color: white;}#sk-bb592ddd-bb57-4b4e-b1fd-acb7988ff5b7 pre{padding: 0;}#sk-bb592ddd-bb57-4b4e-b1fd-acb7988ff5b7 div.sk-toggleable {background-color: white;}#sk-bb592ddd-bb57-4b4e-b1fd-acb7988ff5b7 label.sk-toggleable__label {cursor: pointer;display: block;width: 100%;margin-bottom: 0;padding: 0.2em 0.3em;box-sizing: border-box;text-align: center;}#sk-bb592ddd-bb57-4b4e-b1fd-acb7988ff5b7 div.sk-toggleable__content {max-height: 0;max-width: 0;overflow: hidden;text-align: left;background-color: #f0f8ff;}#sk-bb592ddd-bb57-4b4e-b1fd-acb7988ff5b7 div.sk-toggleable__content pre {margin: 0.2em;color: black;border-radius: 0.25em;background-color: #f0f8ff;}#sk-bb592ddd-bb57-4b4e-b1fd-acb7988ff5b7 input.sk-toggleable__control:checked~div.sk-toggleable__content {max-height: 200px;max-width: 100%;overflow: auto;}#sk-bb592ddd-bb57-4b4e-b1fd-acb7988ff5b7 div.sk-estimator input.sk-toggleable__control:checked~label.sk-toggleable__label {background-color: #d4ebff;}#sk-bb592ddd-bb57-4b4e-b1fd-acb7988ff5b7 div.sk-label input.sk-toggleable__control:checked~label.sk-toggleable__label {background-color: #d4ebff;}#sk-bb592ddd-bb57-4b4e-b1fd-acb7988ff5b7 input.sk-hidden--visually {border: 0;clip: rect(1px 1px 1px 1px);clip: rect(1px, 1px, 1px, 1px);height: 1px;margin: -1px;overflow: hidden;padding: 0;position: absolute;width: 1px;}#sk-bb592ddd-bb57-4b4e-b1fd-acb7988ff5b7 div.sk-estimator {font-family: monospace;background-color: #f0f8ff;margin: 0.25em 0.25em;border: 1px dotted black;border-radius: 0.25em;box-sizing: border-box;}#sk-bb592ddd-bb57-4b4e-b1fd-acb7988ff5b7 div.sk-estimator:hover {background-color: #d4ebff;}#sk-bb592ddd-bb57-4b4e-b1fd-acb7988ff5b7 div.sk-parallel-item::after {content: \"\";width: 100%;border-bottom: 1px solid gray;flex-grow: 1;}#sk-bb592ddd-bb57-4b4e-b1fd-acb7988ff5b7 div.sk-label:hover label.sk-toggleable__label {background-color: #d4ebff;}#sk-bb592ddd-bb57-4b4e-b1fd-acb7988ff5b7 div.sk-serial::before {content: \"\";position: absolute;border-left: 1px solid gray;box-sizing: border-box;top: 2em;bottom: 0;left: 50%;}#sk-bb592ddd-bb57-4b4e-b1fd-acb7988ff5b7 div.sk-serial {display: flex;flex-direction: column;align-items: center;background-color: white;}#sk-bb592ddd-bb57-4b4e-b1fd-acb7988ff5b7 div.sk-item {z-index: 1;}#sk-bb592ddd-bb57-4b4e-b1fd-acb7988ff5b7 div.sk-parallel {display: flex;align-items: stretch;justify-content: center;background-color: white;}#sk-bb592ddd-bb57-4b4e-b1fd-acb7988ff5b7 div.sk-parallel-item {display: flex;flex-direction: column;position: relative;background-color: white;}#sk-bb592ddd-bb57-4b4e-b1fd-acb7988ff5b7 div.sk-parallel-item:first-child::after {align-self: flex-end;width: 50%;}#sk-bb592ddd-bb57-4b4e-b1fd-acb7988ff5b7 div.sk-parallel-item:last-child::after {align-self: flex-start;width: 50%;}#sk-bb592ddd-bb57-4b4e-b1fd-acb7988ff5b7 div.sk-parallel-item:only-child::after {width: 0;}#sk-bb592ddd-bb57-4b4e-b1fd-acb7988ff5b7 div.sk-dashed-wrapped {border: 1px dashed gray;margin: 0.2em;box-sizing: border-box;padding-bottom: 0.1em;background-color: white;position: relative;}#sk-bb592ddd-bb57-4b4e-b1fd-acb7988ff5b7 div.sk-label label {font-family: monospace;font-weight: bold;background-color: white;display: inline-block;line-height: 1.2em;}#sk-bb592ddd-bb57-4b4e-b1fd-acb7988ff5b7 div.sk-label-container {position: relative;z-index: 2;text-align: center;}#sk-bb592ddd-bb57-4b4e-b1fd-acb7988ff5b7 div.sk-container {display: inline-block;position: relative;}</style><div id=\"sk-bb592ddd-bb57-4b4e-b1fd-acb7988ff5b7\" class\"sk-top-container\"><div class=\"sk-container\"><div class=\"sk-item\"><div class=\"sk-estimator sk-toggleable\"><input class=\"sk-toggleable__control sk-hidden--visually\" id=\"8ad1894a-5964-462c-8380-219b19d785a8\" type=\"checkbox\" checked><label class=\"sk-toggleable__label\" for=\"8ad1894a-5964-462c-8380-219b19d785a8\">DictVectorizer</label><div class=\"sk-toggleable__content\"><pre>DictVectorizer(sparse=False)</pre></div></div></div></div></div>"
      ],
      "text/plain": [
       "DictVectorizer(sparse=False)"
      ]
     },
     "execution_count": 41,
     "metadata": {},
     "output_type": "execute_result"
    }
   ],
   "source": [
    "preprocessDV = DictVectorizer(sparse=False)\n",
    "preprocessDV"
   ]
  },
  {
   "cell_type": "code",
   "execution_count": 42,
   "id": "29a4f3d6",
   "metadata": {},
   "outputs": [
    {
     "data": {
      "text/html": [
       "<style>#sk-6ee45bfc-ffa1-4ac3-a10e-2157884d0a08 {color: black;background-color: white;}#sk-6ee45bfc-ffa1-4ac3-a10e-2157884d0a08 pre{padding: 0;}#sk-6ee45bfc-ffa1-4ac3-a10e-2157884d0a08 div.sk-toggleable {background-color: white;}#sk-6ee45bfc-ffa1-4ac3-a10e-2157884d0a08 label.sk-toggleable__label {cursor: pointer;display: block;width: 100%;margin-bottom: 0;padding: 0.2em 0.3em;box-sizing: border-box;text-align: center;}#sk-6ee45bfc-ffa1-4ac3-a10e-2157884d0a08 div.sk-toggleable__content {max-height: 0;max-width: 0;overflow: hidden;text-align: left;background-color: #f0f8ff;}#sk-6ee45bfc-ffa1-4ac3-a10e-2157884d0a08 div.sk-toggleable__content pre {margin: 0.2em;color: black;border-radius: 0.25em;background-color: #f0f8ff;}#sk-6ee45bfc-ffa1-4ac3-a10e-2157884d0a08 input.sk-toggleable__control:checked~div.sk-toggleable__content {max-height: 200px;max-width: 100%;overflow: auto;}#sk-6ee45bfc-ffa1-4ac3-a10e-2157884d0a08 div.sk-estimator input.sk-toggleable__control:checked~label.sk-toggleable__label {background-color: #d4ebff;}#sk-6ee45bfc-ffa1-4ac3-a10e-2157884d0a08 div.sk-label input.sk-toggleable__control:checked~label.sk-toggleable__label {background-color: #d4ebff;}#sk-6ee45bfc-ffa1-4ac3-a10e-2157884d0a08 input.sk-hidden--visually {border: 0;clip: rect(1px 1px 1px 1px);clip: rect(1px, 1px, 1px, 1px);height: 1px;margin: -1px;overflow: hidden;padding: 0;position: absolute;width: 1px;}#sk-6ee45bfc-ffa1-4ac3-a10e-2157884d0a08 div.sk-estimator {font-family: monospace;background-color: #f0f8ff;margin: 0.25em 0.25em;border: 1px dotted black;border-radius: 0.25em;box-sizing: border-box;}#sk-6ee45bfc-ffa1-4ac3-a10e-2157884d0a08 div.sk-estimator:hover {background-color: #d4ebff;}#sk-6ee45bfc-ffa1-4ac3-a10e-2157884d0a08 div.sk-parallel-item::after {content: \"\";width: 100%;border-bottom: 1px solid gray;flex-grow: 1;}#sk-6ee45bfc-ffa1-4ac3-a10e-2157884d0a08 div.sk-label:hover label.sk-toggleable__label {background-color: #d4ebff;}#sk-6ee45bfc-ffa1-4ac3-a10e-2157884d0a08 div.sk-serial::before {content: \"\";position: absolute;border-left: 1px solid gray;box-sizing: border-box;top: 2em;bottom: 0;left: 50%;}#sk-6ee45bfc-ffa1-4ac3-a10e-2157884d0a08 div.sk-serial {display: flex;flex-direction: column;align-items: center;background-color: white;}#sk-6ee45bfc-ffa1-4ac3-a10e-2157884d0a08 div.sk-item {z-index: 1;}#sk-6ee45bfc-ffa1-4ac3-a10e-2157884d0a08 div.sk-parallel {display: flex;align-items: stretch;justify-content: center;background-color: white;}#sk-6ee45bfc-ffa1-4ac3-a10e-2157884d0a08 div.sk-parallel-item {display: flex;flex-direction: column;position: relative;background-color: white;}#sk-6ee45bfc-ffa1-4ac3-a10e-2157884d0a08 div.sk-parallel-item:first-child::after {align-self: flex-end;width: 50%;}#sk-6ee45bfc-ffa1-4ac3-a10e-2157884d0a08 div.sk-parallel-item:last-child::after {align-self: flex-start;width: 50%;}#sk-6ee45bfc-ffa1-4ac3-a10e-2157884d0a08 div.sk-parallel-item:only-child::after {width: 0;}#sk-6ee45bfc-ffa1-4ac3-a10e-2157884d0a08 div.sk-dashed-wrapped {border: 1px dashed gray;margin: 0.2em;box-sizing: border-box;padding-bottom: 0.1em;background-color: white;position: relative;}#sk-6ee45bfc-ffa1-4ac3-a10e-2157884d0a08 div.sk-label label {font-family: monospace;font-weight: bold;background-color: white;display: inline-block;line-height: 1.2em;}#sk-6ee45bfc-ffa1-4ac3-a10e-2157884d0a08 div.sk-label-container {position: relative;z-index: 2;text-align: center;}#sk-6ee45bfc-ffa1-4ac3-a10e-2157884d0a08 div.sk-container {display: inline-block;position: relative;}</style><div id=\"sk-6ee45bfc-ffa1-4ac3-a10e-2157884d0a08\" class\"sk-top-container\"><div class=\"sk-container\"><div class=\"sk-item sk-dashed-wrapped\"><div class=\"sk-label-container\"><div class=\"sk-label sk-toggleable\"><input class=\"sk-toggleable__control sk-hidden--visually\" id=\"aa2499ab-04ac-4cbf-91c0-562a750f1725\" type=\"checkbox\" ><label class=\"sk-toggleable__label\" for=\"aa2499ab-04ac-4cbf-91c0-562a750f1725\">ColumnTransformer</label><div class=\"sk-toggleable__content\"><pre>ColumnTransformer(transformers=[('DictVectorizer', DictVectorizer(sparse=False),\n",
       "                                 ['reports', 'age', 'income', 'share',\n",
       "                                  'expenditure', 'owner', 'selfemp',\n",
       "                                  'dependents', 'months', 'majorcards',\n",
       "                                  'active'])])</pre></div></div></div><div class=\"sk-parallel\"><div class=\"sk-parallel-item\"><div class=\"sk-item\"><div class=\"sk-label-container\"><div class=\"sk-label sk-toggleable\"><input class=\"sk-toggleable__control sk-hidden--visually\" id=\"09f3697f-ff34-4290-819c-58722f4c2a52\" type=\"checkbox\" ><label class=\"sk-toggleable__label\" for=\"09f3697f-ff34-4290-819c-58722f4c2a52\">DictVectorizer</label><div class=\"sk-toggleable__content\"><pre>['reports', 'age', 'income', 'share', 'expenditure', 'owner', 'selfemp', 'dependents', 'months', 'majorcards', 'active']</pre></div></div></div><div class=\"sk-serial\"><div class=\"sk-item\"><div class=\"sk-estimator sk-toggleable\"><input class=\"sk-toggleable__control sk-hidden--visually\" id=\"1d3ca7ec-a051-42a1-b399-1f7255421750\" type=\"checkbox\" ><label class=\"sk-toggleable__label\" for=\"1d3ca7ec-a051-42a1-b399-1f7255421750\">DictVectorizer</label><div class=\"sk-toggleable__content\"><pre>DictVectorizer(sparse=False)</pre></div></div></div></div></div></div></div></div></div></div>"
      ],
      "text/plain": [
       "ColumnTransformer(transformers=[('DictVectorizer', DictVectorizer(sparse=False),\n",
       "                                 ['reports', 'age', 'income', 'share',\n",
       "                                  'expenditure', 'owner', 'selfemp',\n",
       "                                  'dependents', 'months', 'majorcards',\n",
       "                                  'active'])])"
      ]
     },
     "execution_count": 42,
     "metadata": {},
     "output_type": "execute_result"
    }
   ],
   "source": [
    "preprocessor = ColumnTransformer([('DictVectorizer', preprocessDV, allCols)])\n",
    "preprocessor"
   ]
  },
  {
   "cell_type": "code",
   "execution_count": 43,
   "id": "1c0cd837",
   "metadata": {},
   "outputs": [
    {
     "data": {
      "text/html": [
       "<style>#sk-87f9c353-eb8e-4b79-a7d2-465b87ad2337 {color: black;background-color: white;}#sk-87f9c353-eb8e-4b79-a7d2-465b87ad2337 pre{padding: 0;}#sk-87f9c353-eb8e-4b79-a7d2-465b87ad2337 div.sk-toggleable {background-color: white;}#sk-87f9c353-eb8e-4b79-a7d2-465b87ad2337 label.sk-toggleable__label {cursor: pointer;display: block;width: 100%;margin-bottom: 0;padding: 0.2em 0.3em;box-sizing: border-box;text-align: center;}#sk-87f9c353-eb8e-4b79-a7d2-465b87ad2337 div.sk-toggleable__content {max-height: 0;max-width: 0;overflow: hidden;text-align: left;background-color: #f0f8ff;}#sk-87f9c353-eb8e-4b79-a7d2-465b87ad2337 div.sk-toggleable__content pre {margin: 0.2em;color: black;border-radius: 0.25em;background-color: #f0f8ff;}#sk-87f9c353-eb8e-4b79-a7d2-465b87ad2337 input.sk-toggleable__control:checked~div.sk-toggleable__content {max-height: 200px;max-width: 100%;overflow: auto;}#sk-87f9c353-eb8e-4b79-a7d2-465b87ad2337 div.sk-estimator input.sk-toggleable__control:checked~label.sk-toggleable__label {background-color: #d4ebff;}#sk-87f9c353-eb8e-4b79-a7d2-465b87ad2337 div.sk-label input.sk-toggleable__control:checked~label.sk-toggleable__label {background-color: #d4ebff;}#sk-87f9c353-eb8e-4b79-a7d2-465b87ad2337 input.sk-hidden--visually {border: 0;clip: rect(1px 1px 1px 1px);clip: rect(1px, 1px, 1px, 1px);height: 1px;margin: -1px;overflow: hidden;padding: 0;position: absolute;width: 1px;}#sk-87f9c353-eb8e-4b79-a7d2-465b87ad2337 div.sk-estimator {font-family: monospace;background-color: #f0f8ff;margin: 0.25em 0.25em;border: 1px dotted black;border-radius: 0.25em;box-sizing: border-box;}#sk-87f9c353-eb8e-4b79-a7d2-465b87ad2337 div.sk-estimator:hover {background-color: #d4ebff;}#sk-87f9c353-eb8e-4b79-a7d2-465b87ad2337 div.sk-parallel-item::after {content: \"\";width: 100%;border-bottom: 1px solid gray;flex-grow: 1;}#sk-87f9c353-eb8e-4b79-a7d2-465b87ad2337 div.sk-label:hover label.sk-toggleable__label {background-color: #d4ebff;}#sk-87f9c353-eb8e-4b79-a7d2-465b87ad2337 div.sk-serial::before {content: \"\";position: absolute;border-left: 1px solid gray;box-sizing: border-box;top: 2em;bottom: 0;left: 50%;}#sk-87f9c353-eb8e-4b79-a7d2-465b87ad2337 div.sk-serial {display: flex;flex-direction: column;align-items: center;background-color: white;}#sk-87f9c353-eb8e-4b79-a7d2-465b87ad2337 div.sk-item {z-index: 1;}#sk-87f9c353-eb8e-4b79-a7d2-465b87ad2337 div.sk-parallel {display: flex;align-items: stretch;justify-content: center;background-color: white;}#sk-87f9c353-eb8e-4b79-a7d2-465b87ad2337 div.sk-parallel-item {display: flex;flex-direction: column;position: relative;background-color: white;}#sk-87f9c353-eb8e-4b79-a7d2-465b87ad2337 div.sk-parallel-item:first-child::after {align-self: flex-end;width: 50%;}#sk-87f9c353-eb8e-4b79-a7d2-465b87ad2337 div.sk-parallel-item:last-child::after {align-self: flex-start;width: 50%;}#sk-87f9c353-eb8e-4b79-a7d2-465b87ad2337 div.sk-parallel-item:only-child::after {width: 0;}#sk-87f9c353-eb8e-4b79-a7d2-465b87ad2337 div.sk-dashed-wrapped {border: 1px dashed gray;margin: 0.2em;box-sizing: border-box;padding-bottom: 0.1em;background-color: white;position: relative;}#sk-87f9c353-eb8e-4b79-a7d2-465b87ad2337 div.sk-label label {font-family: monospace;font-weight: bold;background-color: white;display: inline-block;line-height: 1.2em;}#sk-87f9c353-eb8e-4b79-a7d2-465b87ad2337 div.sk-label-container {position: relative;z-index: 2;text-align: center;}#sk-87f9c353-eb8e-4b79-a7d2-465b87ad2337 div.sk-container {display: inline-block;position: relative;}</style><div id=\"sk-87f9c353-eb8e-4b79-a7d2-465b87ad2337\" class\"sk-top-container\"><div class=\"sk-container\"><div class=\"sk-item sk-dashed-wrapped\"><div class=\"sk-label-container\"><div class=\"sk-label sk-toggleable\"><input class=\"sk-toggleable__control sk-hidden--visually\" id=\"b8239492-2816-4534-a3ca-5e2baa7a2b8a\" type=\"checkbox\" ><label class=\"sk-toggleable__label\" for=\"b8239492-2816-4534-a3ca-5e2baa7a2b8a\">Pipeline</label><div class=\"sk-toggleable__content\"><pre>Pipeline(steps=[('columntransformer',\n",
       "                 ColumnTransformer(transformers=[('DictVectorizer',\n",
       "                                                  DictVectorizer(sparse=False),\n",
       "                                                  ['reports', 'age', 'income',\n",
       "                                                   'share', 'expenditure',\n",
       "                                                   'owner', 'selfemp',\n",
       "                                                   'dependents', 'months',\n",
       "                                                   'majorcards', 'active'])])),\n",
       "                ('logisticregression',\n",
       "                 LogisticRegression(max_iter=1000, solver='liblinear'))])</pre></div></div></div><div class=\"sk-serial\"><div class=\"sk-item sk-dashed-wrapped\"><div class=\"sk-label-container\"><div class=\"sk-label sk-toggleable\"><input class=\"sk-toggleable__control sk-hidden--visually\" id=\"babca4b9-fb44-463e-a0d5-024786900697\" type=\"checkbox\" ><label class=\"sk-toggleable__label\" for=\"babca4b9-fb44-463e-a0d5-024786900697\">columntransformer: ColumnTransformer</label><div class=\"sk-toggleable__content\"><pre>ColumnTransformer(transformers=[('DictVectorizer', DictVectorizer(sparse=False),\n",
       "                                 ['reports', 'age', 'income', 'share',\n",
       "                                  'expenditure', 'owner', 'selfemp',\n",
       "                                  'dependents', 'months', 'majorcards',\n",
       "                                  'active'])])</pre></div></div></div><div class=\"sk-parallel\"><div class=\"sk-parallel-item\"><div class=\"sk-item\"><div class=\"sk-label-container\"><div class=\"sk-label sk-toggleable\"><input class=\"sk-toggleable__control sk-hidden--visually\" id=\"d769abe4-f39d-46dd-8236-5953ae1a9f72\" type=\"checkbox\" ><label class=\"sk-toggleable__label\" for=\"d769abe4-f39d-46dd-8236-5953ae1a9f72\">DictVectorizer</label><div class=\"sk-toggleable__content\"><pre>['reports', 'age', 'income', 'share', 'expenditure', 'owner', 'selfemp', 'dependents', 'months', 'majorcards', 'active']</pre></div></div></div><div class=\"sk-serial\"><div class=\"sk-item\"><div class=\"sk-estimator sk-toggleable\"><input class=\"sk-toggleable__control sk-hidden--visually\" id=\"36180924-e04b-4c8b-9f71-7a6f417ebdfc\" type=\"checkbox\" ><label class=\"sk-toggleable__label\" for=\"36180924-e04b-4c8b-9f71-7a6f417ebdfc\">DictVectorizer</label><div class=\"sk-toggleable__content\"><pre>DictVectorizer(sparse=False)</pre></div></div></div></div></div></div></div></div><div class=\"sk-item\"><div class=\"sk-estimator sk-toggleable\"><input class=\"sk-toggleable__control sk-hidden--visually\" id=\"378a948e-b06c-46b6-bdb2-333aa7170151\" type=\"checkbox\" ><label class=\"sk-toggleable__label\" for=\"378a948e-b06c-46b6-bdb2-333aa7170151\">LogisticRegression</label><div class=\"sk-toggleable__content\"><pre>LogisticRegression(max_iter=1000, solver='liblinear')</pre></div></div></div></div></div></div></div>"
      ],
      "text/plain": [
       "Pipeline(steps=[('columntransformer',\n",
       "                 ColumnTransformer(transformers=[('DictVectorizer',\n",
       "                                                  DictVectorizer(sparse=False),\n",
       "                                                  ['reports', 'age', 'income',\n",
       "                                                   'share', 'expenditure',\n",
       "                                                   'owner', 'selfemp',\n",
       "                                                   'dependents', 'months',\n",
       "                                                   'majorcards', 'active'])])),\n",
       "                ('logisticregression',\n",
       "                 LogisticRegression(max_iter=1000, solver='liblinear'))])"
      ]
     },
     "execution_count": 43,
     "metadata": {},
     "output_type": "execute_result"
    }
   ],
   "source": [
    "model = make_pipeline(preprocessor, LogisticRegression(solver='liblinear', C=1.0, max_iter=1000))\n",
    "model"
   ]
  },
  {
   "cell_type": "code",
   "execution_count": 44,
   "id": "9ad10b3c",
   "metadata": {},
   "outputs": [],
   "source": [
    "dicts = dfTrain[allCols].to_dict(orient='records')"
   ]
  },
  {
   "cell_type": "code",
   "execution_count": null,
   "id": "e87c70c1",
   "metadata": {},
   "outputs": [],
   "source": []
  },
  {
   "cell_type": "code",
   "execution_count": null,
   "id": "0a4345df",
   "metadata": {},
   "outputs": [],
   "source": []
  },
  {
   "cell_type": "code",
   "execution_count": null,
   "id": "6f25e521",
   "metadata": {},
   "outputs": [],
   "source": []
  },
  {
   "cell_type": "code",
   "execution_count": null,
   "id": "063f14de",
   "metadata": {},
   "outputs": [],
   "source": []
  },
  {
   "cell_type": "code",
   "execution_count": null,
   "id": "84242d68",
   "metadata": {},
   "outputs": [],
   "source": []
  }
 ],
 "metadata": {
  "kernelspec": {
   "display_name": "Python 3 (ipykernel)",
   "language": "python",
   "name": "python3"
  },
  "language_info": {
   "codemirror_mode": {
    "name": "ipython",
    "version": 3
   },
   "file_extension": ".py",
   "mimetype": "text/x-python",
   "name": "python",
   "nbconvert_exporter": "python",
   "pygments_lexer": "ipython3",
   "version": "3.9.7"
  }
 },
 "nbformat": 4,
 "nbformat_minor": 5
}
